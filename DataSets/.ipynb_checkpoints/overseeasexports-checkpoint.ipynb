{
 "cells": [
  {
   "cell_type": "code",
   "execution_count": 18,
   "metadata": {},
   "outputs": [
    {
     "name": "stderr",
     "output_type": "stream",
     "text": [
      "Installing package into ‘/usr/local/lib/R/site-library’\n",
      "(as ‘lib’ is unspecified)\n",
      "Warning message in install.packages(\"readxl\"):\n",
      "“installation of package ‘readxl’ had non-zero exit status”"
     ]
    }
   ],
   "source": [
    "\n",
    "\n"
   ]
  },
  {
   "cell_type": "code",
   "execution_count": 1,
   "metadata": {},
   "outputs": [],
   "source": [
    "library(\"readxl\")"
   ]
  },
  {
   "cell_type": "code",
   "execution_count": 2,
   "metadata": {},
   "outputs": [
    {
     "ename": "ERROR",
     "evalue": "Error in library(\"xlsx\"): there is no package called ‘xlsx’\n",
     "output_type": "error",
     "traceback": [
      "Error in library(\"xlsx\"): there is no package called ‘xlsx’\nTraceback:\n",
      "1. library(\"xlsx\")",
      "2. stop(txt, domain = NA)"
     ]
    }
   ],
   "source": [
    "library(\"xlsx\")"
   ]
  },
  {
   "cell_type": "code",
   "execution_count": 3,
   "metadata": {},
   "outputs": [
    {
     "name": "stderr",
     "output_type": "stream",
     "text": [
      "── \u001b[1mAttaching packages\u001b[22m ─────────────────────────────────────── tidyverse 1.2.1 ──\n",
      "\u001b[32m✔\u001b[39m \u001b[34mggplot2\u001b[39m 3.2.0     \u001b[32m✔\u001b[39m \u001b[34mpurrr  \u001b[39m 0.3.2\n",
      "\u001b[32m✔\u001b[39m \u001b[34mtibble \u001b[39m 2.1.3     \u001b[32m✔\u001b[39m \u001b[34mdplyr  \u001b[39m 0.8.3\n",
      "\u001b[32m✔\u001b[39m \u001b[34mtidyr  \u001b[39m 0.8.3     \u001b[32m✔\u001b[39m \u001b[34mstringr\u001b[39m 1.4.0\n",
      "\u001b[32m✔\u001b[39m \u001b[34mreadr  \u001b[39m 1.3.1     \u001b[32m✔\u001b[39m \u001b[34mforcats\u001b[39m 0.4.0\n",
      "── \u001b[1mConflicts\u001b[22m ────────────────────────────────────────── tidyverse_conflicts() ──\n",
      "\u001b[31m✖\u001b[39m \u001b[34mdplyr\u001b[39m::\u001b[32mfilter()\u001b[39m masks \u001b[34mstats\u001b[39m::filter()\n",
      "\u001b[31m✖\u001b[39m \u001b[34mdplyr\u001b[39m::\u001b[32mlag()\u001b[39m    masks \u001b[34mstats\u001b[39m::lag()\n"
     ]
    }
   ],
   "source": [
    "library(\"tidyverse\")"
   ]
  },
  {
   "cell_type": "code",
   "execution_count": 5,
   "metadata": {},
   "outputs": [
    {
     "name": "stderr",
     "output_type": "stream",
     "text": [
      "Installing package into ‘/usr/local/lib/R/site-library’\n",
      "(as ‘lib’ is unspecified)\n"
     ]
    }
   ],
   "source": [
    "#install.packages(\"unpivotr\")\n",
    "library(unpivotr)"
   ]
  },
  {
   "cell_type": "code",
   "execution_count": 6,
   "metadata": {},
   "outputs": [],
   "source": [
    "library(tidyxl)"
   ]
  },
  {
   "cell_type": "code",
   "execution_count": 48,
   "metadata": {},
   "outputs": [],
   "source": [
    "new_data <- xlsx_cells(\"overseas-merchandise-trade-january-2019.xlsx\") %>% filter(sheet == \"Table 5\")%>%  rectify()%>% head(52) %>% tail(43)"
   ]
  },
  {
   "cell_type": "code",
   "execution_count": 50,
   "metadata": {},
   "outputs": [
    {
     "data": {
      "text/html": [
       "<table>\n",
       "<caption>A tibble: 6 × 4</caption>\n",
       "<thead>\n",
       "\t<tr><th scope=col>Commodity</th><th scope=col>Export_Rate_2018</th><th scope=col>Export_Rate_2019</th><th scope=col>%_change</th></tr>\n",
       "\t<tr><th scope=col>&lt;chr&gt;</th><th scope=col>&lt;chr&gt;</th><th scope=col>&lt;chr&gt;</th><th scope=col>&lt;chr&gt;</th></tr>\n",
       "</thead>\n",
       "<tbody>\n",
       "\t<tr><td>Milk powder, butter, and cheese                 </td><td>14055.635914</td><td>14414.804078</td><td>2.6 </td></tr>\n",
       "\t<tr><td>Meat and edible offal                           </td><td>6711.598215 </td><td>7358.843433 </td><td>9.6 </td></tr>\n",
       "\t<tr><td>Logs, wood, and wood articles(4)                </td><td>4687.547952 </td><td>5263.769057 </td><td>12.3</td></tr>\n",
       "\t<tr><td>Fruit                                           </td><td>2650.868038 </td><td>3232.717762 </td><td>21.9</td></tr>\n",
       "\t<tr><td>Preparations of milk, cereals, flour, and starch</td><td>1555.603884 </td><td>1871.568329 </td><td>20.3</td></tr>\n",
       "\t<tr><td>Mechanical machinery and equipment              </td><td>1646.021877 </td><td>1849.418517 </td><td>12.4</td></tr>\n",
       "</tbody>\n",
       "</table>\n"
      ],
      "text/latex": [
       "A tibble: 6 × 4\n",
       "\\begin{tabular}{r|llll}\n",
       " Commodity & Export\\_Rate\\_2018 & Export\\_Rate\\_2019 & \\%\\_change\\\\\n",
       " <chr> & <chr> & <chr> & <chr>\\\\\n",
       "\\hline\n",
       "\t Milk powder, butter, and cheese                  & 14055.635914 & 14414.804078 & 2.6 \\\\\n",
       "\t Meat and edible offal                            & 6711.598215  & 7358.843433  & 9.6 \\\\\n",
       "\t Logs, wood, and wood articles(4)                 & 4687.547952  & 5263.769057  & 12.3\\\\\n",
       "\t Fruit                                            & 2650.868038  & 3232.717762  & 21.9\\\\\n",
       "\t Preparations of milk, cereals, flour, and starch & 1555.603884  & 1871.568329  & 20.3\\\\\n",
       "\t Mechanical machinery and equipment               & 1646.021877  & 1849.418517  & 12.4\\\\\n",
       "\\end{tabular}\n"
      ],
      "text/markdown": [
       "\n",
       "A tibble: 6 × 4\n",
       "\n",
       "| Commodity &lt;chr&gt; | Export_Rate_2018 &lt;chr&gt; | Export_Rate_2019 &lt;chr&gt; | %_change &lt;chr&gt; |\n",
       "|---|---|---|---|\n",
       "| Milk powder, butter, and cheese                  | 14055.635914 | 14414.804078 | 2.6  |\n",
       "| Meat and edible offal                            | 6711.598215  | 7358.843433  | 9.6  |\n",
       "| Logs, wood, and wood articles(4)                 | 4687.547952  | 5263.769057  | 12.3 |\n",
       "| Fruit                                            | 2650.868038  | 3232.717762  | 21.9 |\n",
       "| Preparations of milk, cereals, flour, and starch | 1555.603884  | 1871.568329  | 20.3 |\n",
       "| Mechanical machinery and equipment               | 1646.021877  | 1849.418517  | 12.4 |\n",
       "\n"
      ],
      "text/plain": [
       "  Commodity                                        Export_Rate_2018\n",
       "1 Milk powder, butter, and cheese                  14055.635914    \n",
       "2 Meat and edible offal                            6711.598215     \n",
       "3 Logs, wood, and wood articles(4)                 4687.547952     \n",
       "4 Fruit                                            2650.868038     \n",
       "5 Preparations of milk, cereals, flour, and starch 1555.603884     \n",
       "6 Mechanical machinery and equipment               1646.021877     \n",
       "  Export_Rate_2019 %_change\n",
       "1 14414.804078     2.6     \n",
       "2 7358.843433      9.6     \n",
       "3 5263.769057      12.3    \n",
       "4 3232.717762      21.9    \n",
       "5 1871.568329      20.3    \n",
       "6 1849.418517      12.4    "
      ]
     },
     "metadata": {},
     "output_type": "display_data"
    }
   ],
   "source": [
    "#head(new_data)\n",
    "\n",
    "new_data_2 <- as_tibble(new_data)\n",
    "#colnames(new_data_2)\n",
    "\n",
    "#names(new_data_2)[3] <- \"Product\"\n",
    "names(new_data_2) <- c(\"Row_number\",\"HS_Code\",\"Commodity\",\"Export_Rate_2018_J1\",\"Export_Rate_2019_J1\",\"%_change_J1\",\n",
    "                      \"Export_Rate_2018_J2\",\"Export_Rate_2019_J2\",\"%_change_J2\",\"Export_Rate_2018\",\"Export_Rate_2019\",\"%_change\")\n",
    "\n",
    "Export_data_2018_19<-new_data_2 %>% select (Commodity,Export_Rate_2018,Export_Rate_2019,'%_change')\n",
    "Export_data_2018_19 %>% head\n"
   ]
  },
  {
   "cell_type": "code",
   "execution_count": 53,
   "metadata": {},
   "outputs": [],
   "source": [
    "Import_data <- xlsx_cells(\"overseas-merchandise-trade-january-2019.xlsx\") %>% filter(sheet == \"Table 6\")%>%  rectify()%>% head(52) %>% tail(43)"
   ]
  },
  {
   "cell_type": "code",
   "execution_count": 55,
   "metadata": {},
   "outputs": [
    {
     "data": {
      "text/html": [
       "<table>\n",
       "<caption>A tibble: 43 × 4</caption>\n",
       "<thead>\n",
       "\t<tr><th scope=col>Commodity</th><th scope=col>Import_Rate_2018</th><th scope=col>Import_Rate_2019</th><th scope=col>%_change</th></tr>\n",
       "\t<tr><th scope=col>&lt;chr&gt;</th><th scope=col>&lt;chr&gt;</th><th scope=col>&lt;chr&gt;</th><th scope=col>&lt;chr&gt;</th></tr>\n",
       "</thead>\n",
       "<tbody>\n",
       "\t<tr><td>Vehicles, parts, and accessories                </td><td>8958.444348</td><td>9129.940262</td><td>1.9 </td></tr>\n",
       "\t<tr><td>Mechanical machinery and equipment              </td><td>8272.221151</td><td>8807.456562</td><td>6.5 </td></tr>\n",
       "\t<tr><td>Petroleum and products(4)                       </td><td>5474.206965</td><td>7824.904869</td><td>42.9</td></tr>\n",
       "\t<tr><td>Electrical machinery and equipment(5)           </td><td>4731.685218</td><td>5085.269426</td><td>7.5 </td></tr>\n",
       "\t<tr><td>Textiles and textile articles                   </td><td>2523.434336</td><td>2760.182048</td><td>9.4 </td></tr>\n",
       "\t<tr><td>Plastic and plastic articles(5)                 </td><td>2203.061126</td><td>2339.009964</td><td>6.2 </td></tr>\n",
       "\t<tr><td>Optical, medical, and measuring equipment       </td><td>1697.587333</td><td>1815.413906</td><td>6.9 </td></tr>\n",
       "\t<tr><td>Iron and steel, and articles(5)                 </td><td>1610.292877</td><td>1747.497312</td><td>8.5 </td></tr>\n",
       "\t<tr><td>Pharmaceutical products                         </td><td>1345.51541 </td><td>1466.271138</td><td>9   </td></tr>\n",
       "\t<tr><td>Furniture, furnishings, and light fittings      </td><td>1171.28519 </td><td>1273.816419</td><td>8.8 </td></tr>\n",
       "\t<tr><td>Aircraft and parts                              </td><td>1035.375738</td><td>1249.652312</td><td>20.7</td></tr>\n",
       "\t<tr><td>Food residues, wastes, and fodder               </td><td>938.731806 </td><td>1079.614966</td><td>15  </td></tr>\n",
       "\t<tr><td>Paper and paperboard, and articles              </td><td>991.830542 </td><td>1078.584509</td><td>8.7 </td></tr>\n",
       "\t<tr><td>Miscellaneous edible preparations               </td><td>888.432763 </td><td>1008.187718</td><td>13.5</td></tr>\n",
       "\t<tr><td>Fertilizers                                     </td><td>653.141679 </td><td>851.282341 </td><td>30.3</td></tr>\n",
       "\t<tr><td>Rubber and rubber articles                      </td><td>667.976357 </td><td>715.44025  </td><td>7.1 </td></tr>\n",
       "\t<tr><td>Inorganic chemicals(5)                          </td><td>557.747853 </td><td>688.642935 </td><td>23.5</td></tr>\n",
       "\t<tr><td>Essential oils, perfumes, and toiletries        </td><td>566.931309 </td><td>673.374369 </td><td>18.8</td></tr>\n",
       "\t<tr><td>Other chemical products                         </td><td>586.845774 </td><td>667.113236 </td><td>13.7</td></tr>\n",
       "\t<tr><td>Toys, games, and sports requisites              </td><td>597.268081 </td><td>658.536921 </td><td>10.3</td></tr>\n",
       "\t<tr><td>Beverages, spirits, and vinegar                 </td><td>590.492856 </td><td>651.788737 </td><td>10.4</td></tr>\n",
       "\t<tr><td>Preparations of milk, cereals, flour, and starch</td><td>475.175179 </td><td>526.146968 </td><td>10.7</td></tr>\n",
       "\t<tr><td>Organic chemicals(5)                            </td><td>461.895977 </td><td>502.824066 </td><td>8.9 </td></tr>\n",
       "\t<tr><td>Fruit and nuts                                  </td><td>456.958867 </td><td>454.819038 </td><td>-0.5</td></tr>\n",
       "\t<tr><td>Footwear                                        </td><td>400.590093 </td><td>435.043642 </td><td>8.6 </td></tr>\n",
       "\t<tr><td>Sugars and sugar confectionery                  </td><td>438.601231 </td><td>428.623282 </td><td>-2.3</td></tr>\n",
       "\t<tr><td>Logs, wood, and wood articles                   </td><td>356.556892 </td><td>412.48376  </td><td>15.7</td></tr>\n",
       "\t<tr><td>Animal and vegetable fats and oils              </td><td>360.045804 </td><td>404.473643 </td><td>12.3</td></tr>\n",
       "\t<tr><td>Aluminium and aluminium articles                </td><td>377.083495 </td><td>399.119922 </td><td>5.8 </td></tr>\n",
       "\t<tr><td>Tanning extracts, dyes, paints, and putty       </td><td>369.556488 </td><td>391.209206 </td><td>5.9 </td></tr>\n",
       "\t<tr><td>Glass and glassware                             </td><td>346.061072 </td><td>384.431899 </td><td>11.1</td></tr>\n",
       "\t<tr><td>Precious metals, jewellery, and coins           </td><td>368.864221 </td><td>374.374926 </td><td>1.5 </td></tr>\n",
       "\t<tr><td>Soap and organic surface-active agents(5)       </td><td>342.445957 </td><td>369.739592 </td><td>8   </td></tr>\n",
       "\t<tr><td>Cereals                                         </td><td>325.111494 </td><td>365.82468  </td><td>12.5</td></tr>\n",
       "\t<tr><td>Preparations of vegetables, fruit, and nuts     </td><td>324.126729 </td><td>331.454075 </td><td>2.3 </td></tr>\n",
       "\t<tr><td>Articles of leather and animal gut              </td><td>243.548862 </td><td>323.325225 </td><td>32.8</td></tr>\n",
       "\t<tr><td>Dairy produce, birds' eggs, and honey           </td><td>248.370584 </td><td>316.402783 </td><td>27.4</td></tr>\n",
       "\t<tr><td>Ships, boats, and floating structures           </td><td>332.435007 </td><td>301.835746 </td><td>-9.2</td></tr>\n",
       "\t<tr><td>Cocoa and cocoa preparations                    </td><td>302.406349 </td><td>300.207465 </td><td>-0.7</td></tr>\n",
       "\t<tr><td>Miscellaneous metal products                    </td><td>279.659401 </td><td>299.572325 </td><td>7.1 </td></tr>\n",
       "\t<tr><td>NA                                              </td><td>NA         </td><td>NA         </td><td>NA  </td></tr>\n",
       "\t<tr><td>Other commodities(5)                            </td><td>3969.471665</td><td>4271.706521</td><td>7.6 </td></tr>\n",
       "\t<tr><td>Confidential data(6)                            </td><td>410.066882 </td><td>629.832464 </td><td>53.6</td></tr>\n",
       "</tbody>\n",
       "</table>\n"
      ],
      "text/latex": [
       "A tibble: 43 × 4\n",
       "\\begin{tabular}{r|llll}\n",
       " Commodity & Import\\_Rate\\_2018 & Import\\_Rate\\_2019 & \\%\\_change\\\\\n",
       " <chr> & <chr> & <chr> & <chr>\\\\\n",
       "\\hline\n",
       "\t Vehicles, parts, and accessories                 & 8958.444348 & 9129.940262 & 1.9 \\\\\n",
       "\t Mechanical machinery and equipment               & 8272.221151 & 8807.456562 & 6.5 \\\\\n",
       "\t Petroleum and products(4)                        & 5474.206965 & 7824.904869 & 42.9\\\\\n",
       "\t Electrical machinery and equipment(5)            & 4731.685218 & 5085.269426 & 7.5 \\\\\n",
       "\t Textiles and textile articles                    & 2523.434336 & 2760.182048 & 9.4 \\\\\n",
       "\t Plastic and plastic articles(5)                  & 2203.061126 & 2339.009964 & 6.2 \\\\\n",
       "\t Optical, medical, and measuring equipment        & 1697.587333 & 1815.413906 & 6.9 \\\\\n",
       "\t Iron and steel, and articles(5)                  & 1610.292877 & 1747.497312 & 8.5 \\\\\n",
       "\t Pharmaceutical products                          & 1345.51541  & 1466.271138 & 9   \\\\\n",
       "\t Furniture, furnishings, and light fittings       & 1171.28519  & 1273.816419 & 8.8 \\\\\n",
       "\t Aircraft and parts                               & 1035.375738 & 1249.652312 & 20.7\\\\\n",
       "\t Food residues, wastes, and fodder                & 938.731806  & 1079.614966 & 15  \\\\\n",
       "\t Paper and paperboard, and articles               & 991.830542  & 1078.584509 & 8.7 \\\\\n",
       "\t Miscellaneous edible preparations                & 888.432763  & 1008.187718 & 13.5\\\\\n",
       "\t Fertilizers                                      & 653.141679  & 851.282341  & 30.3\\\\\n",
       "\t Rubber and rubber articles                       & 667.976357  & 715.44025   & 7.1 \\\\\n",
       "\t Inorganic chemicals(5)                           & 557.747853  & 688.642935  & 23.5\\\\\n",
       "\t Essential oils, perfumes, and toiletries         & 566.931309  & 673.374369  & 18.8\\\\\n",
       "\t Other chemical products                          & 586.845774  & 667.113236  & 13.7\\\\\n",
       "\t Toys, games, and sports requisites               & 597.268081  & 658.536921  & 10.3\\\\\n",
       "\t Beverages, spirits, and vinegar                  & 590.492856  & 651.788737  & 10.4\\\\\n",
       "\t Preparations of milk, cereals, flour, and starch & 475.175179  & 526.146968  & 10.7\\\\\n",
       "\t Organic chemicals(5)                             & 461.895977  & 502.824066  & 8.9 \\\\\n",
       "\t Fruit and nuts                                   & 456.958867  & 454.819038  & -0.5\\\\\n",
       "\t Footwear                                         & 400.590093  & 435.043642  & 8.6 \\\\\n",
       "\t Sugars and sugar confectionery                   & 438.601231  & 428.623282  & -2.3\\\\\n",
       "\t Logs, wood, and wood articles                    & 356.556892  & 412.48376   & 15.7\\\\\n",
       "\t Animal and vegetable fats and oils               & 360.045804  & 404.473643  & 12.3\\\\\n",
       "\t Aluminium and aluminium articles                 & 377.083495  & 399.119922  & 5.8 \\\\\n",
       "\t Tanning extracts, dyes, paints, and putty        & 369.556488  & 391.209206  & 5.9 \\\\\n",
       "\t Glass and glassware                              & 346.061072  & 384.431899  & 11.1\\\\\n",
       "\t Precious metals, jewellery, and coins            & 368.864221  & 374.374926  & 1.5 \\\\\n",
       "\t Soap and organic surface-active agents(5)        & 342.445957  & 369.739592  & 8   \\\\\n",
       "\t Cereals                                          & 325.111494  & 365.82468   & 12.5\\\\\n",
       "\t Preparations of vegetables, fruit, and nuts      & 324.126729  & 331.454075  & 2.3 \\\\\n",
       "\t Articles of leather and animal gut               & 243.548862  & 323.325225  & 32.8\\\\\n",
       "\t Dairy produce, birds' eggs, and honey            & 248.370584  & 316.402783  & 27.4\\\\\n",
       "\t Ships, boats, and floating structures            & 332.435007  & 301.835746  & -9.2\\\\\n",
       "\t Cocoa and cocoa preparations                     & 302.406349  & 300.207465  & -0.7\\\\\n",
       "\t Miscellaneous metal products                     & 279.659401  & 299.572325  & 7.1 \\\\\n",
       "\t NA                                               & NA          & NA          & NA  \\\\\n",
       "\t Other commodities(5)                             & 3969.471665 & 4271.706521 & 7.6 \\\\\n",
       "\t Confidential data(6)                             & 410.066882  & 629.832464  & 53.6\\\\\n",
       "\\end{tabular}\n"
      ],
      "text/markdown": [
       "\n",
       "A tibble: 43 × 4\n",
       "\n",
       "| Commodity &lt;chr&gt; | Import_Rate_2018 &lt;chr&gt; | Import_Rate_2019 &lt;chr&gt; | %_change &lt;chr&gt; |\n",
       "|---|---|---|---|\n",
       "| Vehicles, parts, and accessories                 | 8958.444348 | 9129.940262 | 1.9  |\n",
       "| Mechanical machinery and equipment               | 8272.221151 | 8807.456562 | 6.5  |\n",
       "| Petroleum and products(4)                        | 5474.206965 | 7824.904869 | 42.9 |\n",
       "| Electrical machinery and equipment(5)            | 4731.685218 | 5085.269426 | 7.5  |\n",
       "| Textiles and textile articles                    | 2523.434336 | 2760.182048 | 9.4  |\n",
       "| Plastic and plastic articles(5)                  | 2203.061126 | 2339.009964 | 6.2  |\n",
       "| Optical, medical, and measuring equipment        | 1697.587333 | 1815.413906 | 6.9  |\n",
       "| Iron and steel, and articles(5)                  | 1610.292877 | 1747.497312 | 8.5  |\n",
       "| Pharmaceutical products                          | 1345.51541  | 1466.271138 | 9    |\n",
       "| Furniture, furnishings, and light fittings       | 1171.28519  | 1273.816419 | 8.8  |\n",
       "| Aircraft and parts                               | 1035.375738 | 1249.652312 | 20.7 |\n",
       "| Food residues, wastes, and fodder                | 938.731806  | 1079.614966 | 15   |\n",
       "| Paper and paperboard, and articles               | 991.830542  | 1078.584509 | 8.7  |\n",
       "| Miscellaneous edible preparations                | 888.432763  | 1008.187718 | 13.5 |\n",
       "| Fertilizers                                      | 653.141679  | 851.282341  | 30.3 |\n",
       "| Rubber and rubber articles                       | 667.976357  | 715.44025   | 7.1  |\n",
       "| Inorganic chemicals(5)                           | 557.747853  | 688.642935  | 23.5 |\n",
       "| Essential oils, perfumes, and toiletries         | 566.931309  | 673.374369  | 18.8 |\n",
       "| Other chemical products                          | 586.845774  | 667.113236  | 13.7 |\n",
       "| Toys, games, and sports requisites               | 597.268081  | 658.536921  | 10.3 |\n",
       "| Beverages, spirits, and vinegar                  | 590.492856  | 651.788737  | 10.4 |\n",
       "| Preparations of milk, cereals, flour, and starch | 475.175179  | 526.146968  | 10.7 |\n",
       "| Organic chemicals(5)                             | 461.895977  | 502.824066  | 8.9  |\n",
       "| Fruit and nuts                                   | 456.958867  | 454.819038  | -0.5 |\n",
       "| Footwear                                         | 400.590093  | 435.043642  | 8.6  |\n",
       "| Sugars and sugar confectionery                   | 438.601231  | 428.623282  | -2.3 |\n",
       "| Logs, wood, and wood articles                    | 356.556892  | 412.48376   | 15.7 |\n",
       "| Animal and vegetable fats and oils               | 360.045804  | 404.473643  | 12.3 |\n",
       "| Aluminium and aluminium articles                 | 377.083495  | 399.119922  | 5.8  |\n",
       "| Tanning extracts, dyes, paints, and putty        | 369.556488  | 391.209206  | 5.9  |\n",
       "| Glass and glassware                              | 346.061072  | 384.431899  | 11.1 |\n",
       "| Precious metals, jewellery, and coins            | 368.864221  | 374.374926  | 1.5  |\n",
       "| Soap and organic surface-active agents(5)        | 342.445957  | 369.739592  | 8    |\n",
       "| Cereals                                          | 325.111494  | 365.82468   | 12.5 |\n",
       "| Preparations of vegetables, fruit, and nuts      | 324.126729  | 331.454075  | 2.3  |\n",
       "| Articles of leather and animal gut               | 243.548862  | 323.325225  | 32.8 |\n",
       "| Dairy produce, birds' eggs, and honey            | 248.370584  | 316.402783  | 27.4 |\n",
       "| Ships, boats, and floating structures            | 332.435007  | 301.835746  | -9.2 |\n",
       "| Cocoa and cocoa preparations                     | 302.406349  | 300.207465  | -0.7 |\n",
       "| Miscellaneous metal products                     | 279.659401  | 299.572325  | 7.1  |\n",
       "| NA                                               | NA          | NA          | NA   |\n",
       "| Other commodities(5)                             | 3969.471665 | 4271.706521 | 7.6  |\n",
       "| Confidential data(6)                             | 410.066882  | 629.832464  | 53.6 |\n",
       "\n"
      ],
      "text/plain": [
       "   Commodity                                        Import_Rate_2018\n",
       "1  Vehicles, parts, and accessories                 8958.444348     \n",
       "2  Mechanical machinery and equipment               8272.221151     \n",
       "3  Petroleum and products(4)                        5474.206965     \n",
       "4  Electrical machinery and equipment(5)            4731.685218     \n",
       "5  Textiles and textile articles                    2523.434336     \n",
       "6  Plastic and plastic articles(5)                  2203.061126     \n",
       "7  Optical, medical, and measuring equipment        1697.587333     \n",
       "8  Iron and steel, and articles(5)                  1610.292877     \n",
       "9  Pharmaceutical products                          1345.51541      \n",
       "10 Furniture, furnishings, and light fittings       1171.28519      \n",
       "11 Aircraft and parts                               1035.375738     \n",
       "12 Food residues, wastes, and fodder                938.731806      \n",
       "13 Paper and paperboard, and articles               991.830542      \n",
       "14 Miscellaneous edible preparations                888.432763      \n",
       "15 Fertilizers                                      653.141679      \n",
       "16 Rubber and rubber articles                       667.976357      \n",
       "17 Inorganic chemicals(5)                           557.747853      \n",
       "18 Essential oils, perfumes, and toiletries         566.931309      \n",
       "19 Other chemical products                          586.845774      \n",
       "20 Toys, games, and sports requisites               597.268081      \n",
       "21 Beverages, spirits, and vinegar                  590.492856      \n",
       "22 Preparations of milk, cereals, flour, and starch 475.175179      \n",
       "23 Organic chemicals(5)                             461.895977      \n",
       "24 Fruit and nuts                                   456.958867      \n",
       "25 Footwear                                         400.590093      \n",
       "26 Sugars and sugar confectionery                   438.601231      \n",
       "27 Logs, wood, and wood articles                    356.556892      \n",
       "28 Animal and vegetable fats and oils               360.045804      \n",
       "29 Aluminium and aluminium articles                 377.083495      \n",
       "30 Tanning extracts, dyes, paints, and putty        369.556488      \n",
       "31 Glass and glassware                              346.061072      \n",
       "32 Precious metals, jewellery, and coins            368.864221      \n",
       "33 Soap and organic surface-active agents(5)        342.445957      \n",
       "34 Cereals                                          325.111494      \n",
       "35 Preparations of vegetables, fruit, and nuts      324.126729      \n",
       "36 Articles of leather and animal gut               243.548862      \n",
       "37 Dairy produce, birds' eggs, and honey            248.370584      \n",
       "38 Ships, boats, and floating structures            332.435007      \n",
       "39 Cocoa and cocoa preparations                     302.406349      \n",
       "40 Miscellaneous metal products                     279.659401      \n",
       "41 NA                                               NA              \n",
       "42 Other commodities(5)                             3969.471665     \n",
       "43 Confidential data(6)                             410.066882      \n",
       "   Import_Rate_2019 %_change\n",
       "1  9129.940262      1.9     \n",
       "2  8807.456562      6.5     \n",
       "3  7824.904869      42.9    \n",
       "4  5085.269426      7.5     \n",
       "5  2760.182048      9.4     \n",
       "6  2339.009964      6.2     \n",
       "7  1815.413906      6.9     \n",
       "8  1747.497312      8.5     \n",
       "9  1466.271138      9       \n",
       "10 1273.816419      8.8     \n",
       "11 1249.652312      20.7    \n",
       "12 1079.614966      15      \n",
       "13 1078.584509      8.7     \n",
       "14 1008.187718      13.5    \n",
       "15 851.282341       30.3    \n",
       "16 715.44025        7.1     \n",
       "17 688.642935       23.5    \n",
       "18 673.374369       18.8    \n",
       "19 667.113236       13.7    \n",
       "20 658.536921       10.3    \n",
       "21 651.788737       10.4    \n",
       "22 526.146968       10.7    \n",
       "23 502.824066       8.9     \n",
       "24 454.819038       -0.5    \n",
       "25 435.043642       8.6     \n",
       "26 428.623282       -2.3    \n",
       "27 412.48376        15.7    \n",
       "28 404.473643       12.3    \n",
       "29 399.119922       5.8     \n",
       "30 391.209206       5.9     \n",
       "31 384.431899       11.1    \n",
       "32 374.374926       1.5     \n",
       "33 369.739592       8       \n",
       "34 365.82468        12.5    \n",
       "35 331.454075       2.3     \n",
       "36 323.325225       32.8    \n",
       "37 316.402783       27.4    \n",
       "38 301.835746       -9.2    \n",
       "39 300.207465       -0.7    \n",
       "40 299.572325       7.1     \n",
       "41 NA               NA      \n",
       "42 4271.706521      7.6     \n",
       "43 629.832464       53.6    "
      ]
     },
     "metadata": {},
     "output_type": "display_data"
    }
   ],
   "source": [
    "#head(new_data)\n",
    "\n",
    "Import_data_2 <- as_tibble(Import_data)\n",
    "#colnames(new_data_2)\n",
    "\n",
    "#names(new_data_2)[3] <- \"Product\"\n",
    "names(Import_data_2) <- c(\"Row_number\",\"HS_Code\",\"Commodity\",\"Import_Rate_2018_J1\",\"Import_Rate_2019_J1\",\"%_change_J1\",\n",
    "                      \"Import_Rate_2018_J2\",\"Import_Rate_2019_J2\",\"%_change_J2\",\"Import_Rate_2018\",\"Import_Rate_2019\",\"%_change\")\n",
    "\n",
    "Import_data_2018_19<-Import_data_2 %>% select (Commodity,Import_Rate_2018,Import_Rate_2019,'%_change')\n",
    "Import_data_2018_19\n"
   ]
  },
  {
   "cell_type": "code",
   "execution_count": 51,
   "metadata": {},
   "outputs": [
    {
     "data": {
      "text/html": [
       "<ol class=list-inline>\n",
       "\t<li>43</li>\n",
       "\t<li>4</li>\n",
       "</ol>\n"
      ],
      "text/latex": [
       "\\begin{enumerate*}\n",
       "\\item 43\n",
       "\\item 4\n",
       "\\end{enumerate*}\n"
      ],
      "text/markdown": [
       "1. 43\n",
       "2. 4\n",
       "\n",
       "\n"
      ],
      "text/plain": [
       "[1] 43  4"
      ]
     },
     "metadata": {},
     "output_type": "display_data"
    }
   ],
   "source": [
    "dim(Export_data_2018_19)"
   ]
  },
  {
   "cell_type": "code",
   "execution_count": 52,
   "metadata": {},
   "outputs": [
    {
     "data": {
      "text/html": [
       "<ol class=list-inline>\n",
       "\t<li>43</li>\n",
       "\t<li>4</li>\n",
       "</ol>\n"
      ],
      "text/latex": [
       "\\begin{enumerate*}\n",
       "\\item 43\n",
       "\\item 4\n",
       "\\end{enumerate*}\n"
      ],
      "text/markdown": [
       "1. 43\n",
       "2. 4\n",
       "\n",
       "\n"
      ],
      "text/plain": [
       "[1] 43  4"
      ]
     },
     "metadata": {},
     "output_type": "display_data"
    }
   ],
   "source": [
    "dim(Export_data_2018_19)"
   ]
  }
 ],
 "metadata": {
  "kernelspec": {
   "display_name": "R",
   "language": "R",
   "name": "ir"
  },
  "language_info": {
   "codemirror_mode": "r",
   "file_extension": ".r",
   "mimetype": "text/x-r-source",
   "name": "R",
   "pygments_lexer": "r",
   "version": "3.4.4"
  }
 },
 "nbformat": 4,
 "nbformat_minor": 4
}
