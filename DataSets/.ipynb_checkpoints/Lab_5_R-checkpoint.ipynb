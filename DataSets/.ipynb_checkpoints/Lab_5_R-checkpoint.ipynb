{
 "cells": [
  {
   "cell_type": "markdown",
   "metadata": {},
   "source": [
    "# Class theory in R\n",
    "\n",
    "So far we have been free-riding R with a light heart. It's now time to tidy up our knowledge and cover our basis.\n",
    "\n",
    "In particular, in this lab we will talk a little bit more about the kind of objects you deal with in R."
   ]
  },
  {
   "cell_type": "code",
   "execution_count": null,
   "metadata": {},
   "outputs": [],
   "source": [
    "library(tidyverse)"
   ]
  },
  {
   "cell_type": "markdown",
   "metadata": {},
   "source": [
    "# Atomic Vectors"
   ]
  },
  {
   "cell_type": "markdown",
   "metadata": {},
   "source": [
    "The atoms of R are _vectors_. Even simple values as `12` are actually atomic vectors: in particular, vectors of length 1.  \n",
    "Atomic vectors are vectors containing logical, integer, double precision, or character data. We refer to them simply as vectors."
   ]
  },
  {
   "cell_type": "code",
   "execution_count": null,
   "metadata": {},
   "outputs": [],
   "source": [
    "my_value <- 12\n",
    "my_value"
   ]
  },
  {
   "cell_type": "code",
   "execution_count": null,
   "metadata": {},
   "outputs": [],
   "source": [
    "is.vector(my_value)"
   ]
  },
  {
   "cell_type": "code",
   "execution_count": null,
   "metadata": {},
   "outputs": [],
   "source": [
    "is.vector(12)"
   ]
  },
  {
   "cell_type": "code",
   "execution_count": null,
   "metadata": {},
   "outputs": [],
   "source": [
    "length(my_value)\n",
    "length(12)"
   ]
  },
  {
   "cell_type": "markdown",
   "metadata": {},
   "source": [
    "We build a vector in many ways, but the most common is using the concatenation function `c()`."
   ]
  },
  {
   "cell_type": "code",
   "execution_count": null,
   "metadata": {},
   "outputs": [],
   "source": [
    "vect <- c(\"my\",\"cool\",\"vect\")\n",
    "vect"
   ]
  },
  {
   "cell_type": "markdown",
   "metadata": {},
   "source": [
    "To get something from within a vector, be it of length 1 or more, we use the square brackets \\[ \\] and call stuff by their position, starting from 1 (not from 0 as in other languages, remember!). The indexes can be either single values or other vectors:"
   ]
  },
  {
   "cell_type": "code",
   "execution_count": null,
   "metadata": {},
   "outputs": [],
   "source": [
    "vect[1]\n",
    "vect[2]\n",
    "vect[c(1,3)]"
   ]
  },
  {
   "cell_type": "markdown",
   "metadata": {},
   "source": [
    "We can also use the indexing to assign new values into the vector or changing existing ones:"
   ]
  },
  {
   "cell_type": "code",
   "execution_count": null,
   "metadata": {},
   "outputs": [],
   "source": [
    "vect[4] <- \"woooords\"\n",
    "vect"
   ]
  },
  {
   "cell_type": "code",
   "execution_count": null,
   "metadata": {},
   "outputs": [],
   "source": [
    "vect[2] <- \"woooords\"\n",
    "vect"
   ]
  },
  {
   "cell_type": "markdown",
   "metadata": {},
   "source": [
    "To understand the structure of a vectore, you can use `str()`."
   ]
  },
  {
   "cell_type": "code",
   "execution_count": null,
   "metadata": {},
   "outputs": [],
   "source": [
    "str(vect)"
   ]
  },
  {
   "cell_type": "markdown",
   "metadata": {},
   "source": [
    "These vectors are homogenous: they must contain the exact same kind of data. If you try to put the wrong kind of data together, its type will be transformed to a common one, if possible, of the operation fails, if no conversion is possible."
   ]
  },
  {
   "cell_type": "code",
   "execution_count": null,
   "metadata": {},
   "outputs": [],
   "source": [
    "vect[c(5,6)] <- 10\n",
    "str(vect) # the numbers get transformed into characters"
   ]
  },
  {
   "cell_type": "markdown",
   "metadata": {},
   "source": [
    "### explore the structure of the following vectors:\n",
    "\n",
    "Use `str()` to study the structure of the following vectors. Try also the functions `length()`, `mode()`, `class()`, `is.numeric()`, `is.logical()`, `is.character()`."
   ]
  },
  {
   "cell_type": "code",
   "execution_count": null,
   "metadata": {},
   "outputs": [],
   "source": [
    "normdistr <- rnorm(10)\n",
    "uptoten <- 1:10\n",
    "poetry <- LETTERS[1:10]\n",
    "isit <- normdistr > 0"
   ]
  },
  {
   "cell_type": "markdown",
   "metadata": {},
   "source": [
    "Now, discover tab completion if you didn't already: start typing `is.` in the next cell and hit the tab key. R will show you all the available commands starting with \"is.\". Try them out or read their help page.\n",
    "\n",
    "Also `tidyverse` offers some is functions. You can discover and try them by typing `is_` and tab key. In particular, a family of functions starting with \"is_scalar_\" offer yous the possibility to check whether something is a, say, character and have length 1."
   ]
  },
  {
   "cell_type": "code",
   "execution_count": null,
   "metadata": {},
   "outputs": [],
   "source": [
    "is_scalar_character(\"asdba\")\n",
    "is_scalar_character(c(\"a\",\"b\",\"c\"))"
   ]
  },
  {
   "cell_type": "markdown",
   "metadata": {},
   "source": [
    "Vectors elements can be named (all, none or some of them)."
   ]
  },
  {
   "cell_type": "code",
   "execution_count": null,
   "metadata": {},
   "outputs": [],
   "source": [
    "vect_names <- c(a = \"my\", b = \"cool\",\n",
    "          \"vect\", d = \"with\",\n",
    "          e = \"important\", letters = \"words\")\n",
    "vect_names %>% print()"
   ]
  },
  {
   "cell_type": "markdown",
   "metadata": {},
   "source": [
    "## Indexing\n",
    "\n",
    "You can index within vectors in many different ways:\n",
    "\n",
    "1. positive integers: picking by position from start\n",
    "2. negative integers: dropping by position from start\n",
    "3. logical (true/false) indexes\n",
    "4. names\n"
   ]
  },
  {
   "cell_type": "code",
   "execution_count": null,
   "metadata": {},
   "outputs": [],
   "source": [
    "vect <- c(\"my\",\"cool\",\"vect\",\"with\",\"important\",\"words\")"
   ]
  },
  {
   "cell_type": "code",
   "execution_count": null,
   "metadata": {},
   "outputs": [],
   "source": [
    "vect[c(1,2,4)]"
   ]
  },
  {
   "cell_type": "code",
   "execution_count": null,
   "metadata": {},
   "outputs": [],
   "source": [
    "vect[c(-3,-5,-6)]"
   ]
  },
  {
   "cell_type": "markdown",
   "metadata": {},
   "source": [
    "If you use logical indexes, remember that they get recycled to cover the full length of the vector you are indexing from. So the two following commands produce the same exact output."
   ]
  },
  {
   "cell_type": "code",
   "execution_count": null,
   "metadata": {},
   "outputs": [],
   "source": [
    "vect[c(TRUE,FALSE)]\n",
    "vect[c(TRUE,FALSE,TRUE,FALSE,TRUE,FALSE)]"
   ]
  },
  {
   "cell_type": "code",
   "execution_count": null,
   "metadata": {},
   "outputs": [],
   "source": [
    "vect_names[c(\"a\",\"letters\")]"
   ]
  },
  {
   "cell_type": "markdown",
   "metadata": {},
   "source": [
    "**try yourself** some indexing into the vectors"
   ]
  },
  {
   "cell_type": "code",
   "execution_count": null,
   "metadata": {},
   "outputs": [],
   "source": [
    "# your code here"
   ]
  },
  {
   "cell_type": "markdown",
   "metadata": {},
   "source": [
    "#### Limits of Vectors"
   ]
  },
  {
   "cell_type": "markdown",
   "metadata": {},
   "source": [
    "Vectors in R has some limitations (issues? quirkness? you name it), given by the design of R itself.\n",
    "\n",
    "The main one, is that when we concatenattwo things with `c()`, the _type_ of the result is not always easy to predict. In fancy pant words, `c()` is not a type stable function. Consider for example two factors and their concatenation:"
   ]
  },
  {
   "cell_type": "code",
   "execution_count": null,
   "metadata": {},
   "outputs": [],
   "source": [
    "afactor <-factor(\"a\")\n",
    "bfactor <- factor(\"b\")\n",
    "abfactor <- c(afactor, bfactor)"
   ]
  },
  {
   "cell_type": "markdown",
   "metadata": {},
   "source": [
    "Before trying to run the following cell, try to guess: what sort of object do you expect `abfactor` to be?"
   ]
  },
  {
   "cell_type": "code",
   "execution_count": null,
   "metadata": {},
   "outputs": [],
   "source": [
    "abfactor %>% typeof()\n",
    "abfactor"
   ]
  },
  {
   "cell_type": "markdown",
   "metadata": {},
   "source": [
    "The package `vctrs` provides functions to handle this situation more robustly."
   ]
  },
  {
   "cell_type": "code",
   "execution_count": null,
   "metadata": {},
   "outputs": [],
   "source": [
    "# install.packages(\"vctrs\")\n",
    "library(vctrs)"
   ]
  },
  {
   "cell_type": "markdown",
   "metadata": {},
   "source": [
    "Read more about it here: https://vctrs.r-lib.org/articles/stability.html"
   ]
  },
  {
   "cell_type": "markdown",
   "metadata": {},
   "source": [
    "# Lists"
   ]
  },
  {
   "cell_type": "markdown",
   "metadata": {},
   "source": [
    "Where atomic vectors must contain excatly the same kind of stuff, lists are happy to host whatever. Even dataframe or other lists. we build them using the function `list()`."
   ]
  },
  {
   "cell_type": "code",
   "execution_count": null,
   "metadata": {},
   "outputs": [],
   "source": [
    "messy_list <- list(\"don't\", 34, \"eat\",\n",
    "                   TRUE, 1L, \"the fruit\", \n",
    "                   data_frame(x = 1, y = 2),\n",
    "                   list(1,\"ciao\",list(2,\"hello\",\"there\")))\n",
    "messy_list\n"
   ]
  },
  {
   "cell_type": "markdown",
   "metadata": {},
   "source": [
    "Use `str()`, `length()`, `mode()`, and `class()` to explore the list."
   ]
  },
  {
   "cell_type": "markdown",
   "metadata": {},
   "source": [
    "List elements can have names, all of the elements or just some of them."
   ]
  },
  {
   "cell_type": "code",
   "execution_count": null,
   "metadata": {},
   "outputs": [],
   "source": [
    "messy_list_named <- list(do = \"don't\", number = 34, \"eat\",\n",
    "                   TRUE, 1L, \"the fruit\", \n",
    "                   data = data_frame(x = 1, y = 2),\n",
    "                   listi = list(1,\"ciao\",list(2,\"hello\",\"there\")))\n",
    "messy_list_named %>% print()"
   ]
  },
  {
   "cell_type": "markdown",
   "metadata": {},
   "source": [
    "If you remember, we saw that a data frame is a list:"
   ]
  },
  {
   "cell_type": "code",
   "execution_count": null,
   "metadata": {},
   "outputs": [],
   "source": [
    "data_frame(x = 1, y = \"ciao\") %>% typeof()"
   ]
  },
  {
   "cell_type": "markdown",
   "metadata": {},
   "source": [
    "You can index in a list in the same way we did with atomic vectors (remind, list are vectors even if we don't call them vectors). Moreover, we now introduce a package call `purrr` which makes working with lists much more convenient."
   ]
  },
  {
   "cell_type": "markdown",
   "metadata": {},
   "source": [
    "There is a similarity that runs deep between vectors and lists. You can think about lists as vectors which elements are of type \"whatever\" (instead of any specific type). Accordingly, we can initialise them using `vector()` as follows:"
   ]
  },
  {
   "cell_type": "code",
   "execution_count": null,
   "metadata": {},
   "outputs": [],
   "source": [
    " listor <- vector(\"list\", 3)"
   ]
  },
  {
   "cell_type": "markdown",
   "metadata": {},
   "source": [
    "and ask ourselves, is that a list or a vector?"
   ]
  },
  {
   "cell_type": "code",
   "execution_count": null,
   "metadata": {},
   "outputs": [],
   "source": [
    " is.list(listor)\n",
    " is.vector(listor)"
   ]
  },
  {
   "cell_type": "markdown",
   "metadata": {},
   "source": [
    "### Lists in the wild"
   ]
  },
  {
   "cell_type": "markdown",
   "metadata": {},
   "source": [
    "A common place where we can find things that, at least superficially, looks like lists (and sometimes very \\[ very {very (nested lists)}\\] ) is the web! Two common formats for data avaible through the web are \"json\" and \"xml\". R offer a conveniente way of handling that type of data using\n",
    "\n",
    "1.  `jsonlite` for json data (https://cran.r-project.org/web/packages/jsonlite/vignettes/json-aaquickstart.html)\n",
    "2. `xml2` for xml data (https://xml2.r-lib.org/index.html)"
   ]
  },
  {
   "cell_type": "markdown",
   "metadata": {},
   "source": [
    "## Working with lists (or nested objects)"
   ]
  },
  {
   "cell_type": "code",
   "execution_count": null,
   "metadata": {},
   "outputs": [],
   "source": [
    "# install.packages(\"purrr\")\n",
    "# install.packages(\"repurrrsive\")\n",
    "library(purrr)\n",
    "library(repurrrsive) # <- this contains example lists"
   ]
  },
  {
   "cell_type": "markdown",
   "metadata": {},
   "source": [
    "The tool of the trade is the family of `map` functions (that is `map()` and a number of `map_{something}()` where instead of {something} you'll have to specify the typo of data you expect to have as output) . Type `map` in and then the tab key to see which other function are related. Let's see how it works on an example from Jenny Brian's `repurrrsive` package.\n",
    "\n",
    "Tip: keep a copy of this cheatsheet nearby you, as it is easy to get lost in `purrr`: https://github.com/rstudio/cheatsheets/blob/master/purrr.pdf"
   ]
  },
  {
   "cell_type": "code",
   "execution_count": 1,
   "metadata": {},
   "outputs": [
    {
     "ename": "ERROR",
     "evalue": "Error in eval(expr, envir, enclos): object 'wesanderson' not found\n",
     "output_type": "error",
     "traceback": [
      "Error in eval(expr, envir, enclos): object 'wesanderson' not found\nTraceback:\n"
     ]
    }
   ],
   "source": [
    "wesanderson # this contains information about the color palette in Wes Anderson movies"
   ]
  },
  {
   "cell_type": "markdown",
   "metadata": {},
   "source": [
    "If we want to extract the first element from all the elements in `wesanderson` we can not simply do:"
   ]
  },
  {
   "cell_type": "code",
   "execution_count": null,
   "metadata": {},
   "outputs": [],
   "source": [
    "wesanderson[1]"
   ]
  },
  {
   "cell_type": "markdown",
   "metadata": {},
   "source": [
    "nor"
   ]
  },
  {
   "cell_type": "code",
   "execution_count": null,
   "metadata": {},
   "outputs": [],
   "source": [
    "wesanderson[[1]]"
   ]
  },
  {
   "cell_type": "markdown",
   "metadata": {},
   "source": [
    "because that will give the first element of `wesanderson`. Not the same thing. Something like"
   ]
  },
  {
   "cell_type": "code",
   "execution_count": null,
   "metadata": {},
   "outputs": [],
   "source": [
    "wesanderson[[1]][1]"
   ]
  },
  {
   "cell_type": "markdown",
   "metadata": {},
   "source": [
    "would work for the first movie, but what about the others? Here comes `map()`"
   ]
  },
  {
   "cell_type": "code",
   "execution_count": null,
   "metadata": {},
   "outputs": [],
   "source": [
    "wesanderson %>% map(1)"
   ]
  },
  {
   "cell_type": "markdown",
   "metadata": {},
   "source": [
    "Much better! But `map()` is way more powerful than that! If we simply use integers (or names) it will extract elements, but if we pass **functions** map will apply that function to each element of the list. Let's see:"
   ]
  },
  {
   "cell_type": "code",
   "execution_count": null,
   "metadata": {},
   "outputs": [],
   "source": [
    "wesanderson %>%\n",
    "  purrr::map(length) # we apply the function length to all elements in wesanderson"
   ]
  },
  {
   "cell_type": "markdown",
   "metadata": {},
   "source": [
    "`map` comes in many flavours: `map_chr()`, `map_dbl()`, `map_df()`, ... What changes is the **expected outcome** of the function being mapped or the elements being extracted. If they are going to be all of the same type, the mapping takes advantage of that and is much faster. Also, if we have reason to expect all the outcomes to be of the same kind, we can use it to detect possible errors: if one outcome is not as desidered the map tells as there was an error.\n",
    "\n",
    "**try out the various versions of map_ on the wesanderson list**"
   ]
  },
  {
   "cell_type": "code",
   "execution_count": null,
   "metadata": {},
   "outputs": [],
   "source": [
    "# your code here."
   ]
  },
  {
   "cell_type": "markdown",
   "metadata": {},
   "source": [
    "## Your turn"
   ]
  },
  {
   "cell_type": "markdown",
   "metadata": {},
   "source": [
    "Work on the list `got_chars` which contains information about Game of Thrones characters (from https://www.anapioficeandfire.com)."
   ]
  },
  {
   "cell_type": "code",
   "execution_count": null,
   "metadata": {},
   "outputs": [],
   "source": [
    "got_chars %>% glimpse()"
   ]
  },
  {
   "cell_type": "markdown",
   "metadata": {},
   "source": [
    "Extract the `name` of each character:"
   ]
  },
  {
   "cell_type": "code",
   "execution_count": null,
   "metadata": {},
   "outputs": [],
   "source": [
    "# your code here"
   ]
  },
  {
   "cell_type": "markdown",
   "metadata": {},
   "source": [
    "## Challenge\n",
    "\n",
    "Now, in 1 piping flow, create a new dataframe containing `name` and `allegiances` of each character. You will need to use the `data_frame()` function, a couple of `map_...()` functions, and you will need to understand a little bit more about how to use the `%>%` operator (especially curly brackets and the dot, a good place where to do it is [here](https://magrittr.tidyverse.org/))."
   ]
  },
  {
   "cell_type": "code",
   "execution_count": null,
   "metadata": {},
   "outputs": [],
   "source": [
    "# your code here."
   ]
  },
  {
   "cell_type": "markdown",
   "metadata": {},
   "source": [
    "### More fancy operations\n",
    "\n",
    "The `map_...()` family of functions come with also a more agile notation for specifying the mapped function _on the fly_. This are called _anonymous functions_. In `purrr` this fuctions are defined starting with a tilde, ~ , and they have one implicit argument: `.x`. Consider the following list:"
   ]
  },
  {
   "cell_type": "code",
   "execution_count": null,
   "metadata": {},
   "outputs": [],
   "source": [
    "gap_split[1:4] # I'm printing out only the first 4 elements"
   ]
  },
  {
   "cell_type": "markdown",
   "metadata": {},
   "source": [
    "It is a list containing dataframes. If we want to get back from that list a dataframe with only the information about the year 1952, we can use the anonymous function notation and the usual piping flow of tidyverse. To get that information from one of the elements in the list we would write something like:"
   ]
  },
  {
   "cell_type": "code",
   "execution_count": null,
   "metadata": {},
   "outputs": [],
   "source": [
    "gap_split[[\"Austria\"]] %>%\n",
    "  filter(year == 1952)"
   ]
  },
  {
   "cell_type": "markdown",
   "metadata": {},
   "source": [
    "Now, if we want to apply that to every element in the list, we use the ~ and `.x` notation.\n",
    "\n",
    "As the `map` goes through the list, `.x` will become one of the elements at each time."
   ]
  },
  {
   "cell_type": "code",
   "execution_count": null,
   "metadata": {},
   "outputs": [],
   "source": [
    "gap_split %>%\n",
    "  map_df(~ .x %>% filter(year == 1952))"
   ]
  },
  {
   "cell_type": "markdown",
   "metadata": {},
   "source": [
    "### Readings:\n",
    "\n",
    "1) Work through https://r4ds.had.co.nz/iteration.html and do the exercises there."
   ]
  },
  {
   "cell_type": "markdown",
   "metadata": {},
   "source": [
    "## Strings, Dates, and all that Jazz"
   ]
  },
  {
   "cell_type": "markdown",
   "metadata": {},
   "source": [
    "R (as most other programming languages) have dedicated classes for many variable types. Like, many of them. And a full ecosystem of packages that help you operate on those type on a higher level of abstraction. Two that are particularly common are strings (from letters to words, from tweets to entire books can be coded as strings) and data-times. Many different packages can handle those, but I'd like to introduce you with two in particular:\n",
    "\n",
    "1.  `stringr` for strings (https://stringr.tidyverse.org/)\n",
    "2.  `lubridate` for dates (https://lubridate.tidyverse.org/)"
   ]
  },
  {
   "cell_type": "markdown",
   "metadata": {},
   "source": [
    "Hadley's \"R for data science\" offers a great introduction to both:\n",
    "\n",
    "1.  for strings, study here: http://r4ds.had.co.nz/strings.html\n",
    "2.  for dates, study here: https://r4ds.had.co.nz/dates-and-times.html\n",
    "\n",
    "If you have time, it's a very good idea to work through the exercises."
   ]
  }
 ],
 "metadata": {
  "kernelspec": {
   "display_name": "R",
   "language": "R",
   "name": "ir"
  },
  "language_info": {
   "codemirror_mode": "r",
   "file_extension": ".r",
   "mimetype": "text/x-r-source",
   "name": "R",
   "pygments_lexer": "r",
   "version": "3.6.1"
  }
 },
 "nbformat": 4,
 "nbformat_minor": 4
}
