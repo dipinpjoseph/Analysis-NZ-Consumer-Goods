{
 "cells": [
  {
   "cell_type": "code",
   "execution_count": 49,
   "metadata": {},
   "outputs": [
    {
     "name": "stderr",
     "output_type": "stream",
     "text": [
      "Installing package into 'C:/Users/Munnu Joseph/Documents/R/win-library/3.6'\n",
      "(as 'lib' is unspecified)\n"
     ]
    },
    {
     "name": "stdout",
     "output_type": "stream",
     "text": [
      "package 'hablar' successfully unpacked and MD5 sums checked\n",
      "\n",
      "The downloaded binary packages are in\n",
      "\tC:\\Users\\Munnu Joseph\\AppData\\Local\\Temp\\Rtmpy0riDh\\downloaded_packages\n"
     ]
    },
    {
     "name": "stderr",
     "output_type": "stream",
     "text": [
      "\n",
      "Attaching package: 'hablar'\n",
      "\n",
      "The following object is masked from 'package:dplyr':\n",
      "\n",
      "    na_if\n",
      "\n"
     ]
    }
   ],
   "source": [
    "#Loading Libraries\n",
    "install.packages(\"hablar\")\n",
    "install.packages(\"ggpubr\")\n"
   ]
  },
  {
   "cell_type": "code",
   "execution_count": 4,
   "metadata": {},
   "outputs": [
    {
     "name": "stderr",
     "output_type": "stream",
     "text": [
      "-- \u001b[1mAttaching packages\u001b[22m --------------------------------------- tidyverse 1.2.1 --\n",
      "\u001b[32mv\u001b[39m \u001b[34mggplot2\u001b[39m 3.2.0     \u001b[32mv\u001b[39m \u001b[34mpurrr  \u001b[39m 0.3.2\n",
      "\u001b[32mv\u001b[39m \u001b[34mtibble \u001b[39m 2.1.3     \u001b[32mv\u001b[39m \u001b[34mdplyr  \u001b[39m 0.8.3\n",
      "\u001b[32mv\u001b[39m \u001b[34mtidyr  \u001b[39m 0.8.3     \u001b[32mv\u001b[39m \u001b[34mstringr\u001b[39m 1.4.0\n",
      "\u001b[32mv\u001b[39m \u001b[34mreadr  \u001b[39m 1.3.1     \u001b[32mv\u001b[39m \u001b[34mforcats\u001b[39m 0.4.0\n",
      "-- \u001b[1mConflicts\u001b[22m ------------------------------------------ tidyverse_conflicts() --\n",
      "\u001b[31mx\u001b[39m \u001b[34mdplyr\u001b[39m::\u001b[32mfilter()\u001b[39m masks \u001b[34mstats\u001b[39m::filter()\n",
      "\u001b[31mx\u001b[39m \u001b[34mdplyr\u001b[39m::\u001b[32mlag()\u001b[39m    masks \u001b[34mstats\u001b[39m::lag()\n",
      "\n",
      "Attaching package: 'magrittr'\n",
      "\n",
      "The following object is masked from 'package:purrr':\n",
      "\n",
      "    set_names\n",
      "\n",
      "The following object is masked from 'package:tidyr':\n",
      "\n",
      "    extract\n",
      "\n",
      "\n",
      "Attaching package: 'glue'\n",
      "\n",
      "The following object is masked from 'package:dplyr':\n",
      "\n",
      "    collapse\n",
      "\n",
      "Loading required package: xml2\n",
      "\n",
      "Attaching package: 'rvest'\n",
      "\n",
      "The following object is masked from 'package:purrr':\n",
      "\n",
      "    pluck\n",
      "\n",
      "The following object is masked from 'package:readr':\n",
      "\n",
      "    guess_encoding\n",
      "\n",
      "\n",
      "Attaching package: 'hablar'\n",
      "\n",
      "The following object is masked from 'package:dplyr':\n",
      "\n",
      "    na_if\n",
      "\n"
     ]
    }
   ],
   "source": [
    "#Loading Libraries\n",
    "library(tidyverse)\n",
    "library(magrittr) # better handling of pipes\n",
    "library(purrr) # to work with lists and map functions\n",
    "library(glue) # to paste strings\n",
    "library(stringr) # to hand strings\n",
    "library(rvest) # rvest makes scraping easier\n",
    "library(polite) # polite is the \"polite\" version of rvest\n",
    "library(hablar)"
   ]
  },
  {
   "cell_type": "code",
   "execution_count": 5,
   "metadata": {},
   "outputs": [],
   "source": [
    "library(rJava)\n",
    "library(readxl)\n",
    "library(xlsx)\n",
    "library(unpivotr)\n",
    "library(tidyverse)\n",
    "library(tidyxl)"
   ]
  },
  {
   "cell_type": "code",
   "execution_count": 6,
   "metadata": {},
   "outputs": [
    {
     "name": "stderr",
     "output_type": "stream",
     "text": [
      "New names:\n",
      "* `` -> ...2\n"
     ]
    },
    {
     "name": "stdout",
     "output_type": "stream",
     "text": [
      "Observations: 37\n",
      "Variables: 2\n",
      "$ `Overseas merchandise trade: January 2019` \u001b[3m\u001b[90m<chr>\u001b[39m\u001b[23m NA, \"List of tables\", \"1...\n",
      "$ ...2                                       \u001b[3m\u001b[90m<chr>\u001b[39m\u001b[23m NA, NA, \"Overseas mercha...\n"
     ]
    }
   ],
   "source": [
    "\"overseas-merchandise-trade-january-2019.xlsx\" %>%  read_excel() %>%\n",
    " glimpse()"
   ]
  },
  {
   "cell_type": "code",
   "execution_count": 7,
   "metadata": {},
   "outputs": [],
   "source": [
    "new_data <- xlsx_cells(\"overseas-merchandise-trade-january-2019.xlsx\") %>% filter(sheet == \"Table 2\")%>%  rectify()%>% head(56) %>% tail(40)"
   ]
  },
  {
   "cell_type": "code",
   "execution_count": 8,
   "metadata": {},
   "outputs": [],
   "source": [
    "new_data_2 <- as_tibble(new_data)"
   ]
  },
  {
   "cell_type": "code",
   "execution_count": 9,
   "metadata": {},
   "outputs": [
    {
     "data": {
      "text/html": [
       "<table>\n",
       "<caption>A tibble: 6 × 20</caption>\n",
       "<thead>\n",
       "\t<tr><th scope=col>Row_Number</th><th scope=col>Year</th><th scope=col>Month</th><th scope=col>head1</th><th scope=col>Exports</th><th scope=col>head2</th><th scope=col>Export_change_Value</th><th scope=col>Imports</th><th scope=col>head3</th><th scope=col>Import_Change_Value</th><th scope=col>head4</th><th scope=col>head5</th><th scope=col>head6</th><th scope=col>head7</th><th scope=col>head8</th><th scope=col>head9</th><th scope=col>head10</th><th scope=col>head11</th><th scope=col>head12</th><th scope=col>head13</th></tr>\n",
       "\t<tr><th scope=col>&lt;int&gt;</th><th scope=col>&lt;chr&gt;</th><th scope=col>&lt;chr&gt;</th><th scope=col>&lt;chr&gt;</th><th scope=col>&lt;chr&gt;</th><th scope=col>&lt;chr&gt;</th><th scope=col>&lt;chr&gt;</th><th scope=col>&lt;chr&gt;</th><th scope=col>&lt;lgl&gt;</th><th scope=col>&lt;chr&gt;</th><th scope=col>&lt;chr&gt;</th><th scope=col>&lt;lgl&gt;</th><th scope=col>&lt;chr&gt;</th><th scope=col>&lt;lgl&gt;</th><th scope=col>&lt;chr&gt;</th><th scope=col>&lt;chr&gt;</th><th scope=col>&lt;lgl&gt;</th><th scope=col>&lt;chr&gt;</th><th scope=col>&lt;chr&gt;</th><th scope=col>&lt;lgl&gt;</th></tr>\n",
       "</thead>\n",
       "<tbody>\n",
       "\t<tr><td>17</td><td>2016</td><td>Jan</td><td>NA</td><td>4370</td><td>NA</td><td>11.1 </td><td>4343</td><td>NA</td><td>2.7 </td><td>28  </td><td>NA</td><td>4102</td><td>NA</td><td>0.2 </td><td>4238</td><td>NA</td><td>-1.2</td><td>-136</td><td>NA</td></tr>\n",
       "\t<tr><td>18</td><td>NA  </td><td>Feb</td><td>NA</td><td>4179</td><td>NA</td><td>-4.4 </td><td>4173</td><td>NA</td><td>-3.9</td><td>6   </td><td>NA</td><td>4103</td><td>NA</td><td>0   </td><td>4204</td><td>NA</td><td>-0.8</td><td>-101</td><td>NA</td></tr>\n",
       "\t<tr><td>19</td><td>NA  </td><td>Mar</td><td>NA</td><td>3624</td><td>NA</td><td>-13.3</td><td>4011</td><td>NA</td><td>-3.9</td><td>-387</td><td>NA</td><td>4096</td><td>NA</td><td>-0.2</td><td>4187</td><td>NA</td><td>-0.4</td><td>-91 </td><td>NA</td></tr>\n",
       "\t<tr><td>20</td><td>NA  </td><td>Apr</td><td>NA</td><td>4097</td><td>NA</td><td>13   </td><td>4285</td><td>NA</td><td>6.8 </td><td>-188</td><td>NA</td><td>4082</td><td>NA</td><td>-0.3</td><td>4184</td><td>NA</td><td>-0.1</td><td>-102</td><td>NA</td></tr>\n",
       "\t<tr><td>21</td><td>NA  </td><td>May</td><td>NA</td><td>4185</td><td>NA</td><td>2.2  </td><td>4242</td><td>NA</td><td>-1  </td><td>-56 </td><td>NA</td><td>4063</td><td>NA</td><td>-0.5</td><td>4197</td><td>NA</td><td>0.3 </td><td>-134</td><td>NA</td></tr>\n",
       "\t<tr><td>22</td><td>NA  </td><td>Jun</td><td>NA</td><td>4089</td><td>NA</td><td>-2.3 </td><td>4216</td><td>NA</td><td>-0.6</td><td>-128</td><td>NA</td><td>4042</td><td>NA</td><td>-0.5</td><td>4218</td><td>NA</td><td>0.5 </td><td>-176</td><td>NA</td></tr>\n",
       "</tbody>\n",
       "</table>\n"
      ],
      "text/latex": [
       "A tibble: 6 × 20\n",
       "\\begin{tabular}{r|llllllllllllllllllll}\n",
       " Row\\_Number & Year & Month & head1 & Exports & head2 & Export\\_change\\_Value & Imports & head3 & Import\\_Change\\_Value & head4 & head5 & head6 & head7 & head8 & head9 & head10 & head11 & head12 & head13\\\\\n",
       " <int> & <chr> & <chr> & <chr> & <chr> & <chr> & <chr> & <chr> & <lgl> & <chr> & <chr> & <lgl> & <chr> & <lgl> & <chr> & <chr> & <lgl> & <chr> & <chr> & <lgl>\\\\\n",
       "\\hline\n",
       "\t 17 & 2016 & Jan & NA & 4370 & NA & 11.1  & 4343 & NA & 2.7  & 28   & NA & 4102 & NA & 0.2  & 4238 & NA & -1.2 & -136 & NA\\\\\n",
       "\t 18 & NA   & Feb & NA & 4179 & NA & -4.4  & 4173 & NA & -3.9 & 6    & NA & 4103 & NA & 0    & 4204 & NA & -0.8 & -101 & NA\\\\\n",
       "\t 19 & NA   & Mar & NA & 3624 & NA & -13.3 & 4011 & NA & -3.9 & -387 & NA & 4096 & NA & -0.2 & 4187 & NA & -0.4 & -91  & NA\\\\\n",
       "\t 20 & NA   & Apr & NA & 4097 & NA & 13    & 4285 & NA & 6.8  & -188 & NA & 4082 & NA & -0.3 & 4184 & NA & -0.1 & -102 & NA\\\\\n",
       "\t 21 & NA   & May & NA & 4185 & NA & 2.2   & 4242 & NA & -1   & -56  & NA & 4063 & NA & -0.5 & 4197 & NA & 0.3  & -134 & NA\\\\\n",
       "\t 22 & NA   & Jun & NA & 4089 & NA & -2.3  & 4216 & NA & -0.6 & -128 & NA & 4042 & NA & -0.5 & 4218 & NA & 0.5  & -176 & NA\\\\\n",
       "\\end{tabular}\n"
      ],
      "text/markdown": [
       "\n",
       "A tibble: 6 × 20\n",
       "\n",
       "| Row_Number &lt;int&gt; | Year &lt;chr&gt; | Month &lt;chr&gt; | head1 &lt;chr&gt; | Exports &lt;chr&gt; | head2 &lt;chr&gt; | Export_change_Value &lt;chr&gt; | Imports &lt;chr&gt; | head3 &lt;lgl&gt; | Import_Change_Value &lt;chr&gt; | head4 &lt;chr&gt; | head5 &lt;lgl&gt; | head6 &lt;chr&gt; | head7 &lt;lgl&gt; | head8 &lt;chr&gt; | head9 &lt;chr&gt; | head10 &lt;lgl&gt; | head11 &lt;chr&gt; | head12 &lt;chr&gt; | head13 &lt;lgl&gt; |\n",
       "|---|---|---|---|---|---|---|---|---|---|---|---|---|---|---|---|---|---|---|---|\n",
       "| 17 | 2016 | Jan | NA | 4370 | NA | 11.1  | 4343 | NA | 2.7  | 28   | NA | 4102 | NA | 0.2  | 4238 | NA | -1.2 | -136 | NA |\n",
       "| 18 | NA   | Feb | NA | 4179 | NA | -4.4  | 4173 | NA | -3.9 | 6    | NA | 4103 | NA | 0    | 4204 | NA | -0.8 | -101 | NA |\n",
       "| 19 | NA   | Mar | NA | 3624 | NA | -13.3 | 4011 | NA | -3.9 | -387 | NA | 4096 | NA | -0.2 | 4187 | NA | -0.4 | -91  | NA |\n",
       "| 20 | NA   | Apr | NA | 4097 | NA | 13    | 4285 | NA | 6.8  | -188 | NA | 4082 | NA | -0.3 | 4184 | NA | -0.1 | -102 | NA |\n",
       "| 21 | NA   | May | NA | 4185 | NA | 2.2   | 4242 | NA | -1   | -56  | NA | 4063 | NA | -0.5 | 4197 | NA | 0.3  | -134 | NA |\n",
       "| 22 | NA   | Jun | NA | 4089 | NA | -2.3  | 4216 | NA | -0.6 | -128 | NA | 4042 | NA | -0.5 | 4218 | NA | 0.5  | -176 | NA |\n",
       "\n"
      ],
      "text/plain": [
       "  Row_Number Year Month head1 Exports head2 Export_change_Value Imports head3\n",
       "1 17         2016 Jan   NA    4370    NA    11.1                4343    NA   \n",
       "2 18         NA   Feb   NA    4179    NA    -4.4                4173    NA   \n",
       "3 19         NA   Mar   NA    3624    NA    -13.3               4011    NA   \n",
       "4 20         NA   Apr   NA    4097    NA    13                  4285    NA   \n",
       "5 21         NA   May   NA    4185    NA    2.2                 4242    NA   \n",
       "6 22         NA   Jun   NA    4089    NA    -2.3                4216    NA   \n",
       "  Import_Change_Value head4 head5 head6 head7 head8 head9 head10 head11 head12\n",
       "1 2.7                 28    NA    4102  NA    0.2   4238  NA     -1.2   -136  \n",
       "2 -3.9                6     NA    4103  NA    0     4204  NA     -0.8   -101  \n",
       "3 -3.9                -387  NA    4096  NA    -0.2  4187  NA     -0.4   -91   \n",
       "4 6.8                 -188  NA    4082  NA    -0.3  4184  NA     -0.1   -102  \n",
       "5 -1                  -56   NA    4063  NA    -0.5  4197  NA     0.3    -134  \n",
       "6 -0.6                -128  NA    4042  NA    -0.5  4218  NA     0.5    -176  \n",
       "  head13\n",
       "1 NA    \n",
       "2 NA    \n",
       "3 NA    \n",
       "4 NA    \n",
       "5 NA    \n",
       "6 NA    "
      ]
     },
     "metadata": {},
     "output_type": "display_data"
    }
   ],
   "source": [
    "names(new_data_2) <- c(\"Row_Number\",\"Year\",\"Month\",\"head1\",\"Exports\",\"head2\",\"Export_change_Value\",\"Imports\",\n",
    "                       \"head3\",\"Import_Change_Value\",\"head4\",\"head5\",\"head6\",\"head7\",\"head8\",\"head9\",\"head10\",\n",
    "                       \"head11\",\"head12\",\"head13\")\n",
    "head(new_data_2)"
   ]
  },
  {
   "cell_type": "code",
   "execution_count": 10,
   "metadata": {},
   "outputs": [],
   "source": [
    "\n",
    "data1 <- new_data_2 %>%\n",
    "select(Row_Number,Year,Month,Exports,Export_change_Value,Imports,Import_Change_Value) %>%\n",
    "filter(Row_Number <29) %>%\n",
    "mutate(Year=2016)\n",
    "\n",
    "data2 <- new_data_2 %>%\n",
    "select(Row_Number,Year,Month,Exports,Export_change_Value,Imports,Import_Change_Value) %>%\n",
    "filter(Row_Number>29 & Row_Number<42) %>%\n",
    "mutate(Year=2017)\n",
    "\n",
    "data3 <- new_data_2 %>%\n",
    "select(Row_Number,Year,Month,Exports,Export_change_Value,Imports,Import_Change_Value) %>%\n",
    "filter(Row_Number>42 & Row_Number<55) %>%\n",
    "mutate(Year=2018)\n",
    "\n",
    "data4 <- new_data_2 %>%\n",
    "select(Row_Number,Year,Month,Exports,Export_change_Value,Imports,Import_Change_Value) %>%\n",
    "filter(Row_Number==56) %>%\n",
    "mutate(Year=2019)\n",
    "\n",
    "Export_Import_Data <- rbind(data1,data2,data3,data4) %>%\n",
    "select(Year,Month,Exports,Export_change_Value,Imports,Import_Change_Value)"
   ]
  },
  {
   "cell_type": "code",
   "execution_count": 47,
   "metadata": {},
   "outputs": [],
   "source": [
    "Export_Import_Data_tidy <- transform(Export_Import_Data, \n",
    "         Year = round(as.numeric(Year),0) ,                         \n",
    "         Exports = round(as.numeric(Exports),2),\n",
    "         Export_change_Value = round(as.numeric(Export_change_Value),2),\n",
    "         Imports = round(as.numeric(Imports),2),\n",
    "         Import_Change_Value = round(as.numeric(Import_Change_Value),2))\n",
    "\n",
    "Export_Import_Data_2018 <-Export_Import_Data_tidy %>%\n",
    "filter(Year==2018)\n",
    "\n",
    "Export_Import_Data_2017 <-Export_Import_Data_tidy %>%\n",
    "filter(Year==2017)"
   ]
  },
  {
   "cell_type": "code",
   "execution_count": 12,
   "metadata": {},
   "outputs": [
    {
     "data": {
      "text/html": [
       "<table>\n",
       "<caption>A tibble: 12 × 5</caption>\n",
       "<thead>\n",
       "\t<tr><th scope=col>Month</th><th scope=col>Min(°C)</th><th scope=col>Max(°C)</th><th scope=col>Min(°F)</th><th scope=col>Max(°F)</th></tr>\n",
       "\t<tr><th scope=col>&lt;chr&gt;</th><th scope=col>&lt;int&gt;</th><th scope=col>&lt;int&gt;</th><th scope=col>&lt;int&gt;</th><th scope=col>&lt;int&gt;</th></tr>\n",
       "</thead>\n",
       "<tbody>\n",
       "\t<tr><td>Jan</td><td>16</td><td>24</td><td>61</td><td>75</td></tr>\n",
       "\t<tr><td>Feb</td><td>17</td><td>24</td><td>63</td><td>75</td></tr>\n",
       "\t<tr><td>Mar</td><td>15</td><td>23</td><td>59</td><td>73</td></tr>\n",
       "\t<tr><td>Apr</td><td>13</td><td>20</td><td>55</td><td>68</td></tr>\n",
       "\t<tr><td>May</td><td>11</td><td>17</td><td>52</td><td>63</td></tr>\n",
       "\t<tr><td>Jun</td><td> 8</td><td>15</td><td>46</td><td>59</td></tr>\n",
       "\t<tr><td>Jul</td><td> 8</td><td>14</td><td>46</td><td>57</td></tr>\n",
       "\t<tr><td>Aug</td><td> 8</td><td>15</td><td>46</td><td>59</td></tr>\n",
       "\t<tr><td>Sep</td><td>10</td><td>16</td><td>50</td><td>61</td></tr>\n",
       "\t<tr><td>Oct</td><td>11</td><td>18</td><td>52</td><td>64</td></tr>\n",
       "\t<tr><td>Nov</td><td>13</td><td>20</td><td>55</td><td>68</td></tr>\n",
       "\t<tr><td>Dec</td><td>15</td><td>22</td><td>59</td><td>72</td></tr>\n",
       "</tbody>\n",
       "</table>\n"
      ],
      "text/latex": [
       "A tibble: 12 × 5\n",
       "\\begin{tabular}{r|lllll}\n",
       " Month & Min(°C) & Max(°C) & Min(°F) & Max(°F)\\\\\n",
       " <chr> & <int> & <int> & <int> & <int>\\\\\n",
       "\\hline\n",
       "\t Jan & 16 & 24 & 61 & 75\\\\\n",
       "\t Feb & 17 & 24 & 63 & 75\\\\\n",
       "\t Mar & 15 & 23 & 59 & 73\\\\\n",
       "\t Apr & 13 & 20 & 55 & 68\\\\\n",
       "\t May & 11 & 17 & 52 & 63\\\\\n",
       "\t Jun &  8 & 15 & 46 & 59\\\\\n",
       "\t Jul &  8 & 14 & 46 & 57\\\\\n",
       "\t Aug &  8 & 15 & 46 & 59\\\\\n",
       "\t Sep & 10 & 16 & 50 & 61\\\\\n",
       "\t Oct & 11 & 18 & 52 & 64\\\\\n",
       "\t Nov & 13 & 20 & 55 & 68\\\\\n",
       "\t Dec & 15 & 22 & 59 & 72\\\\\n",
       "\\end{tabular}\n"
      ],
      "text/markdown": [
       "\n",
       "A tibble: 12 × 5\n",
       "\n",
       "| Month &lt;chr&gt; | Min(°C) &lt;int&gt; | Max(°C) &lt;int&gt; | Min(°F) &lt;int&gt; | Max(°F) &lt;int&gt; |\n",
       "|---|---|---|---|---|\n",
       "| Jan | 16 | 24 | 61 | 75 |\n",
       "| Feb | 17 | 24 | 63 | 75 |\n",
       "| Mar | 15 | 23 | 59 | 73 |\n",
       "| Apr | 13 | 20 | 55 | 68 |\n",
       "| May | 11 | 17 | 52 | 63 |\n",
       "| Jun |  8 | 15 | 46 | 59 |\n",
       "| Jul |  8 | 14 | 46 | 57 |\n",
       "| Aug |  8 | 15 | 46 | 59 |\n",
       "| Sep | 10 | 16 | 50 | 61 |\n",
       "| Oct | 11 | 18 | 52 | 64 |\n",
       "| Nov | 13 | 20 | 55 | 68 |\n",
       "| Dec | 15 | 22 | 59 | 72 |\n",
       "\n"
      ],
      "text/plain": [
       "   Month Min(°C) Max(°C) Min(°F) Max(°F)\n",
       "1  Jan   16      24      61      75     \n",
       "2  Feb   17      24      63      75     \n",
       "3  Mar   15      23      59      73     \n",
       "4  Apr   13      20      55      68     \n",
       "5  May   11      17      52      63     \n",
       "6  Jun    8      15      46      59     \n",
       "7  Jul    8      14      46      57     \n",
       "8  Aug    8      15      46      59     \n",
       "9  Sep   10      16      50      61     \n",
       "10 Oct   11      18      52      64     \n",
       "11 Nov   13      20      55      68     \n",
       "12 Dec   15      22      59      72     "
      ]
     },
     "metadata": {},
     "output_type": "display_data"
    }
   ],
   "source": [
    "\n",
    "url <- \"https://www.climatestotravel.com/climate/new-zealand\"  # this is the base url from where the scraping starts\n",
    "seasonality <- read_html(url) %>%\n",
    "              html_table(fill=TRUE) # Reading and parsing the html of given webpage\n",
    "\n",
    "Month_Value <- c(\"Jan\",\"Feb\",\"Mar\",\"Apr\",\"May\",\"Jun\",\"Jul\",\"Aug\",\"Sep\",\"Oct\",\"Nov\",\"Dec\")\n",
    "\n",
    "seasonality_details <- data.frame(seasonality[1]) %>%\n",
    "                      t() %>% \n",
    "                      data.frame() %>%\n",
    "                      slice(-1) %>%\n",
    "                      mutate(Month=Month_Value)\n",
    "\n",
    "names(seasonality_details) <- c(\"Min(°C)\",\"Max(°C)\",\"Min(°F)\",\"Max(°F)\",\"Month\")\n",
    "\n",
    "seasonality_details_tidy <- seasonality_details %>% \n",
    "                            select(Month,\"Min(°C)\",\"Max(°C)\",\"Min(°F)\",\"Max(°F)\") %>%\n",
    "                            retype() # To convert factor value to numeric,the problem is commas instead of dots,\n",
    "                                     #it replaces them with dots -from Stackoverflow.com\n",
    "                           \n",
    "\n",
    "seasonality_details_tidy\n"
   ]
  },
  {
   "cell_type": "code",
   "execution_count": 52,
   "metadata": {},
   "outputs": [
    {
     "data": {
      "text/html": [
       "<table>\n",
       "<caption>A data.frame: 12 × 10</caption>\n",
       "<thead>\n",
       "\t<tr><th scope=col>Month</th><th scope=col>Year</th><th scope=col>Exports</th><th scope=col>Export_change_Value</th><th scope=col>Imports</th><th scope=col>Import_Change_Value</th><th scope=col>Min(°C)</th><th scope=col>Max(°C)</th><th scope=col>Min(°F)</th><th scope=col>Max(°F)</th></tr>\n",
       "\t<tr><th scope=col>&lt;chr&gt;</th><th scope=col>&lt;dbl&gt;</th><th scope=col>&lt;dbl&gt;</th><th scope=col>&lt;dbl&gt;</th><th scope=col>&lt;dbl&gt;</th><th scope=col>&lt;dbl&gt;</th><th scope=col>&lt;int&gt;</th><th scope=col>&lt;int&gt;</th><th scope=col>&lt;int&gt;</th><th scope=col>&lt;int&gt;</th></tr>\n",
       "</thead>\n",
       "<tbody>\n",
       "\t<tr><td>Jan</td><td>2018</td><td>4540</td><td>-12.8</td><td>5129</td><td> 1.9</td><td>16</td><td>24</td><td>61</td><td>75</td></tr>\n",
       "\t<tr><td>Feb</td><td>2018</td><td>4586</td><td>  1.0</td><td>4793</td><td>-6.6</td><td>17</td><td>24</td><td>63</td><td>75</td></tr>\n",
       "\t<tr><td>Mar</td><td>2018</td><td>4467</td><td> -2.6</td><td>5167</td><td> 7.8</td><td>15</td><td>23</td><td>59</td><td>73</td></tr>\n",
       "\t<tr><td>Apr</td><td>2018</td><td>4714</td><td>  5.5</td><td>5180</td><td> 0.3</td><td>13</td><td>20</td><td>55</td><td>68</td></tr>\n",
       "\t<tr><td>May</td><td>2018</td><td>4668</td><td> -1.0</td><td>4936</td><td>-4.7</td><td>11</td><td>17</td><td>52</td><td>63</td></tr>\n",
       "\t<tr><td>Jun</td><td>2018</td><td>4772</td><td>  2.2</td><td>5430</td><td>10.0</td><td> 8</td><td>15</td><td>46</td><td>59</td></tr>\n",
       "\t<tr><td>Jul</td><td>2018</td><td>5068</td><td>  6.2</td><td>5447</td><td> 0.3</td><td> 8</td><td>14</td><td>46</td><td>57</td></tr>\n",
       "\t<tr><td>Aug</td><td>2018</td><td>4767</td><td> -5.9</td><td>5268</td><td>-3.3</td><td> 8</td><td>15</td><td>46</td><td>59</td></tr>\n",
       "\t<tr><td>Sep</td><td>2018</td><td>5133</td><td>  7.7</td><td>5764</td><td> 9.4</td><td>10</td><td>16</td><td>50</td><td>61</td></tr>\n",
       "\t<tr><td>Oct</td><td>2018</td><td>4772</td><td> -7.0</td><td>5484</td><td>-4.8</td><td>11</td><td>18</td><td>52</td><td>64</td></tr>\n",
       "\t<tr><td>Nov</td><td>2018</td><td>4871</td><td>  2.1</td><td>5351</td><td>-2.4</td><td>13</td><td>20</td><td>55</td><td>68</td></tr>\n",
       "\t<tr><td>Dec</td><td>2018</td><td>5043</td><td>  3.5</td><td>5418</td><td> 1.3</td><td>15</td><td>22</td><td>59</td><td>72</td></tr>\n",
       "</tbody>\n",
       "</table>\n"
      ],
      "text/latex": [
       "A data.frame: 12 × 10\n",
       "\\begin{tabular}{r|llllllllll}\n",
       " Month & Year & Exports & Export\\_change\\_Value & Imports & Import\\_Change\\_Value & Min(°C) & Max(°C) & Min(°F) & Max(°F)\\\\\n",
       " <chr> & <dbl> & <dbl> & <dbl> & <dbl> & <dbl> & <int> & <int> & <int> & <int>\\\\\n",
       "\\hline\n",
       "\t Jan & 2018 & 4540 & -12.8 & 5129 &  1.9 & 16 & 24 & 61 & 75\\\\\n",
       "\t Feb & 2018 & 4586 &   1.0 & 4793 & -6.6 & 17 & 24 & 63 & 75\\\\\n",
       "\t Mar & 2018 & 4467 &  -2.6 & 5167 &  7.8 & 15 & 23 & 59 & 73\\\\\n",
       "\t Apr & 2018 & 4714 &   5.5 & 5180 &  0.3 & 13 & 20 & 55 & 68\\\\\n",
       "\t May & 2018 & 4668 &  -1.0 & 4936 & -4.7 & 11 & 17 & 52 & 63\\\\\n",
       "\t Jun & 2018 & 4772 &   2.2 & 5430 & 10.0 &  8 & 15 & 46 & 59\\\\\n",
       "\t Jul & 2018 & 5068 &   6.2 & 5447 &  0.3 &  8 & 14 & 46 & 57\\\\\n",
       "\t Aug & 2018 & 4767 &  -5.9 & 5268 & -3.3 &  8 & 15 & 46 & 59\\\\\n",
       "\t Sep & 2018 & 5133 &   7.7 & 5764 &  9.4 & 10 & 16 & 50 & 61\\\\\n",
       "\t Oct & 2018 & 4772 &  -7.0 & 5484 & -4.8 & 11 & 18 & 52 & 64\\\\\n",
       "\t Nov & 2018 & 4871 &   2.1 & 5351 & -2.4 & 13 & 20 & 55 & 68\\\\\n",
       "\t Dec & 2018 & 5043 &   3.5 & 5418 &  1.3 & 15 & 22 & 59 & 72\\\\\n",
       "\\end{tabular}\n"
      ],
      "text/markdown": [
       "\n",
       "A data.frame: 12 × 10\n",
       "\n",
       "| Month &lt;chr&gt; | Year &lt;dbl&gt; | Exports &lt;dbl&gt; | Export_change_Value &lt;dbl&gt; | Imports &lt;dbl&gt; | Import_Change_Value &lt;dbl&gt; | Min(°C) &lt;int&gt; | Max(°C) &lt;int&gt; | Min(°F) &lt;int&gt; | Max(°F) &lt;int&gt; |\n",
       "|---|---|---|---|---|---|---|---|---|---|\n",
       "| Jan | 2018 | 4540 | -12.8 | 5129 |  1.9 | 16 | 24 | 61 | 75 |\n",
       "| Feb | 2018 | 4586 |   1.0 | 4793 | -6.6 | 17 | 24 | 63 | 75 |\n",
       "| Mar | 2018 | 4467 |  -2.6 | 5167 |  7.8 | 15 | 23 | 59 | 73 |\n",
       "| Apr | 2018 | 4714 |   5.5 | 5180 |  0.3 | 13 | 20 | 55 | 68 |\n",
       "| May | 2018 | 4668 |  -1.0 | 4936 | -4.7 | 11 | 17 | 52 | 63 |\n",
       "| Jun | 2018 | 4772 |   2.2 | 5430 | 10.0 |  8 | 15 | 46 | 59 |\n",
       "| Jul | 2018 | 5068 |   6.2 | 5447 |  0.3 |  8 | 14 | 46 | 57 |\n",
       "| Aug | 2018 | 4767 |  -5.9 | 5268 | -3.3 |  8 | 15 | 46 | 59 |\n",
       "| Sep | 2018 | 5133 |   7.7 | 5764 |  9.4 | 10 | 16 | 50 | 61 |\n",
       "| Oct | 2018 | 4772 |  -7.0 | 5484 | -4.8 | 11 | 18 | 52 | 64 |\n",
       "| Nov | 2018 | 4871 |   2.1 | 5351 | -2.4 | 13 | 20 | 55 | 68 |\n",
       "| Dec | 2018 | 5043 |   3.5 | 5418 |  1.3 | 15 | 22 | 59 | 72 |\n",
       "\n"
      ],
      "text/plain": [
       "   Month Year Exports Export_change_Value Imports Import_Change_Value Min(°C)\n",
       "1  Jan   2018 4540    -12.8               5129     1.9                16     \n",
       "2  Feb   2018 4586      1.0               4793    -6.6                17     \n",
       "3  Mar   2018 4467     -2.6               5167     7.8                15     \n",
       "4  Apr   2018 4714      5.5               5180     0.3                13     \n",
       "5  May   2018 4668     -1.0               4936    -4.7                11     \n",
       "6  Jun   2018 4772      2.2               5430    10.0                 8     \n",
       "7  Jul   2018 5068      6.2               5447     0.3                 8     \n",
       "8  Aug   2018 4767     -5.9               5268    -3.3                 8     \n",
       "9  Sep   2018 5133      7.7               5764     9.4                10     \n",
       "10 Oct   2018 4772     -7.0               5484    -4.8                11     \n",
       "11 Nov   2018 4871      2.1               5351    -2.4                13     \n",
       "12 Dec   2018 5043      3.5               5418     1.3                15     \n",
       "   Max(°C) Min(°F) Max(°F)\n",
       "1  24      61      75     \n",
       "2  24      63      75     \n",
       "3  23      59      73     \n",
       "4  20      55      68     \n",
       "5  17      52      63     \n",
       "6  15      46      59     \n",
       "7  14      46      57     \n",
       "8  15      46      59     \n",
       "9  16      50      61     \n",
       "10 18      52      64     \n",
       "11 20      55      68     \n",
       "12 22      59      72     "
      ]
     },
     "metadata": {},
     "output_type": "display_data"
    },
    {
     "data": {
      "text/html": [
       "<table>\n",
       "<caption>A data.frame: 12 × 10</caption>\n",
       "<thead>\n",
       "\t<tr><th scope=col>Month</th><th scope=col>Year</th><th scope=col>Exports</th><th scope=col>Export_change_Value</th><th scope=col>Imports</th><th scope=col>Import_Change_Value</th><th scope=col>Min(°C)</th><th scope=col>Max(°C)</th><th scope=col>Min(°F)</th><th scope=col>Max(°F)</th></tr>\n",
       "\t<tr><th scope=col>&lt;chr&gt;</th><th scope=col>&lt;dbl&gt;</th><th scope=col>&lt;dbl&gt;</th><th scope=col>&lt;dbl&gt;</th><th scope=col>&lt;dbl&gt;</th><th scope=col>&lt;dbl&gt;</th><th scope=col>&lt;int&gt;</th><th scope=col>&lt;int&gt;</th><th scope=col>&lt;int&gt;</th><th scope=col>&lt;int&gt;</th></tr>\n",
       "</thead>\n",
       "<tbody>\n",
       "\t<tr><td>Jan</td><td>2017</td><td>4275</td><td> 6.1</td><td>4474</td><td> 3.7</td><td>16</td><td>24</td><td>61</td><td>75</td></tr>\n",
       "\t<tr><td>Feb</td><td>2017</td><td>4122</td><td>-3.6</td><td>4560</td><td> 1.9</td><td>17</td><td>24</td><td>63</td><td>75</td></tr>\n",
       "\t<tr><td>Mar</td><td>2017</td><td>4134</td><td> 0.3</td><td>4432</td><td>-2.8</td><td>15</td><td>23</td><td>59</td><td>73</td></tr>\n",
       "\t<tr><td>Apr</td><td>2017</td><td>4600</td><td>11.3</td><td>4629</td><td> 4.5</td><td>13</td><td>20</td><td>55</td><td>68</td></tr>\n",
       "\t<tr><td>May</td><td>2017</td><td>4348</td><td>-5.5</td><td>4717</td><td> 1.9</td><td>11</td><td>17</td><td>52</td><td>63</td></tr>\n",
       "\t<tr><td>Jun</td><td>2017</td><td>4460</td><td> 2.6</td><td>4522</td><td>-4.1</td><td> 8</td><td>15</td><td>46</td><td>59</td></tr>\n",
       "\t<tr><td>Jul</td><td>2017</td><td>4644</td><td> 4.1</td><td>4617</td><td> 2.1</td><td> 8</td><td>14</td><td>46</td><td>57</td></tr>\n",
       "\t<tr><td>Aug</td><td>2017</td><td>4328</td><td>-6.8</td><td>4523</td><td>-2.0</td><td> 8</td><td>15</td><td>46</td><td>59</td></tr>\n",
       "\t<tr><td>Sep</td><td>2017</td><td>4374</td><td> 1.1</td><td>4713</td><td> 4.2</td><td>10</td><td>16</td><td>50</td><td>61</td></tr>\n",
       "\t<tr><td>Oct</td><td>2017</td><td>4650</td><td> 6.3</td><td>5024</td><td> 6.6</td><td>11</td><td>18</td><td>52</td><td>64</td></tr>\n",
       "\t<tr><td>Nov</td><td>2017</td><td>4621</td><td>-0.6</td><td>5342</td><td> 6.3</td><td>13</td><td>20</td><td>55</td><td>68</td></tr>\n",
       "\t<tr><td>Dec</td><td>2017</td><td>5208</td><td>12.7</td><td>5035</td><td>-5.8</td><td>15</td><td>22</td><td>59</td><td>72</td></tr>\n",
       "</tbody>\n",
       "</table>\n"
      ],
      "text/latex": [
       "A data.frame: 12 × 10\n",
       "\\begin{tabular}{r|llllllllll}\n",
       " Month & Year & Exports & Export\\_change\\_Value & Imports & Import\\_Change\\_Value & Min(°C) & Max(°C) & Min(°F) & Max(°F)\\\\\n",
       " <chr> & <dbl> & <dbl> & <dbl> & <dbl> & <dbl> & <int> & <int> & <int> & <int>\\\\\n",
       "\\hline\n",
       "\t Jan & 2017 & 4275 &  6.1 & 4474 &  3.7 & 16 & 24 & 61 & 75\\\\\n",
       "\t Feb & 2017 & 4122 & -3.6 & 4560 &  1.9 & 17 & 24 & 63 & 75\\\\\n",
       "\t Mar & 2017 & 4134 &  0.3 & 4432 & -2.8 & 15 & 23 & 59 & 73\\\\\n",
       "\t Apr & 2017 & 4600 & 11.3 & 4629 &  4.5 & 13 & 20 & 55 & 68\\\\\n",
       "\t May & 2017 & 4348 & -5.5 & 4717 &  1.9 & 11 & 17 & 52 & 63\\\\\n",
       "\t Jun & 2017 & 4460 &  2.6 & 4522 & -4.1 &  8 & 15 & 46 & 59\\\\\n",
       "\t Jul & 2017 & 4644 &  4.1 & 4617 &  2.1 &  8 & 14 & 46 & 57\\\\\n",
       "\t Aug & 2017 & 4328 & -6.8 & 4523 & -2.0 &  8 & 15 & 46 & 59\\\\\n",
       "\t Sep & 2017 & 4374 &  1.1 & 4713 &  4.2 & 10 & 16 & 50 & 61\\\\\n",
       "\t Oct & 2017 & 4650 &  6.3 & 5024 &  6.6 & 11 & 18 & 52 & 64\\\\\n",
       "\t Nov & 2017 & 4621 & -0.6 & 5342 &  6.3 & 13 & 20 & 55 & 68\\\\\n",
       "\t Dec & 2017 & 5208 & 12.7 & 5035 & -5.8 & 15 & 22 & 59 & 72\\\\\n",
       "\\end{tabular}\n"
      ],
      "text/markdown": [
       "\n",
       "A data.frame: 12 × 10\n",
       "\n",
       "| Month &lt;chr&gt; | Year &lt;dbl&gt; | Exports &lt;dbl&gt; | Export_change_Value &lt;dbl&gt; | Imports &lt;dbl&gt; | Import_Change_Value &lt;dbl&gt; | Min(°C) &lt;int&gt; | Max(°C) &lt;int&gt; | Min(°F) &lt;int&gt; | Max(°F) &lt;int&gt; |\n",
       "|---|---|---|---|---|---|---|---|---|---|\n",
       "| Jan | 2017 | 4275 |  6.1 | 4474 |  3.7 | 16 | 24 | 61 | 75 |\n",
       "| Feb | 2017 | 4122 | -3.6 | 4560 |  1.9 | 17 | 24 | 63 | 75 |\n",
       "| Mar | 2017 | 4134 |  0.3 | 4432 | -2.8 | 15 | 23 | 59 | 73 |\n",
       "| Apr | 2017 | 4600 | 11.3 | 4629 |  4.5 | 13 | 20 | 55 | 68 |\n",
       "| May | 2017 | 4348 | -5.5 | 4717 |  1.9 | 11 | 17 | 52 | 63 |\n",
       "| Jun | 2017 | 4460 |  2.6 | 4522 | -4.1 |  8 | 15 | 46 | 59 |\n",
       "| Jul | 2017 | 4644 |  4.1 | 4617 |  2.1 |  8 | 14 | 46 | 57 |\n",
       "| Aug | 2017 | 4328 | -6.8 | 4523 | -2.0 |  8 | 15 | 46 | 59 |\n",
       "| Sep | 2017 | 4374 |  1.1 | 4713 |  4.2 | 10 | 16 | 50 | 61 |\n",
       "| Oct | 2017 | 4650 |  6.3 | 5024 |  6.6 | 11 | 18 | 52 | 64 |\n",
       "| Nov | 2017 | 4621 | -0.6 | 5342 |  6.3 | 13 | 20 | 55 | 68 |\n",
       "| Dec | 2017 | 5208 | 12.7 | 5035 | -5.8 | 15 | 22 | 59 | 72 |\n",
       "\n"
      ],
      "text/plain": [
       "   Month Year Exports Export_change_Value Imports Import_Change_Value Min(°C)\n",
       "1  Jan   2017 4275     6.1                4474     3.7                16     \n",
       "2  Feb   2017 4122    -3.6                4560     1.9                17     \n",
       "3  Mar   2017 4134     0.3                4432    -2.8                15     \n",
       "4  Apr   2017 4600    11.3                4629     4.5                13     \n",
       "5  May   2017 4348    -5.5                4717     1.9                11     \n",
       "6  Jun   2017 4460     2.6                4522    -4.1                 8     \n",
       "7  Jul   2017 4644     4.1                4617     2.1                 8     \n",
       "8  Aug   2017 4328    -6.8                4523    -2.0                 8     \n",
       "9  Sep   2017 4374     1.1                4713     4.2                10     \n",
       "10 Oct   2017 4650     6.3                5024     6.6                11     \n",
       "11 Nov   2017 4621    -0.6                5342     6.3                13     \n",
       "12 Dec   2017 5208    12.7                5035    -5.8                15     \n",
       "   Max(°C) Min(°F) Max(°F)\n",
       "1  24      61      75     \n",
       "2  24      63      75     \n",
       "3  23      59      73     \n",
       "4  20      55      68     \n",
       "5  17      52      63     \n",
       "6  15      46      59     \n",
       "7  14      46      57     \n",
       "8  15      46      59     \n",
       "9  16      50      61     \n",
       "10 18      52      64     \n",
       "11 20      55      68     \n",
       "12 22      59      72     "
      ]
     },
     "metadata": {},
     "output_type": "display_data"
    }
   ],
   "source": [
    "Export_Import_Monthly <-merge(x = Export_Import_Data_2018, y = seasonality_details_tidy, by = \"Month\",sort = F)\n",
    "Export_Import_Monthly\n",
    "\n",
    "Export_Import_2017 <-merge(x = Export_Import_Data_2017, y = seasonality_details_tidy, by = \"Month\",sort = F)\n",
    "Export_Import_2017"
   ]
  },
  {
   "cell_type": "code",
   "execution_count": 53,
   "metadata": {},
   "outputs": [],
   "source": [
    "Months.name <- c(\"Jan\",\"Feb\",\"Mar\",\"Apr\",\"May\",\"Jun\",\"Jul\",\"Aug\",\"Sep\",\"Oct\",\"Nov\",\"Dec\")\n"
   ]
  },
  {
   "cell_type": "code",
   "execution_count": 54,
   "metadata": {},
   "outputs": [],
   "source": [
    "# Reference-https://www.datacamp.com/community/tutorials/facets-ggplot-r\n",
    "\n",
    "scales_y <- list(\n",
    "  \"Exports\" = scale_y_continuous(limits = c(0, 6000), breaks = seq(0, 2000, 6000)),\n",
    "  \"Imports\" = scale_y_continuous(limits = c(0, 6000), breaks = seq(0, 2000, 6000)),\n",
    "  \"Max(°C)\" = scale_y_continuous(limits = c(5, 30), breaks = seq(5, 10, 30))\n",
    ")\n",
    "\n",
    "variable_names <- list(\n",
    "  \"Exports\" = \"Exports in 2018\" ,\n",
    "  \"Imports\" = \"Imports in 2018\",\n",
    "   \"Max(°C)\" = \"Average Temperature of New Zealand\"\n",
    ")\n",
    "\n",
    "variable_names_2017 <- list(\n",
    "  \"Exports\" = \"Exports in 2017\" ,\n",
    "  \"Imports\" = \"Imports in 2017\",\n",
    "   \"Max(°C)\" = \"Average Temperature of New Zealand\"\n",
    ")\n",
    "\n",
    "variable_labeller <- function(variable,value){\n",
    "  return(variable_names[value])\n",
    "                    }\n",
    "\n",
    "variable_labeller_2017 <- function(variable,value){\n",
    "  return(variable_names_2017[value])\n",
    "                    }"
   ]
  },
  {
   "cell_type": "code",
   "execution_count": 55,
   "metadata": {},
   "outputs": [],
   "source": [
    "Export_Import_Temp_Monthly <- gather(Export_Import_Monthly, key=\"measure\", value=\"value\", c(\"Exports\", \"Imports\",\"Max(°C)\"))\n",
    "Export_Import_Temp_2017 <- gather(Export_Import_2017, key=\"measure\", value=\"value\", c(\"Exports\", \"Imports\",\"Max(°C)\"))"
   ]
  },
  {
   "cell_type": "code",
   "execution_count": 56,
   "metadata": {},
   "outputs": [
    {
     "name": "stderr",
     "output_type": "stream",
     "text": [
      "Warning message:\n",
      "\"The labeller API has been updated. Labellers taking `variable`and `value` arguments are now deprecated. See labellers documentation.\"Warning message:\n",
      "\"The labeller API has been updated. Labellers taking `variable`and `value` arguments are now deprecated. See labellers documentation.\""
     ]
    }
   ],
   "source": [
    " Import_Export_2018_graph <- ggplot(data=Export_Import_Temp_Monthly, mapping=aes(x=ordered(Month,levels=Months.name), y=value,group=1))+\n",
    " #geom_bar(stat='identity', fill=\"forest green\")\n",
    "  geom_point(color=\"blue\")+\n",
    " geom_line()+ \n",
    " facet_wrap(~measure,ncol=1,labeller=variable_labeller,scales =\"free\") +\n",
    " labs(Title=\"Analyis of Export and Import based on Climate Conditions\",x=\"Month\")+\n",
    " theme_bw() \n",
    "\n",
    " Import_Export_2017_graph  <- ggplot(data=Export_Import_Temp_2017, mapping=aes(x=ordered(Month,levels=Months.name), y=value,group=1))+\n",
    " #geom_bar(stat='identity', fill=\"forest green\")\n",
    " geom_point(color=\"blue\")+\n",
    " geom_line()+ \n",
    " facet_wrap(~measure,ncol=1,labeller=variable_labeller_2017,scales =\"free\") +\n",
    " labs(Title=\"Analyis of Export and Import based on Climate Conditions\",x=\"Month\")+\n",
    " theme_bw()\n"
   ]
  },
  {
   "cell_type": "code",
   "execution_count": 60,
   "metadata": {},
   "outputs": [
    {
     "data": {
      "image/png": "[encoded data removed]",
      "text/plain": [
       "plot without title"
      ]
     },
     "metadata": {},
     "output_type": "display_data"
    }
   ],
   "source": [
    "library(ggpubr)\n",
    "ggarrange(Import_Export_2018_graph, Import_Export_2017_graph, \n",
    "          ncol = 2, nrow = 3)"
   ]
  },
  {
   "cell_type": "markdown",
   "metadata": {},
   "source": [
    "## BAR CHART"
   ]
  },
  {
   "cell_type": "code",
   "execution_count": 37,
   "metadata": {},
   "outputs": [],
   "source": [
    "Export_Import_Monthly_Details <- gather(Export_Import_Monthly, key=\"measure\", value=\"value\", c(\"Exports\", \"Imports\"))"
   ]
  },
  {
   "cell_type": "code",
   "execution_count": 46,
   "metadata": {},
   "outputs": [
    {
     "name": "stderr",
     "output_type": "stream",
     "text": [
      "Warning message:\n",
      "\"Ignoring unknown parameters: labeller, scales\""
     ]
    },
    {
     "data": {
      "image/png": "[encoded data removed]",
      "text/plain": [
       "plot without title"
      ]
     },
     "metadata": {},
     "output_type": "display_data"
    }
   ],
   "source": [
    "ggplot(data=Export_Import_Monthly_Details, mapping=aes(x=ordered(Month,levels=Months.name), y=value,group=1))+\n",
    " geom_bar(stat='identity', fill=\"steelblue\",scales=\"free\") +\n",
    " facet_wrap(~measure,ncol=1) +\n",
    " labs(Title=\"Analayis of Export and Import based on Climate Conditions\",x=\"Month\")+\n",
    " theme_bw()"
   ]
  },
  {
   "cell_type": "code",
   "execution_count": null,
   "metadata": {},
   "outputs": [],
   "source": []
  }
 ],
 "metadata": {
  "kernelspec": {
   "display_name": "R",
   "language": "R",
   "name": "ir"
  },
  "language_info": {
   "codemirror_mode": "r",
   "file_extension": ".r",
   "mimetype": "text/x-r-source",
   "name": "R",
   "pygments_lexer": "r",
   "version": "3.6.1"
  }
 },
 "nbformat": 4,
 "nbformat_minor": 4
}
