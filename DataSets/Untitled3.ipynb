{
 "cells": [
  {
   "cell_type": "code",
   "execution_count": 1,
   "metadata": {},
   "outputs": [
    {
     "name": "stderr",
     "output_type": "stream",
     "text": [
      "Installing package into ‘/usr/local/lib/R/site-library’\n",
      "(as ‘lib’ is unspecified)\n",
      "\n"
     ]
    }
   ],
   "source": [
    "install.packages(\"osmdata\")\n"
   ]
  },
  {
   "cell_type": "code",
   "execution_count": 2,
   "metadata": {},
   "outputs": [
    {
     "name": "stderr",
     "output_type": "stream",
     "text": [
      "Loading required package: ggplot2\n",
      "\n",
      "Google's Terms of Service: https://cloud.google.com/maps-platform/terms/.\n",
      "\n",
      "Please cite ggmap if you use it! See citation(\"ggmap\") for details.\n",
      "\n"
     ]
    }
   ],
   "source": [
    "library(ggmap)"
   ]
  },
  {
   "cell_type": "code",
   "execution_count": 4,
   "metadata": {},
   "outputs": [
    {
     "ename": "ERROR",
     "evalue": "Error: ggmap plots objects of class ggmap, see ?get_map\n",
     "output_type": "error",
     "traceback": [
      "Error: ggmap plots objects of class ggmap, see ?get_map\nTraceback:\n",
      "1. ggmap(\"Christchurch\")",
      "2. stop(\"ggmap plots objects of class ggmap, see ?get_map\", call. = FALSE)"
     ]
    }
   ],
   "source": [
    "ggmap(\"Christchurch\")"
   ]
  },
  {
   "cell_type": "code",
   "execution_count": 3,
   "metadata": {},
   "outputs": [
    {
     "name": "stderr",
     "output_type": "stream",
     "text": [
      "Installing package into ‘/usr/local/lib/R/site-library’\n",
      "(as ‘lib’ is unspecified)\n",
      "\n"
     ]
    }
   ],
   "source": [
    "#install.packages(\"mapproj\")\n",
    "#install.packages(\"rjson\")\n",
    "install.packages(\"ggrepel\")\n",
    "#library(ggrepel)\n"
   ]
  },
  {
   "cell_type": "code",
   "execution_count": 13,
   "metadata": {},
   "outputs": [],
   "source": [
    "library(htmlwidgets)"
   ]
  },
  {
   "cell_type": "code",
   "execution_count": 8,
   "metadata": {},
   "outputs": [
    {
     "name": "stderr",
     "output_type": "stream",
     "text": [
      "Installing package into ‘/usr/local/lib/R/site-library’\n",
      "(as ‘lib’ is unspecified)\n",
      "\n",
      "also installing the dependencies ‘rJava’, ‘xlsxjars’\n",
      "\n",
      "\n",
      "Warning message in install.packages(\"xlsx\"):\n",
      "“installation of package ‘rJava’ had non-zero exit status”\n",
      "Warning message in install.packages(\"xlsx\"):\n",
      "“installation of package ‘xlsxjars’ had non-zero exit status”\n",
      "Warning message in install.packages(\"xlsx\"):\n",
      "“installation of package ‘xlsx’ had non-zero exit status”\n"
     ]
    }
   ],
   "source": [
    "install.packages(\"xlsx\")"
   ]
  }
 ],
 "metadata": {
  "kernelspec": {
   "display_name": "R",
   "language": "R",
   "name": "ir"
  },
  "language_info": {
   "codemirror_mode": "r",
   "file_extension": ".r",
   "mimetype": "text/x-r-source",
   "name": "R",
   "pygments_lexer": "r",
   "version": "3.6.1"
  }
 },
 "nbformat": 4,
 "nbformat_minor": 4
}
