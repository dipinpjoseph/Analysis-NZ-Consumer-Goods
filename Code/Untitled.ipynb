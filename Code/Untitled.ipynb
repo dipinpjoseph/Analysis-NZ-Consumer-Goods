{
 "cells": [
  {
   "cell_type": "code",
   "execution_count": 3,
   "metadata": {},
   "outputs": [
    {
     "ename": "UndefVarError",
     "evalue": "UndefVarError: Pkg not defined",
     "output_type": "error",
     "traceback": [
      "UndefVarError: Pkg not defined",
      "",
      "Stacktrace:",
      " [1] top-level scope at In[3]:1"
     ]
    }
   ],
   "source": [
    "Pkg.add(\"CSV\")\n",
    "using CSV"
   ]
  },
  {
   "cell_type": "code",
   "execution_count": 2,
   "metadata": {},
   "outputs": [
    {
     "ename": "ArgumentError",
     "evalue": "ArgumentError: \"Import_data_2018_19_tidy.csv\" is not a valid file",
     "output_type": "error",
     "traceback": [
      "ArgumentError: \"Import_data_2018_19_tidy.csv\" is not a valid file",
      "",
      "Stacktrace:",
      " [1] file(::String, ::Int64, ::Bool, ::Int64, ::Nothing, ::Int64, ::Int64, ::Bool, ::Nothing, ::Bool, ::Bool, ::Array{String,1}, ::String, ::Nothing, ::Bool, ::Char, ::Nothing, ::Nothing, ::Char, ::Nothing, ::UInt8, ::Nothing, ::Nothing, ::Nothing, ::Nothing, ::Dict{Int8,Int8}, ::Bool, ::Float64, ::Bool, ::Bool, ::Bool, ::Bool, ::Nothing) at /home/anwar/.julia/packages/CSV/KgT4M/src/CSV.jl:95",
      " [2] Type at /home/anwar/.julia/packages/CSV/KgT4M/src/CSV.jl:195 [inlined]",
      " [3] #read#61 at /home/anwar/.julia/packages/CSV/KgT4M/src/CSV.jl:688 [inlined]",
      " [4] read(::String) at /home/anwar/.julia/packages/CSV/KgT4M/src/CSV.jl:688",
      " [5] top-level scope at In[2]:1"
     ]
    }
   ],
   "source": [
    "Import_data_2018_19_tidy <- CSV.read(\"Import_data_2018_19_tidy.csv\")"
   ]
  }
 ],
 "metadata": {
  "kernelspec": {
   "display_name": "Julia 1.1.1",
   "language": "julia",
   "name": "julia-1.1"
  },
  "language_info": {
   "file_extension": ".jl",
   "mimetype": "application/julia",
   "name": "julia",
   "version": "1.1.1"
  }
 },
 "nbformat": 4,
 "nbformat_minor": 2
}
