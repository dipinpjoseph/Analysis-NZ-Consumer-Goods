{
 "cells": [
  {
   "cell_type": "code",
   "execution_count": 1,
   "metadata": {},
   "outputs": [
    {
     "name": "stderr",
     "output_type": "stream",
     "text": [
      "Installing package into 'C:/Users/Munnu Joseph/Documents/R/win-library/3.6'\n",
      "(as 'lib' is unspecified)\n"
     ]
    },
    {
     "name": "stdout",
     "output_type": "stream",
     "text": [
      "package 'rJava' successfully unpacked and MD5 sums checked\n",
      "\n",
      "The downloaded binary packages are in\n",
      "\tC:\\Users\\Munnu Joseph\\AppData\\Local\\Temp\\RtmpSya7iX\\downloaded_packages\n"
     ]
    },
    {
     "name": "stderr",
     "output_type": "stream",
     "text": [
      "Installing package into 'C:/Users/Munnu Joseph/Documents/R/win-library/3.6'\n",
      "(as 'lib' is unspecified)\n"
     ]
    },
    {
     "name": "stdout",
     "output_type": "stream",
     "text": [
      "package 'xlsx' successfully unpacked and MD5 sums checked\n",
      "\n",
      "The downloaded binary packages are in\n",
      "\tC:\\Users\\Munnu Joseph\\AppData\\Local\\Temp\\RtmpSya7iX\\downloaded_packages\n"
     ]
    },
    {
     "name": "stderr",
     "output_type": "stream",
     "text": [
      "Installing package into 'C:/Users/Munnu Joseph/Documents/R/win-library/3.6'\n",
      "(as 'lib' is unspecified)\n"
     ]
    },
    {
     "name": "stdout",
     "output_type": "stream",
     "text": [
      "package 'unpivotr' successfully unpacked and MD5 sums checked\n",
      "\n",
      "The downloaded binary packages are in\n",
      "\tC:\\Users\\Munnu Joseph\\AppData\\Local\\Temp\\RtmpSya7iX\\downloaded_packages\n"
     ]
    },
    {
     "name": "stderr",
     "output_type": "stream",
     "text": [
      "Installing package into 'C:/Users/Munnu Joseph/Documents/R/win-library/3.6'\n",
      "(as 'lib' is unspecified)\n",
      "Warning message:\n",
      "\"package 'tidylx' is not available (for R version 3.6.1)\""
     ]
    }
   ],
   "source": [
    "Sys.setenv(JAVA_HOME=\"C:/Program Files/Java/jre1.8.0_221\")\n",
    "install.packages(\"rJava\")\n",
    "install.packages(\"xlsx\")\n",
    "install.packages(\"unpivotr\")\n",
    "install.packages(\"tidylx\")"
   ]
  },
  {
   "cell_type": "code",
   "execution_count": 2,
   "metadata": {},
   "outputs": [
    {
     "name": "stderr",
     "output_type": "stream",
     "text": [
      "-- \u001b[1mAttaching packages\u001b[22m --------------------------------------- tidyverse 1.2.1 --\n",
      "\u001b[32mv\u001b[39m \u001b[34mggplot2\u001b[39m 3.2.0     \u001b[32mv\u001b[39m \u001b[34mpurrr  \u001b[39m 0.3.2\n",
      "\u001b[32mv\u001b[39m \u001b[34mtibble \u001b[39m 2.1.3     \u001b[32mv\u001b[39m \u001b[34mdplyr  \u001b[39m 0.8.3\n",
      "\u001b[32mv\u001b[39m \u001b[34mtidyr  \u001b[39m 0.8.3     \u001b[32mv\u001b[39m \u001b[34mstringr\u001b[39m 1.4.0\n",
      "\u001b[32mv\u001b[39m \u001b[34mreadr  \u001b[39m 1.3.1     \u001b[32mv\u001b[39m \u001b[34mforcats\u001b[39m 0.4.0\n",
      "-- \u001b[1mConflicts\u001b[22m ------------------------------------------ tidyverse_conflicts() --\n",
      "\u001b[31mx\u001b[39m \u001b[34mdplyr\u001b[39m::\u001b[32mfilter()\u001b[39m masks \u001b[34mstats\u001b[39m::filter()\n",
      "\u001b[31mx\u001b[39m \u001b[34mdplyr\u001b[39m::\u001b[32mlag()\u001b[39m    masks \u001b[34mstats\u001b[39m::lag()\n"
     ]
    }
   ],
   "source": [
    "library(rJava)\n",
    "library(readxl)\n",
    "library(xlsx)\n",
    "library(unpivotr)\n",
    "library(tidyverse)\n",
    "library(tidyxl)"
   ]
  },
  {
   "cell_type": "code",
   "execution_count": 3,
   "metadata": {},
   "outputs": [
    {
     "name": "stderr",
     "output_type": "stream",
     "text": [
      "New names:\n",
      "* `` -> ...2\n"
     ]
    },
    {
     "name": "stdout",
     "output_type": "stream",
     "text": [
      "Observations: 37\n",
      "Variables: 2\n",
      "$ `Overseas merchandise trade: January 2019` \u001b[3m\u001b[90m<chr>\u001b[39m\u001b[23m NA, \"List of tables\", \"1...\n",
      "$ ...2                                       \u001b[3m\u001b[90m<chr>\u001b[39m\u001b[23m NA, NA, \"Overseas mercha...\n"
     ]
    }
   ],
   "source": [
    "\"overseas-merchandise-trade-january-2019.xlsx\" %>%  read_excel() %>%\n",
    " glimpse()"
   ]
  },
  {
   "cell_type": "code",
   "execution_count": 4,
   "metadata": {},
   "outputs": [],
   "source": [
    "new_data <- xlsx_cells(\"overseas-merchandise-trade-january-2019.xlsx\") %>% filter(sheet == \"Table 2\")%>%  rectify()%>% head(56) %>% tail(40)"
   ]
  },
  {
   "cell_type": "code",
   "execution_count": 5,
   "metadata": {},
   "outputs": [],
   "source": [
    "new_data_2 <- as_tibble(new_data)"
   ]
  },
  {
   "cell_type": "code",
   "execution_count": 6,
   "metadata": {},
   "outputs": [
    {
     "data": {
      "text/html": [
       "<table>\n",
       "<caption>A tibble: 6 × 20</caption>\n",
       "<thead>\n",
       "\t<tr><th scope=col>Row_Number</th><th scope=col>Year</th><th scope=col>Month</th><th scope=col>head1</th><th scope=col>Exports</th><th scope=col>head2</th><th scope=col>Export_change_Value</th><th scope=col>Imports</th><th scope=col>head3</th><th scope=col>Import_Change_Value</th><th scope=col>head4</th><th scope=col>head5</th><th scope=col>head6</th><th scope=col>head7</th><th scope=col>head8</th><th scope=col>head9</th><th scope=col>head10</th><th scope=col>head11</th><th scope=col>head12</th><th scope=col>head13</th></tr>\n",
       "\t<tr><th scope=col>&lt;int&gt;</th><th scope=col>&lt;chr&gt;</th><th scope=col>&lt;chr&gt;</th><th scope=col>&lt;chr&gt;</th><th scope=col>&lt;chr&gt;</th><th scope=col>&lt;chr&gt;</th><th scope=col>&lt;chr&gt;</th><th scope=col>&lt;chr&gt;</th><th scope=col>&lt;lgl&gt;</th><th scope=col>&lt;chr&gt;</th><th scope=col>&lt;chr&gt;</th><th scope=col>&lt;lgl&gt;</th><th scope=col>&lt;chr&gt;</th><th scope=col>&lt;lgl&gt;</th><th scope=col>&lt;chr&gt;</th><th scope=col>&lt;chr&gt;</th><th scope=col>&lt;lgl&gt;</th><th scope=col>&lt;chr&gt;</th><th scope=col>&lt;chr&gt;</th><th scope=col>&lt;lgl&gt;</th></tr>\n",
       "</thead>\n",
       "<tbody>\n",
       "\t<tr><td>17</td><td>2016</td><td>Jan</td><td>NA</td><td>4370</td><td>NA</td><td>11.1 </td><td>4343</td><td>NA</td><td>2.7 </td><td>28  </td><td>NA</td><td>4102</td><td>NA</td><td>0.2 </td><td>4238</td><td>NA</td><td>-1.2</td><td>-136</td><td>NA</td></tr>\n",
       "\t<tr><td>18</td><td>NA  </td><td>Feb</td><td>NA</td><td>4179</td><td>NA</td><td>-4.4 </td><td>4173</td><td>NA</td><td>-3.9</td><td>6   </td><td>NA</td><td>4103</td><td>NA</td><td>0   </td><td>4204</td><td>NA</td><td>-0.8</td><td>-101</td><td>NA</td></tr>\n",
       "\t<tr><td>19</td><td>NA  </td><td>Mar</td><td>NA</td><td>3624</td><td>NA</td><td>-13.3</td><td>4011</td><td>NA</td><td>-3.9</td><td>-387</td><td>NA</td><td>4096</td><td>NA</td><td>-0.2</td><td>4187</td><td>NA</td><td>-0.4</td><td>-91 </td><td>NA</td></tr>\n",
       "\t<tr><td>20</td><td>NA  </td><td>Apr</td><td>NA</td><td>4097</td><td>NA</td><td>13   </td><td>4285</td><td>NA</td><td>6.8 </td><td>-188</td><td>NA</td><td>4082</td><td>NA</td><td>-0.3</td><td>4184</td><td>NA</td><td>-0.1</td><td>-102</td><td>NA</td></tr>\n",
       "\t<tr><td>21</td><td>NA  </td><td>May</td><td>NA</td><td>4185</td><td>NA</td><td>2.2  </td><td>4242</td><td>NA</td><td>-1  </td><td>-56 </td><td>NA</td><td>4063</td><td>NA</td><td>-0.5</td><td>4197</td><td>NA</td><td>0.3 </td><td>-134</td><td>NA</td></tr>\n",
       "\t<tr><td>22</td><td>NA  </td><td>Jun</td><td>NA</td><td>4089</td><td>NA</td><td>-2.3 </td><td>4216</td><td>NA</td><td>-0.6</td><td>-128</td><td>NA</td><td>4042</td><td>NA</td><td>-0.5</td><td>4218</td><td>NA</td><td>0.5 </td><td>-176</td><td>NA</td></tr>\n",
       "</tbody>\n",
       "</table>\n"
      ],
      "text/latex": [
       "A tibble: 6 × 20\n",
       "\\begin{tabular}{r|llllllllllllllllllll}\n",
       " Row\\_Number & Year & Month & head1 & Exports & head2 & Export\\_change\\_Value & Imports & head3 & Import\\_Change\\_Value & head4 & head5 & head6 & head7 & head8 & head9 & head10 & head11 & head12 & head13\\\\\n",
       " <int> & <chr> & <chr> & <chr> & <chr> & <chr> & <chr> & <chr> & <lgl> & <chr> & <chr> & <lgl> & <chr> & <lgl> & <chr> & <chr> & <lgl> & <chr> & <chr> & <lgl>\\\\\n",
       "\\hline\n",
       "\t 17 & 2016 & Jan & NA & 4370 & NA & 11.1  & 4343 & NA & 2.7  & 28   & NA & 4102 & NA & 0.2  & 4238 & NA & -1.2 & -136 & NA\\\\\n",
       "\t 18 & NA   & Feb & NA & 4179 & NA & -4.4  & 4173 & NA & -3.9 & 6    & NA & 4103 & NA & 0    & 4204 & NA & -0.8 & -101 & NA\\\\\n",
       "\t 19 & NA   & Mar & NA & 3624 & NA & -13.3 & 4011 & NA & -3.9 & -387 & NA & 4096 & NA & -0.2 & 4187 & NA & -0.4 & -91  & NA\\\\\n",
       "\t 20 & NA   & Apr & NA & 4097 & NA & 13    & 4285 & NA & 6.8  & -188 & NA & 4082 & NA & -0.3 & 4184 & NA & -0.1 & -102 & NA\\\\\n",
       "\t 21 & NA   & May & NA & 4185 & NA & 2.2   & 4242 & NA & -1   & -56  & NA & 4063 & NA & -0.5 & 4197 & NA & 0.3  & -134 & NA\\\\\n",
       "\t 22 & NA   & Jun & NA & 4089 & NA & -2.3  & 4216 & NA & -0.6 & -128 & NA & 4042 & NA & -0.5 & 4218 & NA & 0.5  & -176 & NA\\\\\n",
       "\\end{tabular}\n"
      ],
      "text/markdown": [
       "\n",
       "A tibble: 6 × 20\n",
       "\n",
       "| Row_Number &lt;int&gt; | Year &lt;chr&gt; | Month &lt;chr&gt; | head1 &lt;chr&gt; | Exports &lt;chr&gt; | head2 &lt;chr&gt; | Export_change_Value &lt;chr&gt; | Imports &lt;chr&gt; | head3 &lt;lgl&gt; | Import_Change_Value &lt;chr&gt; | head4 &lt;chr&gt; | head5 &lt;lgl&gt; | head6 &lt;chr&gt; | head7 &lt;lgl&gt; | head8 &lt;chr&gt; | head9 &lt;chr&gt; | head10 &lt;lgl&gt; | head11 &lt;chr&gt; | head12 &lt;chr&gt; | head13 &lt;lgl&gt; |\n",
       "|---|---|---|---|---|---|---|---|---|---|---|---|---|---|---|---|---|---|---|---|\n",
       "| 17 | 2016 | Jan | NA | 4370 | NA | 11.1  | 4343 | NA | 2.7  | 28   | NA | 4102 | NA | 0.2  | 4238 | NA | -1.2 | -136 | NA |\n",
       "| 18 | NA   | Feb | NA | 4179 | NA | -4.4  | 4173 | NA | -3.9 | 6    | NA | 4103 | NA | 0    | 4204 | NA | -0.8 | -101 | NA |\n",
       "| 19 | NA   | Mar | NA | 3624 | NA | -13.3 | 4011 | NA | -3.9 | -387 | NA | 4096 | NA | -0.2 | 4187 | NA | -0.4 | -91  | NA |\n",
       "| 20 | NA   | Apr | NA | 4097 | NA | 13    | 4285 | NA | 6.8  | -188 | NA | 4082 | NA | -0.3 | 4184 | NA | -0.1 | -102 | NA |\n",
       "| 21 | NA   | May | NA | 4185 | NA | 2.2   | 4242 | NA | -1   | -56  | NA | 4063 | NA | -0.5 | 4197 | NA | 0.3  | -134 | NA |\n",
       "| 22 | NA   | Jun | NA | 4089 | NA | -2.3  | 4216 | NA | -0.6 | -128 | NA | 4042 | NA | -0.5 | 4218 | NA | 0.5  | -176 | NA |\n",
       "\n"
      ],
      "text/plain": [
       "  Row_Number Year Month head1 Exports head2 Export_change_Value Imports head3\n",
       "1 17         2016 Jan   NA    4370    NA    11.1                4343    NA   \n",
       "2 18         NA   Feb   NA    4179    NA    -4.4                4173    NA   \n",
       "3 19         NA   Mar   NA    3624    NA    -13.3               4011    NA   \n",
       "4 20         NA   Apr   NA    4097    NA    13                  4285    NA   \n",
       "5 21         NA   May   NA    4185    NA    2.2                 4242    NA   \n",
       "6 22         NA   Jun   NA    4089    NA    -2.3                4216    NA   \n",
       "  Import_Change_Value head4 head5 head6 head7 head8 head9 head10 head11 head12\n",
       "1 2.7                 28    NA    4102  NA    0.2   4238  NA     -1.2   -136  \n",
       "2 -3.9                6     NA    4103  NA    0     4204  NA     -0.8   -101  \n",
       "3 -3.9                -387  NA    4096  NA    -0.2  4187  NA     -0.4   -91   \n",
       "4 6.8                 -188  NA    4082  NA    -0.3  4184  NA     -0.1   -102  \n",
       "5 -1                  -56   NA    4063  NA    -0.5  4197  NA     0.3    -134  \n",
       "6 -0.6                -128  NA    4042  NA    -0.5  4218  NA     0.5    -176  \n",
       "  head13\n",
       "1 NA    \n",
       "2 NA    \n",
       "3 NA    \n",
       "4 NA    \n",
       "5 NA    \n",
       "6 NA    "
      ]
     },
     "metadata": {},
     "output_type": "display_data"
    }
   ],
   "source": [
    "\n",
    "names(new_data_2) <- c(\"Row_Number\",\"Year\",\"Month\",\"head1\",\"Exports\",\"head2\",\"Export_change_Value\",\"Imports\",\n",
    "                       \"head3\",\"Import_Change_Value\",\"head4\",\"head5\",\"head6\",\"head7\",\"head8\",\"head9\",\"head10\",\n",
    "                       \"head11\",\"head12\",\"head13\")\n",
    "head(new_data_2)"
   ]
  },
  {
   "cell_type": "code",
   "execution_count": 27,
   "metadata": {},
   "outputs": [
    {
     "data": {
      "text/html": [
       "<table>\n",
       "<caption>A tibble: 6 × 6</caption>\n",
       "<thead>\n",
       "\t<tr><th scope=col>Year</th><th scope=col>Month</th><th scope=col>Exports</th><th scope=col>Export_change_Value</th><th scope=col>Imports</th><th scope=col>Import_Change_Value</th></tr>\n",
       "\t<tr><th scope=col>&lt;chr&gt;</th><th scope=col>&lt;dbl&gt;</th><th scope=col>&lt;chr&gt;</th><th scope=col>&lt;chr&gt;</th><th scope=col>&lt;chr&gt;</th><th scope=col>&lt;chr&gt;</th></tr>\n",
       "</thead>\n",
       "<tbody>\n",
       "\t<tr><td>2016</td><td>1</td><td>4370</td><td>11.1 </td><td>4343</td><td>2.7 </td></tr>\n",
       "\t<tr><td>2016</td><td>2</td><td>4179</td><td>-4.4 </td><td>4173</td><td>-3.9</td></tr>\n",
       "\t<tr><td>2016</td><td>3</td><td>3624</td><td>-13.3</td><td>4011</td><td>-3.9</td></tr>\n",
       "\t<tr><td>2016</td><td>4</td><td>4097</td><td>13   </td><td>4285</td><td>6.8 </td></tr>\n",
       "\t<tr><td>2016</td><td>5</td><td>4185</td><td>2.2  </td><td>4242</td><td>-1  </td></tr>\n",
       "\t<tr><td>2016</td><td>6</td><td>4089</td><td>-2.3 </td><td>4216</td><td>-0.6</td></tr>\n",
       "</tbody>\n",
       "</table>\n"
      ],
      "text/latex": [
       "A tibble: 6 × 6\n",
       "\\begin{tabular}{r|llllll}\n",
       " Year & Month & Exports & Export\\_change\\_Value & Imports & Import\\_Change\\_Value\\\\\n",
       " <chr> & <dbl> & <chr> & <chr> & <chr> & <chr>\\\\\n",
       "\\hline\n",
       "\t 2016 & 1 & 4370 & 11.1  & 4343 & 2.7 \\\\\n",
       "\t 2016 & 2 & 4179 & -4.4  & 4173 & -3.9\\\\\n",
       "\t 2016 & 3 & 3624 & -13.3 & 4011 & -3.9\\\\\n",
       "\t 2016 & 4 & 4097 & 13    & 4285 & 6.8 \\\\\n",
       "\t 2016 & 5 & 4185 & 2.2   & 4242 & -1  \\\\\n",
       "\t 2016 & 6 & 4089 & -2.3  & 4216 & -0.6\\\\\n",
       "\\end{tabular}\n"
      ],
      "text/markdown": [
       "\n",
       "A tibble: 6 × 6\n",
       "\n",
       "| Year &lt;chr&gt; | Month &lt;dbl&gt; | Exports &lt;chr&gt; | Export_change_Value &lt;chr&gt; | Imports &lt;chr&gt; | Import_Change_Value &lt;chr&gt; |\n",
       "|---|---|---|---|---|---|\n",
       "| 2016 | 1 | 4370 | 11.1  | 4343 | 2.7  |\n",
       "| 2016 | 2 | 4179 | -4.4  | 4173 | -3.9 |\n",
       "| 2016 | 3 | 3624 | -13.3 | 4011 | -3.9 |\n",
       "| 2016 | 4 | 4097 | 13    | 4285 | 6.8  |\n",
       "| 2016 | 5 | 4185 | 2.2   | 4242 | -1   |\n",
       "| 2016 | 6 | 4089 | -2.3  | 4216 | -0.6 |\n",
       "\n"
      ],
      "text/plain": [
       "  Year Month Exports Export_change_Value Imports Import_Change_Value\n",
       "1 2016 1     4370    11.1                4343    2.7                \n",
       "2 2016 2     4179    -4.4                4173    -3.9               \n",
       "3 2016 3     3624    -13.3               4011    -3.9               \n",
       "4 2016 4     4097    13                  4285    6.8                \n",
       "5 2016 5     4185    2.2                 4242    -1                 \n",
       "6 2016 6     4089    -2.3                4216    -0.6               "
      ]
     },
     "metadata": {},
     "output_type": "display_data"
    }
   ],
   "source": [
    "Month_Value <- c(1,2,3,4,5,6,7,8,9,10,11,12)\n",
    "\n",
    "data1 <- new_data_2 %>%\n",
    "select(Row_Number,Year,Month,Exports,Export_change_Value,Imports,Import_Change_Value) %>%\n",
    "filter(Row_Number <29  ) %>%\n",
    "mutate(Year=2016) %>%\n",
    "mutate(Month=Month_Value)\n",
    "\n",
    "data2 <- new_data_2 %>%\n",
    "select(Row_Number,Year,Month,Exports,Export_change_Value,Imports,Import_Change_Value) %>%\n",
    "filter(Row_Number>29 & Row_Number<42) %>%\n",
    "mutate(Year=2017) %>%\n",
    "mutate(Month=Month_Value)\n",
    "\n",
    "data3 <- new_data_2 %>%\n",
    "select(Row_Number,Year,Month,Exports,Export_change_Value,Imports,Import_Change_Value) %>%\n",
    "filter(Row_Number>42 & Row_Number<55) %>%\n",
    "mutate(Year=2018) %>%\n",
    "mutate(Month=Month_Value)\n",
    "\n",
    "data4 <- new_data_2 %>%\n",
    "select(Row_Number,Year,Month,Exports,Export_change_Value,Imports,Import_Change_Value) %>%\n",
    "filter(Row_Number==56) %>%\n",
    "mutate(Month=1)\n",
    "\n",
    "Export_Import_Data <- rbind(data1,data2,data3,data4) %>%\n",
    "select(Year,Month,Exports,Export_change_Value,Imports,Import_Change_Value)\n",
    "head(Export_Import_Data)"
   ]
  },
  {
   "cell_type": "code",
   "execution_count": 28,
   "metadata": {},
   "outputs": [
    {
     "data": {
      "text/html": [
       "<dl class=dl-horizontal>\n",
       "\t<dt>Year</dt>\n",
       "\t\t<dd>'character'</dd>\n",
       "\t<dt>Month</dt>\n",
       "\t\t<dd>'numeric'</dd>\n",
       "\t<dt>Exports</dt>\n",
       "\t\t<dd>'character'</dd>\n",
       "\t<dt>Export_change_Value</dt>\n",
       "\t\t<dd>'character'</dd>\n",
       "\t<dt>Imports</dt>\n",
       "\t\t<dd>'character'</dd>\n",
       "\t<dt>Import_Change_Value</dt>\n",
       "\t\t<dd>'character'</dd>\n",
       "</dl>\n"
      ],
      "text/latex": [
       "\\begin{description*}\n",
       "\\item[Year] 'character'\n",
       "\\item[Month] 'numeric'\n",
       "\\item[Exports] 'character'\n",
       "\\item[Export\\textbackslash{}\\_change\\textbackslash{}\\_Value] 'character'\n",
       "\\item[Imports] 'character'\n",
       "\\item[Import\\textbackslash{}\\_Change\\textbackslash{}\\_Value] 'character'\n",
       "\\end{description*}\n"
      ],
      "text/markdown": [
       "Year\n",
       ":   'character'Month\n",
       ":   'numeric'Exports\n",
       ":   'character'Export_change_Value\n",
       ":   'character'Imports\n",
       ":   'character'Import_Change_Value\n",
       ":   'character'\n",
       "\n"
      ],
      "text/plain": [
       "               Year               Month             Exports Export_change_Value \n",
       "        \"character\"           \"numeric\"         \"character\"         \"character\" \n",
       "            Imports Import_Change_Value \n",
       "        \"character\"         \"character\" "
      ]
     },
     "metadata": {},
     "output_type": "display_data"
    }
   ],
   "source": [
    "sapply(Export_Import_Data,class)"
   ]
  },
  {
   "cell_type": "code",
   "execution_count": 29,
   "metadata": {},
   "outputs": [],
   "source": [
    "Export_Import_Data_tidy <- transform(Export_Import_Data, \n",
    "         Year = round(as.numeric(Year),0) ,                         \n",
    "         Exports = round(as.numeric(Exports),2),\n",
    "         Export_change_Value = round(as.numeric(Export_change_Value),2),\n",
    "         Imports = round(as.numeric(Imports),2),\n",
    "         Import_Change_Value = round(as.numeric(Import_Change_Value),2))"
   ]
  },
  {
   "cell_type": "code",
   "execution_count": 30,
   "metadata": {},
   "outputs": [
    {
     "data": {
      "text/html": [
       "<dl class=dl-horizontal>\n",
       "\t<dt>Year</dt>\n",
       "\t\t<dd>'numeric'</dd>\n",
       "\t<dt>Month</dt>\n",
       "\t\t<dd>'numeric'</dd>\n",
       "\t<dt>Exports</dt>\n",
       "\t\t<dd>'numeric'</dd>\n",
       "\t<dt>Export_change_Value</dt>\n",
       "\t\t<dd>'numeric'</dd>\n",
       "\t<dt>Imports</dt>\n",
       "\t\t<dd>'numeric'</dd>\n",
       "\t<dt>Import_Change_Value</dt>\n",
       "\t\t<dd>'numeric'</dd>\n",
       "</dl>\n"
      ],
      "text/latex": [
       "\\begin{description*}\n",
       "\\item[Year] 'numeric'\n",
       "\\item[Month] 'numeric'\n",
       "\\item[Exports] 'numeric'\n",
       "\\item[Export\\textbackslash{}\\_change\\textbackslash{}\\_Value] 'numeric'\n",
       "\\item[Imports] 'numeric'\n",
       "\\item[Import\\textbackslash{}\\_Change\\textbackslash{}\\_Value] 'numeric'\n",
       "\\end{description*}\n"
      ],
      "text/markdown": [
       "Year\n",
       ":   'numeric'Month\n",
       ":   'numeric'Exports\n",
       ":   'numeric'Export_change_Value\n",
       ":   'numeric'Imports\n",
       ":   'numeric'Import_Change_Value\n",
       ":   'numeric'\n",
       "\n"
      ],
      "text/plain": [
       "               Year               Month             Exports Export_change_Value \n",
       "          \"numeric\"           \"numeric\"           \"numeric\"           \"numeric\" \n",
       "            Imports Import_Change_Value \n",
       "          \"numeric\"           \"numeric\" "
      ]
     },
     "metadata": {},
     "output_type": "display_data"
    }
   ],
   "source": [
    "sapply(Export_Import_Data_tidy,class)"
   ]
  },
  {
   "cell_type": "code",
   "execution_count": 31,
   "metadata": {},
   "outputs": [
    {
     "data": {
      "text/html": [
       "<table>\n",
       "<caption>A data.frame: 37 × 6</caption>\n",
       "<thead>\n",
       "\t<tr><th scope=col>Year</th><th scope=col>Month</th><th scope=col>Exports</th><th scope=col>Export_change_Value</th><th scope=col>Imports</th><th scope=col>Import_Change_Value</th></tr>\n",
       "\t<tr><th scope=col>&lt;dbl&gt;</th><th scope=col>&lt;dbl&gt;</th><th scope=col>&lt;dbl&gt;</th><th scope=col>&lt;dbl&gt;</th><th scope=col>&lt;dbl&gt;</th><th scope=col>&lt;dbl&gt;</th></tr>\n",
       "</thead>\n",
       "<tbody>\n",
       "\t<tr><td>2016</td><td> 1</td><td>4370</td><td> 11.1</td><td>4343</td><td> 2.7</td></tr>\n",
       "\t<tr><td>2016</td><td> 2</td><td>4179</td><td> -4.4</td><td>4173</td><td>-3.9</td></tr>\n",
       "\t<tr><td>2016</td><td> 3</td><td>3624</td><td>-13.3</td><td>4011</td><td>-3.9</td></tr>\n",
       "\t<tr><td>2016</td><td> 4</td><td>4097</td><td> 13.0</td><td>4285</td><td> 6.8</td></tr>\n",
       "\t<tr><td>2016</td><td> 5</td><td>4185</td><td>  2.2</td><td>4242</td><td>-1.0</td></tr>\n",
       "\t<tr><td>2016</td><td> 6</td><td>4089</td><td> -2.3</td><td>4216</td><td>-0.6</td></tr>\n",
       "\t<tr><td>2016</td><td> 7</td><td>3995</td><td> -2.3</td><td>4398</td><td> 4.3</td></tr>\n",
       "\t<tr><td>2016</td><td> 8</td><td>4001</td><td>  0.2</td><td>4343</td><td>-1.3</td></tr>\n",
       "\t<tr><td>2016</td><td> 9</td><td>3870</td><td> -3.3</td><td>4481</td><td> 3.2</td></tr>\n",
       "\t<tr><td>2016</td><td>10</td><td>4222</td><td>  9.1</td><td>4576</td><td> 2.1</td></tr>\n",
       "\t<tr><td>2016</td><td>11</td><td>3778</td><td>-10.5</td><td>4176</td><td>-8.7</td></tr>\n",
       "\t<tr><td>2016</td><td>12</td><td>4030</td><td>  6.7</td><td>4314</td><td> 3.3</td></tr>\n",
       "\t<tr><td>2017</td><td> 1</td><td>4275</td><td>  6.1</td><td>4474</td><td> 3.7</td></tr>\n",
       "\t<tr><td>2017</td><td> 2</td><td>4122</td><td> -3.6</td><td>4560</td><td> 1.9</td></tr>\n",
       "\t<tr><td>2017</td><td> 3</td><td>4134</td><td>  0.3</td><td>4432</td><td>-2.8</td></tr>\n",
       "\t<tr><td>2017</td><td> 4</td><td>4600</td><td> 11.3</td><td>4629</td><td> 4.5</td></tr>\n",
       "\t<tr><td>2017</td><td> 5</td><td>4348</td><td> -5.5</td><td>4717</td><td> 1.9</td></tr>\n",
       "\t<tr><td>2017</td><td> 6</td><td>4460</td><td>  2.6</td><td>4522</td><td>-4.1</td></tr>\n",
       "\t<tr><td>2017</td><td> 7</td><td>4644</td><td>  4.1</td><td>4617</td><td> 2.1</td></tr>\n",
       "\t<tr><td>2017</td><td> 8</td><td>4328</td><td> -6.8</td><td>4523</td><td>-2.0</td></tr>\n",
       "\t<tr><td>2017</td><td> 9</td><td>4374</td><td>  1.1</td><td>4713</td><td> 4.2</td></tr>\n",
       "\t<tr><td>2017</td><td>10</td><td>4650</td><td>  6.3</td><td>5024</td><td> 6.6</td></tr>\n",
       "\t<tr><td>2017</td><td>11</td><td>4621</td><td> -0.6</td><td>5342</td><td> 6.3</td></tr>\n",
       "\t<tr><td>2017</td><td>12</td><td>5208</td><td> 12.7</td><td>5035</td><td>-5.8</td></tr>\n",
       "\t<tr><td>2018</td><td> 1</td><td>4540</td><td>-12.8</td><td>5129</td><td> 1.9</td></tr>\n",
       "\t<tr><td>2018</td><td> 2</td><td>4586</td><td>  1.0</td><td>4793</td><td>-6.6</td></tr>\n",
       "\t<tr><td>2018</td><td> 3</td><td>4467</td><td> -2.6</td><td>5167</td><td> 7.8</td></tr>\n",
       "\t<tr><td>2018</td><td> 4</td><td>4714</td><td>  5.5</td><td>5180</td><td> 0.3</td></tr>\n",
       "\t<tr><td>2018</td><td> 5</td><td>4668</td><td> -1.0</td><td>4936</td><td>-4.7</td></tr>\n",
       "\t<tr><td>2018</td><td> 6</td><td>4772</td><td>  2.2</td><td>5430</td><td>10.0</td></tr>\n",
       "\t<tr><td>2018</td><td> 7</td><td>5068</td><td>  6.2</td><td>5447</td><td> 0.3</td></tr>\n",
       "\t<tr><td>2018</td><td> 8</td><td>4767</td><td> -5.9</td><td>5268</td><td>-3.3</td></tr>\n",
       "\t<tr><td>2018</td><td> 9</td><td>5133</td><td>  7.7</td><td>5764</td><td> 9.4</td></tr>\n",
       "\t<tr><td>2018</td><td>10</td><td>4772</td><td> -7.0</td><td>5484</td><td>-4.8</td></tr>\n",
       "\t<tr><td>2018</td><td>11</td><td>4871</td><td>  2.1</td><td>5351</td><td>-2.4</td></tr>\n",
       "\t<tr><td>2018</td><td>12</td><td>5043</td><td>  3.5</td><td>5418</td><td> 1.3</td></tr>\n",
       "\t<tr><td>2019</td><td> 1</td><td>4650</td><td> -7.8</td><td>5441</td><td> 0.4</td></tr>\n",
       "</tbody>\n",
       "</table>\n"
      ],
      "text/latex": [
       "A data.frame: 37 × 6\n",
       "\\begin{tabular}{r|llllll}\n",
       " Year & Month & Exports & Export\\_change\\_Value & Imports & Import\\_Change\\_Value\\\\\n",
       " <dbl> & <dbl> & <dbl> & <dbl> & <dbl> & <dbl>\\\\\n",
       "\\hline\n",
       "\t 2016 &  1 & 4370 &  11.1 & 4343 &  2.7\\\\\n",
       "\t 2016 &  2 & 4179 &  -4.4 & 4173 & -3.9\\\\\n",
       "\t 2016 &  3 & 3624 & -13.3 & 4011 & -3.9\\\\\n",
       "\t 2016 &  4 & 4097 &  13.0 & 4285 &  6.8\\\\\n",
       "\t 2016 &  5 & 4185 &   2.2 & 4242 & -1.0\\\\\n",
       "\t 2016 &  6 & 4089 &  -2.3 & 4216 & -0.6\\\\\n",
       "\t 2016 &  7 & 3995 &  -2.3 & 4398 &  4.3\\\\\n",
       "\t 2016 &  8 & 4001 &   0.2 & 4343 & -1.3\\\\\n",
       "\t 2016 &  9 & 3870 &  -3.3 & 4481 &  3.2\\\\\n",
       "\t 2016 & 10 & 4222 &   9.1 & 4576 &  2.1\\\\\n",
       "\t 2016 & 11 & 3778 & -10.5 & 4176 & -8.7\\\\\n",
       "\t 2016 & 12 & 4030 &   6.7 & 4314 &  3.3\\\\\n",
       "\t 2017 &  1 & 4275 &   6.1 & 4474 &  3.7\\\\\n",
       "\t 2017 &  2 & 4122 &  -3.6 & 4560 &  1.9\\\\\n",
       "\t 2017 &  3 & 4134 &   0.3 & 4432 & -2.8\\\\\n",
       "\t 2017 &  4 & 4600 &  11.3 & 4629 &  4.5\\\\\n",
       "\t 2017 &  5 & 4348 &  -5.5 & 4717 &  1.9\\\\\n",
       "\t 2017 &  6 & 4460 &   2.6 & 4522 & -4.1\\\\\n",
       "\t 2017 &  7 & 4644 &   4.1 & 4617 &  2.1\\\\\n",
       "\t 2017 &  8 & 4328 &  -6.8 & 4523 & -2.0\\\\\n",
       "\t 2017 &  9 & 4374 &   1.1 & 4713 &  4.2\\\\\n",
       "\t 2017 & 10 & 4650 &   6.3 & 5024 &  6.6\\\\\n",
       "\t 2017 & 11 & 4621 &  -0.6 & 5342 &  6.3\\\\\n",
       "\t 2017 & 12 & 5208 &  12.7 & 5035 & -5.8\\\\\n",
       "\t 2018 &  1 & 4540 & -12.8 & 5129 &  1.9\\\\\n",
       "\t 2018 &  2 & 4586 &   1.0 & 4793 & -6.6\\\\\n",
       "\t 2018 &  3 & 4467 &  -2.6 & 5167 &  7.8\\\\\n",
       "\t 2018 &  4 & 4714 &   5.5 & 5180 &  0.3\\\\\n",
       "\t 2018 &  5 & 4668 &  -1.0 & 4936 & -4.7\\\\\n",
       "\t 2018 &  6 & 4772 &   2.2 & 5430 & 10.0\\\\\n",
       "\t 2018 &  7 & 5068 &   6.2 & 5447 &  0.3\\\\\n",
       "\t 2018 &  8 & 4767 &  -5.9 & 5268 & -3.3\\\\\n",
       "\t 2018 &  9 & 5133 &   7.7 & 5764 &  9.4\\\\\n",
       "\t 2018 & 10 & 4772 &  -7.0 & 5484 & -4.8\\\\\n",
       "\t 2018 & 11 & 4871 &   2.1 & 5351 & -2.4\\\\\n",
       "\t 2018 & 12 & 5043 &   3.5 & 5418 &  1.3\\\\\n",
       "\t 2019 &  1 & 4650 &  -7.8 & 5441 &  0.4\\\\\n",
       "\\end{tabular}\n"
      ],
      "text/markdown": [
       "\n",
       "A data.frame: 37 × 6\n",
       "\n",
       "| Year &lt;dbl&gt; | Month &lt;dbl&gt; | Exports &lt;dbl&gt; | Export_change_Value &lt;dbl&gt; | Imports &lt;dbl&gt; | Import_Change_Value &lt;dbl&gt; |\n",
       "|---|---|---|---|---|---|\n",
       "| 2016 |  1 | 4370 |  11.1 | 4343 |  2.7 |\n",
       "| 2016 |  2 | 4179 |  -4.4 | 4173 | -3.9 |\n",
       "| 2016 |  3 | 3624 | -13.3 | 4011 | -3.9 |\n",
       "| 2016 |  4 | 4097 |  13.0 | 4285 |  6.8 |\n",
       "| 2016 |  5 | 4185 |   2.2 | 4242 | -1.0 |\n",
       "| 2016 |  6 | 4089 |  -2.3 | 4216 | -0.6 |\n",
       "| 2016 |  7 | 3995 |  -2.3 | 4398 |  4.3 |\n",
       "| 2016 |  8 | 4001 |   0.2 | 4343 | -1.3 |\n",
       "| 2016 |  9 | 3870 |  -3.3 | 4481 |  3.2 |\n",
       "| 2016 | 10 | 4222 |   9.1 | 4576 |  2.1 |\n",
       "| 2016 | 11 | 3778 | -10.5 | 4176 | -8.7 |\n",
       "| 2016 | 12 | 4030 |   6.7 | 4314 |  3.3 |\n",
       "| 2017 |  1 | 4275 |   6.1 | 4474 |  3.7 |\n",
       "| 2017 |  2 | 4122 |  -3.6 | 4560 |  1.9 |\n",
       "| 2017 |  3 | 4134 |   0.3 | 4432 | -2.8 |\n",
       "| 2017 |  4 | 4600 |  11.3 | 4629 |  4.5 |\n",
       "| 2017 |  5 | 4348 |  -5.5 | 4717 |  1.9 |\n",
       "| 2017 |  6 | 4460 |   2.6 | 4522 | -4.1 |\n",
       "| 2017 |  7 | 4644 |   4.1 | 4617 |  2.1 |\n",
       "| 2017 |  8 | 4328 |  -6.8 | 4523 | -2.0 |\n",
       "| 2017 |  9 | 4374 |   1.1 | 4713 |  4.2 |\n",
       "| 2017 | 10 | 4650 |   6.3 | 5024 |  6.6 |\n",
       "| 2017 | 11 | 4621 |  -0.6 | 5342 |  6.3 |\n",
       "| 2017 | 12 | 5208 |  12.7 | 5035 | -5.8 |\n",
       "| 2018 |  1 | 4540 | -12.8 | 5129 |  1.9 |\n",
       "| 2018 |  2 | 4586 |   1.0 | 4793 | -6.6 |\n",
       "| 2018 |  3 | 4467 |  -2.6 | 5167 |  7.8 |\n",
       "| 2018 |  4 | 4714 |   5.5 | 5180 |  0.3 |\n",
       "| 2018 |  5 | 4668 |  -1.0 | 4936 | -4.7 |\n",
       "| 2018 |  6 | 4772 |   2.2 | 5430 | 10.0 |\n",
       "| 2018 |  7 | 5068 |   6.2 | 5447 |  0.3 |\n",
       "| 2018 |  8 | 4767 |  -5.9 | 5268 | -3.3 |\n",
       "| 2018 |  9 | 5133 |   7.7 | 5764 |  9.4 |\n",
       "| 2018 | 10 | 4772 |  -7.0 | 5484 | -4.8 |\n",
       "| 2018 | 11 | 4871 |   2.1 | 5351 | -2.4 |\n",
       "| 2018 | 12 | 5043 |   3.5 | 5418 |  1.3 |\n",
       "| 2019 |  1 | 4650 |  -7.8 | 5441 |  0.4 |\n",
       "\n"
      ],
      "text/plain": [
       "   Year Month Exports Export_change_Value Imports Import_Change_Value\n",
       "1  2016  1    4370     11.1               4343     2.7               \n",
       "2  2016  2    4179     -4.4               4173    -3.9               \n",
       "3  2016  3    3624    -13.3               4011    -3.9               \n",
       "4  2016  4    4097     13.0               4285     6.8               \n",
       "5  2016  5    4185      2.2               4242    -1.0               \n",
       "6  2016  6    4089     -2.3               4216    -0.6               \n",
       "7  2016  7    3995     -2.3               4398     4.3               \n",
       "8  2016  8    4001      0.2               4343    -1.3               \n",
       "9  2016  9    3870     -3.3               4481     3.2               \n",
       "10 2016 10    4222      9.1               4576     2.1               \n",
       "11 2016 11    3778    -10.5               4176    -8.7               \n",
       "12 2016 12    4030      6.7               4314     3.3               \n",
       "13 2017  1    4275      6.1               4474     3.7               \n",
       "14 2017  2    4122     -3.6               4560     1.9               \n",
       "15 2017  3    4134      0.3               4432    -2.8               \n",
       "16 2017  4    4600     11.3               4629     4.5               \n",
       "17 2017  5    4348     -5.5               4717     1.9               \n",
       "18 2017  6    4460      2.6               4522    -4.1               \n",
       "19 2017  7    4644      4.1               4617     2.1               \n",
       "20 2017  8    4328     -6.8               4523    -2.0               \n",
       "21 2017  9    4374      1.1               4713     4.2               \n",
       "22 2017 10    4650      6.3               5024     6.6               \n",
       "23 2017 11    4621     -0.6               5342     6.3               \n",
       "24 2017 12    5208     12.7               5035    -5.8               \n",
       "25 2018  1    4540    -12.8               5129     1.9               \n",
       "26 2018  2    4586      1.0               4793    -6.6               \n",
       "27 2018  3    4467     -2.6               5167     7.8               \n",
       "28 2018  4    4714      5.5               5180     0.3               \n",
       "29 2018  5    4668     -1.0               4936    -4.7               \n",
       "30 2018  6    4772      2.2               5430    10.0               \n",
       "31 2018  7    5068      6.2               5447     0.3               \n",
       "32 2018  8    4767     -5.9               5268    -3.3               \n",
       "33 2018  9    5133      7.7               5764     9.4               \n",
       "34 2018 10    4772     -7.0               5484    -4.8               \n",
       "35 2018 11    4871      2.1               5351    -2.4               \n",
       "36 2018 12    5043      3.5               5418     1.3               \n",
       "37 2019  1    4650     -7.8               5441     0.4               "
      ]
     },
     "metadata": {},
     "output_type": "display_data"
    }
   ],
   "source": [
    "Export_Import_Data_tidy"
   ]
  },
  {
   "cell_type": "code",
   "execution_count": null,
   "metadata": {},
   "outputs": [],
   "source": []
  }
 ],
 "metadata": {
  "kernelspec": {
   "display_name": "R",
   "language": "R",
   "name": "ir"
  },
  "language_info": {
   "codemirror_mode": "r",
   "file_extension": ".r",
   "mimetype": "text/x-r-source",
   "name": "R",
   "pygments_lexer": "r",
   "version": "3.6.1"
  }
 },
 "nbformat": 4,
 "nbformat_minor": 4
}
