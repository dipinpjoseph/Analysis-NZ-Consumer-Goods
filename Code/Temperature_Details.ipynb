{
 "cells": [
  {
   "cell_type": "code",
   "execution_count": 1,
   "metadata": {},
   "outputs": [
    {
     "name": "stderr",
     "output_type": "stream",
     "text": [
      "-- \u001b[1mAttaching packages\u001b[22m --------------------------------------- tidyverse 1.2.1 --\n",
      "\u001b[32mv\u001b[39m \u001b[34mggplot2\u001b[39m 3.2.0     \u001b[32mv\u001b[39m \u001b[34mpurrr  \u001b[39m 0.3.2\n",
      "\u001b[32mv\u001b[39m \u001b[34mtibble \u001b[39m 2.1.3     \u001b[32mv\u001b[39m \u001b[34mdplyr  \u001b[39m 0.8.3\n",
      "\u001b[32mv\u001b[39m \u001b[34mtidyr  \u001b[39m 0.8.3     \u001b[32mv\u001b[39m \u001b[34mstringr\u001b[39m 1.4.0\n",
      "\u001b[32mv\u001b[39m \u001b[34mreadr  \u001b[39m 1.3.1     \u001b[32mv\u001b[39m \u001b[34mforcats\u001b[39m 0.4.0\n",
      "-- \u001b[1mConflicts\u001b[22m ------------------------------------------ tidyverse_conflicts() --\n",
      "\u001b[31mx\u001b[39m \u001b[34mdplyr\u001b[39m::\u001b[32mfilter()\u001b[39m masks \u001b[34mstats\u001b[39m::filter()\n",
      "\u001b[31mx\u001b[39m \u001b[34mdplyr\u001b[39m::\u001b[32mlag()\u001b[39m    masks \u001b[34mstats\u001b[39m::lag()\n",
      "\n",
      "Attaching package: 'magrittr'\n",
      "\n",
      "The following object is masked from 'package:purrr':\n",
      "\n",
      "    set_names\n",
      "\n",
      "The following object is masked from 'package:tidyr':\n",
      "\n",
      "    extract\n",
      "\n",
      "\n",
      "Attaching package: 'glue'\n",
      "\n",
      "The following object is masked from 'package:dplyr':\n",
      "\n",
      "    collapse\n",
      "\n",
      "Loading required package: xml2\n",
      "\n",
      "Attaching package: 'rvest'\n",
      "\n",
      "The following object is masked from 'package:purrr':\n",
      "\n",
      "    pluck\n",
      "\n",
      "The following object is masked from 'package:readr':\n",
      "\n",
      "    guess_encoding\n",
      "\n"
     ]
    }
   ],
   "source": [
    "#Loading Libraries\n",
    "library(tidyverse)\n",
    "library(magrittr) # better handling of pipes\n",
    "library(purrr) # to work with lists and map functions\n",
    "library(glue) # to paste strings\n",
    "library(stringr) # to hand strings\n",
    "library(rvest) # rvest makes scraping easier\n",
    "library(polite) # polite is the \"polite\" version of rvest"
   ]
  },
  {
   "cell_type": "code",
   "execution_count": 9,
   "metadata": {},
   "outputs": [
    {
     "data": {
      "text/html": [
       "<table>\n",
       "<caption>A data.frame: 4 × 13</caption>\n",
       "<thead>\n",
       "\t<tr><th scope=col>Temperature</th><th scope=col>Jan</th><th scope=col>Feb</th><th scope=col>Mar</th><th scope=col>Apr</th><th scope=col>May</th><th scope=col>Jun</th><th scope=col>Jul</th><th scope=col>Aug</th><th scope=col>Sep</th><th scope=col>Oct</th><th scope=col>Nov</th><th scope=col>Dec</th></tr>\n",
       "\t<tr><th scope=col>&lt;chr&gt;</th><th scope=col>&lt;int&gt;</th><th scope=col>&lt;int&gt;</th><th scope=col>&lt;int&gt;</th><th scope=col>&lt;int&gt;</th><th scope=col>&lt;int&gt;</th><th scope=col>&lt;int&gt;</th><th scope=col>&lt;int&gt;</th><th scope=col>&lt;int&gt;</th><th scope=col>&lt;int&gt;</th><th scope=col>&lt;int&gt;</th><th scope=col>&lt;int&gt;</th><th scope=col>&lt;int&gt;</th></tr>\n",
       "</thead>\n",
       "<tbody>\n",
       "\t<tr><td>Min (°C)</td><td>16</td><td>17</td><td>15</td><td>13</td><td>11</td><td> 8</td><td> 8</td><td> 8</td><td>10</td><td>11</td><td>13</td><td>15</td></tr>\n",
       "\t<tr><td>Max (°C)</td><td>24</td><td>24</td><td>23</td><td>20</td><td>17</td><td>15</td><td>14</td><td>15</td><td>16</td><td>18</td><td>20</td><td>22</td></tr>\n",
       "\t<tr><td>Min (°F)</td><td>61</td><td>63</td><td>59</td><td>55</td><td>52</td><td>46</td><td>46</td><td>46</td><td>50</td><td>52</td><td>55</td><td>59</td></tr>\n",
       "\t<tr><td>Max (°F)</td><td>75</td><td>75</td><td>73</td><td>68</td><td>63</td><td>59</td><td>57</td><td>59</td><td>61</td><td>64</td><td>68</td><td>72</td></tr>\n",
       "</tbody>\n",
       "</table>\n"
      ],
      "text/latex": [
       "A data.frame: 4 × 13\n",
       "\\begin{tabular}{r|lllllllllllll}\n",
       " Temperature & Jan & Feb & Mar & Apr & May & Jun & Jul & Aug & Sep & Oct & Nov & Dec\\\\\n",
       " <chr> & <int> & <int> & <int> & <int> & <int> & <int> & <int> & <int> & <int> & <int> & <int> & <int>\\\\\n",
       "\\hline\n",
       "\t Min (°C) & 16 & 17 & 15 & 13 & 11 &  8 &  8 &  8 & 10 & 11 & 13 & 15\\\\\n",
       "\t Max (°C) & 24 & 24 & 23 & 20 & 17 & 15 & 14 & 15 & 16 & 18 & 20 & 22\\\\\n",
       "\t Min (°F) & 61 & 63 & 59 & 55 & 52 & 46 & 46 & 46 & 50 & 52 & 55 & 59\\\\\n",
       "\t Max (°F) & 75 & 75 & 73 & 68 & 63 & 59 & 57 & 59 & 61 & 64 & 68 & 72\\\\\n",
       "\\end{tabular}\n"
      ],
      "text/markdown": [
       "\n",
       "A data.frame: 4 × 13\n",
       "\n",
       "| Temperature &lt;chr&gt; | Jan &lt;int&gt; | Feb &lt;int&gt; | Mar &lt;int&gt; | Apr &lt;int&gt; | May &lt;int&gt; | Jun &lt;int&gt; | Jul &lt;int&gt; | Aug &lt;int&gt; | Sep &lt;int&gt; | Oct &lt;int&gt; | Nov &lt;int&gt; | Dec &lt;int&gt; |\n",
       "|---|---|---|---|---|---|---|---|---|---|---|---|---|\n",
       "| Min (°C) | 16 | 17 | 15 | 13 | 11 |  8 |  8 |  8 | 10 | 11 | 13 | 15 |\n",
       "| Max (°C) | 24 | 24 | 23 | 20 | 17 | 15 | 14 | 15 | 16 | 18 | 20 | 22 |\n",
       "| Min (°F) | 61 | 63 | 59 | 55 | 52 | 46 | 46 | 46 | 50 | 52 | 55 | 59 |\n",
       "| Max (°F) | 75 | 75 | 73 | 68 | 63 | 59 | 57 | 59 | 61 | 64 | 68 | 72 |\n",
       "\n"
      ],
      "text/plain": [
       "  Temperature Jan Feb Mar Apr May Jun Jul Aug Sep Oct Nov Dec\n",
       "1 Min (°C)    16  17  15  13  11   8   8   8  10  11  13  15 \n",
       "2 Max (°C)    24  24  23  20  17  15  14  15  16  18  20  22 \n",
       "3 Min (°F)    61  63  59  55  52  46  46  46  50  52  55  59 \n",
       "4 Max (°F)    75  75  73  68  63  59  57  59  61  64  68  72 "
      ]
     },
     "metadata": {},
     "output_type": "display_data"
    }
   ],
   "source": [
    "\n",
    "url <- \"https://www.climatestotravel.com/climate/new-zealand\"  # this is the base url from where the scraping starts\n",
    "seasonality <- read_html(url) %>%\n",
    "              html_table() # Reading and parsing the html of given webpage\n",
    "\n",
    "seasonality_details <-data.frame(seasonality[1]) %>%\n",
    "                      rename(Temperature=Month)\n",
    "                      seasonality_details"
   ]
  },
  {
   "cell_type": "code",
   "execution_count": null,
   "metadata": {},
   "outputs": [],
   "source": []
  }
 ],
 "metadata": {
  "kernelspec": {
   "display_name": "R",
   "language": "R",
   "name": "ir"
  },
  "language_info": {
   "codemirror_mode": "r",
   "file_extension": ".r",
   "mimetype": "text/x-r-source",
   "name": "R",
   "pygments_lexer": "r",
   "version": "3.6.1"
  }
 },
 "nbformat": 4,
 "nbformat_minor": 4
}
