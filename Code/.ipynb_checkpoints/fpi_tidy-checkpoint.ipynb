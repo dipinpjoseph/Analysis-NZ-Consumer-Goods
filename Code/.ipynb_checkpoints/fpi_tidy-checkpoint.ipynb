{
 "cells": [
  {
   "cell_type": "code",
   "execution_count": 1,
   "metadata": {},
   "outputs": [
    {
     "name": "stderr",
     "output_type": "stream",
     "text": [
      "── \u001b[1mAttaching packages\u001b[22m ─────────────────────────────────────── tidyverse 1.2.1 ──\n",
      "\n",
      "\u001b[32m✔\u001b[39m \u001b[34mggplot2\u001b[39m 3.2.1     \u001b[32m✔\u001b[39m \u001b[34mpurrr  \u001b[39m 0.3.2\n",
      "\u001b[32m✔\u001b[39m \u001b[34mtibble \u001b[39m 2.1.3     \u001b[32m✔\u001b[39m \u001b[34mdplyr  \u001b[39m 0.8.3\n",
      "\u001b[32m✔\u001b[39m \u001b[34mtidyr  \u001b[39m 1.0.0     \u001b[32m✔\u001b[39m \u001b[34mstringr\u001b[39m 1.4.0\n",
      "\u001b[32m✔\u001b[39m \u001b[34mreadr  \u001b[39m 1.3.1     \u001b[32m✔\u001b[39m \u001b[34mforcats\u001b[39m 0.4.0\n",
      "\n",
      "── \u001b[1mConflicts\u001b[22m ────────────────────────────────────────── tidyverse_conflicts() ──\n",
      "\u001b[31m✖\u001b[39m \u001b[34mdplyr\u001b[39m::\u001b[32mfilter()\u001b[39m masks \u001b[34mstats\u001b[39m::filter()\n",
      "\u001b[31m✖\u001b[39m \u001b[34mdplyr\u001b[39m::\u001b[32mlag()\u001b[39m    masks \u001b[34mstats\u001b[39m::lag()\n",
      "\n"
     ]
    }
   ],
   "source": [
    "library(tidyverse)"
   ]
  },
  {
   "cell_type": "code",
   "execution_count": 2,
   "metadata": {},
   "outputs": [
    {
     "name": "stderr",
     "output_type": "stream",
     "text": [
      "Warning message:\n",
      "“Missing column names filled in: 'X2' [2], 'X3' [3], 'X4' [4], 'X5' [5], 'X6' [6], 'X7' [7], 'X8' [8], 'X9' [9], 'X10' [10], 'X11' [11], 'X12' [12], 'X13' [13], 'X14' [14], 'X15' [15], 'X16' [16], 'X17' [17], 'X18' [18], 'X19' [19], 'X20' [20], 'X21' [21], 'X22' [22], 'X23' [23], 'X24' [24], 'X25' [25], 'X26' [26], 'X27' [27], 'X28' [28], 'X29' [29], 'X30' [30], 'X31' [31], 'X32' [32], 'X33' [33], 'X34' [34], 'X35' [35], 'X36' [36], 'X37' [37], 'X38' [38], 'X39' [39], 'X40' [40], 'X41' [41], 'X42' [42], 'X43' [43], 'X44' [44], 'X45' [45], 'X46' [46], 'X47' [47], 'X48' [48], 'X49' [49], 'X50' [50], 'X51' [51], 'X52' [52], 'X53' [53], 'X54' [54], 'X55' [55], 'X56' [56], 'X57' [57], 'X58' [58], 'X59' [59], 'X60' [60], 'X61' [61], 'X62' [62], 'X63' [63], 'X64' [64], 'X65' [65], 'X66' [66], 'X67' [67], 'X68' [68], 'X69' [69], 'X70' [70], 'X71' [71], 'X72' [72], 'X73' [73], 'X74' [74], 'X75' [75], 'X76' [76], 'X77' [77], 'X78' [78], 'X79' [79], 'X80' [80], 'X81' [81], 'X82' [82], 'X83' [83], 'X84' [84], 'X85' [85], 'X86' [86], 'X87' [87], 'X88' [88], 'X89' [89], 'X90' [90], 'X91' [91], 'X92' [92], 'X93' [93], 'X94' [94], 'X95' [95], 'X96' [96], 'X97' [97], 'X98' [98], 'X99' [99], 'X100' [100], 'X101' [101], 'X102' [102], 'X103' [103], 'X104' [104], 'X105' [105], 'X106' [106], 'X107' [107], 'X108' [108], 'X109' [109], 'X110' [110], 'X111' [111], 'X112' [112], 'X113' [113], 'X114' [114], 'X115' [115], 'X116' [116], 'X117' [117], 'X118' [118], 'X119' [119], 'X120' [120], 'X121' [121], 'X122' [122], 'X123' [123], 'X124' [124], 'X125' [125], 'X126' [126], 'X127' [127], 'X128' [128], 'X129' [129], 'X130' [130], 'X131' [131], 'X132' [132], 'X133' [133], 'X134' [134], 'X135' [135], 'X136' [136], 'X137' [137], 'X138' [138], 'X139' [139], 'X140' [140], 'X141' [141], 'X142' [142], 'X143' [143], 'X144' [144], 'X145' [145], 'X146' [146], 'X147' [147], 'X148' [148], 'X149' [149], 'X150' [150], 'X151' [151], 'X152' [152], 'X153' [153], 'X154' [154], 'X155' [155], 'X156' [156], 'X157' [157], 'X158' [158], 'X159' [159], 'X160' [160], 'X161' [161], 'X162' [162], 'X163' [163], 'X164' [164], 'X165' [165], 'X166' [166]”\n",
      "Parsed with column specification:\n",
      "cols(\n",
      "  .default = col_character()\n",
      ")\n",
      "\n",
      "See spec(...) for full column specifications.\n",
      "\n"
     ]
    }
   ],
   "source": [
    "fpi <- read_csv(\"../DataSets/Food_Price_Index_Selected_Monthly_Weighted_Average_Prices_for_New_Zealand_Monthly_June_2019.csv\")\n"
   ]
  },
  {
   "cell_type": "code",
   "execution_count": 3,
   "metadata": {},
   "outputs": [],
   "source": [
    "# https://stackoverflow.com/a/12328064\n",
    "\n",
    "fpi <- fpi[-c(1, 3, 4), ]"
   ]
  },
  {
   "cell_type": "code",
   "execution_count": 4,
   "metadata": {},
   "outputs": [
    {
     "data": {
      "text/html": [
       "<table>\n",
       "<caption>A tibble: 6 × 166</caption>\n",
       "<thead>\n",
       "\t<tr><th scope=col>Food Price Index Selected Monthly Weighted Average Prices for New Zealand (Monthly)</th><th scope=col>X2</th><th scope=col>X3</th><th scope=col>X4</th><th scope=col>X5</th><th scope=col>X6</th><th scope=col>X7</th><th scope=col>X8</th><th scope=col>X9</th><th scope=col>X10</th><th scope=col>⋯</th><th scope=col>X157</th><th scope=col>X158</th><th scope=col>X159</th><th scope=col>X160</th><th scope=col>X161</th><th scope=col>X162</th><th scope=col>X163</th><th scope=col>X164</th><th scope=col>X165</th><th scope=col>X166</th></tr>\n",
       "\t<tr><th scope=col>&lt;chr&gt;</th><th scope=col>&lt;chr&gt;</th><th scope=col>&lt;chr&gt;</th><th scope=col>&lt;chr&gt;</th><th scope=col>&lt;chr&gt;</th><th scope=col>&lt;chr&gt;</th><th scope=col>&lt;chr&gt;</th><th scope=col>&lt;chr&gt;</th><th scope=col>&lt;chr&gt;</th><th scope=col>&lt;chr&gt;</th><th scope=col>⋯</th><th scope=col>&lt;chr&gt;</th><th scope=col>&lt;chr&gt;</th><th scope=col>&lt;chr&gt;</th><th scope=col>&lt;chr&gt;</th><th scope=col>&lt;chr&gt;</th><th scope=col>&lt;chr&gt;</th><th scope=col>&lt;chr&gt;</th><th scope=col>&lt;chr&gt;</th><th scope=col>&lt;chr&gt;</th><th scope=col>&lt;chr&gt;</th></tr>\n",
       "</thead>\n",
       "<tbody>\n",
       "\t<tr><td>Item   </td><td>Oranges</td><td>Bananas</td><td>Apples</td><td>Kiwifruit</td><td>Sultanas</td><td>Canned peaches</td><td>Lettuce</td><td>Broccoli</td><td>Cabbage</td><td>⋯</td><td>Fresh herbs (packaged and chilled)</td><td>Jar of olives</td><td>Tea bags</td><td>Fresh or frozen pizza</td><td>Margarine</td><td>Mayonnaise</td><td>Dried mixed herbs</td><td>Salted blanched peanuts</td><td>Sliced or shaved ham</td><td>Chewing gum</td></tr>\n",
       "\t<tr><td>2006M06</td><td>3.11   </td><td>1.66   </td><td>1.89  </td><td>1.73     </td><td>1.49    </td><td>1.59          </td><td>6.81   </td><td>7.03    </td><td>1.25   </td><td>⋯</td><td>..                                </td><td>..           </td><td>..      </td><td>5.17                 </td><td>1.96     </td><td>3.17      </td><td>1.88             </td><td>2.38                   </td><td>15.35               </td><td>..         </td></tr>\n",
       "\t<tr><td>2006M07</td><td>2.78   </td><td>1.59   </td><td>2.01  </td><td>1.82     </td><td>1.5     </td><td>1.65          </td><td>8.49   </td><td>8.68    </td><td>2.38   </td><td>⋯</td><td>..                                </td><td>..           </td><td>..      </td><td>4.98                 </td><td>2.02     </td><td>3.19      </td><td>1.99             </td><td>2.26                   </td><td>15.47               </td><td>..         </td></tr>\n",
       "\t<tr><td>2006M08</td><td>2.43   </td><td>1.83   </td><td>2.15  </td><td>1.92     </td><td>1.53    </td><td>1.6           </td><td>4.7    </td><td>6.45    </td><td>2.4    </td><td>⋯</td><td>..                                </td><td>..           </td><td>..      </td><td>5                    </td><td>2.12     </td><td>3.17      </td><td>2.02             </td><td>2.37                   </td><td>15                  </td><td>..         </td></tr>\n",
       "\t<tr><td>2006M09</td><td>2.42   </td><td>2.32   </td><td>2.26  </td><td>1.99     </td><td>1.57    </td><td>1.48          </td><td>4.04   </td><td>8.01    </td><td>2.04   </td><td>⋯</td><td>..                                </td><td>..           </td><td>..      </td><td>4.64                 </td><td>2        </td><td>3.09      </td><td>2.04             </td><td>2.43                   </td><td>15.26               </td><td>..         </td></tr>\n",
       "\t<tr><td>2006M10</td><td>3.04   </td><td>2.48   </td><td>2.63  </td><td>1.74     </td><td>1.56    </td><td>1.54          </td><td>2.46   </td><td>6.5     </td><td>2.51   </td><td>⋯</td><td>..                                </td><td>..           </td><td>..      </td><td>4.52                 </td><td>2.07     </td><td>2.92      </td><td>2.01             </td><td>2.38                   </td><td>15.5                </td><td>..         </td></tr>\n",
       "</tbody>\n",
       "</table>\n"
      ],
      "text/latex": [
       "A tibble: 6 × 166\n",
       "\\begin{tabular}{r|llllllllllllllllllllllllllllllllllllllllllllllllllllllllllllllllllllllllllllllllllllllllllllllllllllllllllllllllllllllllllllllllllllllllllllllllllllllllllllllllllllll}\n",
       " Food Price Index Selected Monthly Weighted Average Prices for New Zealand (Monthly) & X2 & X3 & X4 & X5 & X6 & X7 & X8 & X9 & X10 & X11 & X12 & X13 & X14 & X15 & X16 & X17 & X18 & X19 & X20 & X21 & X22 & X23 & X24 & X25 & X26 & X27 & X28 & X29 & X30 & X31 & X32 & X33 & X34 & X35 & X36 & X37 & X38 & X39 & X40 & X41 & X42 & X43 & X44 & X45 & X46 & X47 & X48 & X49 & X50 & X51 & X52 & X53 & X54 & X55 & X56 & X57 & X58 & X59 & X60 & X61 & X62 & X63 & X64 & X65 & X66 & X67 & X68 & X69 & X70 & X71 & X72 & X73 & X74 & X75 & X76 & X77 & X78 & X79 & X80 & X81 & X82 & X83 & X84 & X85 & X86 & X87 & X88 & X89 & X90 & X91 & X92 & X93 & X94 & X95 & X96 & X97 & X98 & X99 & X100 & X101 & X102 & X103 & X104 & X105 & X106 & X107 & X108 & X109 & X110 & X111 & X112 & X113 & X114 & X115 & X116 & X117 & X118 & X119 & X120 & X121 & X122 & X123 & X124 & X125 & X126 & X127 & X128 & X129 & X130 & X131 & X132 & X133 & X134 & X135 & X136 & X137 & X138 & X139 & X140 & X141 & X142 & X143 & X144 & X145 & X146 & X147 & X148 & X149 & X150 & X151 & X152 & X153 & X154 & X155 & X156 & X157 & X158 & X159 & X160 & X161 & X162 & X163 & X164 & X165 & X166\\\\\n",
       " <chr> & <chr> & <chr> & <chr> & <chr> & <chr> & <chr> & <chr> & <chr> & <chr> & <chr> & <chr> & <chr> & <chr> & <chr> & <chr> & <chr> & <chr> & <chr> & <chr> & <chr> & <chr> & <chr> & <chr> & <chr> & <chr> & <chr> & <chr> & <chr> & <chr> & <chr> & <chr> & <chr> & <chr> & <chr> & <chr> & <chr> & <chr> & <chr> & <chr> & <chr> & <chr> & <chr> & <chr> & <chr> & <chr> & <chr> & <chr> & <chr> & <chr> & <chr> & <chr> & <chr> & <chr> & <chr> & <chr> & <chr> & <chr> & <chr> & <chr> & <chr> & <chr> & <chr> & <chr> & <chr> & <chr> & <chr> & <chr> & <chr> & <chr> & <chr> & <chr> & <chr> & <chr> & <chr> & <chr> & <chr> & <chr> & <chr> & <chr> & <chr> & <chr> & <chr> & <chr> & <chr> & <chr> & <chr> & <chr> & <chr> & <chr> & <chr> & <chr> & <chr> & <chr> & <chr> & <chr> & <chr> & <chr> & <chr> & <chr> & <chr> & <chr> & <chr> & <chr> & <chr> & <chr> & <chr> & <chr> & <chr> & <chr> & <chr> & <chr> & <chr> & <chr> & <chr> & <chr> & <chr> & <chr> & <chr> & <chr> & <chr> & <chr> & <chr> & <chr> & <chr> & <chr> & <chr> & <chr> & <chr> & <chr> & <chr> & <chr> & <chr> & <chr> & <chr> & <chr> & <chr> & <chr> & <chr> & <chr> & <chr> & <chr> & <chr> & <chr> & <chr> & <chr> & <chr> & <chr> & <chr> & <chr> & <chr> & <chr> & <chr> & <chr> & <chr> & <chr> & <chr> & <chr> & <chr> & <chr> & <chr> & <chr> & <chr> & <chr> & <chr> & <chr>\\\\\n",
       "\\hline\n",
       "\t Item    & Oranges & Bananas & Apples & Kiwifruit & Sultanas & Canned peaches & Lettuce & Broccoli & Cabbage & Tomatoes & Carrots & Mushrooms & Potatoes & Frozen peas & Beef steak (blade steak) & Beef steak (porterhouse/sirloin steak) & Beef (mince) & Pork loin chops & Lamb chops & Bacon (middle rashers) & Sausages & Canned tuna & Sliced loaf of white bread & Chocolate biscuits & Breakfast biscuits & White flour & White, long grained rice & Standard homogenised milk & Flavoured yoghurt & Mild cheddar cheese & Eggs & Salted butter & White sugar & Canned tomato sauce & Block of chocolate & Potato crisps & Canned spaghetti & Instant coffee & Tea bags & Soft drink & Bottled water & Apple based fruit juice & Fish and chips & Hot meat pie & Apple based fruit juice & Potato crisps & Canned tomato sauce & Bacon (middle rashers) & Chicken breast & Sliced loaf of white bread & Alfalfa sprouts & Dried apricots & Avocados & Baby food & Beans & Hot filled bread roll & Bread rolls (hamburger buns) & Breakfast drink & Burger & Canned soup & Capsicum & Cauliflower & Celery & Cottage cheese & Camember cheese & Processed slices of cheese & Whole cooked chicken & Chicken pieces & Whole frozen chicken & Frozen chicken nuggets & Chilled fruit juice or smoothies & Loose boxed chocolates & Block of chocolate & Chocolate novelty bars & Creamed style canned corn & Corn flakes & Corned beef & Courgettes & Crackers & Cream & Cucumber & Frozen dessert & Fruit flavoured drink powder & Dried pasta & Drinking chocolate & Calcium enriched milk & Frozen fish fillets & Flat bread & Free range eggs & Fresh fish & Fresh pasta & Fried and other takeaway chicken & Frozen berries & Grapes & Ground coffee & Clover creamed honey & Hot chips or wedges & Hummus dip & Water based ice block & Ice cream & Ice cream novelty & Infant formula & Jam & Kumara & Luncheon meat & Mandarins & Marinated mussels & Chilled meat pies & Frozen mixed vegetables & Muesli & Muesli or cereal bars & Live mussels & Sandwich & Olive oil & Onions & Orange juice & Packaged cake slice & Parsnips & Packaged meal with pasta and sauce & Tomato based pasta sauces & Frozen pastry sheets & Pears & Canned pineapple pieces & Pineapple & Plain biscuits & Frozen potato fries & Frozen prawns & Frozen prepared meals & Pumpkin & Roasting lamb and hogget & Roasting pork & Packaged leaf salad & Salami & Canned salmon & Poured soft drink & Soft drink & Unflavoured soy milk & Soy sauce & Sports energy drink & Sports energy drink & Two minute noodles & Peanut butter & Sweets & Cakes and biscuits & Coffee & Cookie & Milkshakes & Muffins and buns & Pizza & Vegetable salad & Tea & Canned tomatoes & Vinegar & Sliced wheatmeal bread & Sliced wholegrain bread & Fresh herbs (packaged and chilled) & Jar of olives & Tea bags & Fresh or frozen pizza & Margarine & Mayonnaise & Dried mixed herbs & Salted blanched peanuts & Sliced or shaved ham & Chewing gum\\\\\n",
       "\t 2006M06 & 3.11    & 1.66    & 1.89   & 1.73      & 1.49     & 1.59           & 6.81    & 7.03     & 1.25    & 7.91     & 1.33    & 8.47      & 1.11     & 1.9         & 11.03                    & 20.06                                  & 8.54         & 13.46           & 10.81      & 18.08                  & 5.59     & 1.91        & 1.3                        & 2.5                & 4.83               & 1.55        & 1.73                     & 3.05                      & 3.93              & 6.77                & 3.12 & 2.08          & 1.88        & 2.29                & 3.27               & 1.96          & 1.28             & 4.43           & 3.33     & 1.83       & 1.82          & 1.61                    & 4.38           & 2.68         & ..                      & ..            & ..                  & ..                     & ..             & 1.12                       & ..              & ..             & ..       & ..        & ..    & ..                    & ..                           & ..              & ..     & ..          & ..       & ..          & ..     & ..             & ..              & ..                         & ..                   & ..             & ..                   & ..                     & ..                               & ..                     & ..                 & ..                     & ..                        & ..          & ..          & ..         & ..       & ..    & ..       & ..             & ..                           & ..          & ..                 & ..                    & ..                  & ..         & ..              & ..         & ..          & ..                               & ..             & ..     & ..            & ..                   & ..                  & ..         & ..                    & ..        & ..                & ..             & ..  & ..     & ..            & ..        & ..                & ..                & ..                      & ..     & ..                    & ..           & 3.23     & ..        & ..     & ..           & ..                  & ..       & ..                                 & ..                        & ..                   & ..    & ..                      & ..        & ..             & ..                  & ..            & ..                    & ..      & ..                       & ..            & ..                  & ..     & ..            & ..                & ..         & ..                   & ..        & ..                  & ..                  & ..                 & 2.34          & ..     & ..                 & ..     & ..     & ..         & ..               & ..    & ..              & ..  & ..              & ..      & ..                     & ..                      & ..                                 & ..            & ..       & 5.17                  & 1.96      & 3.17       & 1.88              & 2.38                    & 15.35                & ..         \\\\\n",
       "\t 2006M07 & 2.78    & 1.59    & 2.01   & 1.82      & 1.5      & 1.65           & 8.49    & 8.68     & 2.38    & 7        & 1.48    & 8.32      & 1.05     & 2.01        & 11.1                     & 19.99                                  & 8.42         & 13.07           & 9.79       & 18.2                   & 5.91     & 1.98        & 1.24                       & 2.54               & 4.73               & 1.68        & 1.74                     & 3.04                      & 3.51              & 6.91                & 3.15 & 2.05          & 1.88        & 2.44                & 3.21               & 2.11          & 1.24             & 4.75           & 3.37     & 1.78       & 1.85          & 1.64                    & 4.39           & 2.68         & ..                      & ..            & ..                  & ..                     & ..             & 1.07                       & ..              & ..             & ..       & ..        & ..    & ..                    & ..                           & ..              & ..     & ..          & ..       & ..          & ..     & ..             & ..              & ..                         & ..                   & ..             & ..                   & ..                     & ..                               & ..                     & ..                 & ..                     & ..                        & ..          & ..          & ..         & ..       & ..    & ..       & ..             & ..                           & ..          & ..                 & ..                    & ..                  & ..         & ..              & ..         & ..          & ..                               & ..             & ..     & ..            & ..                   & ..                  & ..         & ..                    & ..        & ..                & ..             & ..  & ..     & ..            & ..        & ..                & ..                & ..                      & ..     & ..                    & ..           & 3.24     & ..        & ..     & ..           & ..                  & ..       & ..                                 & ..                        & ..                   & ..    & ..                      & ..        & ..             & ..                  & ..            & ..                    & ..      & ..                       & ..            & ..                  & ..     & ..            & ..                & ..         & ..                   & ..        & ..                  & ..                  & ..                 & 2.57          & ..     & ..                 & ..     & ..     & ..         & ..               & ..    & ..              & ..  & ..              & ..      & ..                     & ..                      & ..                                 & ..            & ..       & 4.98                  & 2.02      & 3.19       & 1.99              & 2.26                    & 15.47                & ..         \\\\\n",
       "\t 2006M08 & 2.43    & 1.83    & 2.15   & 1.92      & 1.53     & 1.6            & 4.7     & 6.45     & 2.4     & 7.88     & 1.47    & 8.62      & 1.11     & 2.05        & 11.39                    & 19.96                                  & 8.63         & 13.4            & 9.62       & 18.13                  & 5.75     & 1.91        & 1.26                       & 2.43               & 4.79               & 1.69        & 1.74                     & 3.03                      & 3.62              & 6.78                & 3.15 & 2.02          & 1.91        & 2.36                & 3.31               & 2.02          & 1.36             & 4.61           & 3.27     & 1.8        & 1.79          & 1.69                    & 4.42           & 2.67         & ..                      & ..            & ..                  & ..                     & ..             & 1.08                       & ..              & ..             & ..       & ..        & ..    & ..                    & ..                           & ..              & ..     & ..          & ..       & ..          & ..     & ..             & ..              & ..                         & ..                   & ..             & ..                   & ..                     & ..                               & ..                     & ..                 & ..                     & ..                        & ..          & ..          & ..         & ..       & ..    & ..       & ..             & ..                           & ..          & ..                 & ..                    & ..                  & ..         & ..              & ..         & ..          & ..                               & ..             & ..     & ..            & ..                   & ..                  & ..         & ..                    & ..        & ..                & ..             & ..  & ..     & ..            & ..        & ..                & ..                & ..                      & ..     & ..                    & ..           & 3.24     & ..        & ..     & ..           & ..                  & ..       & ..                                 & ..                        & ..                   & ..    & ..                      & ..        & ..             & ..                  & ..            & ..                    & ..      & ..                       & ..            & ..                  & ..     & ..            & ..                & ..         & ..                   & ..        & ..                  & ..                  & ..                 & 2.4           & ..     & ..                 & ..     & ..     & ..         & ..               & ..    & ..              & ..  & ..              & ..      & ..                     & ..                      & ..                                 & ..            & ..       & 5                     & 2.12      & 3.17       & 2.02              & 2.37                    & 15                   & ..         \\\\\n",
       "\t 2006M09 & 2.42    & 2.32    & 2.26   & 1.99      & 1.57     & 1.48           & 4.04    & 8.01     & 2.04    & 8.3      & 1.51    & 8.76      & 1.12     & 2.02        & 11.8                     & 20.67                                  & 8.83         & 13.34           & 10.88      & 18.45                  & 6.08     & 2           & 1.26                       & 2.27               & 4.72               & 1.94        & 1.74                     & 2.66                      & 3.51              & 6.76                & 3.04 & 2             & 2.18        & 2.43                & 3.49               & 2.17          & 1.22             & 4.58           & 3.22     & 1.97       & 1.83          & 1.68                    & 4.42           & 2.69         & ..                      & ..            & ..                  & ..                     & ..             & 1.09                       & ..              & ..             & ..       & ..        & ..    & ..                    & ..                           & ..              & ..     & ..          & ..       & ..          & ..     & ..             & ..              & ..                         & ..                   & ..             & ..                   & ..                     & ..                               & ..                     & ..                 & ..                     & ..                        & ..          & ..          & ..         & ..       & ..    & ..       & ..             & ..                           & ..          & ..                 & ..                    & ..                  & ..         & ..              & ..         & ..          & ..                               & ..             & ..     & ..            & ..                   & ..                  & ..         & ..                    & ..        & ..                & ..             & ..  & ..     & ..            & ..        & ..                & ..                & ..                      & ..     & ..                    & ..           & 3.22     & ..        & ..     & ..           & ..                  & ..       & ..                                 & ..                        & ..                   & ..    & ..                      & ..        & ..             & ..                  & ..            & ..                    & ..      & ..                       & ..            & ..                  & ..     & ..            & ..                & ..         & ..                   & ..        & ..                  & ..                  & ..                 & 2.48          & ..     & ..                 & ..     & ..     & ..         & ..               & ..    & ..              & ..  & ..              & ..      & ..                     & ..                      & ..                                 & ..            & ..       & 4.64                  & 2         & 3.09       & 2.04              & 2.43                    & 15.26                & ..         \\\\\n",
       "\t 2006M10 & 3.04    & 2.48    & 2.63   & 1.74      & 1.56     & 1.54           & 2.46    & 6.5      & 2.51    & 6.47     & 2.12    & 8.76      & 1.1      & 2.02        & 11.89                    & 21.26                                  & 9            & 14.19           & 11.39      & 18.45                  & 5.91     & 1.98        & 1.26                       & 2.46               & 4.68               & 1.89        & 1.72                     & 2.66                      & 3.64              & 6.61                & 3.12 & 1.96          & 2.09        & 2.27                & 3.25               & 2.05          & 1.21             & 4.39           & 3.22     & 1.91       & 1.8           & 1.67                    & 4.42           & 2.71         & ..                      & ..            & ..                  & ..                     & ..             & 1.09                       & ..              & ..             & ..       & ..        & ..    & ..                    & ..                           & ..              & ..     & ..          & ..       & ..          & ..     & ..             & ..              & ..                         & ..                   & ..             & ..                   & ..                     & ..                               & ..                     & ..                 & ..                     & ..                        & ..          & ..          & ..         & ..       & ..    & ..       & ..             & ..                           & ..          & ..                 & ..                    & ..                  & ..         & ..              & ..         & ..          & ..                               & ..             & ..     & ..            & ..                   & ..                  & ..         & ..                    & ..        & ..                & ..             & ..  & ..     & ..            & ..        & ..                & ..                & ..                      & ..     & ..                    & ..           & 3.24     & ..        & ..     & ..           & ..                  & ..       & ..                                 & ..                        & ..                   & ..    & ..                      & ..        & ..             & ..                  & ..            & ..                    & ..      & ..                       & ..            & ..                  & ..     & ..            & ..                & ..         & ..                   & ..        & ..                  & ..                  & ..                 & 2.47          & ..     & ..                 & ..     & ..     & ..         & ..               & ..    & ..              & ..  & ..              & ..      & ..                     & ..                      & ..                                 & ..            & ..       & 4.52                  & 2.07      & 2.92       & 2.01              & 2.38                    & 15.5                 & ..         \\\\\n",
       "\\end{tabular}\n"
      ],
      "text/markdown": [
       "\n",
       "A tibble: 6 × 166\n",
       "\n",
       "| Food Price Index Selected Monthly Weighted Average Prices for New Zealand (Monthly) &lt;chr&gt; | X2 &lt;chr&gt; | X3 &lt;chr&gt; | X4 &lt;chr&gt; | X5 &lt;chr&gt; | X6 &lt;chr&gt; | X7 &lt;chr&gt; | X8 &lt;chr&gt; | X9 &lt;chr&gt; | X10 &lt;chr&gt; | ⋯ ⋯ | X157 &lt;chr&gt; | X158 &lt;chr&gt; | X159 &lt;chr&gt; | X160 &lt;chr&gt; | X161 &lt;chr&gt; | X162 &lt;chr&gt; | X163 &lt;chr&gt; | X164 &lt;chr&gt; | X165 &lt;chr&gt; | X166 &lt;chr&gt; |\n",
       "|---|---|---|---|---|---|---|---|---|---|---|---|---|---|---|---|---|---|---|---|---|\n",
       "| Item    | Oranges | Bananas | Apples | Kiwifruit | Sultanas | Canned peaches | Lettuce | Broccoli | Cabbage | ⋯ | Fresh herbs (packaged and chilled) | Jar of olives | Tea bags | Fresh or frozen pizza | Margarine | Mayonnaise | Dried mixed herbs | Salted blanched peanuts | Sliced or shaved ham | Chewing gum |\n",
       "| 2006M06 | 3.11    | 1.66    | 1.89   | 1.73      | 1.49     | 1.59           | 6.81    | 7.03     | 1.25    | ⋯ | ..                                 | ..            | ..       | 5.17                  | 1.96      | 3.17       | 1.88              | 2.38                    | 15.35                | ..          |\n",
       "| 2006M07 | 2.78    | 1.59    | 2.01   | 1.82      | 1.5      | 1.65           | 8.49    | 8.68     | 2.38    | ⋯ | ..                                 | ..            | ..       | 4.98                  | 2.02      | 3.19       | 1.99              | 2.26                    | 15.47                | ..          |\n",
       "| 2006M08 | 2.43    | 1.83    | 2.15   | 1.92      | 1.53     | 1.6            | 4.7     | 6.45     | 2.4     | ⋯ | ..                                 | ..            | ..       | 5                     | 2.12      | 3.17       | 2.02              | 2.37                    | 15                   | ..          |\n",
       "| 2006M09 | 2.42    | 2.32    | 2.26   | 1.99      | 1.57     | 1.48           | 4.04    | 8.01     | 2.04    | ⋯ | ..                                 | ..            | ..       | 4.64                  | 2         | 3.09       | 2.04              | 2.43                    | 15.26                | ..          |\n",
       "| 2006M10 | 3.04    | 2.48    | 2.63   | 1.74      | 1.56     | 1.54           | 2.46    | 6.5      | 2.51    | ⋯ | ..                                 | ..            | ..       | 4.52                  | 2.07      | 2.92       | 2.01              | 2.38                    | 15.5                 | ..          |\n",
       "\n"
      ],
      "text/plain": [
       "  Food Price Index Selected Monthly Weighted Average Prices for New Zealand (Monthly)\n",
       "1 Item                                                                               \n",
       "2 2006M06                                                                            \n",
       "3 2006M07                                                                            \n",
       "4 2006M08                                                                            \n",
       "5 2006M09                                                                            \n",
       "6 2006M10                                                                            \n",
       "  X2      X3      X4     X5        X6       X7             X8      X9      \n",
       "1 Oranges Bananas Apples Kiwifruit Sultanas Canned peaches Lettuce Broccoli\n",
       "2 3.11    1.66    1.89   1.73      1.49     1.59           6.81    7.03    \n",
       "3 2.78    1.59    2.01   1.82      1.5      1.65           8.49    8.68    \n",
       "4 2.43    1.83    2.15   1.92      1.53     1.6            4.7     6.45    \n",
       "5 2.42    2.32    2.26   1.99      1.57     1.48           4.04    8.01    \n",
       "6 3.04    2.48    2.63   1.74      1.56     1.54           2.46    6.5     \n",
       "  X10     ⋯ X157                               X158          X159    \n",
       "1 Cabbage ⋯ Fresh herbs (packaged and chilled) Jar of olives Tea bags\n",
       "2 1.25    ⋯ ..                                 ..            ..      \n",
       "3 2.38    ⋯ ..                                 ..            ..      \n",
       "4 2.4     ⋯ ..                                 ..            ..      \n",
       "5 2.04    ⋯ ..                                 ..            ..      \n",
       "6 2.51    ⋯ ..                                 ..            ..      \n",
       "  X160                  X161      X162       X163             \n",
       "1 Fresh or frozen pizza Margarine Mayonnaise Dried mixed herbs\n",
       "2 5.17                  1.96      3.17       1.88             \n",
       "3 4.98                  2.02      3.19       1.99             \n",
       "4 5                     2.12      3.17       2.02             \n",
       "5 4.64                  2         3.09       2.04             \n",
       "6 4.52                  2.07      2.92       2.01             \n",
       "  X164                    X165                 X166       \n",
       "1 Salted blanched peanuts Sliced or shaved ham Chewing gum\n",
       "2 2.38                    15.35                ..         \n",
       "3 2.26                    15.47                ..         \n",
       "4 2.37                    15                   ..         \n",
       "5 2.43                    15.26                ..         \n",
       "6 2.38                    15.5                 ..         "
      ]
     },
     "metadata": {},
     "output_type": "display_data"
    }
   ],
   "source": [
    "fpi %>% \n",
    "  head()"
   ]
  },
  {
   "cell_type": "code",
   "execution_count": 5,
   "metadata": {},
   "outputs": [],
   "source": [
    "colnames(fpi) <- fpi[c(1),]\n",
    "fpi <- fpi[-c(1), ]"
   ]
  },
  {
   "cell_type": "code",
   "execution_count": 6,
   "metadata": {},
   "outputs": [],
   "source": [
    "# https://stackoverflow.com/a/22249839\n",
    "fpi <- fpi[grepl(\"^[20]\", fpi$Item),]"
   ]
  },
  {
   "cell_type": "code",
   "execution_count": 7,
   "metadata": {},
   "outputs": [
    {
     "data": {
      "text/html": [
       "<table>\n",
       "<caption>A tibble: 6 × 166</caption>\n",
       "<thead>\n",
       "\t<tr><th scope=col>Item</th><th scope=col>Oranges</th><th scope=col>Bananas</th><th scope=col>Apples</th><th scope=col>Kiwifruit</th><th scope=col>Sultanas</th><th scope=col>Canned peaches</th><th scope=col>Lettuce</th><th scope=col>Broccoli</th><th scope=col>Cabbage</th><th scope=col>⋯</th><th scope=col>Fresh herbs (packaged and chilled)</th><th scope=col>Jar of olives</th><th scope=col>Tea bags</th><th scope=col>Fresh or frozen pizza</th><th scope=col>Margarine</th><th scope=col>Mayonnaise</th><th scope=col>Dried mixed herbs</th><th scope=col>Salted blanched peanuts</th><th scope=col>Sliced or shaved ham</th><th scope=col>Chewing gum</th></tr>\n",
       "\t<tr><th scope=col>&lt;chr&gt;</th><th scope=col>&lt;chr&gt;</th><th scope=col>&lt;chr&gt;</th><th scope=col>&lt;chr&gt;</th><th scope=col>&lt;chr&gt;</th><th scope=col>&lt;chr&gt;</th><th scope=col>&lt;chr&gt;</th><th scope=col>&lt;chr&gt;</th><th scope=col>&lt;chr&gt;</th><th scope=col>&lt;chr&gt;</th><th scope=col>⋯</th><th scope=col>&lt;chr&gt;</th><th scope=col>&lt;chr&gt;</th><th scope=col>&lt;chr&gt;</th><th scope=col>&lt;chr&gt;</th><th scope=col>&lt;chr&gt;</th><th scope=col>&lt;chr&gt;</th><th scope=col>&lt;chr&gt;</th><th scope=col>&lt;chr&gt;</th><th scope=col>&lt;chr&gt;</th><th scope=col>&lt;chr&gt;</th></tr>\n",
       "</thead>\n",
       "<tbody>\n",
       "\t<tr><td>2006M06</td><td>3.11</td><td>1.66</td><td>1.89</td><td>1.73</td><td>1.49</td><td>1.59</td><td>6.81</td><td>7.03</td><td>1.25</td><td>⋯</td><td>..</td><td>..</td><td>..</td><td>5.17</td><td>1.96</td><td>3.17</td><td>1.88</td><td>2.38</td><td>15.35</td><td>..</td></tr>\n",
       "\t<tr><td>2006M07</td><td>2.78</td><td>1.59</td><td>2.01</td><td>1.82</td><td>1.5 </td><td>1.65</td><td>8.49</td><td>8.68</td><td>2.38</td><td>⋯</td><td>..</td><td>..</td><td>..</td><td>4.98</td><td>2.02</td><td>3.19</td><td>1.99</td><td>2.26</td><td>15.47</td><td>..</td></tr>\n",
       "\t<tr><td>2006M08</td><td>2.43</td><td>1.83</td><td>2.15</td><td>1.92</td><td>1.53</td><td>1.6 </td><td>4.7 </td><td>6.45</td><td>2.4 </td><td>⋯</td><td>..</td><td>..</td><td>..</td><td>5   </td><td>2.12</td><td>3.17</td><td>2.02</td><td>2.37</td><td>15   </td><td>..</td></tr>\n",
       "\t<tr><td>2006M09</td><td>2.42</td><td>2.32</td><td>2.26</td><td>1.99</td><td>1.57</td><td>1.48</td><td>4.04</td><td>8.01</td><td>2.04</td><td>⋯</td><td>..</td><td>..</td><td>..</td><td>4.64</td><td>2   </td><td>3.09</td><td>2.04</td><td>2.43</td><td>15.26</td><td>..</td></tr>\n",
       "\t<tr><td>2006M10</td><td>3.04</td><td>2.48</td><td>2.63</td><td>1.74</td><td>1.56</td><td>1.54</td><td>2.46</td><td>6.5 </td><td>2.51</td><td>⋯</td><td>..</td><td>..</td><td>..</td><td>4.52</td><td>2.07</td><td>2.92</td><td>2.01</td><td>2.38</td><td>15.5 </td><td>..</td></tr>\n",
       "\t<tr><td>2006M11</td><td>3.24</td><td>2.48</td><td>2.79</td><td>2.28</td><td>1.56</td><td>1.58</td><td>1.95</td><td>3.92</td><td>1.71</td><td>⋯</td><td>..</td><td>..</td><td>..</td><td>4.94</td><td>2.13</td><td>2.79</td><td>2   </td><td>2.37</td><td>14.94</td><td>..</td></tr>\n",
       "</tbody>\n",
       "</table>\n"
      ],
      "text/latex": [
       "A tibble: 6 × 166\n",
       "\\begin{tabular}{r|llllllllllllllllllllllllllllllllllllllllllllllllllllllllllllllllllllllllllllllllllllllllllllllllllllllllllllllllllllllllllllllllllllllllllllllllllllllllllllllllllllll}\n",
       " Item & Oranges & Bananas & Apples & Kiwifruit & Sultanas & Canned peaches & Lettuce & Broccoli & Cabbage & Tomatoes & Carrots & Mushrooms & Potatoes & Frozen peas & Beef steak (blade steak) & Beef steak (porterhouse/sirloin steak) & Beef (mince) & Pork loin chops & Lamb chops & Bacon (middle rashers) & Sausages & Canned tuna & Sliced loaf of white bread & Chocolate biscuits & Breakfast biscuits & White flour & White, long grained rice & Standard homogenised milk & Flavoured yoghurt & Mild cheddar cheese & Eggs & Salted butter & White sugar & Canned tomato sauce & Block of chocolate & Potato crisps & Canned spaghetti & Instant coffee & Tea bags & Soft drink & Bottled water & Apple based fruit juice & Fish and chips & Hot meat pie & Apple based fruit juice & Potato crisps & Canned tomato sauce & Bacon (middle rashers) & Chicken breast & Sliced loaf of white bread & Alfalfa sprouts & Dried apricots & Avocados & Baby food & Beans & Hot filled bread roll & Bread rolls (hamburger buns) & Breakfast drink & Burger & Canned soup & Capsicum & Cauliflower & Celery & Cottage cheese & Camember cheese & Processed slices of cheese & Whole cooked chicken & Chicken pieces & Whole frozen chicken & Frozen chicken nuggets & Chilled fruit juice or smoothies & Loose boxed chocolates & Block of chocolate & Chocolate novelty bars & Creamed style canned corn & Corn flakes & Corned beef & Courgettes & Crackers & Cream & Cucumber & Frozen dessert & Fruit flavoured drink powder & Dried pasta & Drinking chocolate & Calcium enriched milk & Frozen fish fillets & Flat bread & Free range eggs & Fresh fish & Fresh pasta & Fried and other takeaway chicken & Frozen berries & Grapes & Ground coffee & Clover creamed honey & Hot chips or wedges & Hummus dip & Water based ice block & Ice cream & Ice cream novelty & Infant formula & Jam & Kumara & Luncheon meat & Mandarins & Marinated mussels & Chilled meat pies & Frozen mixed vegetables & Muesli & Muesli or cereal bars & Live mussels & Sandwich & Olive oil & Onions & Orange juice & Packaged cake slice & Parsnips & Packaged meal with pasta and sauce & Tomato based pasta sauces & Frozen pastry sheets & Pears & Canned pineapple pieces & Pineapple & Plain biscuits & Frozen potato fries & Frozen prawns & Frozen prepared meals & Pumpkin & Roasting lamb and hogget & Roasting pork & Packaged leaf salad & Salami & Canned salmon & Poured soft drink & Soft drink & Unflavoured soy milk & Soy sauce & Sports energy drink & Sports energy drink & Two minute noodles & Peanut butter & Sweets & Cakes and biscuits & Coffee & Cookie & Milkshakes & Muffins and buns & Pizza & Vegetable salad & Tea & Canned tomatoes & Vinegar & Sliced wheatmeal bread & Sliced wholegrain bread & Fresh herbs (packaged and chilled) & Jar of olives & Tea bags & Fresh or frozen pizza & Margarine & Mayonnaise & Dried mixed herbs & Salted blanched peanuts & Sliced or shaved ham & Chewing gum\\\\\n",
       " <chr> & <chr> & <chr> & <chr> & <chr> & <chr> & <chr> & <chr> & <chr> & <chr> & <chr> & <chr> & <chr> & <chr> & <chr> & <chr> & <chr> & <chr> & <chr> & <chr> & <chr> & <chr> & <chr> & <chr> & <chr> & <chr> & <chr> & <chr> & <chr> & <chr> & <chr> & <chr> & <chr> & <chr> & <chr> & <chr> & <chr> & <chr> & <chr> & <chr> & <chr> & <chr> & <chr> & <chr> & <chr> & <chr> & <chr> & <chr> & <chr> & <chr> & <chr> & <chr> & <chr> & <chr> & <chr> & <chr> & <chr> & <chr> & <chr> & <chr> & <chr> & <chr> & <chr> & <chr> & <chr> & <chr> & <chr> & <chr> & <chr> & <chr> & <chr> & <chr> & <chr> & <chr> & <chr> & <chr> & <chr> & <chr> & <chr> & <chr> & <chr> & <chr> & <chr> & <chr> & <chr> & <chr> & <chr> & <chr> & <chr> & <chr> & <chr> & <chr> & <chr> & <chr> & <chr> & <chr> & <chr> & <chr> & <chr> & <chr> & <chr> & <chr> & <chr> & <chr> & <chr> & <chr> & <chr> & <chr> & <chr> & <chr> & <chr> & <chr> & <chr> & <chr> & <chr> & <chr> & <chr> & <chr> & <chr> & <chr> & <chr> & <chr> & <chr> & <chr> & <chr> & <chr> & <chr> & <chr> & <chr> & <chr> & <chr> & <chr> & <chr> & <chr> & <chr> & <chr> & <chr> & <chr> & <chr> & <chr> & <chr> & <chr> & <chr> & <chr> & <chr> & <chr> & <chr> & <chr> & <chr> & <chr> & <chr> & <chr> & <chr> & <chr> & <chr> & <chr> & <chr> & <chr> & <chr> & <chr> & <chr> & <chr> & <chr> & <chr> & <chr> & <chr>\\\\\n",
       "\\hline\n",
       "\t 2006M06 & 3.11 & 1.66 & 1.89 & 1.73 & 1.49 & 1.59 & 6.81 & 7.03 & 1.25 & 7.91 & 1.33 & 8.47 & 1.11 & 1.9  & 11.03 & 20.06 & 8.54 & 13.46 & 10.81 & 18.08 & 5.59 & 1.91 & 1.3  & 2.5  & 4.83 & 1.55 & 1.73 & 3.05 & 3.93 & 6.77 & 3.12 & 2.08 & 1.88 & 2.29 & 3.27 & 1.96 & 1.28 & 4.43 & 3.33 & 1.83 & 1.82 & 1.61 & 4.38 & 2.68 & .. & .. & .. & .. & .. & 1.12 & .. & .. & .. & .. & .. & .. & .. & .. & .. & .. & .. & .. & .. & .. & .. & .. & .. & .. & .. & .. & .. & .. & .. & .. & .. & .. & .. & .. & .. & .. & .. & .. & .. & .. & .. & .. & .. & .. & .. & .. & .. & .. & .. & .. & .. & .. & .. & .. & .. & .. & .. & .. & .. & .. & .. & .. & .. & .. & .. & .. & .. & .. & 3.23 & .. & .. & .. & .. & .. & .. & .. & .. & .. & .. & .. & .. & .. & .. & .. & .. & .. & .. & .. & .. & .. & .. & .. & .. & .. & .. & .. & .. & 2.34 & .. & .. & .. & .. & .. & .. & .. & .. & .. & .. & .. & .. & .. & .. & .. & .. & 5.17 & 1.96 & 3.17 & 1.88 & 2.38 & 15.35 & ..\\\\\n",
       "\t 2006M07 & 2.78 & 1.59 & 2.01 & 1.82 & 1.5  & 1.65 & 8.49 & 8.68 & 2.38 & 7    & 1.48 & 8.32 & 1.05 & 2.01 & 11.1  & 19.99 & 8.42 & 13.07 & 9.79  & 18.2  & 5.91 & 1.98 & 1.24 & 2.54 & 4.73 & 1.68 & 1.74 & 3.04 & 3.51 & 6.91 & 3.15 & 2.05 & 1.88 & 2.44 & 3.21 & 2.11 & 1.24 & 4.75 & 3.37 & 1.78 & 1.85 & 1.64 & 4.39 & 2.68 & .. & .. & .. & .. & .. & 1.07 & .. & .. & .. & .. & .. & .. & .. & .. & .. & .. & .. & .. & .. & .. & .. & .. & .. & .. & .. & .. & .. & .. & .. & .. & .. & .. & .. & .. & .. & .. & .. & .. & .. & .. & .. & .. & .. & .. & .. & .. & .. & .. & .. & .. & .. & .. & .. & .. & .. & .. & .. & .. & .. & .. & .. & .. & .. & .. & .. & .. & .. & .. & 3.24 & .. & .. & .. & .. & .. & .. & .. & .. & .. & .. & .. & .. & .. & .. & .. & .. & .. & .. & .. & .. & .. & .. & .. & .. & .. & .. & .. & .. & 2.57 & .. & .. & .. & .. & .. & .. & .. & .. & .. & .. & .. & .. & .. & .. & .. & .. & 4.98 & 2.02 & 3.19 & 1.99 & 2.26 & 15.47 & ..\\\\\n",
       "\t 2006M08 & 2.43 & 1.83 & 2.15 & 1.92 & 1.53 & 1.6  & 4.7  & 6.45 & 2.4  & 7.88 & 1.47 & 8.62 & 1.11 & 2.05 & 11.39 & 19.96 & 8.63 & 13.4  & 9.62  & 18.13 & 5.75 & 1.91 & 1.26 & 2.43 & 4.79 & 1.69 & 1.74 & 3.03 & 3.62 & 6.78 & 3.15 & 2.02 & 1.91 & 2.36 & 3.31 & 2.02 & 1.36 & 4.61 & 3.27 & 1.8  & 1.79 & 1.69 & 4.42 & 2.67 & .. & .. & .. & .. & .. & 1.08 & .. & .. & .. & .. & .. & .. & .. & .. & .. & .. & .. & .. & .. & .. & .. & .. & .. & .. & .. & .. & .. & .. & .. & .. & .. & .. & .. & .. & .. & .. & .. & .. & .. & .. & .. & .. & .. & .. & .. & .. & .. & .. & .. & .. & .. & .. & .. & .. & .. & .. & .. & .. & .. & .. & .. & .. & .. & .. & .. & .. & .. & .. & 3.24 & .. & .. & .. & .. & .. & .. & .. & .. & .. & .. & .. & .. & .. & .. & .. & .. & .. & .. & .. & .. & .. & .. & .. & .. & .. & .. & .. & .. & 2.4  & .. & .. & .. & .. & .. & .. & .. & .. & .. & .. & .. & .. & .. & .. & .. & .. & 5    & 2.12 & 3.17 & 2.02 & 2.37 & 15    & ..\\\\\n",
       "\t 2006M09 & 2.42 & 2.32 & 2.26 & 1.99 & 1.57 & 1.48 & 4.04 & 8.01 & 2.04 & 8.3  & 1.51 & 8.76 & 1.12 & 2.02 & 11.8  & 20.67 & 8.83 & 13.34 & 10.88 & 18.45 & 6.08 & 2    & 1.26 & 2.27 & 4.72 & 1.94 & 1.74 & 2.66 & 3.51 & 6.76 & 3.04 & 2    & 2.18 & 2.43 & 3.49 & 2.17 & 1.22 & 4.58 & 3.22 & 1.97 & 1.83 & 1.68 & 4.42 & 2.69 & .. & .. & .. & .. & .. & 1.09 & .. & .. & .. & .. & .. & .. & .. & .. & .. & .. & .. & .. & .. & .. & .. & .. & .. & .. & .. & .. & .. & .. & .. & .. & .. & .. & .. & .. & .. & .. & .. & .. & .. & .. & .. & .. & .. & .. & .. & .. & .. & .. & .. & .. & .. & .. & .. & .. & .. & .. & .. & .. & .. & .. & .. & .. & .. & .. & .. & .. & .. & .. & 3.22 & .. & .. & .. & .. & .. & .. & .. & .. & .. & .. & .. & .. & .. & .. & .. & .. & .. & .. & .. & .. & .. & .. & .. & .. & .. & .. & .. & .. & 2.48 & .. & .. & .. & .. & .. & .. & .. & .. & .. & .. & .. & .. & .. & .. & .. & .. & 4.64 & 2    & 3.09 & 2.04 & 2.43 & 15.26 & ..\\\\\n",
       "\t 2006M10 & 3.04 & 2.48 & 2.63 & 1.74 & 1.56 & 1.54 & 2.46 & 6.5  & 2.51 & 6.47 & 2.12 & 8.76 & 1.1  & 2.02 & 11.89 & 21.26 & 9    & 14.19 & 11.39 & 18.45 & 5.91 & 1.98 & 1.26 & 2.46 & 4.68 & 1.89 & 1.72 & 2.66 & 3.64 & 6.61 & 3.12 & 1.96 & 2.09 & 2.27 & 3.25 & 2.05 & 1.21 & 4.39 & 3.22 & 1.91 & 1.8  & 1.67 & 4.42 & 2.71 & .. & .. & .. & .. & .. & 1.09 & .. & .. & .. & .. & .. & .. & .. & .. & .. & .. & .. & .. & .. & .. & .. & .. & .. & .. & .. & .. & .. & .. & .. & .. & .. & .. & .. & .. & .. & .. & .. & .. & .. & .. & .. & .. & .. & .. & .. & .. & .. & .. & .. & .. & .. & .. & .. & .. & .. & .. & .. & .. & .. & .. & .. & .. & .. & .. & .. & .. & .. & .. & 3.24 & .. & .. & .. & .. & .. & .. & .. & .. & .. & .. & .. & .. & .. & .. & .. & .. & .. & .. & .. & .. & .. & .. & .. & .. & .. & .. & .. & .. & 2.47 & .. & .. & .. & .. & .. & .. & .. & .. & .. & .. & .. & .. & .. & .. & .. & .. & 4.52 & 2.07 & 2.92 & 2.01 & 2.38 & 15.5  & ..\\\\\n",
       "\t 2006M11 & 3.24 & 2.48 & 2.79 & 2.28 & 1.56 & 1.58 & 1.95 & 3.92 & 1.71 & 4.95 & 2.32 & 8.61 & 1.4  & 2.02 & 11.93 & 21.63 & 9.27 & 14.32 & 10.65 & 18.84 & 6.22 & 1.98 & 1.23 & 2.53 & 4.62 & 1.78 & 1.75 & 2.65 & 3.36 & 6.82 & 3.12 & 1.96 & 2.2  & 2.38 & 3.54 & 2.15 & 1.27 & 4.52 & 3.36 & 1.78 & 1.81 & 1.66 & 4.45 & 2.71 & .. & .. & .. & .. & .. & 1.06 & .. & .. & .. & .. & .. & .. & .. & .. & .. & .. & .. & .. & .. & .. & .. & .. & .. & .. & .. & .. & .. & .. & .. & .. & .. & .. & .. & .. & .. & .. & .. & .. & .. & .. & .. & .. & .. & .. & .. & .. & .. & .. & .. & .. & .. & .. & .. & .. & .. & .. & .. & .. & .. & .. & .. & .. & .. & .. & .. & .. & .. & .. & 3.25 & .. & .. & .. & .. & .. & .. & .. & .. & .. & .. & .. & .. & .. & .. & .. & .. & .. & .. & .. & .. & .. & .. & .. & .. & .. & .. & .. & .. & 2.29 & .. & .. & .. & .. & .. & .. & .. & .. & .. & .. & .. & .. & .. & .. & .. & .. & 4.94 & 2.13 & 2.79 & 2    & 2.37 & 14.94 & ..\\\\\n",
       "\\end{tabular}\n"
      ],
      "text/markdown": [
       "\n",
       "A tibble: 6 × 166\n",
       "\n",
       "| Item &lt;chr&gt; | Oranges &lt;chr&gt; | Bananas &lt;chr&gt; | Apples &lt;chr&gt; | Kiwifruit &lt;chr&gt; | Sultanas &lt;chr&gt; | Canned peaches &lt;chr&gt; | Lettuce &lt;chr&gt; | Broccoli &lt;chr&gt; | Cabbage &lt;chr&gt; | ⋯ ⋯ | Fresh herbs (packaged and chilled) &lt;chr&gt; | Jar of olives &lt;chr&gt; | Tea bags &lt;chr&gt; | Fresh or frozen pizza &lt;chr&gt; | Margarine &lt;chr&gt; | Mayonnaise &lt;chr&gt; | Dried mixed herbs &lt;chr&gt; | Salted blanched peanuts &lt;chr&gt; | Sliced or shaved ham &lt;chr&gt; | Chewing gum &lt;chr&gt; |\n",
       "|---|---|---|---|---|---|---|---|---|---|---|---|---|---|---|---|---|---|---|---|---|\n",
       "| 2006M06 | 3.11 | 1.66 | 1.89 | 1.73 | 1.49 | 1.59 | 6.81 | 7.03 | 1.25 | ⋯ | .. | .. | .. | 5.17 | 1.96 | 3.17 | 1.88 | 2.38 | 15.35 | .. |\n",
       "| 2006M07 | 2.78 | 1.59 | 2.01 | 1.82 | 1.5  | 1.65 | 8.49 | 8.68 | 2.38 | ⋯ | .. | .. | .. | 4.98 | 2.02 | 3.19 | 1.99 | 2.26 | 15.47 | .. |\n",
       "| 2006M08 | 2.43 | 1.83 | 2.15 | 1.92 | 1.53 | 1.6  | 4.7  | 6.45 | 2.4  | ⋯ | .. | .. | .. | 5    | 2.12 | 3.17 | 2.02 | 2.37 | 15    | .. |\n",
       "| 2006M09 | 2.42 | 2.32 | 2.26 | 1.99 | 1.57 | 1.48 | 4.04 | 8.01 | 2.04 | ⋯ | .. | .. | .. | 4.64 | 2    | 3.09 | 2.04 | 2.43 | 15.26 | .. |\n",
       "| 2006M10 | 3.04 | 2.48 | 2.63 | 1.74 | 1.56 | 1.54 | 2.46 | 6.5  | 2.51 | ⋯ | .. | .. | .. | 4.52 | 2.07 | 2.92 | 2.01 | 2.38 | 15.5  | .. |\n",
       "| 2006M11 | 3.24 | 2.48 | 2.79 | 2.28 | 1.56 | 1.58 | 1.95 | 3.92 | 1.71 | ⋯ | .. | .. | .. | 4.94 | 2.13 | 2.79 | 2    | 2.37 | 14.94 | .. |\n",
       "\n"
      ],
      "text/plain": [
       "  Item    Oranges Bananas Apples Kiwifruit Sultanas Canned peaches Lettuce\n",
       "1 2006M06 3.11    1.66    1.89   1.73      1.49     1.59           6.81   \n",
       "2 2006M07 2.78    1.59    2.01   1.82      1.5      1.65           8.49   \n",
       "3 2006M08 2.43    1.83    2.15   1.92      1.53     1.6            4.7    \n",
       "4 2006M09 2.42    2.32    2.26   1.99      1.57     1.48           4.04   \n",
       "5 2006M10 3.04    2.48    2.63   1.74      1.56     1.54           2.46   \n",
       "6 2006M11 3.24    2.48    2.79   2.28      1.56     1.58           1.95   \n",
       "  Broccoli Cabbage ⋯ Fresh herbs (packaged and chilled) Jar of olives Tea bags\n",
       "1 7.03     1.25    ⋯ ..                                 ..            ..      \n",
       "2 8.68     2.38    ⋯ ..                                 ..            ..      \n",
       "3 6.45     2.4     ⋯ ..                                 ..            ..      \n",
       "4 8.01     2.04    ⋯ ..                                 ..            ..      \n",
       "5 6.5      2.51    ⋯ ..                                 ..            ..      \n",
       "6 3.92     1.71    ⋯ ..                                 ..            ..      \n",
       "  Fresh or frozen pizza Margarine Mayonnaise Dried mixed herbs\n",
       "1 5.17                  1.96      3.17       1.88             \n",
       "2 4.98                  2.02      3.19       1.99             \n",
       "3 5                     2.12      3.17       2.02             \n",
       "4 4.64                  2         3.09       2.04             \n",
       "5 4.52                  2.07      2.92       2.01             \n",
       "6 4.94                  2.13      2.79       2                \n",
       "  Salted blanched peanuts Sliced or shaved ham Chewing gum\n",
       "1 2.38                    15.35                ..         \n",
       "2 2.26                    15.47                ..         \n",
       "3 2.37                    15                   ..         \n",
       "4 2.43                    15.26                ..         \n",
       "5 2.38                    15.5                 ..         \n",
       "6 2.37                    14.94                ..         "
      ]
     },
     "metadata": {},
     "output_type": "display_data"
    }
   ],
   "source": [
    "fpi %>% \n",
    "  head()"
   ]
  },
  {
   "cell_type": "code",
   "execution_count": 8,
   "metadata": {},
   "outputs": [
    {
     "data": {
      "text/html": [
       "<table>\n",
       "<caption>A tibble: 6 × 166</caption>\n",
       "<thead>\n",
       "\t<tr><th scope=col>Item</th><th scope=col>Oranges</th><th scope=col>Bananas</th><th scope=col>Apples</th><th scope=col>Kiwifruit</th><th scope=col>Sultanas</th><th scope=col>Canned peaches</th><th scope=col>Lettuce</th><th scope=col>Broccoli</th><th scope=col>Cabbage</th><th scope=col>⋯</th><th scope=col>Fresh herbs (packaged and chilled)</th><th scope=col>Jar of olives</th><th scope=col>Tea bags</th><th scope=col>Fresh or frozen pizza</th><th scope=col>Margarine</th><th scope=col>Mayonnaise</th><th scope=col>Dried mixed herbs</th><th scope=col>Salted blanched peanuts</th><th scope=col>Sliced or shaved ham</th><th scope=col>Chewing gum</th></tr>\n",
       "\t<tr><th scope=col>&lt;chr&gt;</th><th scope=col>&lt;chr&gt;</th><th scope=col>&lt;chr&gt;</th><th scope=col>&lt;chr&gt;</th><th scope=col>&lt;chr&gt;</th><th scope=col>&lt;chr&gt;</th><th scope=col>&lt;chr&gt;</th><th scope=col>&lt;chr&gt;</th><th scope=col>&lt;chr&gt;</th><th scope=col>&lt;chr&gt;</th><th scope=col>⋯</th><th scope=col>&lt;chr&gt;</th><th scope=col>&lt;chr&gt;</th><th scope=col>&lt;chr&gt;</th><th scope=col>&lt;chr&gt;</th><th scope=col>&lt;chr&gt;</th><th scope=col>&lt;chr&gt;</th><th scope=col>&lt;chr&gt;</th><th scope=col>&lt;chr&gt;</th><th scope=col>&lt;chr&gt;</th><th scope=col>&lt;chr&gt;</th></tr>\n",
       "</thead>\n",
       "<tbody>\n",
       "\t<tr><td>2019M01</td><td>4.06</td><td>2.98</td><td>3.98</td><td>5.32</td><td>2.33</td><td>1.58</td><td>3.72</td><td>7.89</td><td>1.64</td><td>⋯</td><td>3.7 </td><td>4.32</td><td>3.23</td><td>4.9 </td><td>2.27</td><td>2.84</td><td>2.53</td><td>3.46</td><td>12.66</td><td>2.8 </td></tr>\n",
       "\t<tr><td>2019M02</td><td>3.92</td><td>3.06</td><td>3.7 </td><td>5.97</td><td>2.32</td><td>1.34</td><td>3.8 </td><td>6.33</td><td>1.61</td><td>⋯</td><td>3.69</td><td>4.39</td><td>3.22</td><td>5.14</td><td>2.31</td><td>2.85</td><td>2.44</td><td>3.44</td><td>12.16</td><td>2.76</td></tr>\n",
       "\t<tr><td>2019M03</td><td>3.81</td><td>2.98</td><td>2.63</td><td>6.34</td><td>2.32</td><td>1.52</td><td>3.62</td><td>6.73</td><td>1.77</td><td>⋯</td><td>3.75</td><td>4.5 </td><td>3.35</td><td>4.94</td><td>2.29</td><td>3.17</td><td>2.56</td><td>3.47</td><td>12.22</td><td>2.94</td></tr>\n",
       "\t<tr><td>2019M04</td><td>3.9 </td><td>2.89</td><td>2.43</td><td>5.22</td><td>2.49</td><td>1.49</td><td>3.24</td><td>5.93</td><td>1.96</td><td>⋯</td><td>3.79</td><td>4.5 </td><td>3.18</td><td>5.01</td><td>2.27</td><td>2.97</td><td>2.51</td><td>3.52</td><td>12.01</td><td>2.97</td></tr>\n",
       "\t<tr><td>2019M05</td><td>4.58</td><td>2.8 </td><td>2.31</td><td>3.01</td><td>2.6 </td><td>1.58</td><td>3.07</td><td>5.2 </td><td>1.75</td><td>⋯</td><td>3.67</td><td>4.43</td><td>3.31</td><td>5.09</td><td>2.26</td><td>3.11</td><td>2.58</td><td>3.45</td><td>12.67</td><td>2.94</td></tr>\n",
       "\t<tr><td>2019M06</td><td>4.06</td><td>2.8 </td><td>2.43</td><td>2.51</td><td>2.65</td><td>1.46</td><td>3.99</td><td>4.62</td><td>1.71</td><td>⋯</td><td>3.79</td><td>4.49</td><td>3.24</td><td>5.23</td><td>2.27</td><td>3.43</td><td>2.42</td><td>3.41</td><td>12.07</td><td>2.98</td></tr>\n",
       "</tbody>\n",
       "</table>\n"
      ],
      "text/latex": [
       "A tibble: 6 × 166\n",
       "\\begin{tabular}{r|llllllllllllllllllllllllllllllllllllllllllllllllllllllllllllllllllllllllllllllllllllllllllllllllllllllllllllllllllllllllllllllllllllllllllllllllllllllllllllllllllllll}\n",
       " Item & Oranges & Bananas & Apples & Kiwifruit & Sultanas & Canned peaches & Lettuce & Broccoli & Cabbage & Tomatoes & Carrots & Mushrooms & Potatoes & Frozen peas & Beef steak (blade steak) & Beef steak (porterhouse/sirloin steak) & Beef (mince) & Pork loin chops & Lamb chops & Bacon (middle rashers) & Sausages & Canned tuna & Sliced loaf of white bread & Chocolate biscuits & Breakfast biscuits & White flour & White, long grained rice & Standard homogenised milk & Flavoured yoghurt & Mild cheddar cheese & Eggs & Salted butter & White sugar & Canned tomato sauce & Block of chocolate & Potato crisps & Canned spaghetti & Instant coffee & Tea bags & Soft drink & Bottled water & Apple based fruit juice & Fish and chips & Hot meat pie & Apple based fruit juice & Potato crisps & Canned tomato sauce & Bacon (middle rashers) & Chicken breast & Sliced loaf of white bread & Alfalfa sprouts & Dried apricots & Avocados & Baby food & Beans & Hot filled bread roll & Bread rolls (hamburger buns) & Breakfast drink & Burger & Canned soup & Capsicum & Cauliflower & Celery & Cottage cheese & Camember cheese & Processed slices of cheese & Whole cooked chicken & Chicken pieces & Whole frozen chicken & Frozen chicken nuggets & Chilled fruit juice or smoothies & Loose boxed chocolates & Block of chocolate & Chocolate novelty bars & Creamed style canned corn & Corn flakes & Corned beef & Courgettes & Crackers & Cream & Cucumber & Frozen dessert & Fruit flavoured drink powder & Dried pasta & Drinking chocolate & Calcium enriched milk & Frozen fish fillets & Flat bread & Free range eggs & Fresh fish & Fresh pasta & Fried and other takeaway chicken & Frozen berries & Grapes & Ground coffee & Clover creamed honey & Hot chips or wedges & Hummus dip & Water based ice block & Ice cream & Ice cream novelty & Infant formula & Jam & Kumara & Luncheon meat & Mandarins & Marinated mussels & Chilled meat pies & Frozen mixed vegetables & Muesli & Muesli or cereal bars & Live mussels & Sandwich & Olive oil & Onions & Orange juice & Packaged cake slice & Parsnips & Packaged meal with pasta and sauce & Tomato based pasta sauces & Frozen pastry sheets & Pears & Canned pineapple pieces & Pineapple & Plain biscuits & Frozen potato fries & Frozen prawns & Frozen prepared meals & Pumpkin & Roasting lamb and hogget & Roasting pork & Packaged leaf salad & Salami & Canned salmon & Poured soft drink & Soft drink & Unflavoured soy milk & Soy sauce & Sports energy drink & Sports energy drink & Two minute noodles & Peanut butter & Sweets & Cakes and biscuits & Coffee & Cookie & Milkshakes & Muffins and buns & Pizza & Vegetable salad & Tea & Canned tomatoes & Vinegar & Sliced wheatmeal bread & Sliced wholegrain bread & Fresh herbs (packaged and chilled) & Jar of olives & Tea bags & Fresh or frozen pizza & Margarine & Mayonnaise & Dried mixed herbs & Salted blanched peanuts & Sliced or shaved ham & Chewing gum\\\\\n",
       " <chr> & <chr> & <chr> & <chr> & <chr> & <chr> & <chr> & <chr> & <chr> & <chr> & <chr> & <chr> & <chr> & <chr> & <chr> & <chr> & <chr> & <chr> & <chr> & <chr> & <chr> & <chr> & <chr> & <chr> & <chr> & <chr> & <chr> & <chr> & <chr> & <chr> & <chr> & <chr> & <chr> & <chr> & <chr> & <chr> & <chr> & <chr> & <chr> & <chr> & <chr> & <chr> & <chr> & <chr> & <chr> & <chr> & <chr> & <chr> & <chr> & <chr> & <chr> & <chr> & <chr> & <chr> & <chr> & <chr> & <chr> & <chr> & <chr> & <chr> & <chr> & <chr> & <chr> & <chr> & <chr> & <chr> & <chr> & <chr> & <chr> & <chr> & <chr> & <chr> & <chr> & <chr> & <chr> & <chr> & <chr> & <chr> & <chr> & <chr> & <chr> & <chr> & <chr> & <chr> & <chr> & <chr> & <chr> & <chr> & <chr> & <chr> & <chr> & <chr> & <chr> & <chr> & <chr> & <chr> & <chr> & <chr> & <chr> & <chr> & <chr> & <chr> & <chr> & <chr> & <chr> & <chr> & <chr> & <chr> & <chr> & <chr> & <chr> & <chr> & <chr> & <chr> & <chr> & <chr> & <chr> & <chr> & <chr> & <chr> & <chr> & <chr> & <chr> & <chr> & <chr> & <chr> & <chr> & <chr> & <chr> & <chr> & <chr> & <chr> & <chr> & <chr> & <chr> & <chr> & <chr> & <chr> & <chr> & <chr> & <chr> & <chr> & <chr> & <chr> & <chr> & <chr> & <chr> & <chr> & <chr> & <chr> & <chr> & <chr> & <chr> & <chr> & <chr> & <chr> & <chr> & <chr> & <chr> & <chr> & <chr> & <chr> & <chr> & <chr> & <chr> & <chr>\\\\\n",
       "\\hline\n",
       "\t 2019M01 & 4.06 & 2.98 & 3.98 & 5.32 & 2.33 & 1.58 & 3.72 & 7.89 & 1.64 & 2.79 & 2.49 & 12.11 & 2.09 & 2.44 & 19.07 & 29.94 & 15.04 & 16.31 & 15.82 & .. & 10.2  & 2.79 & .. & 2.8  & 5.58 & 1.77 & 2.53 & 3.49 & 5.18 & 9.43 & 4.19 & 5.79 & 2.57 & .. & 4.2  & .. & 1.47 & 6.1  & 4.99 & 2.51 & 1.96 & .. & 6.75 & 4.33 & 4.36 & 1.9  & 2.96 & 10.84 & 13.02 & 1.1  & .. & 2.21 & 7.92  & 1.16 & 11.57 & 6.95 & 2.89 & 7.41 & 5.15 & 3.5  & 10.28 & 4.05 & 4.39 & .. & 4.6  & 3.7  & 11.62 & 8.5  & 7.34 & 10.36 & 4.64 & 8.15 & 4.64 & 1.47 & .. & 3.76 & 10.2  & 4.99  & 3.25 & 2.59 & 4.42  & 6.72 & 1.09 & 1.85 & 4.05 & 5.51 & 7.58 & 4.12 & 5.05 & 33.8  & 4.49 & 12.16 & 6.12 & 8.26 & 6.15 & 10.26 & 3.41 & 3.66 & 2.45 & 6.1  & 3.61 & 20.03 & 2.6  & 5.51 & .. & 5.19 & 7    & 6.31 & 3.4  & 5.3  & 2.77 & 4.8  & 4.69 & 12.26 & 2.85 & 2.42 & 3.72 & 6.39 & 2.36 & 2.96 & 5.2  & 4.82 & 1.97 & 3.09 & 2.1  & 3.3  & 16.08 & 5.48 & 3.58 & 16.27 & 9.96  & 4.5  & 3.18 & 3.28 & 2.77 & 3.77 & 3.29 & 2.59 & 3.26 & 2.02 & 2.29 & 2.77 & 2.99 & 4.24 & 3.85 & 2.2  & .. & 3.76 & 13.96 & 10.29 & 3.42 & 1.14 & 2.54 & 2.85 & 3.48 & 3.7  & 4.32 & 3.23 & 4.9  & 2.27 & 2.84 & 2.53 & 3.46 & 12.66 & 2.8 \\\\\n",
       "\t 2019M02 & 3.92 & 3.06 & 3.7  & 5.97 & 2.32 & 1.34 & 3.8  & 6.33 & 1.61 & 3.62 & 2.48 & 12.15 & 1.95 & 2.38 & 18.83 & 31.35 & 14.8  & 15.99 & 16.7  & .. & 9.74  & 2.89 & .. & 2.68 & 5.51 & 1.92 & 2.51 & 3.48 & 4.83 & 9.1  & 4.3  & 5.2  & 2.54 & .. & 4.3  & .. & 1.34 & 5.55 & 4.86 & 2.7  & 2.04 & .. & 6.81 & 4.33 & 4.4  & 1.95 & 2.73 & 10.71 & 12.82 & 1.09 & .. & 2.28 & 9.03  & 1.08 & 10.83 & 6.99 & 2.91 & 6.96 & 5.16 & 3.26 & 10.7  & 4.14 & 3.73 & .. & 4.37 & 3.56 & 10.81 & 8.04 & 7.2  & 10.36 & 4.71 & 7.25 & 4.56 & 1.52 & .. & 3.95 & 10.12 & 7.22  & 3.22 & 2.59 & 6.4   & 6.47 & 1.32 & 1.82 & 3.97 & 5.51 & 7.74 & 4.07 & 5.19 & 34.17 & 4.71 & 12.24 & 5.78 & 8.92 & 6.5  & 10.08 & 3.42 & 3.7  & 2.48 & 6.06 & 3.61 & 20.23 & 2.66 & 6.76 & .. & 5.54 & 6.84 & 6.26 & 3.47 & 4.97 & 2.7  & 4.96 & 4.7  & 11.68 & 2.78 & 2.38 & 3.7  & 6.36 & 2.55 & 2.98 & 5.38 & 4.26 & 1.97 & 3.19 & 2.23 & 3.24 & 15.31 & 5.64 & 3.1  & 16.38 & 10.5  & 4.48 & 3.34 & 3.39 & 3.12 & 3.87 & 3.31 & 2.64 & 3.51 & 2.08 & 2.42 & 2.79 & 3.08 & 4.25 & 3.87 & 2.21 & .. & 3.79 & 13.96 & 10.55 & 3.42 & 1.38 & 2.52 & 2.83 & 3.55 & 3.69 & 4.39 & 3.22 & 5.14 & 2.31 & 2.85 & 2.44 & 3.44 & 12.16 & 2.76\\\\\n",
       "\t 2019M03 & 3.81 & 2.98 & 2.63 & 6.34 & 2.32 & 1.52 & 3.62 & 6.73 & 1.77 & 5.2  & 2.33 & 12.19 & 1.85 & 2.43 & 18.86 & 30.85 & 14.43 & 15.53 & 16.3  & .. & 9.71  & 2.75 & .. & 2.7  & 5.47 & 1.93 & 2.52 & 3.49 & 4.8  & 8.94 & 4.32 & 5.11 & 2.53 & .. & 4.12 & .. & 1.46 & 5.87 & 4.98 & 2.67 & 1.97 & .. & 6.83 & 4.34 & 4.12 & 1.96 & 2.9  & 11.01 & 13.5  & 1.14 & .. & 2.2  & 21.46 & 1.11 & 12.55 & 7.03 & 2.89 & 7.67 & 5.16 & 3.33 & 11.59 & 4.58 & 3.54 & .. & 4.48 & 3.67 & 10.79 & 7.53 & 7.21 & 10.34 & 4.56 & 8.57 & 4.66 & 1.5  & .. & 3.76 & 10.55 & 8.99  & 3.25 & 2.58 & 7.28  & 6.79 & 1.3  & 1.9  & 4.2  & 5.5  & 7.7  & 4.03 & 5.18 & 33.57 & 4.73 & 12.26 & 6.07 & 7.76 & 6.21 & 10.24 & 3.41 & 3.81 & 2.48 & 6.11 & 3.56 & 20.64 & 2.77 & 5.38 & .. & 6.11 & 6.45 & 6.19 & 3.58 & 5.32 & 2.7  & 4.97 & 4.74 & 12.32 & 2.58 & 2.45 & 3.47 & 6.16 & 2.56 & 3.13 & 5.43 & 3.6  & 2.03 & 3.35 & 2.11 & 3.39 & 17.15 & 5.3  & 2.67 & 15.15 & 10.04 & 4.63 & 3.25 & 3.78 & 3.16 & 3.82 & 3.33 & 2.64 & 3.3  & 2.07 & 2.37 & 2.83 & 3    & 4.27 & 3.87 & 2.21 & .. & 3.8  & 14.01 & 10.56 & 3.43 & 1.18 & 2.48 & 2.89 & 3.58 & 3.75 & 4.5  & 3.35 & 4.94 & 2.29 & 3.17 & 2.56 & 3.47 & 12.22 & 2.94\\\\\n",
       "\t 2019M04 & 3.9  & 2.89 & 2.43 & 5.22 & 2.49 & 1.49 & 3.24 & 5.93 & 1.96 & 5.35 & 2.12 & 12.54 & 1.82 & 2.47 & 19.01 & 27.56 & 15.07 & 16.27 & 15.9  & .. & 10.28 & 2.98 & .. & 2.76 & 5.72 & 1.94 & 2.48 & 3.5  & 4.93 & 8.79 & 4.43 & 5.17 & 2.54 & .. & 4.57 & .. & 1.46 & 5.71 & 4.88 & 2.56 & 1.98 & .. & 6.88 & 4.37 & 4.37 & 1.86 & 2.66 & 11    & 12.44 & 1.08 & .. & 2.23 & 23.18 & 1.23 & 12.89 & 7.08 & 2.9  & 7.12 & 5.26 & 3.25 & 12.17 & 4.03 & 4.15 & .. & 4.48 & 3.58 & 11.56 & 7.89 & 7.19 & 10.01 & 4.75 & 8.65 & 4.63 & 1.4  & .. & 3.72 & 11.02 & 7.42  & 3.12 & 2.62 & 7.28  & 6.55 & 1.11 & 1.88 & 3.85 & 5.54 & 7.68 & 4.15 & 5.18 & 33.42 & 4.94 & 12.32 & 6.15 & 6.56 & 6.82 & 10    & 3.47 & 3.86 & 2.48 & 6.36 & 3.57 & 20.31 & 2.79 & 4.96 & .. & 6.44 & 6.76 & 6.28 & 3.38 & 5.39 & 2.82 & 4.98 & 4.76 & 12.22 & 2.41 & 2.42 & 3.55 & 5.9  & 2.61 & 3.01 & 5.3  & 3.21 & 1.98 & 3.12 & 2.26 & 3.29 & 17.19 & 5.48 & 2.38 & 16.36 & 10.23 & 4.53 & 3.27 & 3.89 & 3.2  & 3.82 & 3.29 & 2.68 & 3.22 & 2.19 & 2.39 & 2.81 & 2.99 & 4.33 & 3.89 & 2.21 & .. & 3.84 & 14.39 & 10.71 & 3.47 & 1.1  & 2.55 & 2.81 & 3.62 & 3.79 & 4.5  & 3.18 & 5.01 & 2.27 & 2.97 & 2.51 & 3.52 & 12.01 & 2.97\\\\\n",
       "\t 2019M05 & 4.58 & 2.8  & 2.31 & 3.01 & 2.6  & 1.58 & 3.07 & 5.2  & 1.75 & 5.69 & 2.06 & 12.39 & 1.77 & 2.39 & 18.51 & 27.43 & 14.56 & 14.77 & 17.3  & .. & 10.44 & 2.7  & .. & 2.71 & 5.54 & 1.78 & 2.51 & 3.5  & 5.03 & 9.57 & 4.51 & 5.43 & 2.55 & .. & 4.4  & .. & 1.45 & 5.68 & 5.11 & 2.7  & 1.99 & .. & 6.92 & 4.35 & 4.49 & 1.87 & 2.84 & 11.03 & 13.8  & 1.12 & .. & 2.25 & 28.67 & 1.15 & 12.51 & 7.1  & 2.87 & 7.64 & 5.28 & 2.88 & 16.24 & 3.45 & 3.62 & .. & 4.79 & 3.69 & 11.7  & 8.04 & 7.33 & 10.32 & 4.76 & 7.67 & 4.62 & 1.42 & .. & 3.81 & 10.3  & 9.19  & 3.2  & 2.61 & 8.14  & 6.36 & 1.29 & 1.79 & 4.08 & 5.53 & 7.61 & 4.09 & 5.26 & 35.02 & 4.74 & 12.41 & 6.06 & 6.61 & 6.43 & 9.84  & 3.49 & 3.94 & 2.48 & 6.32 & 3.58 & 20.78 & 2.71 & 4.86 & .. & 5.07 & 6.82 & 5.94 & 3.44 & 5.14 & 2.73 & 5    & 4.78 & 12.29 & 2.34 & 2.27 & 3.7  & 5.67 & 2.53 & 3.08 & 5.4  & 3.39 & 2.11 & 3    & 2.24 & 3.45 & 17.15 & 5.63 & 2.25 & 16.43 & 10.31 & 4.66 & 3.23 & 3.98 & 3.2  & 3.85 & 3.19 & 2.56 & 3.39 & 2.01 & 2.44 & 2.78 & 3.06 & 4.34 & 3.89 & 2.21 & .. & 3.85 & 14.38 & 11.04 & 3.48 & 1.25 & 2.44 & 2.78 & 3.53 & 3.67 & 4.43 & 3.31 & 5.09 & 2.26 & 3.11 & 2.58 & 3.45 & 12.67 & 2.94\\\\\n",
       "\t 2019M06 & 4.06 & 2.8  & 2.43 & 2.51 & 2.65 & 1.46 & 3.99 & 4.62 & 1.71 & 5.28 & 1.92 & 12.48 & 1.77 & 2.42 & 19.12 & 25.99 & 15.44 & 16.27 & 17.41 & .. & 11.19 & 2.72 & .. & 2.56 & 5.55 & 1.78 & 2.6  & 3.53 & 4.57 & 9.82 & 4.63 & 5.33 & 2.53 & .. & 4.49 & .. & 1.34 & 5.65 & 4.98 & 2.54 & 2.07 & .. & 6.96 & 4.37 & 4.19 & 1.84 & 2.89 & 11.01 & 13.44 & 1.11 & .. & 1.94 & 14.94 & 1.14 & 13.47 & 7.11 & 2.89 & 7.29 & 5.33 & 2.79 & 16.9  & 3.76 & 2.97 & .. & 4.12 & 3.45 & 11.57 & 8.05 & 7.43 & 10.05 & 4.9  & 9.09 & 4.7  & 1.41 & .. & 3.72 & 10.52 & 10.83 & 3.19 & 2.63 & 13.19 & 6.46 & 1.19 & 1.91 & 3.52 & 5.52 & 7.69 & 4.05 & 5.25 & 33.75 & 4.62 & 12.56 & 5.99 & 6.91 & 6.34 & 9.55  & 3.52 & 3.72 & 2.54 & 6.13 & 3.65 & 20.55 & 2.67 & 4.6  & .. & 4.58 & 6.89 & 5.86 & 3.49 & 5.25 & 2.83 & 4.93 & 4.81 & 12.46 & 2.2  & 2.57 & 3.56 & 5.57 & 2.45 & 3.07 & 5.3  & 3.59 & 2.12 & 3.11 & 1.92 & 3.24 & 17.99 & 5.57 & 2.01 & 14.48 & 10.18 & 4.72 & 3.34 & 3.88 & 3.24 & 3.83 & 3.32 & 2.54 & 3.32 & 1.9  & 2.33 & 2.82 & 3.02 & 4.36 & 3.9  & 2.17 & .. & 3.87 & 14.38 & 10.66 & 3.49 & 1.22 & 2.55 & 2.78 & 3.5  & 3.79 & 4.49 & 3.24 & 5.23 & 2.27 & 3.43 & 2.42 & 3.41 & 12.07 & 2.98\\\\\n",
       "\\end{tabular}\n"
      ],
      "text/markdown": [
       "\n",
       "A tibble: 6 × 166\n",
       "\n",
       "| Item &lt;chr&gt; | Oranges &lt;chr&gt; | Bananas &lt;chr&gt; | Apples &lt;chr&gt; | Kiwifruit &lt;chr&gt; | Sultanas &lt;chr&gt; | Canned peaches &lt;chr&gt; | Lettuce &lt;chr&gt; | Broccoli &lt;chr&gt; | Cabbage &lt;chr&gt; | ⋯ ⋯ | Fresh herbs (packaged and chilled) &lt;chr&gt; | Jar of olives &lt;chr&gt; | Tea bags &lt;chr&gt; | Fresh or frozen pizza &lt;chr&gt; | Margarine &lt;chr&gt; | Mayonnaise &lt;chr&gt; | Dried mixed herbs &lt;chr&gt; | Salted blanched peanuts &lt;chr&gt; | Sliced or shaved ham &lt;chr&gt; | Chewing gum &lt;chr&gt; |\n",
       "|---|---|---|---|---|---|---|---|---|---|---|---|---|---|---|---|---|---|---|---|---|\n",
       "| 2019M01 | 4.06 | 2.98 | 3.98 | 5.32 | 2.33 | 1.58 | 3.72 | 7.89 | 1.64 | ⋯ | 3.7  | 4.32 | 3.23 | 4.9  | 2.27 | 2.84 | 2.53 | 3.46 | 12.66 | 2.8  |\n",
       "| 2019M02 | 3.92 | 3.06 | 3.7  | 5.97 | 2.32 | 1.34 | 3.8  | 6.33 | 1.61 | ⋯ | 3.69 | 4.39 | 3.22 | 5.14 | 2.31 | 2.85 | 2.44 | 3.44 | 12.16 | 2.76 |\n",
       "| 2019M03 | 3.81 | 2.98 | 2.63 | 6.34 | 2.32 | 1.52 | 3.62 | 6.73 | 1.77 | ⋯ | 3.75 | 4.5  | 3.35 | 4.94 | 2.29 | 3.17 | 2.56 | 3.47 | 12.22 | 2.94 |\n",
       "| 2019M04 | 3.9  | 2.89 | 2.43 | 5.22 | 2.49 | 1.49 | 3.24 | 5.93 | 1.96 | ⋯ | 3.79 | 4.5  | 3.18 | 5.01 | 2.27 | 2.97 | 2.51 | 3.52 | 12.01 | 2.97 |\n",
       "| 2019M05 | 4.58 | 2.8  | 2.31 | 3.01 | 2.6  | 1.58 | 3.07 | 5.2  | 1.75 | ⋯ | 3.67 | 4.43 | 3.31 | 5.09 | 2.26 | 3.11 | 2.58 | 3.45 | 12.67 | 2.94 |\n",
       "| 2019M06 | 4.06 | 2.8  | 2.43 | 2.51 | 2.65 | 1.46 | 3.99 | 4.62 | 1.71 | ⋯ | 3.79 | 4.49 | 3.24 | 5.23 | 2.27 | 3.43 | 2.42 | 3.41 | 12.07 | 2.98 |\n",
       "\n"
      ],
      "text/plain": [
       "  Item    Oranges Bananas Apples Kiwifruit Sultanas Canned peaches Lettuce\n",
       "1 2019M01 4.06    2.98    3.98   5.32      2.33     1.58           3.72   \n",
       "2 2019M02 3.92    3.06    3.7    5.97      2.32     1.34           3.8    \n",
       "3 2019M03 3.81    2.98    2.63   6.34      2.32     1.52           3.62   \n",
       "4 2019M04 3.9     2.89    2.43   5.22      2.49     1.49           3.24   \n",
       "5 2019M05 4.58    2.8     2.31   3.01      2.6      1.58           3.07   \n",
       "6 2019M06 4.06    2.8     2.43   2.51      2.65     1.46           3.99   \n",
       "  Broccoli Cabbage ⋯ Fresh herbs (packaged and chilled) Jar of olives Tea bags\n",
       "1 7.89     1.64    ⋯ 3.7                                4.32          3.23    \n",
       "2 6.33     1.61    ⋯ 3.69                               4.39          3.22    \n",
       "3 6.73     1.77    ⋯ 3.75                               4.5           3.35    \n",
       "4 5.93     1.96    ⋯ 3.79                               4.5           3.18    \n",
       "5 5.2      1.75    ⋯ 3.67                               4.43          3.31    \n",
       "6 4.62     1.71    ⋯ 3.79                               4.49          3.24    \n",
       "  Fresh or frozen pizza Margarine Mayonnaise Dried mixed herbs\n",
       "1 4.9                   2.27      2.84       2.53             \n",
       "2 5.14                  2.31      2.85       2.44             \n",
       "3 4.94                  2.29      3.17       2.56             \n",
       "4 5.01                  2.27      2.97       2.51             \n",
       "5 5.09                  2.26      3.11       2.58             \n",
       "6 5.23                  2.27      3.43       2.42             \n",
       "  Salted blanched peanuts Sliced or shaved ham Chewing gum\n",
       "1 3.46                    12.66                2.8        \n",
       "2 3.44                    12.16                2.76       \n",
       "3 3.47                    12.22                2.94       \n",
       "4 3.52                    12.01                2.97       \n",
       "5 3.45                    12.67                2.94       \n",
       "6 3.41                    12.07                2.98       "
      ]
     },
     "metadata": {},
     "output_type": "display_data"
    }
   ],
   "source": [
    "fpi %>% \n",
    "  tail()"
   ]
  },
  {
   "cell_type": "code",
   "execution_count": 9,
   "metadata": {},
   "outputs": [
    {
     "data": {
      "text/html": [
       "<table>\n",
       "<caption>A tibble: 6 × 168</caption>\n",
       "<thead>\n",
       "\t<tr><th scope=col>Item</th><th scope=col>Oranges</th><th scope=col>Bananas</th><th scope=col>Apples</th><th scope=col>Kiwifruit</th><th scope=col>Sultanas</th><th scope=col>Canned.peaches</th><th scope=col>Lettuce</th><th scope=col>Broccoli</th><th scope=col>Cabbage</th><th scope=col>⋯</th><th scope=col>Tea.bags.1</th><th scope=col>Fresh.or.frozen.pizza</th><th scope=col>Margarine</th><th scope=col>Mayonnaise</th><th scope=col>Dried.mixed.herbs</th><th scope=col>Salted.blanched.peanuts</th><th scope=col>Sliced.or.shaved.ham</th><th scope=col>Chewing.gum</th><th scope=col>year</th><th scope=col>month</th></tr>\n",
       "\t<tr><th scope=col>&lt;chr&gt;</th><th scope=col>&lt;chr&gt;</th><th scope=col>&lt;chr&gt;</th><th scope=col>&lt;chr&gt;</th><th scope=col>&lt;chr&gt;</th><th scope=col>&lt;chr&gt;</th><th scope=col>&lt;chr&gt;</th><th scope=col>&lt;chr&gt;</th><th scope=col>&lt;chr&gt;</th><th scope=col>&lt;chr&gt;</th><th scope=col>⋯</th><th scope=col>&lt;chr&gt;</th><th scope=col>&lt;chr&gt;</th><th scope=col>&lt;chr&gt;</th><th scope=col>&lt;chr&gt;</th><th scope=col>&lt;chr&gt;</th><th scope=col>&lt;chr&gt;</th><th scope=col>&lt;chr&gt;</th><th scope=col>&lt;chr&gt;</th><th scope=col>&lt;chr&gt;</th><th scope=col>&lt;chr&gt;</th></tr>\n",
       "</thead>\n",
       "<tbody>\n",
       "\t<tr><td>2019M01</td><td>4.06</td><td>2.98</td><td>3.98</td><td>5.32</td><td>2.33</td><td>1.58</td><td>3.72</td><td>7.89</td><td>1.64</td><td>⋯</td><td>3.23</td><td>4.9 </td><td>2.27</td><td>2.84</td><td>2.53</td><td>3.46</td><td>12.66</td><td>2.8 </td><td>2019</td><td>01</td></tr>\n",
       "\t<tr><td>2019M02</td><td>3.92</td><td>3.06</td><td>3.7 </td><td>5.97</td><td>2.32</td><td>1.34</td><td>3.8 </td><td>6.33</td><td>1.61</td><td>⋯</td><td>3.22</td><td>5.14</td><td>2.31</td><td>2.85</td><td>2.44</td><td>3.44</td><td>12.16</td><td>2.76</td><td>2019</td><td>02</td></tr>\n",
       "\t<tr><td>2019M03</td><td>3.81</td><td>2.98</td><td>2.63</td><td>6.34</td><td>2.32</td><td>1.52</td><td>3.62</td><td>6.73</td><td>1.77</td><td>⋯</td><td>3.35</td><td>4.94</td><td>2.29</td><td>3.17</td><td>2.56</td><td>3.47</td><td>12.22</td><td>2.94</td><td>2019</td><td>03</td></tr>\n",
       "\t<tr><td>2019M04</td><td>3.9 </td><td>2.89</td><td>2.43</td><td>5.22</td><td>2.49</td><td>1.49</td><td>3.24</td><td>5.93</td><td>1.96</td><td>⋯</td><td>3.18</td><td>5.01</td><td>2.27</td><td>2.97</td><td>2.51</td><td>3.52</td><td>12.01</td><td>2.97</td><td>2019</td><td>04</td></tr>\n",
       "\t<tr><td>2019M05</td><td>4.58</td><td>2.8 </td><td>2.31</td><td>3.01</td><td>2.6 </td><td>1.58</td><td>3.07</td><td>5.2 </td><td>1.75</td><td>⋯</td><td>3.31</td><td>5.09</td><td>2.26</td><td>3.11</td><td>2.58</td><td>3.45</td><td>12.67</td><td>2.94</td><td>2019</td><td>05</td></tr>\n",
       "\t<tr><td>2019M06</td><td>4.06</td><td>2.8 </td><td>2.43</td><td>2.51</td><td>2.65</td><td>1.46</td><td>3.99</td><td>4.62</td><td>1.71</td><td>⋯</td><td>3.24</td><td>5.23</td><td>2.27</td><td>3.43</td><td>2.42</td><td>3.41</td><td>12.07</td><td>2.98</td><td>2019</td><td>06</td></tr>\n",
       "</tbody>\n",
       "</table>\n"
      ],
      "text/latex": [
       "A tibble: 6 × 168\n",
       "\\begin{tabular}{r|llllllllllllllllllllllllllllllllllllllllllllllllllllllllllllllllllllllllllllllllllllllllllllllllllllllllllllllllllllllllllllllllllllllllllllllllllllllllllllllllllllllll}\n",
       " Item & Oranges & Bananas & Apples & Kiwifruit & Sultanas & Canned.peaches & Lettuce & Broccoli & Cabbage & Tomatoes & Carrots & Mushrooms & Potatoes & Frozen.peas & Beef.steak..blade.steak. & Beef.steak..porterhouse.sirloin.steak. & Beef..mince. & Pork.loin.chops & Lamb.chops & Bacon..middle.rashers. & Sausages & Canned.tuna & Sliced.loaf.of.white.bread & Chocolate.biscuits & Breakfast.biscuits & White.flour & White..long.grained.rice & Standard.homogenised.milk & Flavoured.yoghurt & Mild.cheddar.cheese & Eggs & Salted.butter & White.sugar & Canned.tomato.sauce & Block.of.chocolate & Potato.crisps & Canned.spaghetti & Instant.coffee & Tea.bags & Soft.drink & Bottled.water & Apple.based.fruit.juice & Fish.and.chips & Hot.meat.pie & Apple.based.fruit.juice.1 & Potato.crisps.1 & Canned.tomato.sauce.1 & Bacon..middle.rashers..1 & Chicken.breast & Sliced.loaf.of.white.bread.1 & Alfalfa.sprouts & Dried.apricots & Avocados & Baby.food & Beans & Hot.filled.bread.roll & Bread.rolls..hamburger.buns. & Breakfast.drink & Burger & Canned.soup & Capsicum & Cauliflower & Celery & Cottage.cheese & Camember.cheese & Processed.slices.of.cheese & Whole.cooked.chicken & Chicken.pieces & Whole.frozen.chicken & Frozen.chicken.nuggets & Chilled.fruit.juice.or.smoothies & Loose.boxed.chocolates & Block.of.chocolate.1 & Chocolate.novelty.bars & Creamed.style.canned.corn & Corn.flakes & Corned.beef & Courgettes & Crackers & Cream & Cucumber & Frozen.dessert & Fruit.flavoured.drink.powder & Dried.pasta & Drinking.chocolate & Calcium.enriched.milk & Frozen.fish.fillets & Flat.bread & Free.range.eggs & Fresh.fish & Fresh.pasta & Fried.and.other.takeaway.chicken & Frozen.berries & Grapes & Ground.coffee & Clover.creamed.honey & Hot.chips.or.wedges & Hummus.dip & Water.based.ice.block & Ice.cream & Ice.cream.novelty & Infant.formula & Jam & Kumara & Luncheon.meat & Mandarins & Marinated.mussels & Chilled.meat.pies & Frozen.mixed.vegetables & Muesli & Muesli.or.cereal.bars & Live.mussels & Sandwich & Olive.oil & Onions & Orange.juice & Packaged.cake.slice & Parsnips & Packaged.meal.with.pasta.and.sauce & Tomato.based.pasta.sauces & Frozen.pastry.sheets & Pears & Canned.pineapple.pieces & Pineapple & Plain.biscuits & Frozen.potato.fries & Frozen.prawns & Frozen.prepared.meals & Pumpkin & Roasting.lamb.and.hogget & Roasting.pork & Packaged.leaf.salad & Salami & Canned.salmon & Poured.soft.drink & Soft.drink.1 & Unflavoured.soy.milk & Soy.sauce & Sports.energy.drink & Sports.energy.drink.1 & Two.minute.noodles & Peanut.butter & Sweets & Cakes.and.biscuits & Coffee & Cookie & Milkshakes & Muffins.and.buns & Pizza & Vegetable.salad & Tea & Canned.tomatoes & Vinegar & Sliced.wheatmeal.bread & Sliced.wholegrain.bread & Fresh.herbs..packaged.and.chilled. & Jar.of.olives & Tea.bags.1 & Fresh.or.frozen.pizza & Margarine & Mayonnaise & Dried.mixed.herbs & Salted.blanched.peanuts & Sliced.or.shaved.ham & Chewing.gum & year & month\\\\\n",
       " <chr> & <chr> & <chr> & <chr> & <chr> & <chr> & <chr> & <chr> & <chr> & <chr> & <chr> & <chr> & <chr> & <chr> & <chr> & <chr> & <chr> & <chr> & <chr> & <chr> & <chr> & <chr> & <chr> & <chr> & <chr> & <chr> & <chr> & <chr> & <chr> & <chr> & <chr> & <chr> & <chr> & <chr> & <chr> & <chr> & <chr> & <chr> & <chr> & <chr> & <chr> & <chr> & <chr> & <chr> & <chr> & <chr> & <chr> & <chr> & <chr> & <chr> & <chr> & <chr> & <chr> & <chr> & <chr> & <chr> & <chr> & <chr> & <chr> & <chr> & <chr> & <chr> & <chr> & <chr> & <chr> & <chr> & <chr> & <chr> & <chr> & <chr> & <chr> & <chr> & <chr> & <chr> & <chr> & <chr> & <chr> & <chr> & <chr> & <chr> & <chr> & <chr> & <chr> & <chr> & <chr> & <chr> & <chr> & <chr> & <chr> & <chr> & <chr> & <chr> & <chr> & <chr> & <chr> & <chr> & <chr> & <chr> & <chr> & <chr> & <chr> & <chr> & <chr> & <chr> & <chr> & <chr> & <chr> & <chr> & <chr> & <chr> & <chr> & <chr> & <chr> & <chr> & <chr> & <chr> & <chr> & <chr> & <chr> & <chr> & <chr> & <chr> & <chr> & <chr> & <chr> & <chr> & <chr> & <chr> & <chr> & <chr> & <chr> & <chr> & <chr> & <chr> & <chr> & <chr> & <chr> & <chr> & <chr> & <chr> & <chr> & <chr> & <chr> & <chr> & <chr> & <chr> & <chr> & <chr> & <chr> & <chr> & <chr> & <chr> & <chr> & <chr> & <chr> & <chr> & <chr> & <chr> & <chr> & <chr> & <chr> & <chr> & <chr> & <chr> & <chr> & <chr> & <chr> & <chr>\\\\\n",
       "\\hline\n",
       "\t 2019M01 & 4.06 & 2.98 & 3.98 & 5.32 & 2.33 & 1.58 & 3.72 & 7.89 & 1.64 & 2.79 & 2.49 & 12.11 & 2.09 & 2.44 & 19.07 & 29.94 & 15.04 & 16.31 & 15.82 & .. & 10.2  & 2.79 & .. & 2.8  & 5.58 & 1.77 & 2.53 & 3.49 & 5.18 & 9.43 & 4.19 & 5.79 & 2.57 & .. & 4.2  & .. & 1.47 & 6.1  & 4.99 & 2.51 & 1.96 & .. & 6.75 & 4.33 & 4.36 & 1.9  & 2.96 & 10.84 & 13.02 & 1.1  & .. & 2.21 & 7.92  & 1.16 & 11.57 & 6.95 & 2.89 & 7.41 & 5.15 & 3.5  & 10.28 & 4.05 & 4.39 & .. & 4.6  & 3.7  & 11.62 & 8.5  & 7.34 & 10.36 & 4.64 & 8.15 & 4.64 & 1.47 & .. & 3.76 & 10.2  & 4.99  & 3.25 & 2.59 & 4.42  & 6.72 & 1.09 & 1.85 & 4.05 & 5.51 & 7.58 & 4.12 & 5.05 & 33.8  & 4.49 & 12.16 & 6.12 & 8.26 & 6.15 & 10.26 & 3.41 & 3.66 & 2.45 & 6.1  & 3.61 & 20.03 & 2.6  & 5.51 & .. & 5.19 & 7    & 6.31 & 3.4  & 5.3  & 2.77 & 4.8  & 4.69 & 12.26 & 2.85 & 2.42 & 3.72 & 6.39 & 2.36 & 2.96 & 5.2  & 4.82 & 1.97 & 3.09 & 2.1  & 3.3  & 16.08 & 5.48 & 3.58 & 16.27 & 9.96  & 4.5  & 3.18 & 3.28 & 2.77 & 3.77 & 3.29 & 2.59 & 3.26 & 2.02 & 2.29 & 2.77 & 2.99 & 4.24 & 3.85 & 2.2  & .. & 3.76 & 13.96 & 10.29 & 3.42 & 1.14 & 2.54 & 2.85 & 3.48 & 3.7  & 4.32 & 3.23 & 4.9  & 2.27 & 2.84 & 2.53 & 3.46 & 12.66 & 2.8  & 2019 & 01\\\\\n",
       "\t 2019M02 & 3.92 & 3.06 & 3.7  & 5.97 & 2.32 & 1.34 & 3.8  & 6.33 & 1.61 & 3.62 & 2.48 & 12.15 & 1.95 & 2.38 & 18.83 & 31.35 & 14.8  & 15.99 & 16.7  & .. & 9.74  & 2.89 & .. & 2.68 & 5.51 & 1.92 & 2.51 & 3.48 & 4.83 & 9.1  & 4.3  & 5.2  & 2.54 & .. & 4.3  & .. & 1.34 & 5.55 & 4.86 & 2.7  & 2.04 & .. & 6.81 & 4.33 & 4.4  & 1.95 & 2.73 & 10.71 & 12.82 & 1.09 & .. & 2.28 & 9.03  & 1.08 & 10.83 & 6.99 & 2.91 & 6.96 & 5.16 & 3.26 & 10.7  & 4.14 & 3.73 & .. & 4.37 & 3.56 & 10.81 & 8.04 & 7.2  & 10.36 & 4.71 & 7.25 & 4.56 & 1.52 & .. & 3.95 & 10.12 & 7.22  & 3.22 & 2.59 & 6.4   & 6.47 & 1.32 & 1.82 & 3.97 & 5.51 & 7.74 & 4.07 & 5.19 & 34.17 & 4.71 & 12.24 & 5.78 & 8.92 & 6.5  & 10.08 & 3.42 & 3.7  & 2.48 & 6.06 & 3.61 & 20.23 & 2.66 & 6.76 & .. & 5.54 & 6.84 & 6.26 & 3.47 & 4.97 & 2.7  & 4.96 & 4.7  & 11.68 & 2.78 & 2.38 & 3.7  & 6.36 & 2.55 & 2.98 & 5.38 & 4.26 & 1.97 & 3.19 & 2.23 & 3.24 & 15.31 & 5.64 & 3.1  & 16.38 & 10.5  & 4.48 & 3.34 & 3.39 & 3.12 & 3.87 & 3.31 & 2.64 & 3.51 & 2.08 & 2.42 & 2.79 & 3.08 & 4.25 & 3.87 & 2.21 & .. & 3.79 & 13.96 & 10.55 & 3.42 & 1.38 & 2.52 & 2.83 & 3.55 & 3.69 & 4.39 & 3.22 & 5.14 & 2.31 & 2.85 & 2.44 & 3.44 & 12.16 & 2.76 & 2019 & 02\\\\\n",
       "\t 2019M03 & 3.81 & 2.98 & 2.63 & 6.34 & 2.32 & 1.52 & 3.62 & 6.73 & 1.77 & 5.2  & 2.33 & 12.19 & 1.85 & 2.43 & 18.86 & 30.85 & 14.43 & 15.53 & 16.3  & .. & 9.71  & 2.75 & .. & 2.7  & 5.47 & 1.93 & 2.52 & 3.49 & 4.8  & 8.94 & 4.32 & 5.11 & 2.53 & .. & 4.12 & .. & 1.46 & 5.87 & 4.98 & 2.67 & 1.97 & .. & 6.83 & 4.34 & 4.12 & 1.96 & 2.9  & 11.01 & 13.5  & 1.14 & .. & 2.2  & 21.46 & 1.11 & 12.55 & 7.03 & 2.89 & 7.67 & 5.16 & 3.33 & 11.59 & 4.58 & 3.54 & .. & 4.48 & 3.67 & 10.79 & 7.53 & 7.21 & 10.34 & 4.56 & 8.57 & 4.66 & 1.5  & .. & 3.76 & 10.55 & 8.99  & 3.25 & 2.58 & 7.28  & 6.79 & 1.3  & 1.9  & 4.2  & 5.5  & 7.7  & 4.03 & 5.18 & 33.57 & 4.73 & 12.26 & 6.07 & 7.76 & 6.21 & 10.24 & 3.41 & 3.81 & 2.48 & 6.11 & 3.56 & 20.64 & 2.77 & 5.38 & .. & 6.11 & 6.45 & 6.19 & 3.58 & 5.32 & 2.7  & 4.97 & 4.74 & 12.32 & 2.58 & 2.45 & 3.47 & 6.16 & 2.56 & 3.13 & 5.43 & 3.6  & 2.03 & 3.35 & 2.11 & 3.39 & 17.15 & 5.3  & 2.67 & 15.15 & 10.04 & 4.63 & 3.25 & 3.78 & 3.16 & 3.82 & 3.33 & 2.64 & 3.3  & 2.07 & 2.37 & 2.83 & 3    & 4.27 & 3.87 & 2.21 & .. & 3.8  & 14.01 & 10.56 & 3.43 & 1.18 & 2.48 & 2.89 & 3.58 & 3.75 & 4.5  & 3.35 & 4.94 & 2.29 & 3.17 & 2.56 & 3.47 & 12.22 & 2.94 & 2019 & 03\\\\\n",
       "\t 2019M04 & 3.9  & 2.89 & 2.43 & 5.22 & 2.49 & 1.49 & 3.24 & 5.93 & 1.96 & 5.35 & 2.12 & 12.54 & 1.82 & 2.47 & 19.01 & 27.56 & 15.07 & 16.27 & 15.9  & .. & 10.28 & 2.98 & .. & 2.76 & 5.72 & 1.94 & 2.48 & 3.5  & 4.93 & 8.79 & 4.43 & 5.17 & 2.54 & .. & 4.57 & .. & 1.46 & 5.71 & 4.88 & 2.56 & 1.98 & .. & 6.88 & 4.37 & 4.37 & 1.86 & 2.66 & 11    & 12.44 & 1.08 & .. & 2.23 & 23.18 & 1.23 & 12.89 & 7.08 & 2.9  & 7.12 & 5.26 & 3.25 & 12.17 & 4.03 & 4.15 & .. & 4.48 & 3.58 & 11.56 & 7.89 & 7.19 & 10.01 & 4.75 & 8.65 & 4.63 & 1.4  & .. & 3.72 & 11.02 & 7.42  & 3.12 & 2.62 & 7.28  & 6.55 & 1.11 & 1.88 & 3.85 & 5.54 & 7.68 & 4.15 & 5.18 & 33.42 & 4.94 & 12.32 & 6.15 & 6.56 & 6.82 & 10    & 3.47 & 3.86 & 2.48 & 6.36 & 3.57 & 20.31 & 2.79 & 4.96 & .. & 6.44 & 6.76 & 6.28 & 3.38 & 5.39 & 2.82 & 4.98 & 4.76 & 12.22 & 2.41 & 2.42 & 3.55 & 5.9  & 2.61 & 3.01 & 5.3  & 3.21 & 1.98 & 3.12 & 2.26 & 3.29 & 17.19 & 5.48 & 2.38 & 16.36 & 10.23 & 4.53 & 3.27 & 3.89 & 3.2  & 3.82 & 3.29 & 2.68 & 3.22 & 2.19 & 2.39 & 2.81 & 2.99 & 4.33 & 3.89 & 2.21 & .. & 3.84 & 14.39 & 10.71 & 3.47 & 1.1  & 2.55 & 2.81 & 3.62 & 3.79 & 4.5  & 3.18 & 5.01 & 2.27 & 2.97 & 2.51 & 3.52 & 12.01 & 2.97 & 2019 & 04\\\\\n",
       "\t 2019M05 & 4.58 & 2.8  & 2.31 & 3.01 & 2.6  & 1.58 & 3.07 & 5.2  & 1.75 & 5.69 & 2.06 & 12.39 & 1.77 & 2.39 & 18.51 & 27.43 & 14.56 & 14.77 & 17.3  & .. & 10.44 & 2.7  & .. & 2.71 & 5.54 & 1.78 & 2.51 & 3.5  & 5.03 & 9.57 & 4.51 & 5.43 & 2.55 & .. & 4.4  & .. & 1.45 & 5.68 & 5.11 & 2.7  & 1.99 & .. & 6.92 & 4.35 & 4.49 & 1.87 & 2.84 & 11.03 & 13.8  & 1.12 & .. & 2.25 & 28.67 & 1.15 & 12.51 & 7.1  & 2.87 & 7.64 & 5.28 & 2.88 & 16.24 & 3.45 & 3.62 & .. & 4.79 & 3.69 & 11.7  & 8.04 & 7.33 & 10.32 & 4.76 & 7.67 & 4.62 & 1.42 & .. & 3.81 & 10.3  & 9.19  & 3.2  & 2.61 & 8.14  & 6.36 & 1.29 & 1.79 & 4.08 & 5.53 & 7.61 & 4.09 & 5.26 & 35.02 & 4.74 & 12.41 & 6.06 & 6.61 & 6.43 & 9.84  & 3.49 & 3.94 & 2.48 & 6.32 & 3.58 & 20.78 & 2.71 & 4.86 & .. & 5.07 & 6.82 & 5.94 & 3.44 & 5.14 & 2.73 & 5    & 4.78 & 12.29 & 2.34 & 2.27 & 3.7  & 5.67 & 2.53 & 3.08 & 5.4  & 3.39 & 2.11 & 3    & 2.24 & 3.45 & 17.15 & 5.63 & 2.25 & 16.43 & 10.31 & 4.66 & 3.23 & 3.98 & 3.2  & 3.85 & 3.19 & 2.56 & 3.39 & 2.01 & 2.44 & 2.78 & 3.06 & 4.34 & 3.89 & 2.21 & .. & 3.85 & 14.38 & 11.04 & 3.48 & 1.25 & 2.44 & 2.78 & 3.53 & 3.67 & 4.43 & 3.31 & 5.09 & 2.26 & 3.11 & 2.58 & 3.45 & 12.67 & 2.94 & 2019 & 05\\\\\n",
       "\t 2019M06 & 4.06 & 2.8  & 2.43 & 2.51 & 2.65 & 1.46 & 3.99 & 4.62 & 1.71 & 5.28 & 1.92 & 12.48 & 1.77 & 2.42 & 19.12 & 25.99 & 15.44 & 16.27 & 17.41 & .. & 11.19 & 2.72 & .. & 2.56 & 5.55 & 1.78 & 2.6  & 3.53 & 4.57 & 9.82 & 4.63 & 5.33 & 2.53 & .. & 4.49 & .. & 1.34 & 5.65 & 4.98 & 2.54 & 2.07 & .. & 6.96 & 4.37 & 4.19 & 1.84 & 2.89 & 11.01 & 13.44 & 1.11 & .. & 1.94 & 14.94 & 1.14 & 13.47 & 7.11 & 2.89 & 7.29 & 5.33 & 2.79 & 16.9  & 3.76 & 2.97 & .. & 4.12 & 3.45 & 11.57 & 8.05 & 7.43 & 10.05 & 4.9  & 9.09 & 4.7  & 1.41 & .. & 3.72 & 10.52 & 10.83 & 3.19 & 2.63 & 13.19 & 6.46 & 1.19 & 1.91 & 3.52 & 5.52 & 7.69 & 4.05 & 5.25 & 33.75 & 4.62 & 12.56 & 5.99 & 6.91 & 6.34 & 9.55  & 3.52 & 3.72 & 2.54 & 6.13 & 3.65 & 20.55 & 2.67 & 4.6  & .. & 4.58 & 6.89 & 5.86 & 3.49 & 5.25 & 2.83 & 4.93 & 4.81 & 12.46 & 2.2  & 2.57 & 3.56 & 5.57 & 2.45 & 3.07 & 5.3  & 3.59 & 2.12 & 3.11 & 1.92 & 3.24 & 17.99 & 5.57 & 2.01 & 14.48 & 10.18 & 4.72 & 3.34 & 3.88 & 3.24 & 3.83 & 3.32 & 2.54 & 3.32 & 1.9  & 2.33 & 2.82 & 3.02 & 4.36 & 3.9  & 2.17 & .. & 3.87 & 14.38 & 10.66 & 3.49 & 1.22 & 2.55 & 2.78 & 3.5  & 3.79 & 4.49 & 3.24 & 5.23 & 2.27 & 3.43 & 2.42 & 3.41 & 12.07 & 2.98 & 2019 & 06\\\\\n",
       "\\end{tabular}\n"
      ],
      "text/markdown": [
       "\n",
       "A tibble: 6 × 168\n",
       "\n",
       "| Item &lt;chr&gt; | Oranges &lt;chr&gt; | Bananas &lt;chr&gt; | Apples &lt;chr&gt; | Kiwifruit &lt;chr&gt; | Sultanas &lt;chr&gt; | Canned.peaches &lt;chr&gt; | Lettuce &lt;chr&gt; | Broccoli &lt;chr&gt; | Cabbage &lt;chr&gt; | ⋯ ⋯ | Tea.bags.1 &lt;chr&gt; | Fresh.or.frozen.pizza &lt;chr&gt; | Margarine &lt;chr&gt; | Mayonnaise &lt;chr&gt; | Dried.mixed.herbs &lt;chr&gt; | Salted.blanched.peanuts &lt;chr&gt; | Sliced.or.shaved.ham &lt;chr&gt; | Chewing.gum &lt;chr&gt; | year &lt;chr&gt; | month &lt;chr&gt; |\n",
       "|---|---|---|---|---|---|---|---|---|---|---|---|---|---|---|---|---|---|---|---|---|\n",
       "| 2019M01 | 4.06 | 2.98 | 3.98 | 5.32 | 2.33 | 1.58 | 3.72 | 7.89 | 1.64 | ⋯ | 3.23 | 4.9  | 2.27 | 2.84 | 2.53 | 3.46 | 12.66 | 2.8  | 2019 | 01 |\n",
       "| 2019M02 | 3.92 | 3.06 | 3.7  | 5.97 | 2.32 | 1.34 | 3.8  | 6.33 | 1.61 | ⋯ | 3.22 | 5.14 | 2.31 | 2.85 | 2.44 | 3.44 | 12.16 | 2.76 | 2019 | 02 |\n",
       "| 2019M03 | 3.81 | 2.98 | 2.63 | 6.34 | 2.32 | 1.52 | 3.62 | 6.73 | 1.77 | ⋯ | 3.35 | 4.94 | 2.29 | 3.17 | 2.56 | 3.47 | 12.22 | 2.94 | 2019 | 03 |\n",
       "| 2019M04 | 3.9  | 2.89 | 2.43 | 5.22 | 2.49 | 1.49 | 3.24 | 5.93 | 1.96 | ⋯ | 3.18 | 5.01 | 2.27 | 2.97 | 2.51 | 3.52 | 12.01 | 2.97 | 2019 | 04 |\n",
       "| 2019M05 | 4.58 | 2.8  | 2.31 | 3.01 | 2.6  | 1.58 | 3.07 | 5.2  | 1.75 | ⋯ | 3.31 | 5.09 | 2.26 | 3.11 | 2.58 | 3.45 | 12.67 | 2.94 | 2019 | 05 |\n",
       "| 2019M06 | 4.06 | 2.8  | 2.43 | 2.51 | 2.65 | 1.46 | 3.99 | 4.62 | 1.71 | ⋯ | 3.24 | 5.23 | 2.27 | 3.43 | 2.42 | 3.41 | 12.07 | 2.98 | 2019 | 06 |\n",
       "\n"
      ],
      "text/plain": [
       "  Item    Oranges Bananas Apples Kiwifruit Sultanas Canned.peaches Lettuce\n",
       "1 2019M01 4.06    2.98    3.98   5.32      2.33     1.58           3.72   \n",
       "2 2019M02 3.92    3.06    3.7    5.97      2.32     1.34           3.8    \n",
       "3 2019M03 3.81    2.98    2.63   6.34      2.32     1.52           3.62   \n",
       "4 2019M04 3.9     2.89    2.43   5.22      2.49     1.49           3.24   \n",
       "5 2019M05 4.58    2.8     2.31   3.01      2.6      1.58           3.07   \n",
       "6 2019M06 4.06    2.8     2.43   2.51      2.65     1.46           3.99   \n",
       "  Broccoli Cabbage ⋯ Tea.bags.1 Fresh.or.frozen.pizza Margarine Mayonnaise\n",
       "1 7.89     1.64    ⋯ 3.23       4.9                   2.27      2.84      \n",
       "2 6.33     1.61    ⋯ 3.22       5.14                  2.31      2.85      \n",
       "3 6.73     1.77    ⋯ 3.35       4.94                  2.29      3.17      \n",
       "4 5.93     1.96    ⋯ 3.18       5.01                  2.27      2.97      \n",
       "5 5.2      1.75    ⋯ 3.31       5.09                  2.26      3.11      \n",
       "6 4.62     1.71    ⋯ 3.24       5.23                  2.27      3.43      \n",
       "  Dried.mixed.herbs Salted.blanched.peanuts Sliced.or.shaved.ham Chewing.gum\n",
       "1 2.53              3.46                    12.66                2.8        \n",
       "2 2.44              3.44                    12.16                2.76       \n",
       "3 2.56              3.47                    12.22                2.94       \n",
       "4 2.51              3.52                    12.01                2.97       \n",
       "5 2.58              3.45                    12.67                2.94       \n",
       "6 2.42              3.41                    12.07                2.98       \n",
       "  year month\n",
       "1 2019 01   \n",
       "2 2019 02   \n",
       "3 2019 03   \n",
       "4 2019 04   \n",
       "5 2019 05   \n",
       "6 2019 06   "
      ]
     },
     "metadata": {},
     "output_type": "display_data"
    }
   ],
   "source": [
    "fpi <- fpi %>%setNames(make.names(names(.), unique = TRUE))%>%\n",
    "  mutate(year = substr(Item, 0, nchar(Item)-3)) %>%\n",
    "  mutate(month = substr(Item, nchar(Item)-1, nchar(Item)))\n",
    "fpi %>%\n",
    "    tail()"
   ]
  },
  {
   "cell_type": "code",
   "execution_count": 10,
   "metadata": {},
   "outputs": [
    {
     "data": {
      "text/html": [
       "<table>\n",
       "<caption>A tibble: 6 × 169</caption>\n",
       "<thead>\n",
       "\t<tr><th scope=col>Item</th><th scope=col>Oranges</th><th scope=col>Bananas</th><th scope=col>Apples</th><th scope=col>Kiwifruit</th><th scope=col>Sultanas</th><th scope=col>Canned.peaches</th><th scope=col>Lettuce</th><th scope=col>Broccoli</th><th scope=col>Cabbage</th><th scope=col>⋯</th><th scope=col>Fresh.or.frozen.pizza</th><th scope=col>Margarine</th><th scope=col>Mayonnaise</th><th scope=col>Dried.mixed.herbs</th><th scope=col>Salted.blanched.peanuts</th><th scope=col>Sliced.or.shaved.ham</th><th scope=col>Chewing.gum</th><th scope=col>year</th><th scope=col>month</th><th scope=col>month_abb</th></tr>\n",
       "\t<tr><th scope=col>&lt;chr&gt;</th><th scope=col>&lt;chr&gt;</th><th scope=col>&lt;chr&gt;</th><th scope=col>&lt;chr&gt;</th><th scope=col>&lt;chr&gt;</th><th scope=col>&lt;chr&gt;</th><th scope=col>&lt;chr&gt;</th><th scope=col>&lt;chr&gt;</th><th scope=col>&lt;chr&gt;</th><th scope=col>&lt;chr&gt;</th><th scope=col>⋯</th><th scope=col>&lt;chr&gt;</th><th scope=col>&lt;chr&gt;</th><th scope=col>&lt;chr&gt;</th><th scope=col>&lt;chr&gt;</th><th scope=col>&lt;chr&gt;</th><th scope=col>&lt;chr&gt;</th><th scope=col>&lt;chr&gt;</th><th scope=col>&lt;chr&gt;</th><th scope=col>&lt;chr&gt;</th><th scope=col>&lt;chr&gt;</th></tr>\n",
       "</thead>\n",
       "<tbody>\n",
       "\t<tr><td>2019M01</td><td>4.06</td><td>2.98</td><td>3.98</td><td>5.32</td><td>2.33</td><td>1.58</td><td>3.72</td><td>7.89</td><td>1.64</td><td>⋯</td><td>4.9 </td><td>2.27</td><td>2.84</td><td>2.53</td><td>3.46</td><td>12.66</td><td>2.8 </td><td>2019</td><td>01</td><td>NA</td></tr>\n",
       "\t<tr><td>2019M02</td><td>3.92</td><td>3.06</td><td>3.7 </td><td>5.97</td><td>2.32</td><td>1.34</td><td>3.8 </td><td>6.33</td><td>1.61</td><td>⋯</td><td>5.14</td><td>2.31</td><td>2.85</td><td>2.44</td><td>3.44</td><td>12.16</td><td>2.76</td><td>2019</td><td>02</td><td>NA</td></tr>\n",
       "\t<tr><td>2019M03</td><td>3.81</td><td>2.98</td><td>2.63</td><td>6.34</td><td>2.32</td><td>1.52</td><td>3.62</td><td>6.73</td><td>1.77</td><td>⋯</td><td>4.94</td><td>2.29</td><td>3.17</td><td>2.56</td><td>3.47</td><td>12.22</td><td>2.94</td><td>2019</td><td>03</td><td>NA</td></tr>\n",
       "\t<tr><td>2019M04</td><td>3.9 </td><td>2.89</td><td>2.43</td><td>5.22</td><td>2.49</td><td>1.49</td><td>3.24</td><td>5.93</td><td>1.96</td><td>⋯</td><td>5.01</td><td>2.27</td><td>2.97</td><td>2.51</td><td>3.52</td><td>12.01</td><td>2.97</td><td>2019</td><td>04</td><td>NA</td></tr>\n",
       "\t<tr><td>2019M05</td><td>4.58</td><td>2.8 </td><td>2.31</td><td>3.01</td><td>2.6 </td><td>1.58</td><td>3.07</td><td>5.2 </td><td>1.75</td><td>⋯</td><td>5.09</td><td>2.26</td><td>3.11</td><td>2.58</td><td>3.45</td><td>12.67</td><td>2.94</td><td>2019</td><td>05</td><td>NA</td></tr>\n",
       "\t<tr><td>2019M06</td><td>4.06</td><td>2.8 </td><td>2.43</td><td>2.51</td><td>2.65</td><td>1.46</td><td>3.99</td><td>4.62</td><td>1.71</td><td>⋯</td><td>5.23</td><td>2.27</td><td>3.43</td><td>2.42</td><td>3.41</td><td>12.07</td><td>2.98</td><td>2019</td><td>06</td><td>NA</td></tr>\n",
       "</tbody>\n",
       "</table>\n"
      ],
      "text/latex": [
       "A tibble: 6 × 169\n",
       "\\begin{tabular}{r|lllllllllllllllllllllllllllllllllllllllllllllllllllllllllllllllllllllllllllllllllllllllllllllllllllllllllllllllllllllllllllllllllllllllllllllllllllllllllllllllllllllllll}\n",
       " Item & Oranges & Bananas & Apples & Kiwifruit & Sultanas & Canned.peaches & Lettuce & Broccoli & Cabbage & Tomatoes & Carrots & Mushrooms & Potatoes & Frozen.peas & Beef.steak..blade.steak. & Beef.steak..porterhouse.sirloin.steak. & Beef..mince. & Pork.loin.chops & Lamb.chops & Bacon..middle.rashers. & Sausages & Canned.tuna & Sliced.loaf.of.white.bread & Chocolate.biscuits & Breakfast.biscuits & White.flour & White..long.grained.rice & Standard.homogenised.milk & Flavoured.yoghurt & Mild.cheddar.cheese & Eggs & Salted.butter & White.sugar & Canned.tomato.sauce & Block.of.chocolate & Potato.crisps & Canned.spaghetti & Instant.coffee & Tea.bags & Soft.drink & Bottled.water & Apple.based.fruit.juice & Fish.and.chips & Hot.meat.pie & Apple.based.fruit.juice.1 & Potato.crisps.1 & Canned.tomato.sauce.1 & Bacon..middle.rashers..1 & Chicken.breast & Sliced.loaf.of.white.bread.1 & Alfalfa.sprouts & Dried.apricots & Avocados & Baby.food & Beans & Hot.filled.bread.roll & Bread.rolls..hamburger.buns. & Breakfast.drink & Burger & Canned.soup & Capsicum & Cauliflower & Celery & Cottage.cheese & Camember.cheese & Processed.slices.of.cheese & Whole.cooked.chicken & Chicken.pieces & Whole.frozen.chicken & Frozen.chicken.nuggets & Chilled.fruit.juice.or.smoothies & Loose.boxed.chocolates & Block.of.chocolate.1 & Chocolate.novelty.bars & Creamed.style.canned.corn & Corn.flakes & Corned.beef & Courgettes & Crackers & Cream & Cucumber & Frozen.dessert & Fruit.flavoured.drink.powder & Dried.pasta & Drinking.chocolate & Calcium.enriched.milk & Frozen.fish.fillets & Flat.bread & Free.range.eggs & Fresh.fish & Fresh.pasta & Fried.and.other.takeaway.chicken & Frozen.berries & Grapes & Ground.coffee & Clover.creamed.honey & Hot.chips.or.wedges & Hummus.dip & Water.based.ice.block & Ice.cream & Ice.cream.novelty & Infant.formula & Jam & Kumara & Luncheon.meat & Mandarins & Marinated.mussels & Chilled.meat.pies & Frozen.mixed.vegetables & Muesli & Muesli.or.cereal.bars & Live.mussels & Sandwich & Olive.oil & Onions & Orange.juice & Packaged.cake.slice & Parsnips & Packaged.meal.with.pasta.and.sauce & Tomato.based.pasta.sauces & Frozen.pastry.sheets & Pears & Canned.pineapple.pieces & Pineapple & Plain.biscuits & Frozen.potato.fries & Frozen.prawns & Frozen.prepared.meals & Pumpkin & Roasting.lamb.and.hogget & Roasting.pork & Packaged.leaf.salad & Salami & Canned.salmon & Poured.soft.drink & Soft.drink.1 & Unflavoured.soy.milk & Soy.sauce & Sports.energy.drink & Sports.energy.drink.1 & Two.minute.noodles & Peanut.butter & Sweets & Cakes.and.biscuits & Coffee & Cookie & Milkshakes & Muffins.and.buns & Pizza & Vegetable.salad & Tea & Canned.tomatoes & Vinegar & Sliced.wheatmeal.bread & Sliced.wholegrain.bread & Fresh.herbs..packaged.and.chilled. & Jar.of.olives & Tea.bags.1 & Fresh.or.frozen.pizza & Margarine & Mayonnaise & Dried.mixed.herbs & Salted.blanched.peanuts & Sliced.or.shaved.ham & Chewing.gum & year & month & month\\_abb\\\\\n",
       " <chr> & <chr> & <chr> & <chr> & <chr> & <chr> & <chr> & <chr> & <chr> & <chr> & <chr> & <chr> & <chr> & <chr> & <chr> & <chr> & <chr> & <chr> & <chr> & <chr> & <chr> & <chr> & <chr> & <chr> & <chr> & <chr> & <chr> & <chr> & <chr> & <chr> & <chr> & <chr> & <chr> & <chr> & <chr> & <chr> & <chr> & <chr> & <chr> & <chr> & <chr> & <chr> & <chr> & <chr> & <chr> & <chr> & <chr> & <chr> & <chr> & <chr> & <chr> & <chr> & <chr> & <chr> & <chr> & <chr> & <chr> & <chr> & <chr> & <chr> & <chr> & <chr> & <chr> & <chr> & <chr> & <chr> & <chr> & <chr> & <chr> & <chr> & <chr> & <chr> & <chr> & <chr> & <chr> & <chr> & <chr> & <chr> & <chr> & <chr> & <chr> & <chr> & <chr> & <chr> & <chr> & <chr> & <chr> & <chr> & <chr> & <chr> & <chr> & <chr> & <chr> & <chr> & <chr> & <chr> & <chr> & <chr> & <chr> & <chr> & <chr> & <chr> & <chr> & <chr> & <chr> & <chr> & <chr> & <chr> & <chr> & <chr> & <chr> & <chr> & <chr> & <chr> & <chr> & <chr> & <chr> & <chr> & <chr> & <chr> & <chr> & <chr> & <chr> & <chr> & <chr> & <chr> & <chr> & <chr> & <chr> & <chr> & <chr> & <chr> & <chr> & <chr> & <chr> & <chr> & <chr> & <chr> & <chr> & <chr> & <chr> & <chr> & <chr> & <chr> & <chr> & <chr> & <chr> & <chr> & <chr> & <chr> & <chr> & <chr> & <chr> & <chr> & <chr> & <chr> & <chr> & <chr> & <chr> & <chr> & <chr> & <chr> & <chr> & <chr> & <chr> & <chr> & <chr> & <chr> & <chr>\\\\\n",
       "\\hline\n",
       "\t 2019M01 & 4.06 & 2.98 & 3.98 & 5.32 & 2.33 & 1.58 & 3.72 & 7.89 & 1.64 & 2.79 & 2.49 & 12.11 & 2.09 & 2.44 & 19.07 & 29.94 & 15.04 & 16.31 & 15.82 & .. & 10.2  & 2.79 & .. & 2.8  & 5.58 & 1.77 & 2.53 & 3.49 & 5.18 & 9.43 & 4.19 & 5.79 & 2.57 & .. & 4.2  & .. & 1.47 & 6.1  & 4.99 & 2.51 & 1.96 & .. & 6.75 & 4.33 & 4.36 & 1.9  & 2.96 & 10.84 & 13.02 & 1.1  & .. & 2.21 & 7.92  & 1.16 & 11.57 & 6.95 & 2.89 & 7.41 & 5.15 & 3.5  & 10.28 & 4.05 & 4.39 & .. & 4.6  & 3.7  & 11.62 & 8.5  & 7.34 & 10.36 & 4.64 & 8.15 & 4.64 & 1.47 & .. & 3.76 & 10.2  & 4.99  & 3.25 & 2.59 & 4.42  & 6.72 & 1.09 & 1.85 & 4.05 & 5.51 & 7.58 & 4.12 & 5.05 & 33.8  & 4.49 & 12.16 & 6.12 & 8.26 & 6.15 & 10.26 & 3.41 & 3.66 & 2.45 & 6.1  & 3.61 & 20.03 & 2.6  & 5.51 & .. & 5.19 & 7    & 6.31 & 3.4  & 5.3  & 2.77 & 4.8  & 4.69 & 12.26 & 2.85 & 2.42 & 3.72 & 6.39 & 2.36 & 2.96 & 5.2  & 4.82 & 1.97 & 3.09 & 2.1  & 3.3  & 16.08 & 5.48 & 3.58 & 16.27 & 9.96  & 4.5  & 3.18 & 3.28 & 2.77 & 3.77 & 3.29 & 2.59 & 3.26 & 2.02 & 2.29 & 2.77 & 2.99 & 4.24 & 3.85 & 2.2  & .. & 3.76 & 13.96 & 10.29 & 3.42 & 1.14 & 2.54 & 2.85 & 3.48 & 3.7  & 4.32 & 3.23 & 4.9  & 2.27 & 2.84 & 2.53 & 3.46 & 12.66 & 2.8  & 2019 & 01 & NA\\\\\n",
       "\t 2019M02 & 3.92 & 3.06 & 3.7  & 5.97 & 2.32 & 1.34 & 3.8  & 6.33 & 1.61 & 3.62 & 2.48 & 12.15 & 1.95 & 2.38 & 18.83 & 31.35 & 14.8  & 15.99 & 16.7  & .. & 9.74  & 2.89 & .. & 2.68 & 5.51 & 1.92 & 2.51 & 3.48 & 4.83 & 9.1  & 4.3  & 5.2  & 2.54 & .. & 4.3  & .. & 1.34 & 5.55 & 4.86 & 2.7  & 2.04 & .. & 6.81 & 4.33 & 4.4  & 1.95 & 2.73 & 10.71 & 12.82 & 1.09 & .. & 2.28 & 9.03  & 1.08 & 10.83 & 6.99 & 2.91 & 6.96 & 5.16 & 3.26 & 10.7  & 4.14 & 3.73 & .. & 4.37 & 3.56 & 10.81 & 8.04 & 7.2  & 10.36 & 4.71 & 7.25 & 4.56 & 1.52 & .. & 3.95 & 10.12 & 7.22  & 3.22 & 2.59 & 6.4   & 6.47 & 1.32 & 1.82 & 3.97 & 5.51 & 7.74 & 4.07 & 5.19 & 34.17 & 4.71 & 12.24 & 5.78 & 8.92 & 6.5  & 10.08 & 3.42 & 3.7  & 2.48 & 6.06 & 3.61 & 20.23 & 2.66 & 6.76 & .. & 5.54 & 6.84 & 6.26 & 3.47 & 4.97 & 2.7  & 4.96 & 4.7  & 11.68 & 2.78 & 2.38 & 3.7  & 6.36 & 2.55 & 2.98 & 5.38 & 4.26 & 1.97 & 3.19 & 2.23 & 3.24 & 15.31 & 5.64 & 3.1  & 16.38 & 10.5  & 4.48 & 3.34 & 3.39 & 3.12 & 3.87 & 3.31 & 2.64 & 3.51 & 2.08 & 2.42 & 2.79 & 3.08 & 4.25 & 3.87 & 2.21 & .. & 3.79 & 13.96 & 10.55 & 3.42 & 1.38 & 2.52 & 2.83 & 3.55 & 3.69 & 4.39 & 3.22 & 5.14 & 2.31 & 2.85 & 2.44 & 3.44 & 12.16 & 2.76 & 2019 & 02 & NA\\\\\n",
       "\t 2019M03 & 3.81 & 2.98 & 2.63 & 6.34 & 2.32 & 1.52 & 3.62 & 6.73 & 1.77 & 5.2  & 2.33 & 12.19 & 1.85 & 2.43 & 18.86 & 30.85 & 14.43 & 15.53 & 16.3  & .. & 9.71  & 2.75 & .. & 2.7  & 5.47 & 1.93 & 2.52 & 3.49 & 4.8  & 8.94 & 4.32 & 5.11 & 2.53 & .. & 4.12 & .. & 1.46 & 5.87 & 4.98 & 2.67 & 1.97 & .. & 6.83 & 4.34 & 4.12 & 1.96 & 2.9  & 11.01 & 13.5  & 1.14 & .. & 2.2  & 21.46 & 1.11 & 12.55 & 7.03 & 2.89 & 7.67 & 5.16 & 3.33 & 11.59 & 4.58 & 3.54 & .. & 4.48 & 3.67 & 10.79 & 7.53 & 7.21 & 10.34 & 4.56 & 8.57 & 4.66 & 1.5  & .. & 3.76 & 10.55 & 8.99  & 3.25 & 2.58 & 7.28  & 6.79 & 1.3  & 1.9  & 4.2  & 5.5  & 7.7  & 4.03 & 5.18 & 33.57 & 4.73 & 12.26 & 6.07 & 7.76 & 6.21 & 10.24 & 3.41 & 3.81 & 2.48 & 6.11 & 3.56 & 20.64 & 2.77 & 5.38 & .. & 6.11 & 6.45 & 6.19 & 3.58 & 5.32 & 2.7  & 4.97 & 4.74 & 12.32 & 2.58 & 2.45 & 3.47 & 6.16 & 2.56 & 3.13 & 5.43 & 3.6  & 2.03 & 3.35 & 2.11 & 3.39 & 17.15 & 5.3  & 2.67 & 15.15 & 10.04 & 4.63 & 3.25 & 3.78 & 3.16 & 3.82 & 3.33 & 2.64 & 3.3  & 2.07 & 2.37 & 2.83 & 3    & 4.27 & 3.87 & 2.21 & .. & 3.8  & 14.01 & 10.56 & 3.43 & 1.18 & 2.48 & 2.89 & 3.58 & 3.75 & 4.5  & 3.35 & 4.94 & 2.29 & 3.17 & 2.56 & 3.47 & 12.22 & 2.94 & 2019 & 03 & NA\\\\\n",
       "\t 2019M04 & 3.9  & 2.89 & 2.43 & 5.22 & 2.49 & 1.49 & 3.24 & 5.93 & 1.96 & 5.35 & 2.12 & 12.54 & 1.82 & 2.47 & 19.01 & 27.56 & 15.07 & 16.27 & 15.9  & .. & 10.28 & 2.98 & .. & 2.76 & 5.72 & 1.94 & 2.48 & 3.5  & 4.93 & 8.79 & 4.43 & 5.17 & 2.54 & .. & 4.57 & .. & 1.46 & 5.71 & 4.88 & 2.56 & 1.98 & .. & 6.88 & 4.37 & 4.37 & 1.86 & 2.66 & 11    & 12.44 & 1.08 & .. & 2.23 & 23.18 & 1.23 & 12.89 & 7.08 & 2.9  & 7.12 & 5.26 & 3.25 & 12.17 & 4.03 & 4.15 & .. & 4.48 & 3.58 & 11.56 & 7.89 & 7.19 & 10.01 & 4.75 & 8.65 & 4.63 & 1.4  & .. & 3.72 & 11.02 & 7.42  & 3.12 & 2.62 & 7.28  & 6.55 & 1.11 & 1.88 & 3.85 & 5.54 & 7.68 & 4.15 & 5.18 & 33.42 & 4.94 & 12.32 & 6.15 & 6.56 & 6.82 & 10    & 3.47 & 3.86 & 2.48 & 6.36 & 3.57 & 20.31 & 2.79 & 4.96 & .. & 6.44 & 6.76 & 6.28 & 3.38 & 5.39 & 2.82 & 4.98 & 4.76 & 12.22 & 2.41 & 2.42 & 3.55 & 5.9  & 2.61 & 3.01 & 5.3  & 3.21 & 1.98 & 3.12 & 2.26 & 3.29 & 17.19 & 5.48 & 2.38 & 16.36 & 10.23 & 4.53 & 3.27 & 3.89 & 3.2  & 3.82 & 3.29 & 2.68 & 3.22 & 2.19 & 2.39 & 2.81 & 2.99 & 4.33 & 3.89 & 2.21 & .. & 3.84 & 14.39 & 10.71 & 3.47 & 1.1  & 2.55 & 2.81 & 3.62 & 3.79 & 4.5  & 3.18 & 5.01 & 2.27 & 2.97 & 2.51 & 3.52 & 12.01 & 2.97 & 2019 & 04 & NA\\\\\n",
       "\t 2019M05 & 4.58 & 2.8  & 2.31 & 3.01 & 2.6  & 1.58 & 3.07 & 5.2  & 1.75 & 5.69 & 2.06 & 12.39 & 1.77 & 2.39 & 18.51 & 27.43 & 14.56 & 14.77 & 17.3  & .. & 10.44 & 2.7  & .. & 2.71 & 5.54 & 1.78 & 2.51 & 3.5  & 5.03 & 9.57 & 4.51 & 5.43 & 2.55 & .. & 4.4  & .. & 1.45 & 5.68 & 5.11 & 2.7  & 1.99 & .. & 6.92 & 4.35 & 4.49 & 1.87 & 2.84 & 11.03 & 13.8  & 1.12 & .. & 2.25 & 28.67 & 1.15 & 12.51 & 7.1  & 2.87 & 7.64 & 5.28 & 2.88 & 16.24 & 3.45 & 3.62 & .. & 4.79 & 3.69 & 11.7  & 8.04 & 7.33 & 10.32 & 4.76 & 7.67 & 4.62 & 1.42 & .. & 3.81 & 10.3  & 9.19  & 3.2  & 2.61 & 8.14  & 6.36 & 1.29 & 1.79 & 4.08 & 5.53 & 7.61 & 4.09 & 5.26 & 35.02 & 4.74 & 12.41 & 6.06 & 6.61 & 6.43 & 9.84  & 3.49 & 3.94 & 2.48 & 6.32 & 3.58 & 20.78 & 2.71 & 4.86 & .. & 5.07 & 6.82 & 5.94 & 3.44 & 5.14 & 2.73 & 5    & 4.78 & 12.29 & 2.34 & 2.27 & 3.7  & 5.67 & 2.53 & 3.08 & 5.4  & 3.39 & 2.11 & 3    & 2.24 & 3.45 & 17.15 & 5.63 & 2.25 & 16.43 & 10.31 & 4.66 & 3.23 & 3.98 & 3.2  & 3.85 & 3.19 & 2.56 & 3.39 & 2.01 & 2.44 & 2.78 & 3.06 & 4.34 & 3.89 & 2.21 & .. & 3.85 & 14.38 & 11.04 & 3.48 & 1.25 & 2.44 & 2.78 & 3.53 & 3.67 & 4.43 & 3.31 & 5.09 & 2.26 & 3.11 & 2.58 & 3.45 & 12.67 & 2.94 & 2019 & 05 & NA\\\\\n",
       "\t 2019M06 & 4.06 & 2.8  & 2.43 & 2.51 & 2.65 & 1.46 & 3.99 & 4.62 & 1.71 & 5.28 & 1.92 & 12.48 & 1.77 & 2.42 & 19.12 & 25.99 & 15.44 & 16.27 & 17.41 & .. & 11.19 & 2.72 & .. & 2.56 & 5.55 & 1.78 & 2.6  & 3.53 & 4.57 & 9.82 & 4.63 & 5.33 & 2.53 & .. & 4.49 & .. & 1.34 & 5.65 & 4.98 & 2.54 & 2.07 & .. & 6.96 & 4.37 & 4.19 & 1.84 & 2.89 & 11.01 & 13.44 & 1.11 & .. & 1.94 & 14.94 & 1.14 & 13.47 & 7.11 & 2.89 & 7.29 & 5.33 & 2.79 & 16.9  & 3.76 & 2.97 & .. & 4.12 & 3.45 & 11.57 & 8.05 & 7.43 & 10.05 & 4.9  & 9.09 & 4.7  & 1.41 & .. & 3.72 & 10.52 & 10.83 & 3.19 & 2.63 & 13.19 & 6.46 & 1.19 & 1.91 & 3.52 & 5.52 & 7.69 & 4.05 & 5.25 & 33.75 & 4.62 & 12.56 & 5.99 & 6.91 & 6.34 & 9.55  & 3.52 & 3.72 & 2.54 & 6.13 & 3.65 & 20.55 & 2.67 & 4.6  & .. & 4.58 & 6.89 & 5.86 & 3.49 & 5.25 & 2.83 & 4.93 & 4.81 & 12.46 & 2.2  & 2.57 & 3.56 & 5.57 & 2.45 & 3.07 & 5.3  & 3.59 & 2.12 & 3.11 & 1.92 & 3.24 & 17.99 & 5.57 & 2.01 & 14.48 & 10.18 & 4.72 & 3.34 & 3.88 & 3.24 & 3.83 & 3.32 & 2.54 & 3.32 & 1.9  & 2.33 & 2.82 & 3.02 & 4.36 & 3.9  & 2.17 & .. & 3.87 & 14.38 & 10.66 & 3.49 & 1.22 & 2.55 & 2.78 & 3.5  & 3.79 & 4.49 & 3.24 & 5.23 & 2.27 & 3.43 & 2.42 & 3.41 & 12.07 & 2.98 & 2019 & 06 & NA\\\\\n",
       "\\end{tabular}\n"
      ],
      "text/markdown": [
       "\n",
       "A tibble: 6 × 169\n",
       "\n",
       "| Item &lt;chr&gt; | Oranges &lt;chr&gt; | Bananas &lt;chr&gt; | Apples &lt;chr&gt; | Kiwifruit &lt;chr&gt; | Sultanas &lt;chr&gt; | Canned.peaches &lt;chr&gt; | Lettuce &lt;chr&gt; | Broccoli &lt;chr&gt; | Cabbage &lt;chr&gt; | ⋯ ⋯ | Fresh.or.frozen.pizza &lt;chr&gt; | Margarine &lt;chr&gt; | Mayonnaise &lt;chr&gt; | Dried.mixed.herbs &lt;chr&gt; | Salted.blanched.peanuts &lt;chr&gt; | Sliced.or.shaved.ham &lt;chr&gt; | Chewing.gum &lt;chr&gt; | year &lt;chr&gt; | month &lt;chr&gt; | month_abb &lt;chr&gt; |\n",
       "|---|---|---|---|---|---|---|---|---|---|---|---|---|---|---|---|---|---|---|---|---|\n",
       "| 2019M01 | 4.06 | 2.98 | 3.98 | 5.32 | 2.33 | 1.58 | 3.72 | 7.89 | 1.64 | ⋯ | 4.9  | 2.27 | 2.84 | 2.53 | 3.46 | 12.66 | 2.8  | 2019 | 01 | NA |\n",
       "| 2019M02 | 3.92 | 3.06 | 3.7  | 5.97 | 2.32 | 1.34 | 3.8  | 6.33 | 1.61 | ⋯ | 5.14 | 2.31 | 2.85 | 2.44 | 3.44 | 12.16 | 2.76 | 2019 | 02 | NA |\n",
       "| 2019M03 | 3.81 | 2.98 | 2.63 | 6.34 | 2.32 | 1.52 | 3.62 | 6.73 | 1.77 | ⋯ | 4.94 | 2.29 | 3.17 | 2.56 | 3.47 | 12.22 | 2.94 | 2019 | 03 | NA |\n",
       "| 2019M04 | 3.9  | 2.89 | 2.43 | 5.22 | 2.49 | 1.49 | 3.24 | 5.93 | 1.96 | ⋯ | 5.01 | 2.27 | 2.97 | 2.51 | 3.52 | 12.01 | 2.97 | 2019 | 04 | NA |\n",
       "| 2019M05 | 4.58 | 2.8  | 2.31 | 3.01 | 2.6  | 1.58 | 3.07 | 5.2  | 1.75 | ⋯ | 5.09 | 2.26 | 3.11 | 2.58 | 3.45 | 12.67 | 2.94 | 2019 | 05 | NA |\n",
       "| 2019M06 | 4.06 | 2.8  | 2.43 | 2.51 | 2.65 | 1.46 | 3.99 | 4.62 | 1.71 | ⋯ | 5.23 | 2.27 | 3.43 | 2.42 | 3.41 | 12.07 | 2.98 | 2019 | 06 | NA |\n",
       "\n"
      ],
      "text/plain": [
       "  Item    Oranges Bananas Apples Kiwifruit Sultanas Canned.peaches Lettuce\n",
       "1 2019M01 4.06    2.98    3.98   5.32      2.33     1.58           3.72   \n",
       "2 2019M02 3.92    3.06    3.7    5.97      2.32     1.34           3.8    \n",
       "3 2019M03 3.81    2.98    2.63   6.34      2.32     1.52           3.62   \n",
       "4 2019M04 3.9     2.89    2.43   5.22      2.49     1.49           3.24   \n",
       "5 2019M05 4.58    2.8     2.31   3.01      2.6      1.58           3.07   \n",
       "6 2019M06 4.06    2.8     2.43   2.51      2.65     1.46           3.99   \n",
       "  Broccoli Cabbage ⋯ Fresh.or.frozen.pizza Margarine Mayonnaise\n",
       "1 7.89     1.64    ⋯ 4.9                   2.27      2.84      \n",
       "2 6.33     1.61    ⋯ 5.14                  2.31      2.85      \n",
       "3 6.73     1.77    ⋯ 4.94                  2.29      3.17      \n",
       "4 5.93     1.96    ⋯ 5.01                  2.27      2.97      \n",
       "5 5.2      1.75    ⋯ 5.09                  2.26      3.11      \n",
       "6 4.62     1.71    ⋯ 5.23                  2.27      3.43      \n",
       "  Dried.mixed.herbs Salted.blanched.peanuts Sliced.or.shaved.ham Chewing.gum\n",
       "1 2.53              3.46                    12.66                2.8        \n",
       "2 2.44              3.44                    12.16                2.76       \n",
       "3 2.56              3.47                    12.22                2.94       \n",
       "4 2.51              3.52                    12.01                2.97       \n",
       "5 2.58              3.45                    12.67                2.94       \n",
       "6 2.42              3.41                    12.07                2.98       \n",
       "  year month month_abb\n",
       "1 2019 01    NA       \n",
       "2 2019 02    NA       \n",
       "3 2019 03    NA       \n",
       "4 2019 04    NA       \n",
       "5 2019 05    NA       \n",
       "6 2019 06    NA       "
      ]
     },
     "metadata": {},
     "output_type": "display_data"
    }
   ],
   "source": [
    "months <- c(\"Jan\",\"Feb\",\"Mar\",\n",
    "              \"Apr\",\"May\",\"Jun\",\n",
    "              \"Jul\",\"Aug\",\"Sep\",\n",
    "              \"Oct\",\"Nov\",\"Dec\")\n",
    "fpi$month_abb <- months[ fpi$month ]\n",
    "fpi %>%\n",
    "    tail()"
   ]
  },
  {
   "cell_type": "code",
   "execution_count": 27,
   "metadata": {},
   "outputs": [],
   "source": [
    "# Selecting required range\n",
    "fpi <- fpi[134:151,]"
   ]
  },
  {
   "cell_type": "code",
   "execution_count": 28,
   "metadata": {},
   "outputs": [],
   "source": [
    "write.csv(fpi,file=\"wrangled_fpi.csv\")"
   ]
  },
  {
   "cell_type": "code",
   "execution_count": null,
   "metadata": {},
   "outputs": [],
   "source": []
  },
  {
   "cell_type": "code",
   "execution_count": null,
   "metadata": {},
   "outputs": [],
   "source": []
  }
 ],
 "metadata": {
  "kernelspec": {
   "display_name": "R",
   "language": "R",
   "name": "ir"
  },
  "language_info": {
   "codemirror_mode": "r",
   "file_extension": ".r",
   "mimetype": "text/x-r-source",
   "name": "R",
   "pygments_lexer": "r",
   "version": "3.6.1"
  }
 },
 "nbformat": 4,
 "nbformat_minor": 4
}
