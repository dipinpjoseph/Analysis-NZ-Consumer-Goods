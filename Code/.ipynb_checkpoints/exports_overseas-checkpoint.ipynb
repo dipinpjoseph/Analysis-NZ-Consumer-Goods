{
 "cells": [
  {
   "cell_type": "code",
   "execution_count": 266,
   "metadata": {},
   "outputs": [],
   "source": [
    "library(readxl)\n",
    "library(tidyverse)"
   ]
  },
  {
   "cell_type": "code",
   "execution_count": 267,
   "metadata": {},
   "outputs": [],
   "source": [
    "df_os_exp <- data.frame(read_excel(\"../DataSets/overseas-merchandise-trade-january-2019.xlsx\",sheet = \"Table 15\", range = 'A36:J53', col_names = c(\"year\",\"month\",\"Milk,Butter,Cheese\",\"Meat\",\"Logs,Wood\", \"Crude oil\", \"Fruit\",\"Fish\",\"Aluminium and aluminium articles\",\"Wine\")) )"
   ]
  },
  {
   "cell_type": "code",
   "execution_count": 268,
   "metadata": {},
   "outputs": [
    {
     "data": {
      "text/html": [
       "<table>\n",
       "<caption>A data.frame: 18 × 10</caption>\n",
       "<thead>\n",
       "\t<tr><th scope=col>year</th><th scope=col>month</th><th scope=col>Milk.Butter.Cheese</th><th scope=col>Meat</th><th scope=col>Logs.Wood</th><th scope=col>Crude.oil</th><th scope=col>Fruit</th><th scope=col>Fish</th><th scope=col>Aluminium.and.aluminium.articles</th><th scope=col>Wine</th></tr>\n",
       "\t<tr><th scope=col>&lt;chr&gt;</th><th scope=col>&lt;chr&gt;</th><th scope=col>&lt;dbl&gt;</th><th scope=col>&lt;dbl&gt;</th><th scope=col>&lt;dbl&gt;</th><th scope=col>&lt;chr&gt;</th><th scope=col>&lt;dbl&gt;</th><th scope=col>&lt;dbl&gt;</th><th scope=col>&lt;dbl&gt;</th><th scope=col>&lt;dbl&gt;</th></tr>\n",
       "</thead>\n",
       "<tbody>\n",
       "\t<tr><td>2017</td><td>Jul</td><td> 0.0</td><td>-1.0</td><td>2.0</td><td>33   </td><td>-3.0</td><td> 0.9</td><td> -5.6</td><td>-0.6</td></tr>\n",
       "\t<tr><td>NA  </td><td>Aug</td><td>-1.4</td><td> 0.4</td><td>1.7</td><td>168.1</td><td>-5.3</td><td> 0.4</td><td> 10.0</td><td>-0.6</td></tr>\n",
       "\t<tr><td>NA  </td><td>Sep</td><td>-2.2</td><td> 2.0</td><td>1.3</td><td>-71.7</td><td>-5.4</td><td>-0.2</td><td> -1.8</td><td>-0.5</td></tr>\n",
       "\t<tr><td>NA  </td><td>Oct</td><td>-2.2</td><td> 2.8</td><td>0.9</td><td>57.6 </td><td>-2.5</td><td>-0.9</td><td>-10.7</td><td>-0.4</td></tr>\n",
       "\t<tr><td>NA  </td><td>Nov</td><td>-1.0</td><td> 2.7</td><td>0.6</td><td>-61.5</td><td> 2.2</td><td>-1.5</td><td>-55.3</td><td>-0.3</td></tr>\n",
       "\t<tr><td>NA  </td><td>Dec</td><td> 0.5</td><td> 1.6</td><td>0.4</td><td>152.1</td><td> 6.8</td><td>-2.0</td><td>312.5</td><td>-0.1</td></tr>\n",
       "\t<tr><td>2018</td><td>Jan</td><td> 1.6</td><td>-0.1</td><td>0.4</td><td>-100 </td><td> 8.1</td><td>-2.3</td><td>-46.7</td><td> 0.1</td></tr>\n",
       "\t<tr><td>NA  </td><td>Feb</td><td> 1.7</td><td>-1.3</td><td>0.5</td><td>---  </td><td> 6.2</td><td>-2.5</td><td> -1.5</td><td> 0.2</td></tr>\n",
       "\t<tr><td>NA  </td><td>Mar</td><td> 0.6</td><td>-1.0</td><td>0.6</td><td>-45.5</td><td> 2.3</td><td>-2.3</td><td> 13.0</td><td> 0.2</td></tr>\n",
       "\t<tr><td>NA  </td><td>Apr</td><td>-1.2</td><td> 0.6</td><td>0.7</td><td>9.5  </td><td>-0.6</td><td>-1.8</td><td> -0.6</td><td> 0.2</td></tr>\n",
       "\t<tr><td>NA  </td><td>May</td><td>-3.3</td><td> 2.1</td><td>0.9</td><td>-66.3</td><td>-0.6</td><td>-0.9</td><td>  6.1</td><td> 0.2</td></tr>\n",
       "\t<tr><td>NA  </td><td>Jun</td><td>-4.6</td><td> 3.1</td><td>0.9</td><td>-100 </td><td> 2.7</td><td> 0.0</td><td>-15.2</td><td> 0.2</td></tr>\n",
       "\t<tr><td>NA  </td><td>Jul</td><td>-4.3</td><td> 3.0</td><td>1.0</td><td>---  </td><td> 6.1</td><td> 1.0</td><td> 18.4</td><td> 0.3</td></tr>\n",
       "\t<tr><td>NA  </td><td>Aug</td><td>-1.8</td><td> 1.6</td><td>1.0</td><td>-76.1</td><td> 6.2</td><td> 1.5</td><td> -4.4</td><td> 0.3</td></tr>\n",
       "\t<tr><td>NA  </td><td>Sep</td><td> 2.1</td><td>-0.3</td><td>0.9</td><td>675  </td><td> 3.7</td><td> 1.8</td><td>  7.3</td><td> 0.5</td></tr>\n",
       "\t<tr><td>NA  </td><td>Oct</td><td> 5.1</td><td>-1.5</td><td>0.7</td><td>-24.2</td><td> 0.0</td><td> 1.7</td><td> -8.7</td><td> 0.7</td></tr>\n",
       "\t<tr><td>NA  </td><td>Nov</td><td> 6.0</td><td>-2.2</td><td>0.8</td><td>-100 </td><td>-3.5</td><td> 1.7</td><td> -3.1</td><td> 0.6</td></tr>\n",
       "\t<tr><td>NA  </td><td>Dec</td><td> 5.7</td><td>-2.5</td><td>0.7</td><td>---  </td><td>-5.8</td><td> 2.0</td><td>  8.7</td><td> 0.8</td></tr>\n",
       "</tbody>\n",
       "</table>\n"
      ],
      "text/latex": [
       "A data.frame: 18 × 10\n",
       "\\begin{tabular}{r|llllllllll}\n",
       " year & month & Milk.Butter.Cheese & Meat & Logs.Wood & Crude.oil & Fruit & Fish & Aluminium.and.aluminium.articles & Wine\\\\\n",
       " <chr> & <chr> & <dbl> & <dbl> & <dbl> & <chr> & <dbl> & <dbl> & <dbl> & <dbl>\\\\\n",
       "\\hline\n",
       "\t 2017 & Jul &  0.0 & -1.0 & 2.0 & 33    & -3.0 &  0.9 &  -5.6 & -0.6\\\\\n",
       "\t NA   & Aug & -1.4 &  0.4 & 1.7 & 168.1 & -5.3 &  0.4 &  10.0 & -0.6\\\\\n",
       "\t NA   & Sep & -2.2 &  2.0 & 1.3 & -71.7 & -5.4 & -0.2 &  -1.8 & -0.5\\\\\n",
       "\t NA   & Oct & -2.2 &  2.8 & 0.9 & 57.6  & -2.5 & -0.9 & -10.7 & -0.4\\\\\n",
       "\t NA   & Nov & -1.0 &  2.7 & 0.6 & -61.5 &  2.2 & -1.5 & -55.3 & -0.3\\\\\n",
       "\t NA   & Dec &  0.5 &  1.6 & 0.4 & 152.1 &  6.8 & -2.0 & 312.5 & -0.1\\\\\n",
       "\t 2018 & Jan &  1.6 & -0.1 & 0.4 & -100  &  8.1 & -2.3 & -46.7 &  0.1\\\\\n",
       "\t NA   & Feb &  1.7 & -1.3 & 0.5 & ---   &  6.2 & -2.5 &  -1.5 &  0.2\\\\\n",
       "\t NA   & Mar &  0.6 & -1.0 & 0.6 & -45.5 &  2.3 & -2.3 &  13.0 &  0.2\\\\\n",
       "\t NA   & Apr & -1.2 &  0.6 & 0.7 & 9.5   & -0.6 & -1.8 &  -0.6 &  0.2\\\\\n",
       "\t NA   & May & -3.3 &  2.1 & 0.9 & -66.3 & -0.6 & -0.9 &   6.1 &  0.2\\\\\n",
       "\t NA   & Jun & -4.6 &  3.1 & 0.9 & -100  &  2.7 &  0.0 & -15.2 &  0.2\\\\\n",
       "\t NA   & Jul & -4.3 &  3.0 & 1.0 & ---   &  6.1 &  1.0 &  18.4 &  0.3\\\\\n",
       "\t NA   & Aug & -1.8 &  1.6 & 1.0 & -76.1 &  6.2 &  1.5 &  -4.4 &  0.3\\\\\n",
       "\t NA   & Sep &  2.1 & -0.3 & 0.9 & 675   &  3.7 &  1.8 &   7.3 &  0.5\\\\\n",
       "\t NA   & Oct &  5.1 & -1.5 & 0.7 & -24.2 &  0.0 &  1.7 &  -8.7 &  0.7\\\\\n",
       "\t NA   & Nov &  6.0 & -2.2 & 0.8 & -100  & -3.5 &  1.7 &  -3.1 &  0.6\\\\\n",
       "\t NA   & Dec &  5.7 & -2.5 & 0.7 & ---   & -5.8 &  2.0 &   8.7 &  0.8\\\\\n",
       "\\end{tabular}\n"
      ],
      "text/markdown": [
       "\n",
       "A data.frame: 18 × 10\n",
       "\n",
       "| year &lt;chr&gt; | month &lt;chr&gt; | Milk.Butter.Cheese &lt;dbl&gt; | Meat &lt;dbl&gt; | Logs.Wood &lt;dbl&gt; | Crude.oil &lt;chr&gt; | Fruit &lt;dbl&gt; | Fish &lt;dbl&gt; | Aluminium.and.aluminium.articles &lt;dbl&gt; | Wine &lt;dbl&gt; |\n",
       "|---|---|---|---|---|---|---|---|---|---|\n",
       "| 2017 | Jul |  0.0 | -1.0 | 2.0 | 33    | -3.0 |  0.9 |  -5.6 | -0.6 |\n",
       "| NA   | Aug | -1.4 |  0.4 | 1.7 | 168.1 | -5.3 |  0.4 |  10.0 | -0.6 |\n",
       "| NA   | Sep | -2.2 |  2.0 | 1.3 | -71.7 | -5.4 | -0.2 |  -1.8 | -0.5 |\n",
       "| NA   | Oct | -2.2 |  2.8 | 0.9 | 57.6  | -2.5 | -0.9 | -10.7 | -0.4 |\n",
       "| NA   | Nov | -1.0 |  2.7 | 0.6 | -61.5 |  2.2 | -1.5 | -55.3 | -0.3 |\n",
       "| NA   | Dec |  0.5 |  1.6 | 0.4 | 152.1 |  6.8 | -2.0 | 312.5 | -0.1 |\n",
       "| 2018 | Jan |  1.6 | -0.1 | 0.4 | -100  |  8.1 | -2.3 | -46.7 |  0.1 |\n",
       "| NA   | Feb |  1.7 | -1.3 | 0.5 | ---   |  6.2 | -2.5 |  -1.5 |  0.2 |\n",
       "| NA   | Mar |  0.6 | -1.0 | 0.6 | -45.5 |  2.3 | -2.3 |  13.0 |  0.2 |\n",
       "| NA   | Apr | -1.2 |  0.6 | 0.7 | 9.5   | -0.6 | -1.8 |  -0.6 |  0.2 |\n",
       "| NA   | May | -3.3 |  2.1 | 0.9 | -66.3 | -0.6 | -0.9 |   6.1 |  0.2 |\n",
       "| NA   | Jun | -4.6 |  3.1 | 0.9 | -100  |  2.7 |  0.0 | -15.2 |  0.2 |\n",
       "| NA   | Jul | -4.3 |  3.0 | 1.0 | ---   |  6.1 |  1.0 |  18.4 |  0.3 |\n",
       "| NA   | Aug | -1.8 |  1.6 | 1.0 | -76.1 |  6.2 |  1.5 |  -4.4 |  0.3 |\n",
       "| NA   | Sep |  2.1 | -0.3 | 0.9 | 675   |  3.7 |  1.8 |   7.3 |  0.5 |\n",
       "| NA   | Oct |  5.1 | -1.5 | 0.7 | -24.2 |  0.0 |  1.7 |  -8.7 |  0.7 |\n",
       "| NA   | Nov |  6.0 | -2.2 | 0.8 | -100  | -3.5 |  1.7 |  -3.1 |  0.6 |\n",
       "| NA   | Dec |  5.7 | -2.5 | 0.7 | ---   | -5.8 |  2.0 |   8.7 |  0.8 |\n",
       "\n"
      ],
      "text/plain": [
       "   year month Milk.Butter.Cheese Meat Logs.Wood Crude.oil Fruit Fish\n",
       "1  2017 Jul    0.0               -1.0 2.0       33        -3.0   0.9\n",
       "2  NA   Aug   -1.4                0.4 1.7       168.1     -5.3   0.4\n",
       "3  NA   Sep   -2.2                2.0 1.3       -71.7     -5.4  -0.2\n",
       "4  NA   Oct   -2.2                2.8 0.9       57.6      -2.5  -0.9\n",
       "5  NA   Nov   -1.0                2.7 0.6       -61.5      2.2  -1.5\n",
       "6  NA   Dec    0.5                1.6 0.4       152.1      6.8  -2.0\n",
       "7  2018 Jan    1.6               -0.1 0.4       -100       8.1  -2.3\n",
       "8  NA   Feb    1.7               -1.3 0.5       ---        6.2  -2.5\n",
       "9  NA   Mar    0.6               -1.0 0.6       -45.5      2.3  -2.3\n",
       "10 NA   Apr   -1.2                0.6 0.7       9.5       -0.6  -1.8\n",
       "11 NA   May   -3.3                2.1 0.9       -66.3     -0.6  -0.9\n",
       "12 NA   Jun   -4.6                3.1 0.9       -100       2.7   0.0\n",
       "13 NA   Jul   -4.3                3.0 1.0       ---        6.1   1.0\n",
       "14 NA   Aug   -1.8                1.6 1.0       -76.1      6.2   1.5\n",
       "15 NA   Sep    2.1               -0.3 0.9       675        3.7   1.8\n",
       "16 NA   Oct    5.1               -1.5 0.7       -24.2      0.0   1.7\n",
       "17 NA   Nov    6.0               -2.2 0.8       -100      -3.5   1.7\n",
       "18 NA   Dec    5.7               -2.5 0.7       ---       -5.8   2.0\n",
       "   Aluminium.and.aluminium.articles Wine\n",
       "1   -5.6                            -0.6\n",
       "2   10.0                            -0.6\n",
       "3   -1.8                            -0.5\n",
       "4  -10.7                            -0.4\n",
       "5  -55.3                            -0.3\n",
       "6  312.5                            -0.1\n",
       "7  -46.7                             0.1\n",
       "8   -1.5                             0.2\n",
       "9   13.0                             0.2\n",
       "10  -0.6                             0.2\n",
       "11   6.1                             0.2\n",
       "12 -15.2                             0.2\n",
       "13  18.4                             0.3\n",
       "14  -4.4                             0.3\n",
       "15   7.3                             0.5\n",
       "16  -8.7                             0.7\n",
       "17  -3.1                             0.6\n",
       "18   8.7                             0.8"
      ]
     },
     "metadata": {},
     "output_type": "display_data"
    }
   ],
   "source": [
    "df_os_exp"
   ]
  },
  {
   "cell_type": "code",
   "execution_count": 269,
   "metadata": {},
   "outputs": [],
   "source": [
    "# Dropping unnecessary column\n",
    "df_os_exp <- df_os_exp %>% \n",
    "    select(-c(\"Crude.oil\", \"Aluminium.and.aluminium.articles\"))"
   ]
  },
  {
   "cell_type": "code",
   "execution_count": 270,
   "metadata": {},
   "outputs": [
    {
     "data": {
      "text/html": [
       "<table>\n",
       "<caption>A data.frame: 6 × 8</caption>\n",
       "<thead>\n",
       "\t<tr><th scope=col>year</th><th scope=col>month</th><th scope=col>Milk.Butter.Cheese</th><th scope=col>Meat</th><th scope=col>Logs.Wood</th><th scope=col>Fruit</th><th scope=col>Fish</th><th scope=col>Wine</th></tr>\n",
       "\t<tr><th scope=col>&lt;chr&gt;</th><th scope=col>&lt;chr&gt;</th><th scope=col>&lt;dbl&gt;</th><th scope=col>&lt;dbl&gt;</th><th scope=col>&lt;dbl&gt;</th><th scope=col>&lt;dbl&gt;</th><th scope=col>&lt;dbl&gt;</th><th scope=col>&lt;dbl&gt;</th></tr>\n",
       "</thead>\n",
       "<tbody>\n",
       "\t<tr><td>2017</td><td>Jul</td><td> 0.0</td><td>-1.0</td><td>2.0</td><td>-3.0</td><td> 0.9</td><td>-0.6</td></tr>\n",
       "\t<tr><td>NA  </td><td>Aug</td><td>-1.4</td><td> 0.4</td><td>1.7</td><td>-5.3</td><td> 0.4</td><td>-0.6</td></tr>\n",
       "\t<tr><td>NA  </td><td>Sep</td><td>-2.2</td><td> 2.0</td><td>1.3</td><td>-5.4</td><td>-0.2</td><td>-0.5</td></tr>\n",
       "\t<tr><td>NA  </td><td>Oct</td><td>-2.2</td><td> 2.8</td><td>0.9</td><td>-2.5</td><td>-0.9</td><td>-0.4</td></tr>\n",
       "\t<tr><td>NA  </td><td>Nov</td><td>-1.0</td><td> 2.7</td><td>0.6</td><td> 2.2</td><td>-1.5</td><td>-0.3</td></tr>\n",
       "\t<tr><td>NA  </td><td>Dec</td><td> 0.5</td><td> 1.6</td><td>0.4</td><td> 6.8</td><td>-2.0</td><td>-0.1</td></tr>\n",
       "</tbody>\n",
       "</table>\n"
      ],
      "text/latex": [
       "A data.frame: 6 × 8\n",
       "\\begin{tabular}{r|llllllll}\n",
       " year & month & Milk.Butter.Cheese & Meat & Logs.Wood & Fruit & Fish & Wine\\\\\n",
       " <chr> & <chr> & <dbl> & <dbl> & <dbl> & <dbl> & <dbl> & <dbl>\\\\\n",
       "\\hline\n",
       "\t 2017 & Jul &  0.0 & -1.0 & 2.0 & -3.0 &  0.9 & -0.6\\\\\n",
       "\t NA   & Aug & -1.4 &  0.4 & 1.7 & -5.3 &  0.4 & -0.6\\\\\n",
       "\t NA   & Sep & -2.2 &  2.0 & 1.3 & -5.4 & -0.2 & -0.5\\\\\n",
       "\t NA   & Oct & -2.2 &  2.8 & 0.9 & -2.5 & -0.9 & -0.4\\\\\n",
       "\t NA   & Nov & -1.0 &  2.7 & 0.6 &  2.2 & -1.5 & -0.3\\\\\n",
       "\t NA   & Dec &  0.5 &  1.6 & 0.4 &  6.8 & -2.0 & -0.1\\\\\n",
       "\\end{tabular}\n"
      ],
      "text/markdown": [
       "\n",
       "A data.frame: 6 × 8\n",
       "\n",
       "| year &lt;chr&gt; | month &lt;chr&gt; | Milk.Butter.Cheese &lt;dbl&gt; | Meat &lt;dbl&gt; | Logs.Wood &lt;dbl&gt; | Fruit &lt;dbl&gt; | Fish &lt;dbl&gt; | Wine &lt;dbl&gt; |\n",
       "|---|---|---|---|---|---|---|---|\n",
       "| 2017 | Jul |  0.0 | -1.0 | 2.0 | -3.0 |  0.9 | -0.6 |\n",
       "| NA   | Aug | -1.4 |  0.4 | 1.7 | -5.3 |  0.4 | -0.6 |\n",
       "| NA   | Sep | -2.2 |  2.0 | 1.3 | -5.4 | -0.2 | -0.5 |\n",
       "| NA   | Oct | -2.2 |  2.8 | 0.9 | -2.5 | -0.9 | -0.4 |\n",
       "| NA   | Nov | -1.0 |  2.7 | 0.6 |  2.2 | -1.5 | -0.3 |\n",
       "| NA   | Dec |  0.5 |  1.6 | 0.4 |  6.8 | -2.0 | -0.1 |\n",
       "\n"
      ],
      "text/plain": [
       "  year month Milk.Butter.Cheese Meat Logs.Wood Fruit Fish Wine\n",
       "1 2017 Jul    0.0               -1.0 2.0       -3.0   0.9 -0.6\n",
       "2 NA   Aug   -1.4                0.4 1.7       -5.3   0.4 -0.6\n",
       "3 NA   Sep   -2.2                2.0 1.3       -5.4  -0.2 -0.5\n",
       "4 NA   Oct   -2.2                2.8 0.9       -2.5  -0.9 -0.4\n",
       "5 NA   Nov   -1.0                2.7 0.6        2.2  -1.5 -0.3\n",
       "6 NA   Dec    0.5                1.6 0.4        6.8  -2.0 -0.1"
      ]
     },
     "metadata": {},
     "output_type": "display_data"
    }
   ],
   "source": [
    "head(df_os_exp)\n"
   ]
  },
  {
   "cell_type": "code",
   "execution_count": 271,
   "metadata": {},
   "outputs": [],
   "source": [
    "#https://stackoverflow.com/a/40041172\n",
    "df_os_exp <- df_os_exp %>%\n",
    "  fill(year)"
   ]
  },
  {
   "cell_type": "code",
   "execution_count": 272,
   "metadata": {},
   "outputs": [
    {
     "data": {
      "text/html": [
       "<table>\n",
       "<caption>A matrix: 8 × 18 of type chr</caption>\n",
       "<tbody>\n",
       "\t<tr><th scope=row>year</th><td>2017</td><td>2017</td><td>2017</td><td>2017</td><td>2017</td><td>2017</td><td>2018</td><td>2018</td><td>2018</td><td>2018</td><td>2018</td><td>2018</td><td>2018</td><td>2018</td><td>2018</td><td>2018</td><td>2018</td><td>2018</td></tr>\n",
       "\t<tr><th scope=row>month</th><td>Jul </td><td>Aug </td><td>Sep </td><td>Oct </td><td>Nov </td><td>Dec </td><td>Jan </td><td>Feb </td><td>Mar </td><td>Apr </td><td>May </td><td>Jun </td><td>Jul </td><td>Aug </td><td>Sep </td><td>Oct </td><td>Nov </td><td>Dec </td></tr>\n",
       "\t<tr><th scope=row>Milk.Butter.Cheese</th><td> 0.0</td><td>-1.4</td><td>-2.2</td><td>-2.2</td><td>-1.0</td><td> 0.5</td><td> 1.6</td><td> 1.7</td><td> 0.6</td><td>-1.2</td><td>-3.3</td><td>-4.6</td><td>-4.3</td><td>-1.8</td><td> 2.1</td><td> 5.1</td><td> 6.0</td><td> 5.7</td></tr>\n",
       "\t<tr><th scope=row>Meat</th><td>-1.0</td><td> 0.4</td><td> 2.0</td><td> 2.8</td><td> 2.7</td><td> 1.6</td><td>-0.1</td><td>-1.3</td><td>-1.0</td><td> 0.6</td><td> 2.1</td><td> 3.1</td><td> 3.0</td><td> 1.6</td><td>-0.3</td><td>-1.5</td><td>-2.2</td><td>-2.5</td></tr>\n",
       "\t<tr><th scope=row>Logs.Wood</th><td>2.0 </td><td>1.7 </td><td>1.3 </td><td>0.9 </td><td>0.6 </td><td>0.4 </td><td>0.4 </td><td>0.5 </td><td>0.6 </td><td>0.7 </td><td>0.9 </td><td>0.9 </td><td>1.0 </td><td>1.0 </td><td>0.9 </td><td>0.7 </td><td>0.8 </td><td>0.7 </td></tr>\n",
       "\t<tr><th scope=row>Fruit</th><td>-3.0</td><td>-5.3</td><td>-5.4</td><td>-2.5</td><td> 2.2</td><td> 6.8</td><td> 8.1</td><td> 6.2</td><td> 2.3</td><td>-0.6</td><td>-0.6</td><td> 2.7</td><td> 6.1</td><td> 6.2</td><td> 3.7</td><td> 0.0</td><td>-3.5</td><td>-5.8</td></tr>\n",
       "\t<tr><th scope=row>Fish</th><td> 0.9</td><td> 0.4</td><td>-0.2</td><td>-0.9</td><td>-1.5</td><td>-2.0</td><td>-2.3</td><td>-2.5</td><td>-2.3</td><td>-1.8</td><td>-0.9</td><td> 0.0</td><td> 1.0</td><td> 1.5</td><td> 1.8</td><td> 1.7</td><td> 1.7</td><td> 2.0</td></tr>\n",
       "\t<tr><th scope=row>Wine</th><td>-0.6</td><td>-0.6</td><td>-0.5</td><td>-0.4</td><td>-0.3</td><td>-0.1</td><td> 0.1</td><td> 0.2</td><td> 0.2</td><td> 0.2</td><td> 0.2</td><td> 0.2</td><td> 0.3</td><td> 0.3</td><td> 0.5</td><td> 0.7</td><td> 0.6</td><td> 0.8</td></tr>\n",
       "</tbody>\n",
       "</table>\n"
      ],
      "text/latex": [
       "A matrix: 8 × 18 of type chr\n",
       "\\begin{tabular}{r|llllllllllllllllll}\n",
       "\tyear & 2017 & 2017 & 2017 & 2017 & 2017 & 2017 & 2018 & 2018 & 2018 & 2018 & 2018 & 2018 & 2018 & 2018 & 2018 & 2018 & 2018 & 2018\\\\\n",
       "\tmonth & Jul  & Aug  & Sep  & Oct  & Nov  & Dec  & Jan  & Feb  & Mar  & Apr  & May  & Jun  & Jul  & Aug  & Sep  & Oct  & Nov  & Dec \\\\\n",
       "\tMilk.Butter.Cheese &  0.0 & -1.4 & -2.2 & -2.2 & -1.0 &  0.5 &  1.6 &  1.7 &  0.6 & -1.2 & -3.3 & -4.6 & -4.3 & -1.8 &  2.1 &  5.1 &  6.0 &  5.7\\\\\n",
       "\tMeat & -1.0 &  0.4 &  2.0 &  2.8 &  2.7 &  1.6 & -0.1 & -1.3 & -1.0 &  0.6 &  2.1 &  3.1 &  3.0 &  1.6 & -0.3 & -1.5 & -2.2 & -2.5\\\\\n",
       "\tLogs.Wood & 2.0  & 1.7  & 1.3  & 0.9  & 0.6  & 0.4  & 0.4  & 0.5  & 0.6  & 0.7  & 0.9  & 0.9  & 1.0  & 1.0  & 0.9  & 0.7  & 0.8  & 0.7 \\\\\n",
       "\tFruit & -3.0 & -5.3 & -5.4 & -2.5 &  2.2 &  6.8 &  8.1 &  6.2 &  2.3 & -0.6 & -0.6 &  2.7 &  6.1 &  6.2 &  3.7 &  0.0 & -3.5 & -5.8\\\\\n",
       "\tFish &  0.9 &  0.4 & -0.2 & -0.9 & -1.5 & -2.0 & -2.3 & -2.5 & -2.3 & -1.8 & -0.9 &  0.0 &  1.0 &  1.5 &  1.8 &  1.7 &  1.7 &  2.0\\\\\n",
       "\tWine & -0.6 & -0.6 & -0.5 & -0.4 & -0.3 & -0.1 &  0.1 &  0.2 &  0.2 &  0.2 &  0.2 &  0.2 &  0.3 &  0.3 &  0.5 &  0.7 &  0.6 &  0.8\\\\\n",
       "\\end{tabular}\n"
      ],
      "text/markdown": [
       "\n",
       "A matrix: 8 × 18 of type chr\n",
       "\n",
       "| year | 2017 | 2017 | 2017 | 2017 | 2017 | 2017 | 2018 | 2018 | 2018 | 2018 | 2018 | 2018 | 2018 | 2018 | 2018 | 2018 | 2018 | 2018 |\n",
       "| month | Jul  | Aug  | Sep  | Oct  | Nov  | Dec  | Jan  | Feb  | Mar  | Apr  | May  | Jun  | Jul  | Aug  | Sep  | Oct  | Nov  | Dec  |\n",
       "| Milk.Butter.Cheese |  0.0 | -1.4 | -2.2 | -2.2 | -1.0 |  0.5 |  1.6 |  1.7 |  0.6 | -1.2 | -3.3 | -4.6 | -4.3 | -1.8 |  2.1 |  5.1 |  6.0 |  5.7 |\n",
       "| Meat | -1.0 |  0.4 |  2.0 |  2.8 |  2.7 |  1.6 | -0.1 | -1.3 | -1.0 |  0.6 |  2.1 |  3.1 |  3.0 |  1.6 | -0.3 | -1.5 | -2.2 | -2.5 |\n",
       "| Logs.Wood | 2.0  | 1.7  | 1.3  | 0.9  | 0.6  | 0.4  | 0.4  | 0.5  | 0.6  | 0.7  | 0.9  | 0.9  | 1.0  | 1.0  | 0.9  | 0.7  | 0.8  | 0.7  |\n",
       "| Fruit | -3.0 | -5.3 | -5.4 | -2.5 |  2.2 |  6.8 |  8.1 |  6.2 |  2.3 | -0.6 | -0.6 |  2.7 |  6.1 |  6.2 |  3.7 |  0.0 | -3.5 | -5.8 |\n",
       "| Fish |  0.9 |  0.4 | -0.2 | -0.9 | -1.5 | -2.0 | -2.3 | -2.5 | -2.3 | -1.8 | -0.9 |  0.0 |  1.0 |  1.5 |  1.8 |  1.7 |  1.7 |  2.0 |\n",
       "| Wine | -0.6 | -0.6 | -0.5 | -0.4 | -0.3 | -0.1 |  0.1 |  0.2 |  0.2 |  0.2 |  0.2 |  0.2 |  0.3 |  0.3 |  0.5 |  0.7 |  0.6 |  0.8 |\n",
       "\n"
      ],
      "text/plain": [
       "                   [,1] [,2] [,3] [,4] [,5] [,6] [,7] [,8] [,9] [,10] [,11]\n",
       "year               2017 2017 2017 2017 2017 2017 2018 2018 2018 2018  2018 \n",
       "month              Jul  Aug  Sep  Oct  Nov  Dec  Jan  Feb  Mar  Apr   May  \n",
       "Milk.Butter.Cheese  0.0 -1.4 -2.2 -2.2 -1.0  0.5  1.6  1.7  0.6 -1.2  -3.3 \n",
       "Meat               -1.0  0.4  2.0  2.8  2.7  1.6 -0.1 -1.3 -1.0  0.6   2.1 \n",
       "Logs.Wood          2.0  1.7  1.3  0.9  0.6  0.4  0.4  0.5  0.6  0.7   0.9  \n",
       "Fruit              -3.0 -5.3 -5.4 -2.5  2.2  6.8  8.1  6.2  2.3 -0.6  -0.6 \n",
       "Fish                0.9  0.4 -0.2 -0.9 -1.5 -2.0 -2.3 -2.5 -2.3 -1.8  -0.9 \n",
       "Wine               -0.6 -0.6 -0.5 -0.4 -0.3 -0.1  0.1  0.2  0.2  0.2   0.2 \n",
       "                   [,12] [,13] [,14] [,15] [,16] [,17] [,18]\n",
       "year               2018  2018  2018  2018  2018  2018  2018 \n",
       "month              Jun   Jul   Aug   Sep   Oct   Nov   Dec  \n",
       "Milk.Butter.Cheese -4.6  -4.3  -1.8   2.1   5.1   6.0   5.7 \n",
       "Meat                3.1   3.0   1.6  -0.3  -1.5  -2.2  -2.5 \n",
       "Logs.Wood          0.9   1.0   1.0   0.9   0.7   0.8   0.7  \n",
       "Fruit               2.7   6.1   6.2   3.7   0.0  -3.5  -5.8 \n",
       "Fish                0.0   1.0   1.5   1.8   1.7   1.7   2.0 \n",
       "Wine                0.2   0.3   0.3   0.5   0.7   0.6   0.8 "
      ]
     },
     "metadata": {},
     "output_type": "display_data"
    }
   ],
   "source": [
    "t(df_os_exp)"
   ]
  },
  {
   "cell_type": "code",
   "execution_count": 273,
   "metadata": {},
   "outputs": [
    {
     "name": "stderr",
     "output_type": "stream",
     "text": [
      "Warning message:\n",
      "“Missing column names filled in: 'X1' [1]”\n",
      "Parsed with column specification:\n",
      "cols(\n",
      "  .default = col_double(),\n",
      "  Item = \u001b[31mcol_character()\u001b[39m,\n",
      "  Bacon..middle.rashers. = \u001b[31mcol_character()\u001b[39m,\n",
      "  Sliced.loaf.of.white.bread = \u001b[31mcol_character()\u001b[39m,\n",
      "  Canned.tomato.sauce = \u001b[31mcol_character()\u001b[39m,\n",
      "  Potato.crisps = \u001b[31mcol_character()\u001b[39m,\n",
      "  Apple.based.fruit.juice = \u001b[31mcol_character()\u001b[39m,\n",
      "  Alfalfa.sprouts = \u001b[31mcol_character()\u001b[39m,\n",
      "  Cottage.cheese = \u001b[31mcol_character()\u001b[39m,\n",
      "  Creamed.style.canned.corn = \u001b[31mcol_character()\u001b[39m,\n",
      "  Luncheon.meat = \u001b[31mcol_character()\u001b[39m,\n",
      "  Milkshakes = \u001b[31mcol_character()\u001b[39m,\n",
      "  Fresh.herbs..packaged.and.chilled. = \u001b[31mcol_character()\u001b[39m,\n",
      "  Jar.of.olives = \u001b[31mcol_character()\u001b[39m,\n",
      "  Tea.bags.1 = \u001b[31mcol_character()\u001b[39m,\n",
      "  month = \u001b[31mcol_character()\u001b[39m,\n",
      "  month_abb = \u001b[33mcol_logical()\u001b[39m\n",
      ")\n",
      "\n",
      "See spec(...) for full column specifications.\n",
      "\n"
     ]
    }
   ],
   "source": [
    "df_fpi <- read_csv(\"wrangled_fpi.csv\")"
   ]
  },
  {
   "cell_type": "code",
   "execution_count": 274,
   "metadata": {},
   "outputs": [
    {
     "data": {
      "text/html": [
       "<table>\n",
       "<caption>A tibble: 6 × 170</caption>\n",
       "<thead>\n",
       "\t<tr><th scope=col>X1</th><th scope=col>Item</th><th scope=col>Oranges</th><th scope=col>Bananas</th><th scope=col>Apples</th><th scope=col>Kiwifruit</th><th scope=col>Sultanas</th><th scope=col>Canned.peaches</th><th scope=col>Lettuce</th><th scope=col>Broccoli</th><th scope=col>⋯</th><th scope=col>Fresh.or.frozen.pizza</th><th scope=col>Margarine</th><th scope=col>Mayonnaise</th><th scope=col>Dried.mixed.herbs</th><th scope=col>Salted.blanched.peanuts</th><th scope=col>Sliced.or.shaved.ham</th><th scope=col>Chewing.gum</th><th scope=col>year</th><th scope=col>month</th><th scope=col>month_abb</th></tr>\n",
       "\t<tr><th scope=col>&lt;dbl&gt;</th><th scope=col>&lt;chr&gt;</th><th scope=col>&lt;dbl&gt;</th><th scope=col>&lt;dbl&gt;</th><th scope=col>&lt;dbl&gt;</th><th scope=col>&lt;dbl&gt;</th><th scope=col>&lt;dbl&gt;</th><th scope=col>&lt;dbl&gt;</th><th scope=col>&lt;dbl&gt;</th><th scope=col>&lt;dbl&gt;</th><th scope=col>⋯</th><th scope=col>&lt;dbl&gt;</th><th scope=col>&lt;dbl&gt;</th><th scope=col>&lt;dbl&gt;</th><th scope=col>&lt;dbl&gt;</th><th scope=col>&lt;dbl&gt;</th><th scope=col>&lt;dbl&gt;</th><th scope=col>&lt;dbl&gt;</th><th scope=col>&lt;dbl&gt;</th><th scope=col>&lt;chr&gt;</th><th scope=col>&lt;lgl&gt;</th></tr>\n",
       "</thead>\n",
       "<tbody>\n",
       "\t<tr><td>1</td><td>2017M07</td><td>3.59</td><td>2.73</td><td>2.71</td><td>2.55</td><td>2.38</td><td>1.56</td><td>6.59</td><td>9.43</td><td>⋯</td><td>4.96</td><td>2.29</td><td>3.43</td><td>2.46</td><td>3.47</td><td>12.51</td><td>2.66</td><td>2017</td><td>07</td><td>NA</td></tr>\n",
       "\t<tr><td>2</td><td>2017M08</td><td>3.42</td><td>2.93</td><td>2.59</td><td>2.86</td><td>2.17</td><td>1.65</td><td>7.09</td><td>8.82</td><td>⋯</td><td>4.99</td><td>2.33</td><td>3.19</td><td>2.44</td><td>3.47</td><td>12.12</td><td>2.70</td><td>2017</td><td>08</td><td>NA</td></tr>\n",
       "\t<tr><td>3</td><td>2017M09</td><td>2.93</td><td>2.83</td><td>2.71</td><td>3.25</td><td>2.43</td><td>1.59</td><td>5.17</td><td>6.95</td><td>⋯</td><td>5.04</td><td>2.32</td><td>3.43</td><td>2.33</td><td>3.74</td><td>11.82</td><td>2.72</td><td>2017</td><td>09</td><td>NA</td></tr>\n",
       "\t<tr><td>4</td><td>2017M10</td><td>2.83</td><td>2.66</td><td>2.99</td><td>3.42</td><td>2.29</td><td>1.39</td><td>3.84</td><td>6.83</td><td>⋯</td><td>5.00</td><td>2.40</td><td>3.31</td><td>2.55</td><td>3.71</td><td>11.97</td><td>2.65</td><td>2017</td><td>10</td><td>NA</td></tr>\n",
       "\t<tr><td>5</td><td>2017M11</td><td>2.77</td><td>2.82</td><td>3.30</td><td>4.22</td><td>2.33</td><td>1.58</td><td>3.16</td><td>5.06</td><td>⋯</td><td>5.14</td><td>2.35</td><td>2.90</td><td>2.43</td><td>3.73</td><td>12.59</td><td>2.78</td><td>2017</td><td>11</td><td>NA</td></tr>\n",
       "\t<tr><td>6</td><td>2017M12</td><td>3.71</td><td>2.71</td><td>3.37</td><td>5.55</td><td>2.28</td><td>1.44</td><td>2.63</td><td>4.36</td><td>⋯</td><td>4.85</td><td>2.34</td><td>2.84</td><td>2.33</td><td>3.73</td><td>12.26</td><td>2.70</td><td>2017</td><td>12</td><td>NA</td></tr>\n",
       "</tbody>\n",
       "</table>\n"
      ],
      "text/latex": [
       "A tibble: 6 × 170\n",
       "\\begin{tabular}{r|llllllllllllllllllllllllllllllllllllllllllllllllllllllllllllllllllllllllllllllllllllllllllllllllllllllllllllllllllllllllllllllllllllllllllllllllllllllllllllllllllllllllll}\n",
       " X1 & Item & Oranges & Bananas & Apples & Kiwifruit & Sultanas & Canned.peaches & Lettuce & Broccoli & Cabbage & Tomatoes & Carrots & Mushrooms & Potatoes & Frozen.peas & Beef.steak..blade.steak. & Beef.steak..porterhouse.sirloin.steak. & Beef..mince. & Pork.loin.chops & Lamb.chops & Bacon..middle.rashers. & Sausages & Canned.tuna & Sliced.loaf.of.white.bread & Chocolate.biscuits & Breakfast.biscuits & White.flour & White..long.grained.rice & Standard.homogenised.milk & Flavoured.yoghurt & Mild.cheddar.cheese & Eggs & Salted.butter & White.sugar & Canned.tomato.sauce & Block.of.chocolate & Potato.crisps & Canned.spaghetti & Instant.coffee & Tea.bags & Soft.drink & Bottled.water & Apple.based.fruit.juice & Fish.and.chips & Hot.meat.pie & Apple.based.fruit.juice.1 & Potato.crisps.1 & Canned.tomato.sauce.1 & Bacon..middle.rashers..1 & Chicken.breast & Sliced.loaf.of.white.bread.1 & Alfalfa.sprouts & Dried.apricots & Avocados & Baby.food & Beans & Hot.filled.bread.roll & Bread.rolls..hamburger.buns. & Breakfast.drink & Burger & Canned.soup & Capsicum & Cauliflower & Celery & Cottage.cheese & Camember.cheese & Processed.slices.of.cheese & Whole.cooked.chicken & Chicken.pieces & Whole.frozen.chicken & Frozen.chicken.nuggets & Chilled.fruit.juice.or.smoothies & Loose.boxed.chocolates & Block.of.chocolate.1 & Chocolate.novelty.bars & Creamed.style.canned.corn & Corn.flakes & Corned.beef & Courgettes & Crackers & Cream & Cucumber & Frozen.dessert & Fruit.flavoured.drink.powder & Dried.pasta & Drinking.chocolate & Calcium.enriched.milk & Frozen.fish.fillets & Flat.bread & Free.range.eggs & Fresh.fish & Fresh.pasta & Fried.and.other.takeaway.chicken & Frozen.berries & Grapes & Ground.coffee & Clover.creamed.honey & Hot.chips.or.wedges & Hummus.dip & Water.based.ice.block & Ice.cream & Ice.cream.novelty & Infant.formula & Jam & Kumara & Luncheon.meat & Mandarins & Marinated.mussels & Chilled.meat.pies & Frozen.mixed.vegetables & Muesli & Muesli.or.cereal.bars & Live.mussels & Sandwich & Olive.oil & Onions & Orange.juice & Packaged.cake.slice & Parsnips & Packaged.meal.with.pasta.and.sauce & Tomato.based.pasta.sauces & Frozen.pastry.sheets & Pears & Canned.pineapple.pieces & Pineapple & Plain.biscuits & Frozen.potato.fries & Frozen.prawns & Frozen.prepared.meals & Pumpkin & Roasting.lamb.and.hogget & Roasting.pork & Packaged.leaf.salad & Salami & Canned.salmon & Poured.soft.drink & Soft.drink.1 & Unflavoured.soy.milk & Soy.sauce & Sports.energy.drink & Sports.energy.drink.1 & Two.minute.noodles & Peanut.butter & Sweets & Cakes.and.biscuits & Coffee & Cookie & Milkshakes & Muffins.and.buns & Pizza & Vegetable.salad & Tea & Canned.tomatoes & Vinegar & Sliced.wheatmeal.bread & Sliced.wholegrain.bread & Fresh.herbs..packaged.and.chilled. & Jar.of.olives & Tea.bags.1 & Fresh.or.frozen.pizza & Margarine & Mayonnaise & Dried.mixed.herbs & Salted.blanched.peanuts & Sliced.or.shaved.ham & Chewing.gum & year & month & month\\_abb\\\\\n",
       " <dbl> & <chr> & <dbl> & <dbl> & <dbl> & <dbl> & <dbl> & <dbl> & <dbl> & <dbl> & <dbl> & <dbl> & <dbl> & <dbl> & <dbl> & <dbl> & <dbl> & <dbl> & <dbl> & <dbl> & <dbl> & <chr> & <dbl> & <dbl> & <chr> & <dbl> & <dbl> & <dbl> & <dbl> & <dbl> & <dbl> & <dbl> & <dbl> & <dbl> & <dbl> & <chr> & <dbl> & <chr> & <dbl> & <dbl> & <dbl> & <dbl> & <dbl> & <chr> & <dbl> & <dbl> & <dbl> & <dbl> & <dbl> & <dbl> & <dbl> & <dbl> & <chr> & <dbl> & <dbl> & <dbl> & <dbl> & <dbl> & <dbl> & <dbl> & <dbl> & <dbl> & <dbl> & <dbl> & <dbl> & <chr> & <dbl> & <dbl> & <dbl> & <dbl> & <dbl> & <dbl> & <dbl> & <dbl> & <dbl> & <dbl> & <chr> & <dbl> & <dbl> & <dbl> & <dbl> & <dbl> & <dbl> & <dbl> & <dbl> & <dbl> & <dbl> & <dbl> & <dbl> & <dbl> & <dbl> & <dbl> & <dbl> & <dbl> & <dbl> & <dbl> & <dbl> & <dbl> & <dbl> & <dbl> & <dbl> & <dbl> & <dbl> & <dbl> & <dbl> & <dbl> & <chr> & <dbl> & <dbl> & <dbl> & <dbl> & <dbl> & <dbl> & <dbl> & <dbl> & <dbl> & <dbl> & <dbl> & <dbl> & <dbl> & <dbl> & <dbl> & <dbl> & <dbl> & <dbl> & <dbl> & <dbl> & <dbl> & <dbl> & <dbl> & <dbl> & <dbl> & <dbl> & <dbl> & <dbl> & <dbl> & <dbl> & <dbl> & <dbl> & <dbl> & <dbl> & <dbl> & <dbl> & <dbl> & <dbl> & <dbl> & <dbl> & <dbl> & <chr> & <dbl> & <dbl> & <dbl> & <dbl> & <dbl> & <dbl> & <dbl> & <dbl> & <chr> & <chr> & <chr> & <dbl> & <dbl> & <dbl> & <dbl> & <dbl> & <dbl> & <dbl> & <dbl> & <chr> & <lgl>\\\\\n",
       "\\hline\n",
       "\t 1 & 2017M07 & 3.59 & 2.73 & 2.71 & 2.55 & 2.38 & 1.56 & 6.59 & 9.43 & 3.67 &  9.50 & 2.17 & 11.71 & 1.94 & 2.42 & 17.62 & 29.16 & 13.77 & 14.47 & 15.45 & .. &  9.85 & 2.53 & .. & 2.84 & 5.70 & 1.76 & 2.51 & 3.54 & 5.11 & 8.85 & 3.76 & 4.88 & 2.77 & .. & 4.13 & .. & 1.33 & 6.17 & 4.94 & 2.54 & 2.01 & .. & 6.38 & 4.11 & 3.92 & 1.73 & 2.64 & 11.01 & 14.81 & 1.09 & 22.52 & 2.17 & 15.99 & 1.08 & 14.81 & 6.70 & 2.84 & 7.59 & 4.81 & 2.79 & 18.52 & 4.45 & 4.40 & 3.03 & 4.71 & 3.71 & 11.10 & 8.47 & 7.50 & 10.15 & 4.52 & 9.30 & 4.68 & 1.35 & 1.52 & 3.36 & 10.46 &  9.05 & 3.17 & 2.60 & 14.97 & 6.66 & 1.14 & 1.96 & 3.89 & 5.45 & 7.55 & 4.03 & 4.86 & 30.81 & 4.89 & 11.91 & 6.24 & 8.39 & 6.68 & 11.54 & 3.22 & 3.48 & 2.42 & 5.90 & 3.49 & 19.43 & 2.78 & 8.39 & 6.94 & 4.40 & 6.81 & 5.78 & 3.46 & 5.28 & 2.75 & 4.53 & 4.48 & 11.86 & 2.07 & 2.77 & 3.56 & 5.25 & 2.34 & 2.88 & 5.15 & 4.00 & 2.13 & 2.98 & 2.11 & 3.17 & 17.05 & 5.41 & 2.71 & 14.17 &  8.71 & 4.52 & 3.17 & 2.92 & 2.95 & 3.77 & 3.28 & 2.48 & 3.33 & 1.98 & 2.39 & 2.93 & 2.87 & 3.95 & 3.76 & 2.08 & 5.06 & 3.56 & 13.55 & 10.27 & 3.28 & 1.28 & 2.51 & 2.81 & 3.34 & ..   & ..   & ..   & 4.96 & 2.29 & 3.43 & 2.46 & 3.47 & 12.51 & 2.66 & 2017 & 07 & NA\\\\\n",
       "\t 2 & 2017M08 & 3.42 & 2.93 & 2.59 & 2.86 & 2.17 & 1.65 & 7.09 & 8.82 & 4.38 & 10.42 & 2.36 & 11.51 & 2.12 & 2.48 & 17.09 & 28.28 & 13.30 & 14.80 & 14.49 & .. & 10.41 & 2.46 & .. & 2.91 & 5.58 & 1.79 & 2.50 & 3.53 & 5.24 & 8.65 & 3.74 & 5.39 & 2.72 & .. & 4.35 & .. & 1.47 & 5.53 & 4.83 & 2.52 & 2.01 & .. & 6.38 & 4.16 & 3.83 & 1.72 & 2.84 & 11.18 & 14.21 & 1.09 & 22.43 & 2.11 & 12.96 & 1.13 & 14.11 & 6.70 & 2.81 & 7.22 & 4.93 & 2.76 & 20.64 & 5.02 & 4.15 & 3.16 & 4.40 & 3.51 & 11.05 & 8.33 & 7.37 & 10.65 & 4.89 & 8.92 & 4.72 & 1.44 & 1.74 & 3.49 & 11.07 &  8.63 & 3.12 & 2.60 & 16.18 & 6.49 & 1.14 & 1.89 & 4.17 & 5.46 & 7.23 & 3.98 & 5.00 & 31.72 & 4.74 & 11.91 & 6.29 & 8.63 & 6.74 & 11.64 & 3.22 & 3.57 & 2.42 & 5.66 & 3.48 & 20.25 & 2.71 & 8.00 & 6.77 & 4.95 & 6.78 & 5.75 & 3.48 & 5.22 & 2.76 & 4.98 & 4.48 & 11.49 & 2.16 & 2.61 & 3.39 & 5.43 & 2.58 & 2.88 & 5.30 & 4.06 & 2.17 & 3.21 & 2.13 & 3.44 & 17.22 & 5.32 & 2.69 & 15.92 &  9.37 & 4.59 & 3.16 & 2.93 & 2.95 & 3.80 & 3.33 & 2.42 & 3.24 & 2.01 & 2.42 & 2.87 & 2.96 & 4.00 & 3.76 & 2.05 & 5.08 & 3.56 & 13.47 & 10.53 & 3.29 & 1.33 & 2.58 & 2.80 & 3.39 & ..   & ..   & ..   & 4.99 & 2.33 & 3.19 & 2.44 & 3.47 & 12.12 & 2.70 & 2017 & 08 & NA\\\\\n",
       "\t 3 & 2017M09 & 2.93 & 2.83 & 2.71 & 3.25 & 2.43 & 1.59 & 5.17 & 6.95 & 3.50 & 10.02 & 2.35 & 11.53 & 2.13 & 2.47 & 18.52 & 28.19 & 14.11 & 14.97 & 15.49 & .. &  9.50 & 2.39 & .. & 2.91 & 5.61 & 1.81 & 2.55 & 3.52 & 5.19 & 8.95 & 3.77 & 5.55 & 2.82 & .. & 4.56 & .. & 1.47 & 5.46 & 5.12 & 2.59 & 2.03 & .. & 6.38 & 4.21 & 3.92 & 1.78 & 2.92 & 10.92 & 14.67 & 1.10 & 22.34 & 2.34 & 12.66 & 1.12 & 13.38 & 6.70 & 2.84 & 7.05 & 4.95 & 2.72 & 14.68 & 5.03 & 3.49 & 3.26 & 4.31 & 3.24 & 11.32 & 7.78 & 7.98 & 10.56 & 4.82 & 8.94 & 4.58 & 1.41 & 1.81 & 3.46 &  9.68 & 13.50 & 3.19 & 2.60 &  9.69 & 6.67 & 1.14 & 1.93 & 4.11 & 5.46 & 7.46 & 4.13 & 4.89 & 31.60 & 4.59 & 11.91 & 6.35 & 7.56 & 6.43 & 11.61 & 3.23 & 3.54 & 2.42 & 5.72 & 3.45 & 19.72 & 2.68 & 8.32 & 6.89 & 4.91 & 6.85 & 6.02 & 3.53 & 5.40 & 2.80 & 4.37 & 4.48 & 11.74 & 2.03 & 2.96 & 3.51 & 5.78 & 2.58 & 2.92 & 5.20 & 4.05 & 2.10 & 3.46 & 2.00 & 3.14 & 17.15 & 5.57 & 3.08 & 15.79 & 10.22 & 4.58 & 3.05 & 3.03 & 2.96 & 3.79 & 3.30 & 2.49 & 3.69 & 2.04 & 2.46 & 2.87 & 2.96 & 3.98 & 3.74 & 2.04 & 5.08 & 3.58 & 13.55 & 10.51 & 3.28 & 1.44 & 2.48 & 2.72 & 3.41 & ..   & ..   & ..   & 5.04 & 2.32 & 3.43 & 2.33 & 3.74 & 11.82 & 2.72 & 2017 & 09 & NA\\\\\n",
       "\t 4 & 2017M10 & 2.83 & 2.66 & 2.99 & 3.42 & 2.29 & 1.39 & 3.84 & 6.83 & 3.18 &  7.68 & 2.28 & 11.50 & 2.02 & 2.48 & 18.31 & 30.04 & 14.32 & 15.26 & 14.87 & .. &  9.92 & 2.50 & .. & 2.85 & 5.34 & 1.80 & 2.45 & 3.56 & 4.69 & 8.79 & 3.90 & 5.67 & 2.77 & .. & 4.24 & .. & 1.42 & 5.87 & 4.91 & 2.57 & 2.01 & .. & 6.39 & 4.17 & 4.21 & 1.80 & 2.71 & 11.27 & 13.74 & 1.09 & ..    & 2.34 & 12.08 & 1.12 & 13.23 & 6.71 & 2.87 & 7.21 & 4.95 & 3.31 & 10.37 & 4.42 & 3.28 & ..   & 4.40 & 3.13 & 10.77 & 7.69 & 8.06 & 10.68 & 5.01 & 8.58 & 4.56 & 1.40 & ..   & 3.33 & 10.36 & 10.55 & 3.08 & 2.62 &  6.04 & 6.56 & 1.12 & 1.89 & 4.08 & 5.50 & 7.84 & 4.00 & 4.97 & 32.46 & 4.60 & 11.92 & 6.52 & 7.56 & 6.55 & 11.11 & 3.24 & 3.58 & 2.42 & 5.62 & 3.47 & 19.55 & 2.77 & 8.84 & ..   & 4.56 & 6.81 & 5.93 & 3.41 & 5.10 & 2.88 & 4.46 & 4.50 & 12.49 & 1.96 & 2.56 & 3.58 & 5.79 & 2.51 & 2.86 & 5.20 & 4.05 & 2.19 & 3.40 & 2.43 & 3.10 & 16.69 & 5.71 & 4.68 & 14.86 &  9.29 & 4.39 & 3.32 & 3.18 & 2.96 & 3.84 & 3.32 & 2.48 & 3.35 & 2.05 & 2.33 & 2.83 & 2.86 & 3.99 & 3.77 & 2.08 & ..   & 3.59 & 13.55 & 10.46 & 3.29 & 1.26 & 2.51 & 2.69 & 3.30 & 3.71 & 4.41 & 3.16 & 5.00 & 2.40 & 3.31 & 2.55 & 3.71 & 11.97 & 2.65 & 2017 & 10 & NA\\\\\n",
       "\t 5 & 2017M11 & 2.77 & 2.82 & 3.30 & 4.22 & 2.33 & 1.58 & 3.16 & 5.06 & 3.22 &  4.32 & 2.47 & 11.40 & 2.16 & 2.55 & 18.47 & 29.38 & 13.61 & 15.22 & 14.94 & .. &  9.73 & 2.58 & .. & 2.74 & 5.47 & 1.81 & 2.53 & 3.56 & 4.53 & 8.98 & 3.89 & 5.74 & 2.77 & .. & 4.20 & .. & 1.51 & 6.01 & 4.91 & 2.50 & 2.07 & .. & 6.43 & 4.20 & 4.31 & 1.86 & 2.78 & 11.36 & 13.00 & 1.10 & ..    & 2.27 & 11.05 & 1.11 & 15.79 & 6.71 & 2.79 & 7.25 & 4.97 & 3.42 & 10.08 & 4.41 & 4.70 & ..   & 4.41 & 3.56 & 11.10 & 7.65 & 7.77 & 10.35 & 4.70 & 7.34 & 4.57 & 1.58 & ..   & 3.42 & 10.21 &  7.24 & 3.21 & 2.62 &  5.51 & 6.61 & 1.11 & 1.93 & 4.09 & 5.50 & 7.82 & 4.11 & 4.85 & 31.97 & 4.62 & 11.84 & 6.38 & 7.57 & 6.43 & 11.33 & 3.28 & 3.61 & 2.42 & 5.73 & 3.50 & 20.28 & 2.72 & 8.99 & ..   & 4.59 & 7.16 & 6.15 & 3.41 & 5.37 & 2.65 & 4.31 & 4.51 & 11.85 & 1.99 & 2.54 & 3.54 & 5.99 & 2.42 & 2.97 & 5.26 & 4.07 & 2.14 & 3.52 & 2.19 & 3.30 & 16.87 & 5.52 & 5.78 & 15.55 &  9.17 & 4.43 & 3.16 & 3.09 & 2.96 & 3.84 & 3.29 & 2.48 & 3.29 & 1.95 & 2.44 & 2.85 & 3.12 & 4.00 & 3.77 & 2.08 & ..   & 3.60 & 13.57 & 10.57 & 3.29 & 1.29 & 2.52 & 2.75 & 3.34 & 3.7  & 4.48 & 3.11 & 5.14 & 2.35 & 2.90 & 2.43 & 3.73 & 12.59 & 2.78 & 2017 & 11 & NA\\\\\n",
       "\t 6 & 2017M12 & 3.71 & 2.71 & 3.37 & 5.55 & 2.28 & 1.44 & 2.63 & 4.36 & 2.45 &  3.32 & 2.51 & 11.22 & 2.41 & 2.48 & 18.64 & 29.48 & 13.47 & 14.56 & 16.35 & .. &  9.69 & 2.47 & .. & 2.86 & 5.51 & 1.79 & 2.52 & 3.56 & 4.99 & 8.49 & 3.81 & 5.46 & 2.74 & .. & 3.81 & .. & 1.50 & 5.90 & 5.01 & 2.31 & 2.05 & .. & 6.47 & 4.20 & 3.68 & 1.93 & 2.84 & 11.14 & 13.18 & 1.09 & ..    & 2.37 & 11.54 & 1.17 & 13.75 & 6.74 & 2.79 & 7.56 & 4.99 & 3.49 & 10.09 & 3.99 & 4.99 & ..   & 4.24 & 3.51 & 11.53 & 8.00 & 7.76 & 10.11 & 4.54 & 6.72 & 4.57 & 1.44 & ..   & 3.50 & 10.09 &  6.86 & 3.05 & 2.61 &  5.11 & 6.38 & 1.18 & 1.88 & 4.09 & 5.49 & 7.18 & 4.04 & 4.87 & 30.87 & 4.68 & 11.94 & 6.44 & 8.23 & 5.90 & 11.24 & 3.29 & 3.53 & 2.41 & 5.65 & 3.46 & 20.48 & 2.72 & 8.37 & ..   & 4.86 & 7.07 & 6.01 & 3.56 & 5.32 & 2.74 & 4.20 & 4.53 & 12.25 & 1.99 & 2.52 & 3.62 & 6.07 & 2.67 & 3.05 & 4.96 & 4.31 & 2.04 & 3.44 & 2.14 & 3.24 & 17.89 & 5.28 & 7.08 & 13.57 &  9.12 & 4.44 & 3.09 & 3.18 & 2.98 & 3.85 & 3.29 & 2.46 & 3.48 & 2.03 & 2.49 & 2.84 & 2.85 & 4.01 & 3.77 & 2.10 & ..   & 3.60 & 13.57 & 10.41 & 3.29 & 1.18 & 2.52 & 2.77 & 3.10 & 3.75 & 4.39 & 2.99 & 4.85 & 2.34 & 2.84 & 2.33 & 3.73 & 12.26 & 2.70 & 2017 & 12 & NA\\\\\n",
       "\\end{tabular}\n"
      ],
      "text/markdown": [
       "\n",
       "A tibble: 6 × 170\n",
       "\n",
       "| X1 &lt;dbl&gt; | Item &lt;chr&gt; | Oranges &lt;dbl&gt; | Bananas &lt;dbl&gt; | Apples &lt;dbl&gt; | Kiwifruit &lt;dbl&gt; | Sultanas &lt;dbl&gt; | Canned.peaches &lt;dbl&gt; | Lettuce &lt;dbl&gt; | Broccoli &lt;dbl&gt; | ⋯ ⋯ | Fresh.or.frozen.pizza &lt;dbl&gt; | Margarine &lt;dbl&gt; | Mayonnaise &lt;dbl&gt; | Dried.mixed.herbs &lt;dbl&gt; | Salted.blanched.peanuts &lt;dbl&gt; | Sliced.or.shaved.ham &lt;dbl&gt; | Chewing.gum &lt;dbl&gt; | year &lt;dbl&gt; | month &lt;chr&gt; | month_abb &lt;lgl&gt; |\n",
       "|---|---|---|---|---|---|---|---|---|---|---|---|---|---|---|---|---|---|---|---|---|\n",
       "| 1 | 2017M07 | 3.59 | 2.73 | 2.71 | 2.55 | 2.38 | 1.56 | 6.59 | 9.43 | ⋯ | 4.96 | 2.29 | 3.43 | 2.46 | 3.47 | 12.51 | 2.66 | 2017 | 07 | NA |\n",
       "| 2 | 2017M08 | 3.42 | 2.93 | 2.59 | 2.86 | 2.17 | 1.65 | 7.09 | 8.82 | ⋯ | 4.99 | 2.33 | 3.19 | 2.44 | 3.47 | 12.12 | 2.70 | 2017 | 08 | NA |\n",
       "| 3 | 2017M09 | 2.93 | 2.83 | 2.71 | 3.25 | 2.43 | 1.59 | 5.17 | 6.95 | ⋯ | 5.04 | 2.32 | 3.43 | 2.33 | 3.74 | 11.82 | 2.72 | 2017 | 09 | NA |\n",
       "| 4 | 2017M10 | 2.83 | 2.66 | 2.99 | 3.42 | 2.29 | 1.39 | 3.84 | 6.83 | ⋯ | 5.00 | 2.40 | 3.31 | 2.55 | 3.71 | 11.97 | 2.65 | 2017 | 10 | NA |\n",
       "| 5 | 2017M11 | 2.77 | 2.82 | 3.30 | 4.22 | 2.33 | 1.58 | 3.16 | 5.06 | ⋯ | 5.14 | 2.35 | 2.90 | 2.43 | 3.73 | 12.59 | 2.78 | 2017 | 11 | NA |\n",
       "| 6 | 2017M12 | 3.71 | 2.71 | 3.37 | 5.55 | 2.28 | 1.44 | 2.63 | 4.36 | ⋯ | 4.85 | 2.34 | 2.84 | 2.33 | 3.73 | 12.26 | 2.70 | 2017 | 12 | NA |\n",
       "\n"
      ],
      "text/plain": [
       "  X1 Item    Oranges Bananas Apples Kiwifruit Sultanas Canned.peaches Lettuce\n",
       "1 1  2017M07 3.59    2.73    2.71   2.55      2.38     1.56           6.59   \n",
       "2 2  2017M08 3.42    2.93    2.59   2.86      2.17     1.65           7.09   \n",
       "3 3  2017M09 2.93    2.83    2.71   3.25      2.43     1.59           5.17   \n",
       "4 4  2017M10 2.83    2.66    2.99   3.42      2.29     1.39           3.84   \n",
       "5 5  2017M11 2.77    2.82    3.30   4.22      2.33     1.58           3.16   \n",
       "6 6  2017M12 3.71    2.71    3.37   5.55      2.28     1.44           2.63   \n",
       "  Broccoli ⋯ Fresh.or.frozen.pizza Margarine Mayonnaise Dried.mixed.herbs\n",
       "1 9.43     ⋯ 4.96                  2.29      3.43       2.46             \n",
       "2 8.82     ⋯ 4.99                  2.33      3.19       2.44             \n",
       "3 6.95     ⋯ 5.04                  2.32      3.43       2.33             \n",
       "4 6.83     ⋯ 5.00                  2.40      3.31       2.55             \n",
       "5 5.06     ⋯ 5.14                  2.35      2.90       2.43             \n",
       "6 4.36     ⋯ 4.85                  2.34      2.84       2.33             \n",
       "  Salted.blanched.peanuts Sliced.or.shaved.ham Chewing.gum year month month_abb\n",
       "1 3.47                    12.51                2.66        2017 07    NA       \n",
       "2 3.47                    12.12                2.70        2017 08    NA       \n",
       "3 3.74                    11.82                2.72        2017 09    NA       \n",
       "4 3.71                    11.97                2.65        2017 10    NA       \n",
       "5 3.73                    12.59                2.78        2017 11    NA       \n",
       "6 3.73                    12.26                2.70        2017 12    NA       "
      ]
     },
     "metadata": {},
     "output_type": "display_data"
    }
   ],
   "source": [
    "head(df_fpi)\n"
   ]
  },
  {
   "cell_type": "code",
   "execution_count": 275,
   "metadata": {},
   "outputs": [],
   "source": [
    "col_fpi <- colnames(df_fpi)\n",
    "col_os <- colnames(df_os_exp)"
   ]
  },
  {
   "cell_type": "code",
   "execution_count": 276,
   "metadata": {},
   "outputs": [],
   "source": [
    "col_split <- function(name) {\n",
    "   return(toupper(unlist(strsplit(name,\"\\\\.\"))))\n",
    "}"
   ]
  },
  {
   "cell_type": "code",
   "execution_count": 277,
   "metadata": {},
   "outputs": [
    {
     "data": {
      "text/html": [
       "<ol class=list-inline>\n",
       "\t<li>'MILK'</li>\n",
       "\t<li>'BUTTER'</li>\n",
       "\t<li>'CHEESE'</li>\n",
       "</ol>\n"
      ],
      "text/latex": [
       "\\begin{enumerate*}\n",
       "\\item 'MILK'\n",
       "\\item 'BUTTER'\n",
       "\\item 'CHEESE'\n",
       "\\end{enumerate*}\n"
      ],
      "text/markdown": [
       "1. 'MILK'\n",
       "2. 'BUTTER'\n",
       "3. 'CHEESE'\n",
       "\n",
       "\n"
      ],
      "text/plain": [
       "[1] \"MILK\"   \"BUTTER\" \"CHEESE\""
      ]
     },
     "metadata": {},
     "output_type": "display_data"
    }
   ],
   "source": [
    "col_split(\"Milk.Butter.Cheese\")"
   ]
  },
  {
   "cell_type": "code",
   "execution_count": 278,
   "metadata": {},
   "outputs": [
    {
     "data": {
      "text/html": [
       "<ol class=list-inline>\n",
       "\t<li>'MILK'</li>\n",
       "\t<li>'BUTTER'</li>\n",
       "\t<li>'CHEESE'</li>\n",
       "\t<li>'MEAT'</li>\n",
       "\t<li>'LOGS'</li>\n",
       "\t<li>'WOOD'</li>\n",
       "\t<li>'FRUIT'</li>\n",
       "\t<li>'FISH'</li>\n",
       "\t<li>'WINE'</li>\n",
       "</ol>\n"
      ],
      "text/latex": [
       "\\begin{enumerate*}\n",
       "\\item 'MILK'\n",
       "\\item 'BUTTER'\n",
       "\\item 'CHEESE'\n",
       "\\item 'MEAT'\n",
       "\\item 'LOGS'\n",
       "\\item 'WOOD'\n",
       "\\item 'FRUIT'\n",
       "\\item 'FISH'\n",
       "\\item 'WINE'\n",
       "\\end{enumerate*}\n"
      ],
      "text/markdown": [
       "1. 'MILK'\n",
       "2. 'BUTTER'\n",
       "3. 'CHEESE'\n",
       "4. 'MEAT'\n",
       "5. 'LOGS'\n",
       "6. 'WOOD'\n",
       "7. 'FRUIT'\n",
       "8. 'FISH'\n",
       "9. 'WINE'\n",
       "\n",
       "\n"
      ],
      "text/plain": [
       "[1] \"MILK\"   \"BUTTER\" \"CHEESE\" \"MEAT\"   \"LOGS\"   \"WOOD\"   \"FRUIT\"  \"FISH\"  \n",
       "[9] \"WINE\"  "
      ]
     },
     "metadata": {},
     "output_type": "display_data"
    }
   ],
   "source": [
    "col_os <- unlist(lapply(col_os, col_split))\n",
    "col_os <- col_os[-c(1,2)]\n",
    "col_os"
   ]
  },
  {
   "cell_type": "code",
   "execution_count": null,
   "metadata": {},
   "outputs": [],
   "source": []
  },
  {
   "cell_type": "code",
   "execution_count": 279,
   "metadata": {},
   "outputs": [],
   "source": [
    "# https://stackoverflow.com/a/31905753\n",
    "\n",
    "col_finder <- function(name){\n",
    "    \n",
    "    index <- grepl((name), toupper(col_fpi))\n",
    "    return(index)\n",
    "}"
   ]
  },
  {
   "cell_type": "code",
   "execution_count": 280,
   "metadata": {},
   "outputs": [],
   "source": [
    "index_list <- (lapply(col_os, col_finder))"
   ]
  },
  {
   "cell_type": "code",
   "execution_count": 281,
   "metadata": {},
   "outputs": [
    {
     "data": {
      "text/html": [
       "9"
      ],
      "text/latex": [
       "9"
      ],
      "text/markdown": [
       "9"
      ],
      "text/plain": [
       "[1] 9"
      ]
     },
     "metadata": {},
     "output_type": "display_data"
    }
   ],
   "source": [
    "length(index_list)"
   ]
  },
  {
   "cell_type": "code",
   "execution_count": 282,
   "metadata": {},
   "outputs": [],
   "source": [
    "# NA removal\n",
    "df_fpi[df_fpi == \"..\"] <- NA"
   ]
  },
  {
   "cell_type": "code",
   "execution_count": 283,
   "metadata": {},
   "outputs": [],
   "source": [
    "#df_fpi[unlist(index_list)]"
   ]
  },
  {
   "cell_type": "code",
   "execution_count": 284,
   "metadata": {},
   "outputs": [
    {
     "data": {
      "text/html": [
       "<table>\n",
       "<caption>A matrix: 6 × 4 of type dbl</caption>\n",
       "<thead>\n",
       "\t<tr><th scope=col>Standard.homogenised.milk</th><th scope=col>Calcium.enriched.milk</th><th scope=col>Unflavoured.soy.milk</th><th scope=col>Milkshakes</th></tr>\n",
       "</thead>\n",
       "<tbody>\n",
       "\t<tr><td>3.54</td><td>5.45</td><td>3.28</td><td>5.06</td></tr>\n",
       "\t<tr><td>3.53</td><td>5.46</td><td>3.33</td><td>5.08</td></tr>\n",
       "\t<tr><td>3.52</td><td>5.46</td><td>3.30</td><td>5.08</td></tr>\n",
       "\t<tr><td>3.56</td><td>5.50</td><td>3.32</td><td>  NA</td></tr>\n",
       "\t<tr><td>3.56</td><td>5.50</td><td>3.29</td><td>  NA</td></tr>\n",
       "\t<tr><td>3.56</td><td>5.49</td><td>3.29</td><td>  NA</td></tr>\n",
       "</tbody>\n",
       "</table>\n"
      ],
      "text/latex": [
       "A matrix: 6 × 4 of type dbl\n",
       "\\begin{tabular}{llll}\n",
       " Standard.homogenised.milk & Calcium.enriched.milk & Unflavoured.soy.milk & Milkshakes\\\\\n",
       "\\hline\n",
       "\t 3.54 & 5.45 & 3.28 & 5.06\\\\\n",
       "\t 3.53 & 5.46 & 3.33 & 5.08\\\\\n",
       "\t 3.52 & 5.46 & 3.30 & 5.08\\\\\n",
       "\t 3.56 & 5.50 & 3.32 &   NA\\\\\n",
       "\t 3.56 & 5.50 & 3.29 &   NA\\\\\n",
       "\t 3.56 & 5.49 & 3.29 &   NA\\\\\n",
       "\\end{tabular}\n"
      ],
      "text/markdown": [
       "\n",
       "A matrix: 6 × 4 of type dbl\n",
       "\n",
       "| Standard.homogenised.milk | Calcium.enriched.milk | Unflavoured.soy.milk | Milkshakes |\n",
       "|---|---|---|---|\n",
       "| 3.54 | 5.45 | 3.28 | 5.06 |\n",
       "| 3.53 | 5.46 | 3.33 | 5.08 |\n",
       "| 3.52 | 5.46 | 3.30 | 5.08 |\n",
       "| 3.56 | 5.50 | 3.32 |   NA |\n",
       "| 3.56 | 5.50 | 3.29 |   NA |\n",
       "| 3.56 | 5.49 | 3.29 |   NA |\n",
       "\n"
      ],
      "text/plain": [
       "     Standard.homogenised.milk Calcium.enriched.milk Unflavoured.soy.milk\n",
       "[1,] 3.54                      5.45                  3.28                \n",
       "[2,] 3.53                      5.46                  3.33                \n",
       "[3,] 3.52                      5.46                  3.30                \n",
       "[4,] 3.56                      5.50                  3.32                \n",
       "[5,] 3.56                      5.50                  3.29                \n",
       "[6,] 3.56                      5.49                  3.29                \n",
       "     Milkshakes\n",
       "[1,] 5.06      \n",
       "[2,] 5.08      \n",
       "[3,] 5.08      \n",
       "[4,]   NA      \n",
       "[5,]   NA      \n",
       "[6,]   NA      "
      ]
     },
     "metadata": {},
     "output_type": "display_data"
    }
   ],
   "source": [
    "# https://stackoverflow.com/a/19146419\n",
    "df_check <- sapply( df_fpi[unlist(index_list[1])], as.numeric )\n",
    "head(df_check)"
   ]
  },
  {
   "cell_type": "code",
   "execution_count": 285,
   "metadata": {},
   "outputs": [
    {
     "data": {
      "text/html": [
       "<table>\n",
       "<caption>A data.frame: 18 × 5</caption>\n",
       "<thead>\n",
       "\t<tr><th scope=col>Standard.homogenised.milk</th><th scope=col>Calcium.enriched.milk</th><th scope=col>Unflavoured.soy.milk</th><th scope=col>Milkshakes</th><th scope=col>means</th></tr>\n",
       "\t<tr><th scope=col>&lt;dbl&gt;</th><th scope=col>&lt;dbl&gt;</th><th scope=col>&lt;dbl&gt;</th><th scope=col>&lt;dbl&gt;</th><th scope=col>&lt;dbl&gt;</th></tr>\n",
       "</thead>\n",
       "<tbody>\n",
       "\t<tr><td>3.54</td><td>5.45</td><td>3.28</td><td>5.06</td><td>4.332500</td></tr>\n",
       "\t<tr><td>3.53</td><td>5.46</td><td>3.33</td><td>5.08</td><td>4.350000</td></tr>\n",
       "\t<tr><td>3.52</td><td>5.46</td><td>3.30</td><td>5.08</td><td>4.340000</td></tr>\n",
       "\t<tr><td>3.56</td><td>5.50</td><td>3.32</td><td>  NA</td><td>4.126667</td></tr>\n",
       "\t<tr><td>3.56</td><td>5.50</td><td>3.29</td><td>  NA</td><td>4.116667</td></tr>\n",
       "\t<tr><td>3.56</td><td>5.49</td><td>3.29</td><td>  NA</td><td>4.113333</td></tr>\n",
       "\t<tr><td>3.53</td><td>5.46</td><td>3.18</td><td>  NA</td><td>4.056667</td></tr>\n",
       "\t<tr><td>3.53</td><td>5.47</td><td>3.22</td><td>  NA</td><td>4.073333</td></tr>\n",
       "\t<tr><td>3.53</td><td>5.47</td><td>3.29</td><td>  NA</td><td>4.096667</td></tr>\n",
       "\t<tr><td>3.53</td><td>5.46</td><td>3.25</td><td>  NA</td><td>4.080000</td></tr>\n",
       "\t<tr><td>3.53</td><td>5.48</td><td>3.27</td><td>  NA</td><td>4.093333</td></tr>\n",
       "\t<tr><td>3.56</td><td>5.47</td><td>3.25</td><td>  NA</td><td>4.093333</td></tr>\n",
       "\t<tr><td>3.58</td><td>5.58</td><td>3.21</td><td>  NA</td><td>4.123333</td></tr>\n",
       "\t<tr><td>3.58</td><td>5.56</td><td>3.28</td><td>  NA</td><td>4.140000</td></tr>\n",
       "\t<tr><td>3.58</td><td>5.58</td><td>3.21</td><td>  NA</td><td>4.123333</td></tr>\n",
       "\t<tr><td>3.55</td><td>5.56</td><td>3.22</td><td>  NA</td><td>4.110000</td></tr>\n",
       "\t<tr><td>3.55</td><td>5.56</td><td>3.29</td><td>  NA</td><td>4.133333</td></tr>\n",
       "\t<tr><td>3.58</td><td>5.57</td><td>3.18</td><td>  NA</td><td>4.110000</td></tr>\n",
       "</tbody>\n",
       "</table>\n"
      ],
      "text/latex": [
       "A data.frame: 18 × 5\n",
       "\\begin{tabular}{r|lllll}\n",
       " Standard.homogenised.milk & Calcium.enriched.milk & Unflavoured.soy.milk & Milkshakes & means\\\\\n",
       " <dbl> & <dbl> & <dbl> & <dbl> & <dbl>\\\\\n",
       "\\hline\n",
       "\t 3.54 & 5.45 & 3.28 & 5.06 & 4.332500\\\\\n",
       "\t 3.53 & 5.46 & 3.33 & 5.08 & 4.350000\\\\\n",
       "\t 3.52 & 5.46 & 3.30 & 5.08 & 4.340000\\\\\n",
       "\t 3.56 & 5.50 & 3.32 &   NA & 4.126667\\\\\n",
       "\t 3.56 & 5.50 & 3.29 &   NA & 4.116667\\\\\n",
       "\t 3.56 & 5.49 & 3.29 &   NA & 4.113333\\\\\n",
       "\t 3.53 & 5.46 & 3.18 &   NA & 4.056667\\\\\n",
       "\t 3.53 & 5.47 & 3.22 &   NA & 4.073333\\\\\n",
       "\t 3.53 & 5.47 & 3.29 &   NA & 4.096667\\\\\n",
       "\t 3.53 & 5.46 & 3.25 &   NA & 4.080000\\\\\n",
       "\t 3.53 & 5.48 & 3.27 &   NA & 4.093333\\\\\n",
       "\t 3.56 & 5.47 & 3.25 &   NA & 4.093333\\\\\n",
       "\t 3.58 & 5.58 & 3.21 &   NA & 4.123333\\\\\n",
       "\t 3.58 & 5.56 & 3.28 &   NA & 4.140000\\\\\n",
       "\t 3.58 & 5.58 & 3.21 &   NA & 4.123333\\\\\n",
       "\t 3.55 & 5.56 & 3.22 &   NA & 4.110000\\\\\n",
       "\t 3.55 & 5.56 & 3.29 &   NA & 4.133333\\\\\n",
       "\t 3.58 & 5.57 & 3.18 &   NA & 4.110000\\\\\n",
       "\\end{tabular}\n"
      ],
      "text/markdown": [
       "\n",
       "A data.frame: 18 × 5\n",
       "\n",
       "| Standard.homogenised.milk &lt;dbl&gt; | Calcium.enriched.milk &lt;dbl&gt; | Unflavoured.soy.milk &lt;dbl&gt; | Milkshakes &lt;dbl&gt; | means &lt;dbl&gt; |\n",
       "|---|---|---|---|---|\n",
       "| 3.54 | 5.45 | 3.28 | 5.06 | 4.332500 |\n",
       "| 3.53 | 5.46 | 3.33 | 5.08 | 4.350000 |\n",
       "| 3.52 | 5.46 | 3.30 | 5.08 | 4.340000 |\n",
       "| 3.56 | 5.50 | 3.32 |   NA | 4.126667 |\n",
       "| 3.56 | 5.50 | 3.29 |   NA | 4.116667 |\n",
       "| 3.56 | 5.49 | 3.29 |   NA | 4.113333 |\n",
       "| 3.53 | 5.46 | 3.18 |   NA | 4.056667 |\n",
       "| 3.53 | 5.47 | 3.22 |   NA | 4.073333 |\n",
       "| 3.53 | 5.47 | 3.29 |   NA | 4.096667 |\n",
       "| 3.53 | 5.46 | 3.25 |   NA | 4.080000 |\n",
       "| 3.53 | 5.48 | 3.27 |   NA | 4.093333 |\n",
       "| 3.56 | 5.47 | 3.25 |   NA | 4.093333 |\n",
       "| 3.58 | 5.58 | 3.21 |   NA | 4.123333 |\n",
       "| 3.58 | 5.56 | 3.28 |   NA | 4.140000 |\n",
       "| 3.58 | 5.58 | 3.21 |   NA | 4.123333 |\n",
       "| 3.55 | 5.56 | 3.22 |   NA | 4.110000 |\n",
       "| 3.55 | 5.56 | 3.29 |   NA | 4.133333 |\n",
       "| 3.58 | 5.57 | 3.18 |   NA | 4.110000 |\n",
       "\n"
      ],
      "text/plain": [
       "   Standard.homogenised.milk Calcium.enriched.milk Unflavoured.soy.milk\n",
       "1  3.54                      5.45                  3.28                \n",
       "2  3.53                      5.46                  3.33                \n",
       "3  3.52                      5.46                  3.30                \n",
       "4  3.56                      5.50                  3.32                \n",
       "5  3.56                      5.50                  3.29                \n",
       "6  3.56                      5.49                  3.29                \n",
       "7  3.53                      5.46                  3.18                \n",
       "8  3.53                      5.47                  3.22                \n",
       "9  3.53                      5.47                  3.29                \n",
       "10 3.53                      5.46                  3.25                \n",
       "11 3.53                      5.48                  3.27                \n",
       "12 3.56                      5.47                  3.25                \n",
       "13 3.58                      5.58                  3.21                \n",
       "14 3.58                      5.56                  3.28                \n",
       "15 3.58                      5.58                  3.21                \n",
       "16 3.55                      5.56                  3.22                \n",
       "17 3.55                      5.56                  3.29                \n",
       "18 3.58                      5.57                  3.18                \n",
       "   Milkshakes means   \n",
       "1  5.06       4.332500\n",
       "2  5.08       4.350000\n",
       "3  5.08       4.340000\n",
       "4    NA       4.126667\n",
       "5    NA       4.116667\n",
       "6    NA       4.113333\n",
       "7    NA       4.056667\n",
       "8    NA       4.073333\n",
       "9    NA       4.096667\n",
       "10   NA       4.080000\n",
       "11   NA       4.093333\n",
       "12   NA       4.093333\n",
       "13   NA       4.123333\n",
       "14   NA       4.140000\n",
       "15   NA       4.123333\n",
       "16   NA       4.110000\n",
       "17   NA       4.133333\n",
       "18   NA       4.110000"
      ]
     },
     "metadata": {},
     "output_type": "display_data"
    }
   ],
   "source": [
    "# Rowwise average excluding NA\n",
    "# https://stackoverflow.com/a/38407334\n",
    "\n",
    "data.frame(df_check) %>% \n",
    "  mutate(means=rowMeans(., na.rm=TRUE))"
   ]
  },
  {
   "cell_type": "code",
   "execution_count": 286,
   "metadata": {},
   "outputs": [
    {
     "name": "stdout",
     "output_type": "stream",
     "text": [
      "\u001b[38;5;246m# A tibble: 18 x 4\u001b[39m\n",
      "   Standard.homogenised.mi… Calcium.enriched.milk Unflavoured.soy.mi… Milkshakes\n",
      "                      \u001b[3m\u001b[38;5;246m<dbl>\u001b[39m\u001b[23m                 \u001b[3m\u001b[38;5;246m<dbl>\u001b[39m\u001b[23m               \u001b[3m\u001b[38;5;246m<dbl>\u001b[39m\u001b[23m \u001b[3m\u001b[38;5;246m<chr>\u001b[39m\u001b[23m     \n",
      "\u001b[38;5;250m 1\u001b[39m                     3.54                  5.45                3.28 5.06      \n",
      "\u001b[38;5;250m 2\u001b[39m                     3.53                  5.46                3.33 5.08      \n",
      "\u001b[38;5;250m 3\u001b[39m                     3.52                  5.46                3.3  5.08      \n",
      "\u001b[38;5;250m 4\u001b[39m                     3.56                  5.5                 3.32 \u001b[31mNA\u001b[39m        \n",
      "\u001b[38;5;250m 5\u001b[39m                     3.56                  5.5                 3.29 \u001b[31mNA\u001b[39m        \n",
      "\u001b[38;5;250m 6\u001b[39m                     3.56                  5.49                3.29 \u001b[31mNA\u001b[39m        \n",
      "\u001b[38;5;250m 7\u001b[39m                     3.53                  5.46                3.18 \u001b[31mNA\u001b[39m        \n",
      "\u001b[38;5;250m 8\u001b[39m                     3.53                  5.47                3.22 \u001b[31mNA\u001b[39m        \n",
      "\u001b[38;5;250m 9\u001b[39m                     3.53                  5.47                3.29 \u001b[31mNA\u001b[39m        \n",
      "\u001b[38;5;250m10\u001b[39m                     3.53                  5.46                3.25 \u001b[31mNA\u001b[39m        \n",
      "\u001b[38;5;250m11\u001b[39m                     3.53                  5.48                3.27 \u001b[31mNA\u001b[39m        \n",
      "\u001b[38;5;250m12\u001b[39m                     3.56                  5.47                3.25 \u001b[31mNA\u001b[39m        \n",
      "\u001b[38;5;250m13\u001b[39m                     3.58                  5.58                3.21 \u001b[31mNA\u001b[39m        \n",
      "\u001b[38;5;250m14\u001b[39m                     3.58                  5.56                3.28 \u001b[31mNA\u001b[39m        \n",
      "\u001b[38;5;250m15\u001b[39m                     3.58                  5.58                3.21 \u001b[31mNA\u001b[39m        \n",
      "\u001b[38;5;250m16\u001b[39m                     3.55                  5.56                3.22 \u001b[31mNA\u001b[39m        \n",
      "\u001b[38;5;250m17\u001b[39m                     3.55                  5.56                3.29 \u001b[31mNA\u001b[39m        \n",
      "\u001b[38;5;250m18\u001b[39m                     3.58                  5.57                3.18 \u001b[31mNA\u001b[39m        \n",
      "\u001b[38;5;246m# A tibble: 18 x 2\u001b[39m\n",
      "   Salted.butter Peanut.butter\n",
      "           \u001b[3m\u001b[38;5;246m<dbl>\u001b[39m\u001b[23m         \u001b[3m\u001b[38;5;246m<dbl>\u001b[39m\u001b[23m\n",
      "\u001b[38;5;250m 1\u001b[39m          4.88          2.93\n",
      "\u001b[38;5;250m 2\u001b[39m          5.39          2.87\n",
      "\u001b[38;5;250m 3\u001b[39m          5.55          2.87\n",
      "\u001b[38;5;250m 4\u001b[39m          5.67          2.83\n",
      "\u001b[38;5;250m 5\u001b[39m          5.74          2.85\n",
      "\u001b[38;5;250m 6\u001b[39m          5.46          2.84\n",
      "\u001b[38;5;250m 7\u001b[39m          5.78          2.81\n",
      "\u001b[38;5;250m 8\u001b[39m          5.62          2.83\n",
      "\u001b[38;5;250m 9\u001b[39m          5.66          2.81\n",
      "\u001b[38;5;250m10\u001b[39m          5.36          2.8 \n",
      "\u001b[38;5;250m11\u001b[39m          5.59          2.77\n",
      "\u001b[38;5;250m12\u001b[39m          5.21          2.8 \n",
      "\u001b[38;5;250m13\u001b[39m          5.35          2.78\n",
      "\u001b[38;5;250m14\u001b[39m          5.65          2.74\n",
      "\u001b[38;5;250m15\u001b[39m          5.76          2.76\n",
      "\u001b[38;5;250m16\u001b[39m          5.77          2.76\n",
      "\u001b[38;5;250m17\u001b[39m          5.75          2.76\n",
      "\u001b[38;5;250m18\u001b[39m          5.65          2.8 \n",
      "\u001b[38;5;246m# A tibble: 18 x 4\u001b[39m\n",
      "   Mild.cheddar.cheese Cottage.cheese Camember.cheese Processed.slices.of.cheese\n",
      "                 \u001b[3m\u001b[38;5;246m<dbl>\u001b[39m\u001b[23m \u001b[3m\u001b[38;5;246m<chr>\u001b[39m\u001b[23m                    \u001b[3m\u001b[38;5;246m<dbl>\u001b[39m\u001b[23m                      \u001b[3m\u001b[38;5;246m<dbl>\u001b[39m\u001b[23m\n",
      "\u001b[38;5;250m 1\u001b[39m                8.85 3.03                      4.71                       3.71\n",
      "\u001b[38;5;250m 2\u001b[39m                8.65 3.16                      4.4                        3.51\n",
      "\u001b[38;5;250m 3\u001b[39m                8.95 3.26                      4.31                       3.24\n",
      "\u001b[38;5;250m 4\u001b[39m                8.79 \u001b[31mNA\u001b[39m                        4.4                        3.13\n",
      "\u001b[38;5;250m 5\u001b[39m                8.98 \u001b[31mNA\u001b[39m                        4.41                       3.56\n",
      "\u001b[38;5;250m 6\u001b[39m                8.49 \u001b[31mNA\u001b[39m                        4.24                       3.51\n",
      "\u001b[38;5;250m 7\u001b[39m                8.64 \u001b[31mNA\u001b[39m                        4.3                        3.54\n",
      "\u001b[38;5;250m 8\u001b[39m                8.83 \u001b[31mNA\u001b[39m                        4.3                        3.53\n",
      "\u001b[38;5;250m 9\u001b[39m                8.86 \u001b[31mNA\u001b[39m                        4.68                       3.4 \n",
      "\u001b[38;5;250m10\u001b[39m                8.71 \u001b[31mNA\u001b[39m                        4.77                       3.43\n",
      "\u001b[38;5;250m11\u001b[39m                8.63 \u001b[31mNA\u001b[39m                        4.85                       3.57\n",
      "\u001b[38;5;250m12\u001b[39m                8.62 \u001b[31mNA\u001b[39m                        4.36                       3.5 \n",
      "\u001b[38;5;250m13\u001b[39m                8.44 \u001b[31mNA\u001b[39m                        4.52                       3.59\n",
      "\u001b[38;5;250m14\u001b[39m                8.83 \u001b[31mNA\u001b[39m                        4.25                       3.55\n",
      "\u001b[38;5;250m15\u001b[39m                8.94 \u001b[31mNA\u001b[39m                        4.32                       3.38\n",
      "\u001b[38;5;250m16\u001b[39m                9.1  \u001b[31mNA\u001b[39m                        4.49                       3.59\n",
      "\u001b[38;5;250m17\u001b[39m                9.08 \u001b[31mNA\u001b[39m                        4.55                       3.62\n",
      "\u001b[38;5;250m18\u001b[39m                8.84 \u001b[31mNA\u001b[39m                        4.55                       3.5 \n",
      "\u001b[38;5;246m# A tibble: 18 x 3\u001b[39m\n",
      "   Hot.meat.pie Luncheon.meat Chilled.meat.pies\n",
      "          \u001b[3m\u001b[38;5;246m<dbl>\u001b[39m\u001b[23m \u001b[3m\u001b[38;5;246m<chr>\u001b[39m\u001b[23m                     \u001b[3m\u001b[38;5;246m<dbl>\u001b[39m\u001b[23m\n",
      "\u001b[38;5;250m 1\u001b[39m         4.11 6.94                       5.78\n",
      "\u001b[38;5;250m 2\u001b[39m         4.16 6.77                       5.75\n",
      "\u001b[38;5;250m 3\u001b[39m         4.21 6.89                       6.02\n",
      "\u001b[38;5;250m 4\u001b[39m         4.17 \u001b[31mNA\u001b[39m                         5.93\n",
      "\u001b[38;5;250m 5\u001b[39m         4.2  \u001b[31mNA\u001b[39m                         6.15\n",
      "\u001b[38;5;250m 6\u001b[39m         4.2  \u001b[31mNA\u001b[39m                         6.01\n",
      "\u001b[38;5;250m 7\u001b[39m         4.2  \u001b[31mNA\u001b[39m                         6.08\n",
      "\u001b[38;5;250m 8\u001b[39m         4.2  \u001b[31mNA\u001b[39m                         5.94\n",
      "\u001b[38;5;250m 9\u001b[39m         4.2  \u001b[31mNA\u001b[39m                         6.04\n",
      "\u001b[38;5;250m10\u001b[39m         4.21 \u001b[31mNA\u001b[39m                         6.03\n",
      "\u001b[38;5;250m11\u001b[39m         4.2  \u001b[31mNA\u001b[39m                         6.01\n",
      "\u001b[38;5;250m12\u001b[39m         4.2  \u001b[31mNA\u001b[39m                         5.95\n",
      "\u001b[38;5;250m13\u001b[39m         4.23 \u001b[31mNA\u001b[39m                         5.97\n",
      "\u001b[38;5;250m14\u001b[39m         4.25 \u001b[31mNA\u001b[39m                         6.36\n",
      "\u001b[38;5;250m15\u001b[39m         4.27 \u001b[31mNA\u001b[39m                         5.96\n",
      "\u001b[38;5;250m16\u001b[39m         4.3  \u001b[31mNA\u001b[39m                         6.02\n",
      "\u001b[38;5;250m17\u001b[39m         4.3  \u001b[31mNA\u001b[39m                         6.02\n",
      "\u001b[38;5;250m18\u001b[39m         4.3  \u001b[31mNA\u001b[39m                         6.21\n",
      "\u001b[38;5;246m# A tibble: 18 x 0\u001b[39m\n",
      "\u001b[38;5;246m# A tibble: 18 x 0\u001b[39m\n",
      "\u001b[38;5;246m# A tibble: 18 x 5\u001b[39m\n",
      "   Kiwifruit Apple.based.fru… Apple.based.fru… Chilled.fruit.j… Fruit.flavoured…\n",
      "       \u001b[3m\u001b[38;5;246m<dbl>\u001b[39m\u001b[23m \u001b[3m\u001b[38;5;246m<chr>\u001b[39m\u001b[23m                       \u001b[3m\u001b[38;5;246m<dbl>\u001b[39m\u001b[23m            \u001b[3m\u001b[38;5;246m<dbl>\u001b[39m\u001b[23m            \u001b[3m\u001b[38;5;246m<dbl>\u001b[39m\u001b[23m\n",
      "\u001b[38;5;250m 1\u001b[39m      2.55 \u001b[31mNA\u001b[39m                           3.92             4.52             1.14\n",
      "\u001b[38;5;250m 2\u001b[39m      2.86 \u001b[31mNA\u001b[39m                           3.83             4.89             1.14\n",
      "\u001b[38;5;250m 3\u001b[39m      3.25 \u001b[31mNA\u001b[39m                           3.92             4.82             1.14\n",
      "\u001b[38;5;250m 4\u001b[39m      3.42 \u001b[31mNA\u001b[39m                           4.21             5.01             1.12\n",
      "\u001b[38;5;250m 5\u001b[39m      4.22 \u001b[31mNA\u001b[39m                           4.31             4.7              1.11\n",
      "\u001b[38;5;250m 6\u001b[39m      5.55 \u001b[31mNA\u001b[39m                           3.68             4.54             1.18\n",
      "\u001b[38;5;250m 7\u001b[39m      6.35 \u001b[31mNA\u001b[39m                           4.23             4.67             1.17\n",
      "\u001b[38;5;250m 8\u001b[39m      6.7  \u001b[31mNA\u001b[39m                           4.44             4.74             1.15\n",
      "\u001b[38;5;250m 9\u001b[39m      6.87 \u001b[31mNA\u001b[39m                           4.3              4.8              1.17\n",
      "\u001b[38;5;250m10\u001b[39m      5.79 \u001b[31mNA\u001b[39m                           4.49             4.84             1.2 \n",
      "\u001b[38;5;250m11\u001b[39m      3.5  \u001b[31mNA\u001b[39m                           4.41             5.12             1.21\n",
      "\u001b[38;5;250m12\u001b[39m      2.58 \u001b[31mNA\u001b[39m                           4.09             4.63             1.25\n",
      "\u001b[38;5;250m13\u001b[39m      2.37 \u001b[31mNA\u001b[39m                           4.57             4.69             1.25\n",
      "\u001b[38;5;250m14\u001b[39m      2.37 \u001b[31mNA\u001b[39m                           4.22             4.73             1.35\n",
      "\u001b[38;5;250m15\u001b[39m      2.51 \u001b[31mNA\u001b[39m                           4.39             4.89             1.18\n",
      "\u001b[38;5;250m16\u001b[39m      2.73 \u001b[31mNA\u001b[39m                           4.37             4.88             1.29\n",
      "\u001b[38;5;250m17\u001b[39m      3.32 \u001b[31mNA\u001b[39m                           4.22             4.71             1.26\n",
      "\u001b[38;5;250m18\u001b[39m      4.24 \u001b[31mNA\u001b[39m                           4.18             4.76             1.21\n",
      "\u001b[38;5;246m# A tibble: 18 x 3\u001b[39m\n",
      "   Fish.and.chips Frozen.fish.fillets Fresh.fish\n",
      "            \u001b[3m\u001b[38;5;246m<dbl>\u001b[39m\u001b[23m               \u001b[3m\u001b[38;5;246m<dbl>\u001b[39m\u001b[23m      \u001b[3m\u001b[38;5;246m<dbl>\u001b[39m\u001b[23m\n",
      "\u001b[38;5;250m 1\u001b[39m           6.38                7.55       30.8\n",
      "\u001b[38;5;250m 2\u001b[39m           6.38                7.23       31.7\n",
      "\u001b[38;5;250m 3\u001b[39m           6.38                7.46       31.6\n",
      "\u001b[38;5;250m 4\u001b[39m           6.39                7.84       32.5\n",
      "\u001b[38;5;250m 5\u001b[39m           6.43                7.82       32.0\n",
      "\u001b[38;5;250m 6\u001b[39m           6.47                7.18       30.9\n",
      "\u001b[38;5;250m 7\u001b[39m           6.47                7.36       31.8\n",
      "\u001b[38;5;250m 8\u001b[39m           6.57                7.6        32.2\n",
      "\u001b[38;5;250m 9\u001b[39m           6.59                7.9        32.4\n",
      "\u001b[38;5;250m10\u001b[39m           6.64                7.56       32.6\n",
      "\u001b[38;5;250m11\u001b[39m           6.65                7.12       32.1\n",
      "\u001b[38;5;250m12\u001b[39m           6.68                7.2        33.4\n",
      "\u001b[38;5;250m13\u001b[39m           6.72                7.61       33.0\n",
      "\u001b[38;5;250m14\u001b[39m           6.71                7.44       33.1\n",
      "\u001b[38;5;250m15\u001b[39m           6.76                7.23       33.0\n",
      "\u001b[38;5;250m16\u001b[39m           6.75                7.74       33.3\n",
      "\u001b[38;5;250m17\u001b[39m           6.74                7.92       33.2\n",
      "\u001b[38;5;250m18\u001b[39m           6.74                7.77       33.4\n",
      "\u001b[38;5;246m# A tibble: 18 x 0\u001b[39m\n"
     ]
    }
   ],
   "source": [
    "for (index in index_list)\n",
    "{\n",
    "    print(df_fpi[index])\n",
    "}"
   ]
  },
  {
   "cell_type": "code",
   "execution_count": 287,
   "metadata": {},
   "outputs": [],
   "source": [
    "# Removing uncommon columns - Wine,Logs.Wood\n",
    "df_os_exp <- df_os_exp %>% \n",
    "    select(-c(\"Wine\", \"Logs.Wood\"))"
   ]
  },
  {
   "cell_type": "code",
   "execution_count": 288,
   "metadata": {},
   "outputs": [],
   "source": [
    "for (index in index_list)\n",
    "{\n",
    "    child_list <- df_fpi[index]\n",
    "    child_list <- sapply(child_list, as.numeric )\n",
    "    child_list <- data.frame(child_list) %>% \n",
    "        mutate(means=rowMeans(., na.rm=TRUE))\n",
    "    if(nrow(child_list)>0){\n",
    "        df_os_exp <- cbind(df_os_exp,child_list[\"means\"])\n",
    "    }\n",
    "}\n"
   ]
  },
  {
   "cell_type": "code",
   "execution_count": 289,
   "metadata": {},
   "outputs": [
    {
     "data": {
      "text/html": [
       "<table>\n",
       "<caption>A data.frame: 6 × 12</caption>\n",
       "<thead>\n",
       "\t<tr><th scope=col>year</th><th scope=col>month</th><th scope=col>Milk.Butter.Cheese</th><th scope=col>Meat</th><th scope=col>Fruit</th><th scope=col>Fish</th><th scope=col>means</th><th scope=col>means</th><th scope=col>means</th><th scope=col>means</th><th scope=col>means</th><th scope=col>means</th></tr>\n",
       "\t<tr><th scope=col>&lt;chr&gt;</th><th scope=col>&lt;chr&gt;</th><th scope=col>&lt;dbl&gt;</th><th scope=col>&lt;dbl&gt;</th><th scope=col>&lt;dbl&gt;</th><th scope=col>&lt;dbl&gt;</th><th scope=col>&lt;dbl&gt;</th><th scope=col>&lt;dbl&gt;</th><th scope=col>&lt;dbl&gt;</th><th scope=col>&lt;dbl&gt;</th><th scope=col>&lt;dbl&gt;</th><th scope=col>&lt;dbl&gt;</th></tr>\n",
       "</thead>\n",
       "<tbody>\n",
       "\t<tr><td>2017</td><td>Jul</td><td> 0.0</td><td>-1.0</td><td>-3.0</td><td> 0.9</td><td>4.332500</td><td>3.905</td><td>5.075000</td><td>5.610000</td><td>3.0325</td><td>14.91333</td></tr>\n",
       "\t<tr><td>2017</td><td>Aug</td><td>-1.4</td><td> 0.4</td><td>-5.3</td><td> 0.4</td><td>4.350000</td><td>4.130</td><td>4.930000</td><td>5.560000</td><td>3.1800</td><td>15.11000</td></tr>\n",
       "\t<tr><td>2017</td><td>Sep</td><td>-2.2</td><td> 2.0</td><td>-5.4</td><td>-0.2</td><td>4.340000</td><td>4.210</td><td>4.940000</td><td>5.706667</td><td>3.2825</td><td>15.14667</td></tr>\n",
       "\t<tr><td>2017</td><td>Oct</td><td>-2.2</td><td> 2.8</td><td>-2.5</td><td>-0.9</td><td>4.126667</td><td>4.250</td><td>5.440000</td><td>5.050000</td><td>3.4400</td><td>15.56333</td></tr>\n",
       "\t<tr><td>2017</td><td>Nov</td><td>-1.0</td><td> 2.7</td><td> 2.2</td><td>-1.5</td><td>4.116667</td><td>4.295</td><td>5.650000</td><td>5.175000</td><td>3.5850</td><td>15.40667</td></tr>\n",
       "\t<tr><td>2017</td><td>Dec</td><td> 0.5</td><td> 1.6</td><td> 6.8</td><td>-2.0</td><td>4.113333</td><td>4.150</td><td>5.413333</td><td>5.105000</td><td>3.7375</td><td>14.84000</td></tr>\n",
       "</tbody>\n",
       "</table>\n"
      ],
      "text/latex": [
       "A data.frame: 6 × 12\n",
       "\\begin{tabular}{r|llllllllllll}\n",
       " year & month & Milk.Butter.Cheese & Meat & Fruit & Fish & means & means & means & means & means & means\\\\\n",
       " <chr> & <chr> & <dbl> & <dbl> & <dbl> & <dbl> & <dbl> & <dbl> & <dbl> & <dbl> & <dbl> & <dbl>\\\\\n",
       "\\hline\n",
       "\t 2017 & Jul &  0.0 & -1.0 & -3.0 &  0.9 & 4.332500 & 3.905 & 5.075000 & 5.610000 & 3.0325 & 14.91333\\\\\n",
       "\t 2017 & Aug & -1.4 &  0.4 & -5.3 &  0.4 & 4.350000 & 4.130 & 4.930000 & 5.560000 & 3.1800 & 15.11000\\\\\n",
       "\t 2017 & Sep & -2.2 &  2.0 & -5.4 & -0.2 & 4.340000 & 4.210 & 4.940000 & 5.706667 & 3.2825 & 15.14667\\\\\n",
       "\t 2017 & Oct & -2.2 &  2.8 & -2.5 & -0.9 & 4.126667 & 4.250 & 5.440000 & 5.050000 & 3.4400 & 15.56333\\\\\n",
       "\t 2017 & Nov & -1.0 &  2.7 &  2.2 & -1.5 & 4.116667 & 4.295 & 5.650000 & 5.175000 & 3.5850 & 15.40667\\\\\n",
       "\t 2017 & Dec &  0.5 &  1.6 &  6.8 & -2.0 & 4.113333 & 4.150 & 5.413333 & 5.105000 & 3.7375 & 14.84000\\\\\n",
       "\\end{tabular}\n"
      ],
      "text/markdown": [
       "\n",
       "A data.frame: 6 × 12\n",
       "\n",
       "| year &lt;chr&gt; | month &lt;chr&gt; | Milk.Butter.Cheese &lt;dbl&gt; | Meat &lt;dbl&gt; | Fruit &lt;dbl&gt; | Fish &lt;dbl&gt; | means &lt;dbl&gt; | means &lt;dbl&gt; | means &lt;dbl&gt; | means &lt;dbl&gt; | means &lt;dbl&gt; | means &lt;dbl&gt; |\n",
       "|---|---|---|---|---|---|---|---|---|---|---|---|\n",
       "| 2017 | Jul |  0.0 | -1.0 | -3.0 |  0.9 | 4.332500 | 3.905 | 5.075000 | 5.610000 | 3.0325 | 14.91333 |\n",
       "| 2017 | Aug | -1.4 |  0.4 | -5.3 |  0.4 | 4.350000 | 4.130 | 4.930000 | 5.560000 | 3.1800 | 15.11000 |\n",
       "| 2017 | Sep | -2.2 |  2.0 | -5.4 | -0.2 | 4.340000 | 4.210 | 4.940000 | 5.706667 | 3.2825 | 15.14667 |\n",
       "| 2017 | Oct | -2.2 |  2.8 | -2.5 | -0.9 | 4.126667 | 4.250 | 5.440000 | 5.050000 | 3.4400 | 15.56333 |\n",
       "| 2017 | Nov | -1.0 |  2.7 |  2.2 | -1.5 | 4.116667 | 4.295 | 5.650000 | 5.175000 | 3.5850 | 15.40667 |\n",
       "| 2017 | Dec |  0.5 |  1.6 |  6.8 | -2.0 | 4.113333 | 4.150 | 5.413333 | 5.105000 | 3.7375 | 14.84000 |\n",
       "\n"
      ],
      "text/plain": [
       "  year month Milk.Butter.Cheese Meat Fruit Fish means    means means   \n",
       "1 2017 Jul    0.0               -1.0 -3.0   0.9 4.332500 3.905 5.075000\n",
       "2 2017 Aug   -1.4                0.4 -5.3   0.4 4.350000 4.130 4.930000\n",
       "3 2017 Sep   -2.2                2.0 -5.4  -0.2 4.340000 4.210 4.940000\n",
       "4 2017 Oct   -2.2                2.8 -2.5  -0.9 4.126667 4.250 5.440000\n",
       "5 2017 Nov   -1.0                2.7  2.2  -1.5 4.116667 4.295 5.650000\n",
       "6 2017 Dec    0.5                1.6  6.8  -2.0 4.113333 4.150 5.413333\n",
       "  means    means  means   \n",
       "1 5.610000 3.0325 14.91333\n",
       "2 5.560000 3.1800 15.11000\n",
       "3 5.706667 3.2825 15.14667\n",
       "4 5.050000 3.4400 15.56333\n",
       "5 5.175000 3.5850 15.40667\n",
       "6 5.105000 3.7375 14.84000"
      ]
     },
     "metadata": {},
     "output_type": "display_data"
    }
   ],
   "source": [
    "head(df_os_exp)"
   ]
  },
  {
   "cell_type": "code",
   "execution_count": 290,
   "metadata": {},
   "outputs": [],
   "source": [
    "# Merging Milk Butter Cheese FPI by mean\n",
    "df_rm <- df_os_exp[c(7,8,9)] %>%\n",
    "    mutate(fpi_MBC=rowMeans(., na.rm=TRUE))\n",
    "df_os_exp <- cbind(df_os_exp,df_rm[\"fpi_MBC\"])\n",
    "df_os_exp <- df_os_exp[-c(7,8,9)]"
   ]
  },
  {
   "cell_type": "code",
   "execution_count": 291,
   "metadata": {},
   "outputs": [
    {
     "data": {
      "text/html": [
       "<table>\n",
       "<caption>A data.frame: 6 × 10</caption>\n",
       "<thead>\n",
       "\t<tr><th scope=col>year</th><th scope=col>month</th><th scope=col>Milk.Butter.Cheese</th><th scope=col>Meat</th><th scope=col>Fruit</th><th scope=col>Fish</th><th scope=col>means</th><th scope=col>means.1</th><th scope=col>means.2</th><th scope=col>fpi_MBC</th></tr>\n",
       "\t<tr><th scope=col>&lt;chr&gt;</th><th scope=col>&lt;chr&gt;</th><th scope=col>&lt;dbl&gt;</th><th scope=col>&lt;dbl&gt;</th><th scope=col>&lt;dbl&gt;</th><th scope=col>&lt;dbl&gt;</th><th scope=col>&lt;dbl&gt;</th><th scope=col>&lt;dbl&gt;</th><th scope=col>&lt;dbl&gt;</th><th scope=col>&lt;dbl&gt;</th></tr>\n",
       "</thead>\n",
       "<tbody>\n",
       "\t<tr><td>2017</td><td>Jul</td><td> 0.0</td><td>-1.0</td><td>-3.0</td><td> 0.9</td><td>5.610000</td><td>3.0325</td><td>14.91333</td><td>4.437500</td></tr>\n",
       "\t<tr><td>2017</td><td>Aug</td><td>-1.4</td><td> 0.4</td><td>-5.3</td><td> 0.4</td><td>5.560000</td><td>3.1800</td><td>15.11000</td><td>4.470000</td></tr>\n",
       "\t<tr><td>2017</td><td>Sep</td><td>-2.2</td><td> 2.0</td><td>-5.4</td><td>-0.2</td><td>5.706667</td><td>3.2825</td><td>15.14667</td><td>4.496667</td></tr>\n",
       "\t<tr><td>2017</td><td>Oct</td><td>-2.2</td><td> 2.8</td><td>-2.5</td><td>-0.9</td><td>5.050000</td><td>3.4400</td><td>15.56333</td><td>4.605556</td></tr>\n",
       "\t<tr><td>2017</td><td>Nov</td><td>-1.0</td><td> 2.7</td><td> 2.2</td><td>-1.5</td><td>5.175000</td><td>3.5850</td><td>15.40667</td><td>4.687222</td></tr>\n",
       "\t<tr><td>2017</td><td>Dec</td><td> 0.5</td><td> 1.6</td><td> 6.8</td><td>-2.0</td><td>5.105000</td><td>3.7375</td><td>14.84000</td><td>4.558889</td></tr>\n",
       "</tbody>\n",
       "</table>\n"
      ],
      "text/latex": [
       "A data.frame: 6 × 10\n",
       "\\begin{tabular}{r|llllllllll}\n",
       " year & month & Milk.Butter.Cheese & Meat & Fruit & Fish & means & means.1 & means.2 & fpi\\_MBC\\\\\n",
       " <chr> & <chr> & <dbl> & <dbl> & <dbl> & <dbl> & <dbl> & <dbl> & <dbl> & <dbl>\\\\\n",
       "\\hline\n",
       "\t 2017 & Jul &  0.0 & -1.0 & -3.0 &  0.9 & 5.610000 & 3.0325 & 14.91333 & 4.437500\\\\\n",
       "\t 2017 & Aug & -1.4 &  0.4 & -5.3 &  0.4 & 5.560000 & 3.1800 & 15.11000 & 4.470000\\\\\n",
       "\t 2017 & Sep & -2.2 &  2.0 & -5.4 & -0.2 & 5.706667 & 3.2825 & 15.14667 & 4.496667\\\\\n",
       "\t 2017 & Oct & -2.2 &  2.8 & -2.5 & -0.9 & 5.050000 & 3.4400 & 15.56333 & 4.605556\\\\\n",
       "\t 2017 & Nov & -1.0 &  2.7 &  2.2 & -1.5 & 5.175000 & 3.5850 & 15.40667 & 4.687222\\\\\n",
       "\t 2017 & Dec &  0.5 &  1.6 &  6.8 & -2.0 & 5.105000 & 3.7375 & 14.84000 & 4.558889\\\\\n",
       "\\end{tabular}\n"
      ],
      "text/markdown": [
       "\n",
       "A data.frame: 6 × 10\n",
       "\n",
       "| year &lt;chr&gt; | month &lt;chr&gt; | Milk.Butter.Cheese &lt;dbl&gt; | Meat &lt;dbl&gt; | Fruit &lt;dbl&gt; | Fish &lt;dbl&gt; | means &lt;dbl&gt; | means.1 &lt;dbl&gt; | means.2 &lt;dbl&gt; | fpi_MBC &lt;dbl&gt; |\n",
       "|---|---|---|---|---|---|---|---|---|---|\n",
       "| 2017 | Jul |  0.0 | -1.0 | -3.0 |  0.9 | 5.610000 | 3.0325 | 14.91333 | 4.437500 |\n",
       "| 2017 | Aug | -1.4 |  0.4 | -5.3 |  0.4 | 5.560000 | 3.1800 | 15.11000 | 4.470000 |\n",
       "| 2017 | Sep | -2.2 |  2.0 | -5.4 | -0.2 | 5.706667 | 3.2825 | 15.14667 | 4.496667 |\n",
       "| 2017 | Oct | -2.2 |  2.8 | -2.5 | -0.9 | 5.050000 | 3.4400 | 15.56333 | 4.605556 |\n",
       "| 2017 | Nov | -1.0 |  2.7 |  2.2 | -1.5 | 5.175000 | 3.5850 | 15.40667 | 4.687222 |\n",
       "| 2017 | Dec |  0.5 |  1.6 |  6.8 | -2.0 | 5.105000 | 3.7375 | 14.84000 | 4.558889 |\n",
       "\n"
      ],
      "text/plain": [
       "  year month Milk.Butter.Cheese Meat Fruit Fish means    means.1 means.2 \n",
       "1 2017 Jul    0.0               -1.0 -3.0   0.9 5.610000 3.0325  14.91333\n",
       "2 2017 Aug   -1.4                0.4 -5.3   0.4 5.560000 3.1800  15.11000\n",
       "3 2017 Sep   -2.2                2.0 -5.4  -0.2 5.706667 3.2825  15.14667\n",
       "4 2017 Oct   -2.2                2.8 -2.5  -0.9 5.050000 3.4400  15.56333\n",
       "5 2017 Nov   -1.0                2.7  2.2  -1.5 5.175000 3.5850  15.40667\n",
       "6 2017 Dec    0.5                1.6  6.8  -2.0 5.105000 3.7375  14.84000\n",
       "  fpi_MBC \n",
       "1 4.437500\n",
       "2 4.470000\n",
       "3 4.496667\n",
       "4 4.605556\n",
       "5 4.687222\n",
       "6 4.558889"
      ]
     },
     "metadata": {},
     "output_type": "display_data"
    }
   ],
   "source": [
    "head(df_os_exp)"
   ]
  },
  {
   "cell_type": "code",
   "execution_count": 292,
   "metadata": {},
   "outputs": [
    {
     "data": {
      "text/html": [
       "<table>\n",
       "<caption>A data.frame: 18 × 10</caption>\n",
       "<thead>\n",
       "\t<tr><th scope=col>year</th><th scope=col>month</th><th scope=col>Milk.Butter.Cheese</th><th scope=col>Meat</th><th scope=col>Fruit</th><th scope=col>Fish</th><th scope=col>fpi_Meat</th><th scope=col>fpi_Fruit</th><th scope=col>fpi_Fish</th><th scope=col>fpi_MBC</th></tr>\n",
       "\t<tr><th scope=col>&lt;chr&gt;</th><th scope=col>&lt;chr&gt;</th><th scope=col>&lt;dbl&gt;</th><th scope=col>&lt;dbl&gt;</th><th scope=col>&lt;dbl&gt;</th><th scope=col>&lt;dbl&gt;</th><th scope=col>&lt;dbl&gt;</th><th scope=col>&lt;dbl&gt;</th><th scope=col>&lt;dbl&gt;</th><th scope=col>&lt;dbl&gt;</th></tr>\n",
       "</thead>\n",
       "<tbody>\n",
       "\t<tr><td>2017</td><td>Jul</td><td> 0.0</td><td>-1.0</td><td>-3.0</td><td> 0.9</td><td>5.610000</td><td>3.0325</td><td>14.91333</td><td>4.437500</td></tr>\n",
       "\t<tr><td>2017</td><td>Aug</td><td>-1.4</td><td> 0.4</td><td>-5.3</td><td> 0.4</td><td>5.560000</td><td>3.1800</td><td>15.11000</td><td>4.470000</td></tr>\n",
       "\t<tr><td>2017</td><td>Sep</td><td>-2.2</td><td> 2.0</td><td>-5.4</td><td>-0.2</td><td>5.706667</td><td>3.2825</td><td>15.14667</td><td>4.496667</td></tr>\n",
       "\t<tr><td>2017</td><td>Oct</td><td>-2.2</td><td> 2.8</td><td>-2.5</td><td>-0.9</td><td>5.050000</td><td>3.4400</td><td>15.56333</td><td>4.605556</td></tr>\n",
       "\t<tr><td>2017</td><td>Nov</td><td>-1.0</td><td> 2.7</td><td> 2.2</td><td>-1.5</td><td>5.175000</td><td>3.5850</td><td>15.40667</td><td>4.687222</td></tr>\n",
       "\t<tr><td>2017</td><td>Dec</td><td> 0.5</td><td> 1.6</td><td> 6.8</td><td>-2.0</td><td>5.105000</td><td>3.7375</td><td>14.84000</td><td>4.558889</td></tr>\n",
       "\t<tr><td>2018</td><td>Jan</td><td> 1.6</td><td>-0.1</td><td> 8.1</td><td>-2.3</td><td>5.140000</td><td>4.1050</td><td>15.20333</td><td>4.615000</td></tr>\n",
       "\t<tr><td>2018</td><td>Feb</td><td> 1.7</td><td>-1.3</td><td> 6.2</td><td>-2.5</td><td>5.070000</td><td>4.2575</td><td>15.47000</td><td>4.617222</td></tr>\n",
       "\t<tr><td>2018</td><td>Mar</td><td> 0.6</td><td>-1.0</td><td> 2.3</td><td>-2.3</td><td>5.120000</td><td>4.2850</td><td>15.64000</td><td>4.659444</td></tr>\n",
       "\t<tr><td>2018</td><td>Apr</td><td>-1.2</td><td> 0.6</td><td>-0.6</td><td>-1.8</td><td>5.120000</td><td>4.0800</td><td>15.60000</td><td>4.598889</td></tr>\n",
       "\t<tr><td>2018</td><td>May</td><td>-3.3</td><td> 2.1</td><td>-0.6</td><td>-0.9</td><td>5.105000</td><td>3.5600</td><td>15.27667</td><td>4.652222</td></tr>\n",
       "\t<tr><td>2018</td><td>Jun</td><td>-4.6</td><td> 3.1</td><td> 2.7</td><td> 0.0</td><td>5.075000</td><td>3.1375</td><td>15.75333</td><td>4.530556</td></tr>\n",
       "\t<tr><td>2018</td><td>Jul</td><td>-4.3</td><td> 3.0</td><td> 6.1</td><td> 1.0</td><td>5.100000</td><td>3.2200</td><td>15.76667</td><td>4.568333</td></tr>\n",
       "\t<tr><td>2018</td><td>Aug</td><td>-1.8</td><td> 1.6</td><td> 6.2</td><td> 1.5</td><td>5.305000</td><td>3.1675</td><td>15.74333</td><td>4.626111</td></tr>\n",
       "\t<tr><td>2018</td><td>Sep</td><td> 2.1</td><td>-0.3</td><td> 3.7</td><td> 1.8</td><td>5.115000</td><td>3.2425</td><td>15.66000</td><td>4.643333</td></tr>\n",
       "\t<tr><td>2018</td><td>Oct</td><td> 5.1</td><td>-1.5</td><td> 0.0</td><td> 1.7</td><td>5.160000</td><td>3.3175</td><td>15.93000</td><td>4.700556</td></tr>\n",
       "\t<tr><td>2018</td><td>Nov</td><td> 6.0</td><td>-2.2</td><td>-3.5</td><td> 1.7</td><td>5.160000</td><td>3.3775</td><td>15.93667</td><td>4.712778</td></tr>\n",
       "\t<tr><td>2018</td><td>Dec</td><td> 5.7</td><td>-2.5</td><td>-5.8</td><td> 2.0</td><td>5.255000</td><td>3.5975</td><td>15.98000</td><td>4.655000</td></tr>\n",
       "</tbody>\n",
       "</table>\n"
      ],
      "text/latex": [
       "A data.frame: 18 × 10\n",
       "\\begin{tabular}{r|llllllllll}\n",
       " year & month & Milk.Butter.Cheese & Meat & Fruit & Fish & fpi\\_Meat & fpi\\_Fruit & fpi\\_Fish & fpi\\_MBC\\\\\n",
       " <chr> & <chr> & <dbl> & <dbl> & <dbl> & <dbl> & <dbl> & <dbl> & <dbl> & <dbl>\\\\\n",
       "\\hline\n",
       "\t 2017 & Jul &  0.0 & -1.0 & -3.0 &  0.9 & 5.610000 & 3.0325 & 14.91333 & 4.437500\\\\\n",
       "\t 2017 & Aug & -1.4 &  0.4 & -5.3 &  0.4 & 5.560000 & 3.1800 & 15.11000 & 4.470000\\\\\n",
       "\t 2017 & Sep & -2.2 &  2.0 & -5.4 & -0.2 & 5.706667 & 3.2825 & 15.14667 & 4.496667\\\\\n",
       "\t 2017 & Oct & -2.2 &  2.8 & -2.5 & -0.9 & 5.050000 & 3.4400 & 15.56333 & 4.605556\\\\\n",
       "\t 2017 & Nov & -1.0 &  2.7 &  2.2 & -1.5 & 5.175000 & 3.5850 & 15.40667 & 4.687222\\\\\n",
       "\t 2017 & Dec &  0.5 &  1.6 &  6.8 & -2.0 & 5.105000 & 3.7375 & 14.84000 & 4.558889\\\\\n",
       "\t 2018 & Jan &  1.6 & -0.1 &  8.1 & -2.3 & 5.140000 & 4.1050 & 15.20333 & 4.615000\\\\\n",
       "\t 2018 & Feb &  1.7 & -1.3 &  6.2 & -2.5 & 5.070000 & 4.2575 & 15.47000 & 4.617222\\\\\n",
       "\t 2018 & Mar &  0.6 & -1.0 &  2.3 & -2.3 & 5.120000 & 4.2850 & 15.64000 & 4.659444\\\\\n",
       "\t 2018 & Apr & -1.2 &  0.6 & -0.6 & -1.8 & 5.120000 & 4.0800 & 15.60000 & 4.598889\\\\\n",
       "\t 2018 & May & -3.3 &  2.1 & -0.6 & -0.9 & 5.105000 & 3.5600 & 15.27667 & 4.652222\\\\\n",
       "\t 2018 & Jun & -4.6 &  3.1 &  2.7 &  0.0 & 5.075000 & 3.1375 & 15.75333 & 4.530556\\\\\n",
       "\t 2018 & Jul & -4.3 &  3.0 &  6.1 &  1.0 & 5.100000 & 3.2200 & 15.76667 & 4.568333\\\\\n",
       "\t 2018 & Aug & -1.8 &  1.6 &  6.2 &  1.5 & 5.305000 & 3.1675 & 15.74333 & 4.626111\\\\\n",
       "\t 2018 & Sep &  2.1 & -0.3 &  3.7 &  1.8 & 5.115000 & 3.2425 & 15.66000 & 4.643333\\\\\n",
       "\t 2018 & Oct &  5.1 & -1.5 &  0.0 &  1.7 & 5.160000 & 3.3175 & 15.93000 & 4.700556\\\\\n",
       "\t 2018 & Nov &  6.0 & -2.2 & -3.5 &  1.7 & 5.160000 & 3.3775 & 15.93667 & 4.712778\\\\\n",
       "\t 2018 & Dec &  5.7 & -2.5 & -5.8 &  2.0 & 5.255000 & 3.5975 & 15.98000 & 4.655000\\\\\n",
       "\\end{tabular}\n"
      ],
      "text/markdown": [
       "\n",
       "A data.frame: 18 × 10\n",
       "\n",
       "| year &lt;chr&gt; | month &lt;chr&gt; | Milk.Butter.Cheese &lt;dbl&gt; | Meat &lt;dbl&gt; | Fruit &lt;dbl&gt; | Fish &lt;dbl&gt; | fpi_Meat &lt;dbl&gt; | fpi_Fruit &lt;dbl&gt; | fpi_Fish &lt;dbl&gt; | fpi_MBC &lt;dbl&gt; |\n",
       "|---|---|---|---|---|---|---|---|---|---|\n",
       "| 2017 | Jul |  0.0 | -1.0 | -3.0 |  0.9 | 5.610000 | 3.0325 | 14.91333 | 4.437500 |\n",
       "| 2017 | Aug | -1.4 |  0.4 | -5.3 |  0.4 | 5.560000 | 3.1800 | 15.11000 | 4.470000 |\n",
       "| 2017 | Sep | -2.2 |  2.0 | -5.4 | -0.2 | 5.706667 | 3.2825 | 15.14667 | 4.496667 |\n",
       "| 2017 | Oct | -2.2 |  2.8 | -2.5 | -0.9 | 5.050000 | 3.4400 | 15.56333 | 4.605556 |\n",
       "| 2017 | Nov | -1.0 |  2.7 |  2.2 | -1.5 | 5.175000 | 3.5850 | 15.40667 | 4.687222 |\n",
       "| 2017 | Dec |  0.5 |  1.6 |  6.8 | -2.0 | 5.105000 | 3.7375 | 14.84000 | 4.558889 |\n",
       "| 2018 | Jan |  1.6 | -0.1 |  8.1 | -2.3 | 5.140000 | 4.1050 | 15.20333 | 4.615000 |\n",
       "| 2018 | Feb |  1.7 | -1.3 |  6.2 | -2.5 | 5.070000 | 4.2575 | 15.47000 | 4.617222 |\n",
       "| 2018 | Mar |  0.6 | -1.0 |  2.3 | -2.3 | 5.120000 | 4.2850 | 15.64000 | 4.659444 |\n",
       "| 2018 | Apr | -1.2 |  0.6 | -0.6 | -1.8 | 5.120000 | 4.0800 | 15.60000 | 4.598889 |\n",
       "| 2018 | May | -3.3 |  2.1 | -0.6 | -0.9 | 5.105000 | 3.5600 | 15.27667 | 4.652222 |\n",
       "| 2018 | Jun | -4.6 |  3.1 |  2.7 |  0.0 | 5.075000 | 3.1375 | 15.75333 | 4.530556 |\n",
       "| 2018 | Jul | -4.3 |  3.0 |  6.1 |  1.0 | 5.100000 | 3.2200 | 15.76667 | 4.568333 |\n",
       "| 2018 | Aug | -1.8 |  1.6 |  6.2 |  1.5 | 5.305000 | 3.1675 | 15.74333 | 4.626111 |\n",
       "| 2018 | Sep |  2.1 | -0.3 |  3.7 |  1.8 | 5.115000 | 3.2425 | 15.66000 | 4.643333 |\n",
       "| 2018 | Oct |  5.1 | -1.5 |  0.0 |  1.7 | 5.160000 | 3.3175 | 15.93000 | 4.700556 |\n",
       "| 2018 | Nov |  6.0 | -2.2 | -3.5 |  1.7 | 5.160000 | 3.3775 | 15.93667 | 4.712778 |\n",
       "| 2018 | Dec |  5.7 | -2.5 | -5.8 |  2.0 | 5.255000 | 3.5975 | 15.98000 | 4.655000 |\n",
       "\n"
      ],
      "text/plain": [
       "   year month Milk.Butter.Cheese Meat Fruit Fish fpi_Meat fpi_Fruit fpi_Fish\n",
       "1  2017 Jul    0.0               -1.0 -3.0   0.9 5.610000 3.0325    14.91333\n",
       "2  2017 Aug   -1.4                0.4 -5.3   0.4 5.560000 3.1800    15.11000\n",
       "3  2017 Sep   -2.2                2.0 -5.4  -0.2 5.706667 3.2825    15.14667\n",
       "4  2017 Oct   -2.2                2.8 -2.5  -0.9 5.050000 3.4400    15.56333\n",
       "5  2017 Nov   -1.0                2.7  2.2  -1.5 5.175000 3.5850    15.40667\n",
       "6  2017 Dec    0.5                1.6  6.8  -2.0 5.105000 3.7375    14.84000\n",
       "7  2018 Jan    1.6               -0.1  8.1  -2.3 5.140000 4.1050    15.20333\n",
       "8  2018 Feb    1.7               -1.3  6.2  -2.5 5.070000 4.2575    15.47000\n",
       "9  2018 Mar    0.6               -1.0  2.3  -2.3 5.120000 4.2850    15.64000\n",
       "10 2018 Apr   -1.2                0.6 -0.6  -1.8 5.120000 4.0800    15.60000\n",
       "11 2018 May   -3.3                2.1 -0.6  -0.9 5.105000 3.5600    15.27667\n",
       "12 2018 Jun   -4.6                3.1  2.7   0.0 5.075000 3.1375    15.75333\n",
       "13 2018 Jul   -4.3                3.0  6.1   1.0 5.100000 3.2200    15.76667\n",
       "14 2018 Aug   -1.8                1.6  6.2   1.5 5.305000 3.1675    15.74333\n",
       "15 2018 Sep    2.1               -0.3  3.7   1.8 5.115000 3.2425    15.66000\n",
       "16 2018 Oct    5.1               -1.5  0.0   1.7 5.160000 3.3175    15.93000\n",
       "17 2018 Nov    6.0               -2.2 -3.5   1.7 5.160000 3.3775    15.93667\n",
       "18 2018 Dec    5.7               -2.5 -5.8   2.0 5.255000 3.5975    15.98000\n",
       "   fpi_MBC \n",
       "1  4.437500\n",
       "2  4.470000\n",
       "3  4.496667\n",
       "4  4.605556\n",
       "5  4.687222\n",
       "6  4.558889\n",
       "7  4.615000\n",
       "8  4.617222\n",
       "9  4.659444\n",
       "10 4.598889\n",
       "11 4.652222\n",
       "12 4.530556\n",
       "13 4.568333\n",
       "14 4.626111\n",
       "15 4.643333\n",
       "16 4.700556\n",
       "17 4.712778\n",
       "18 4.655000"
      ]
     },
     "metadata": {},
     "output_type": "display_data"
    }
   ],
   "source": [
    "# Renaming columns\n",
    "colnames(df_os_exp)[c(7,8,9)] <-  c('fpi_Meat','fpi_Fruit','fpi_Fish')\n",
    "(df_os_exp)"
   ]
  },
  {
   "cell_type": "code",
   "execution_count": 293,
   "metadata": {},
   "outputs": [
    {
     "data": {
      "text/html": [
       "<table>\n",
       "<caption>A data.frame: 6 × 11</caption>\n",
       "<thead>\n",
       "\t<tr><th scope=col>year</th><th scope=col>month</th><th scope=col>Milk.Butter.Cheese</th><th scope=col>Meat</th><th scope=col>Fruit</th><th scope=col>Fish</th><th scope=col>fpi_Meat</th><th scope=col>fpi_Fruit</th><th scope=col>fpi_Fish</th><th scope=col>fpi_MBC</th><th scope=col>month</th></tr>\n",
       "\t<tr><th scope=col>&lt;chr&gt;</th><th scope=col>&lt;chr&gt;</th><th scope=col>&lt;dbl&gt;</th><th scope=col>&lt;dbl&gt;</th><th scope=col>&lt;dbl&gt;</th><th scope=col>&lt;dbl&gt;</th><th scope=col>&lt;dbl&gt;</th><th scope=col>&lt;dbl&gt;</th><th scope=col>&lt;dbl&gt;</th><th scope=col>&lt;dbl&gt;</th><th scope=col>&lt;chr&gt;</th></tr>\n",
       "</thead>\n",
       "<tbody>\n",
       "\t<tr><td>2017</td><td>Jul</td><td> 0.0</td><td>-1.0</td><td>-3.0</td><td> 0.9</td><td>5.610000</td><td>3.0325</td><td>14.91333</td><td>4.437500</td><td>07</td></tr>\n",
       "\t<tr><td>2017</td><td>Aug</td><td>-1.4</td><td> 0.4</td><td>-5.3</td><td> 0.4</td><td>5.560000</td><td>3.1800</td><td>15.11000</td><td>4.470000</td><td>08</td></tr>\n",
       "\t<tr><td>2017</td><td>Sep</td><td>-2.2</td><td> 2.0</td><td>-5.4</td><td>-0.2</td><td>5.706667</td><td>3.2825</td><td>15.14667</td><td>4.496667</td><td>09</td></tr>\n",
       "\t<tr><td>2017</td><td>Oct</td><td>-2.2</td><td> 2.8</td><td>-2.5</td><td>-0.9</td><td>5.050000</td><td>3.4400</td><td>15.56333</td><td>4.605556</td><td>10</td></tr>\n",
       "\t<tr><td>2017</td><td>Nov</td><td>-1.0</td><td> 2.7</td><td> 2.2</td><td>-1.5</td><td>5.175000</td><td>3.5850</td><td>15.40667</td><td>4.687222</td><td>11</td></tr>\n",
       "\t<tr><td>2017</td><td>Dec</td><td> 0.5</td><td> 1.6</td><td> 6.8</td><td>-2.0</td><td>5.105000</td><td>3.7375</td><td>14.84000</td><td>4.558889</td><td>12</td></tr>\n",
       "</tbody>\n",
       "</table>\n"
      ],
      "text/latex": [
       "A data.frame: 6 × 11\n",
       "\\begin{tabular}{r|lllllllllll}\n",
       " year & month & Milk.Butter.Cheese & Meat & Fruit & Fish & fpi\\_Meat & fpi\\_Fruit & fpi\\_Fish & fpi\\_MBC & month\\\\\n",
       " <chr> & <chr> & <dbl> & <dbl> & <dbl> & <dbl> & <dbl> & <dbl> & <dbl> & <dbl> & <chr>\\\\\n",
       "\\hline\n",
       "\t 2017 & Jul &  0.0 & -1.0 & -3.0 &  0.9 & 5.610000 & 3.0325 & 14.91333 & 4.437500 & 07\\\\\n",
       "\t 2017 & Aug & -1.4 &  0.4 & -5.3 &  0.4 & 5.560000 & 3.1800 & 15.11000 & 4.470000 & 08\\\\\n",
       "\t 2017 & Sep & -2.2 &  2.0 & -5.4 & -0.2 & 5.706667 & 3.2825 & 15.14667 & 4.496667 & 09\\\\\n",
       "\t 2017 & Oct & -2.2 &  2.8 & -2.5 & -0.9 & 5.050000 & 3.4400 & 15.56333 & 4.605556 & 10\\\\\n",
       "\t 2017 & Nov & -1.0 &  2.7 &  2.2 & -1.5 & 5.175000 & 3.5850 & 15.40667 & 4.687222 & 11\\\\\n",
       "\t 2017 & Dec &  0.5 &  1.6 &  6.8 & -2.0 & 5.105000 & 3.7375 & 14.84000 & 4.558889 & 12\\\\\n",
       "\\end{tabular}\n"
      ],
      "text/markdown": [
       "\n",
       "A data.frame: 6 × 11\n",
       "\n",
       "| year &lt;chr&gt; | month &lt;chr&gt; | Milk.Butter.Cheese &lt;dbl&gt; | Meat &lt;dbl&gt; | Fruit &lt;dbl&gt; | Fish &lt;dbl&gt; | fpi_Meat &lt;dbl&gt; | fpi_Fruit &lt;dbl&gt; | fpi_Fish &lt;dbl&gt; | fpi_MBC &lt;dbl&gt; | month &lt;chr&gt; |\n",
       "|---|---|---|---|---|---|---|---|---|---|---|\n",
       "| 2017 | Jul |  0.0 | -1.0 | -3.0 |  0.9 | 5.610000 | 3.0325 | 14.91333 | 4.437500 | 07 |\n",
       "| 2017 | Aug | -1.4 |  0.4 | -5.3 |  0.4 | 5.560000 | 3.1800 | 15.11000 | 4.470000 | 08 |\n",
       "| 2017 | Sep | -2.2 |  2.0 | -5.4 | -0.2 | 5.706667 | 3.2825 | 15.14667 | 4.496667 | 09 |\n",
       "| 2017 | Oct | -2.2 |  2.8 | -2.5 | -0.9 | 5.050000 | 3.4400 | 15.56333 | 4.605556 | 10 |\n",
       "| 2017 | Nov | -1.0 |  2.7 |  2.2 | -1.5 | 5.175000 | 3.5850 | 15.40667 | 4.687222 | 11 |\n",
       "| 2017 | Dec |  0.5 |  1.6 |  6.8 | -2.0 | 5.105000 | 3.7375 | 14.84000 | 4.558889 | 12 |\n",
       "\n"
      ],
      "text/plain": [
       "  year month Milk.Butter.Cheese Meat Fruit Fish fpi_Meat fpi_Fruit fpi_Fish\n",
       "1 2017 Jul    0.0               -1.0 -3.0   0.9 5.610000 3.0325    14.91333\n",
       "2 2017 Aug   -1.4                0.4 -5.3   0.4 5.560000 3.1800    15.11000\n",
       "3 2017 Sep   -2.2                2.0 -5.4  -0.2 5.706667 3.2825    15.14667\n",
       "4 2017 Oct   -2.2                2.8 -2.5  -0.9 5.050000 3.4400    15.56333\n",
       "5 2017 Nov   -1.0                2.7  2.2  -1.5 5.175000 3.5850    15.40667\n",
       "6 2017 Dec    0.5                1.6  6.8  -2.0 5.105000 3.7375    14.84000\n",
       "  fpi_MBC  month\n",
       "1 4.437500 07   \n",
       "2 4.470000 08   \n",
       "3 4.496667 09   \n",
       "4 4.605556 10   \n",
       "5 4.687222 11   \n",
       "6 4.558889 12   "
      ]
     },
     "metadata": {},
     "output_type": "display_data"
    }
   ],
   "source": [
    "df_os_exp <- cbind(df_os_exp,df_fpi[\"month\"])\n",
    "head(df_os_exp)"
   ]
  },
  {
   "cell_type": "code",
   "execution_count": 294,
   "metadata": {},
   "outputs": [
    {
     "data": {
      "text/html": [
       "<table>\n",
       "<caption>A data.frame: 6 × 11</caption>\n",
       "<thead>\n",
       "\t<tr><th></th><th scope=col>year</th><th scope=col>month</th><th scope=col>Milk.Butter.Cheese</th><th scope=col>Meat</th><th scope=col>Fruit</th><th scope=col>Fish</th><th scope=col>fpi_Meat</th><th scope=col>fpi_Fruit</th><th scope=col>fpi_Fish</th><th scope=col>fpi_MBC</th><th scope=col>mon</th></tr>\n",
       "\t<tr><th></th><th scope=col>&lt;chr&gt;</th><th scope=col>&lt;chr&gt;</th><th scope=col>&lt;dbl&gt;</th><th scope=col>&lt;dbl&gt;</th><th scope=col>&lt;dbl&gt;</th><th scope=col>&lt;dbl&gt;</th><th scope=col>&lt;dbl&gt;</th><th scope=col>&lt;dbl&gt;</th><th scope=col>&lt;dbl&gt;</th><th scope=col>&lt;dbl&gt;</th><th scope=col>&lt;chr&gt;</th></tr>\n",
       "</thead>\n",
       "<tbody>\n",
       "\t<tr><th scope=row>13</th><td>2018</td><td>Jul</td><td>-4.3</td><td> 3.0</td><td> 6.1</td><td>1.0</td><td>5.100</td><td>3.2200</td><td>15.76667</td><td>4.568333</td><td>07</td></tr>\n",
       "\t<tr><th scope=row>14</th><td>2018</td><td>Aug</td><td>-1.8</td><td> 1.6</td><td> 6.2</td><td>1.5</td><td>5.305</td><td>3.1675</td><td>15.74333</td><td>4.626111</td><td>08</td></tr>\n",
       "\t<tr><th scope=row>15</th><td>2018</td><td>Sep</td><td> 2.1</td><td>-0.3</td><td> 3.7</td><td>1.8</td><td>5.115</td><td>3.2425</td><td>15.66000</td><td>4.643333</td><td>09</td></tr>\n",
       "\t<tr><th scope=row>16</th><td>2018</td><td>Oct</td><td> 5.1</td><td>-1.5</td><td> 0.0</td><td>1.7</td><td>5.160</td><td>3.3175</td><td>15.93000</td><td>4.700556</td><td>10</td></tr>\n",
       "\t<tr><th scope=row>17</th><td>2018</td><td>Nov</td><td> 6.0</td><td>-2.2</td><td>-3.5</td><td>1.7</td><td>5.160</td><td>3.3775</td><td>15.93667</td><td>4.712778</td><td>11</td></tr>\n",
       "\t<tr><th scope=row>18</th><td>2018</td><td>Dec</td><td> 5.7</td><td>-2.5</td><td>-5.8</td><td>2.0</td><td>5.255</td><td>3.5975</td><td>15.98000</td><td>4.655000</td><td>12</td></tr>\n",
       "</tbody>\n",
       "</table>\n"
      ],
      "text/latex": [
       "A data.frame: 6 × 11\n",
       "\\begin{tabular}{r|lllllllllll}\n",
       "  & year & month & Milk.Butter.Cheese & Meat & Fruit & Fish & fpi\\_Meat & fpi\\_Fruit & fpi\\_Fish & fpi\\_MBC & mon\\\\\n",
       "  & <chr> & <chr> & <dbl> & <dbl> & <dbl> & <dbl> & <dbl> & <dbl> & <dbl> & <dbl> & <chr>\\\\\n",
       "\\hline\n",
       "\t13 & 2018 & Jul & -4.3 &  3.0 &  6.1 & 1.0 & 5.100 & 3.2200 & 15.76667 & 4.568333 & 07\\\\\n",
       "\t14 & 2018 & Aug & -1.8 &  1.6 &  6.2 & 1.5 & 5.305 & 3.1675 & 15.74333 & 4.626111 & 08\\\\\n",
       "\t15 & 2018 & Sep &  2.1 & -0.3 &  3.7 & 1.8 & 5.115 & 3.2425 & 15.66000 & 4.643333 & 09\\\\\n",
       "\t16 & 2018 & Oct &  5.1 & -1.5 &  0.0 & 1.7 & 5.160 & 3.3175 & 15.93000 & 4.700556 & 10\\\\\n",
       "\t17 & 2018 & Nov &  6.0 & -2.2 & -3.5 & 1.7 & 5.160 & 3.3775 & 15.93667 & 4.712778 & 11\\\\\n",
       "\t18 & 2018 & Dec &  5.7 & -2.5 & -5.8 & 2.0 & 5.255 & 3.5975 & 15.98000 & 4.655000 & 12\\\\\n",
       "\\end{tabular}\n"
      ],
      "text/markdown": [
       "\n",
       "A data.frame: 6 × 11\n",
       "\n",
       "| <!--/--> | year &lt;chr&gt; | month &lt;chr&gt; | Milk.Butter.Cheese &lt;dbl&gt; | Meat &lt;dbl&gt; | Fruit &lt;dbl&gt; | Fish &lt;dbl&gt; | fpi_Meat &lt;dbl&gt; | fpi_Fruit &lt;dbl&gt; | fpi_Fish &lt;dbl&gt; | fpi_MBC &lt;dbl&gt; | mon &lt;chr&gt; |\n",
       "|---|---|---|---|---|---|---|---|---|---|---|---|\n",
       "| 13 | 2018 | Jul | -4.3 |  3.0 |  6.1 | 1.0 | 5.100 | 3.2200 | 15.76667 | 4.568333 | 07 |\n",
       "| 14 | 2018 | Aug | -1.8 |  1.6 |  6.2 | 1.5 | 5.305 | 3.1675 | 15.74333 | 4.626111 | 08 |\n",
       "| 15 | 2018 | Sep |  2.1 | -0.3 |  3.7 | 1.8 | 5.115 | 3.2425 | 15.66000 | 4.643333 | 09 |\n",
       "| 16 | 2018 | Oct |  5.1 | -1.5 |  0.0 | 1.7 | 5.160 | 3.3175 | 15.93000 | 4.700556 | 10 |\n",
       "| 17 | 2018 | Nov |  6.0 | -2.2 | -3.5 | 1.7 | 5.160 | 3.3775 | 15.93667 | 4.712778 | 11 |\n",
       "| 18 | 2018 | Dec |  5.7 | -2.5 | -5.8 | 2.0 | 5.255 | 3.5975 | 15.98000 | 4.655000 | 12 |\n",
       "\n"
      ],
      "text/plain": [
       "   year month Milk.Butter.Cheese Meat Fruit Fish fpi_Meat fpi_Fruit fpi_Fish\n",
       "13 2018 Jul   -4.3                3.0  6.1  1.0  5.100    3.2200    15.76667\n",
       "14 2018 Aug   -1.8                1.6  6.2  1.5  5.305    3.1675    15.74333\n",
       "15 2018 Sep    2.1               -0.3  3.7  1.8  5.115    3.2425    15.66000\n",
       "16 2018 Oct    5.1               -1.5  0.0  1.7  5.160    3.3175    15.93000\n",
       "17 2018 Nov    6.0               -2.2 -3.5  1.7  5.160    3.3775    15.93667\n",
       "18 2018 Dec    5.7               -2.5 -5.8  2.0  5.255    3.5975    15.98000\n",
       "   fpi_MBC  mon\n",
       "13 4.568333 07 \n",
       "14 4.626111 08 \n",
       "15 4.643333 09 \n",
       "16 4.700556 10 \n",
       "17 4.712778 11 \n",
       "18 4.655000 12 "
      ]
     },
     "metadata": {},
     "output_type": "display_data"
    }
   ],
   "source": [
    "colnames(df_os_exp)[11] <- \"mon\"\n",
    "#df_os_exp$mon <- as.numeric(df_os_exp$mon)\n",
    "tail(df_os_exp)"
   ]
  },
  {
   "cell_type": "code",
   "execution_count": 319,
   "metadata": {},
   "outputs": [
    {
     "name": "stderr",
     "output_type": "stream",
     "text": [
      "Installing package into ‘/home/dipin/R/x86_64-pc-linux-gnu-library/3.6’\n",
      "(as ‘lib’ is unspecified)\n",
      "\n",
      "\n",
      "Attaching package: ‘zoo’\n",
      "\n",
      "\n",
      "The following objects are masked from ‘package:base’:\n",
      "\n",
      "    as.Date, as.Date.numeric\n",
      "\n",
      "\n"
     ]
    }
   ],
   "source": [
    "install.packages(\"zoo\")\n",
    "library(zoo)"
   ]
  },
  {
   "cell_type": "code",
   "execution_count": 320,
   "metadata": {},
   "outputs": [
    {
     "data": {
      "text/html": [
       "<table>\n",
       "<caption>A data.frame: 6 × 13</caption>\n",
       "<thead>\n",
       "\t<tr><th></th><th scope=col>year</th><th scope=col>month</th><th scope=col>Milk.Butter.Cheese</th><th scope=col>Meat</th><th scope=col>Fruit</th><th scope=col>Fish</th><th scope=col>fpi_Meat</th><th scope=col>fpi_Fruit</th><th scope=col>fpi_Fish</th><th scope=col>fpi_MBC</th><th scope=col>mon</th><th scope=col>date</th><th scope=col>YM</th></tr>\n",
       "\t<tr><th></th><th scope=col>&lt;chr&gt;</th><th scope=col>&lt;chr&gt;</th><th scope=col>&lt;dbl&gt;</th><th scope=col>&lt;dbl&gt;</th><th scope=col>&lt;dbl&gt;</th><th scope=col>&lt;dbl&gt;</th><th scope=col>&lt;dbl&gt;</th><th scope=col>&lt;dbl&gt;</th><th scope=col>&lt;dbl&gt;</th><th scope=col>&lt;dbl&gt;</th><th scope=col>&lt;chr&gt;</th><th scope=col>&lt;chr&gt;</th><th scope=col>&lt;yearmon&gt;</th></tr>\n",
       "</thead>\n",
       "<tbody>\n",
       "\t<tr><th scope=row>13</th><td>2018</td><td>Jul</td><td>-4.3</td><td> 3.0</td><td> 6.1</td><td>1.0</td><td>5.100</td><td>3.2200</td><td>15.76667</td><td>4.568333</td><td>07</td><td>07-2018</td><td>Jul 2018</td></tr>\n",
       "\t<tr><th scope=row>14</th><td>2018</td><td>Aug</td><td>-1.8</td><td> 1.6</td><td> 6.2</td><td>1.5</td><td>5.305</td><td>3.1675</td><td>15.74333</td><td>4.626111</td><td>08</td><td>08-2018</td><td>Aug 2018</td></tr>\n",
       "\t<tr><th scope=row>15</th><td>2018</td><td>Sep</td><td> 2.1</td><td>-0.3</td><td> 3.7</td><td>1.8</td><td>5.115</td><td>3.2425</td><td>15.66000</td><td>4.643333</td><td>09</td><td>09-2018</td><td>Sep 2018</td></tr>\n",
       "\t<tr><th scope=row>16</th><td>2018</td><td>Oct</td><td> 5.1</td><td>-1.5</td><td> 0.0</td><td>1.7</td><td>5.160</td><td>3.3175</td><td>15.93000</td><td>4.700556</td><td>10</td><td>10-2018</td><td>Oct 2018</td></tr>\n",
       "\t<tr><th scope=row>17</th><td>2018</td><td>Nov</td><td> 6.0</td><td>-2.2</td><td>-3.5</td><td>1.7</td><td>5.160</td><td>3.3775</td><td>15.93667</td><td>4.712778</td><td>11</td><td>11-2018</td><td>Nov 2018</td></tr>\n",
       "\t<tr><th scope=row>18</th><td>2018</td><td>Dec</td><td> 5.7</td><td>-2.5</td><td>-5.8</td><td>2.0</td><td>5.255</td><td>3.5975</td><td>15.98000</td><td>4.655000</td><td>12</td><td>12-2018</td><td>Dec 2018</td></tr>\n",
       "</tbody>\n",
       "</table>\n"
      ],
      "text/latex": [
       "A data.frame: 6 × 13\n",
       "\\begin{tabular}{r|lllllllllllll}\n",
       "  & year & month & Milk.Butter.Cheese & Meat & Fruit & Fish & fpi\\_Meat & fpi\\_Fruit & fpi\\_Fish & fpi\\_MBC & mon & date & YM\\\\\n",
       "  & <chr> & <chr> & <dbl> & <dbl> & <dbl> & <dbl> & <dbl> & <dbl> & <dbl> & <dbl> & <chr> & <chr> & <yearmon>\\\\\n",
       "\\hline\n",
       "\t13 & 2018 & Jul & -4.3 &  3.0 &  6.1 & 1.0 & 5.100 & 3.2200 & 15.76667 & 4.568333 & 07 & 07-2018 & Jul 2018\\\\\n",
       "\t14 & 2018 & Aug & -1.8 &  1.6 &  6.2 & 1.5 & 5.305 & 3.1675 & 15.74333 & 4.626111 & 08 & 08-2018 & Aug 2018\\\\\n",
       "\t15 & 2018 & Sep &  2.1 & -0.3 &  3.7 & 1.8 & 5.115 & 3.2425 & 15.66000 & 4.643333 & 09 & 09-2018 & Sep 2018\\\\\n",
       "\t16 & 2018 & Oct &  5.1 & -1.5 &  0.0 & 1.7 & 5.160 & 3.3175 & 15.93000 & 4.700556 & 10 & 10-2018 & Oct 2018\\\\\n",
       "\t17 & 2018 & Nov &  6.0 & -2.2 & -3.5 & 1.7 & 5.160 & 3.3775 & 15.93667 & 4.712778 & 11 & 11-2018 & Nov 2018\\\\\n",
       "\t18 & 2018 & Dec &  5.7 & -2.5 & -5.8 & 2.0 & 5.255 & 3.5975 & 15.98000 & 4.655000 & 12 & 12-2018 & Dec 2018\\\\\n",
       "\\end{tabular}\n"
      ],
      "text/markdown": [
       "\n",
       "A data.frame: 6 × 13\n",
       "\n",
       "| <!--/--> | year &lt;chr&gt; | month &lt;chr&gt; | Milk.Butter.Cheese &lt;dbl&gt; | Meat &lt;dbl&gt; | Fruit &lt;dbl&gt; | Fish &lt;dbl&gt; | fpi_Meat &lt;dbl&gt; | fpi_Fruit &lt;dbl&gt; | fpi_Fish &lt;dbl&gt; | fpi_MBC &lt;dbl&gt; | mon &lt;chr&gt; | date &lt;chr&gt; | YM &lt;yearmon&gt; |\n",
       "|---|---|---|---|---|---|---|---|---|---|---|---|---|---|\n",
       "| 13 | 2018 | Jul | -4.3 |  3.0 |  6.1 | 1.0 | 5.100 | 3.2200 | 15.76667 | 4.568333 | 07 | 07-2018 | Jul 2018 |\n",
       "| 14 | 2018 | Aug | -1.8 |  1.6 |  6.2 | 1.5 | 5.305 | 3.1675 | 15.74333 | 4.626111 | 08 | 08-2018 | Aug 2018 |\n",
       "| 15 | 2018 | Sep |  2.1 | -0.3 |  3.7 | 1.8 | 5.115 | 3.2425 | 15.66000 | 4.643333 | 09 | 09-2018 | Sep 2018 |\n",
       "| 16 | 2018 | Oct |  5.1 | -1.5 |  0.0 | 1.7 | 5.160 | 3.3175 | 15.93000 | 4.700556 | 10 | 10-2018 | Oct 2018 |\n",
       "| 17 | 2018 | Nov |  6.0 | -2.2 | -3.5 | 1.7 | 5.160 | 3.3775 | 15.93667 | 4.712778 | 11 | 11-2018 | Nov 2018 |\n",
       "| 18 | 2018 | Dec |  5.7 | -2.5 | -5.8 | 2.0 | 5.255 | 3.5975 | 15.98000 | 4.655000 | 12 | 12-2018 | Dec 2018 |\n",
       "\n"
      ],
      "text/plain": [
       "   year month Milk.Butter.Cheese Meat Fruit Fish fpi_Meat fpi_Fruit fpi_Fish\n",
       "13 2018 Jul   -4.3                3.0  6.1  1.0  5.100    3.2200    15.76667\n",
       "14 2018 Aug   -1.8                1.6  6.2  1.5  5.305    3.1675    15.74333\n",
       "15 2018 Sep    2.1               -0.3  3.7  1.8  5.115    3.2425    15.66000\n",
       "16 2018 Oct    5.1               -1.5  0.0  1.7  5.160    3.3175    15.93000\n",
       "17 2018 Nov    6.0               -2.2 -3.5  1.7  5.160    3.3775    15.93667\n",
       "18 2018 Dec    5.7               -2.5 -5.8  2.0  5.255    3.5975    15.98000\n",
       "   fpi_MBC  mon date    YM      \n",
       "13 4.568333 07  07-2018 Jul 2018\n",
       "14 4.626111 08  08-2018 Aug 2018\n",
       "15 4.643333 09  09-2018 Sep 2018\n",
       "16 4.700556 10  10-2018 Oct 2018\n",
       "17 4.712778 11  11-2018 Nov 2018\n",
       "18 4.655000 12  12-2018 Dec 2018"
      ]
     },
     "metadata": {},
     "output_type": "display_data"
    }
   ],
   "source": [
    "#df_os_exp$date <- paste(df_os_exp$mon, df_os_exp$year, sep=\"-\")\n",
    "#df_os_exp$date <- \n",
    "#as.Date(df_os_exp$date,format = \"%m-%Y\")\n",
    "df_os_exp$YM <- as.yearmon(paste(df_os_exp$year, \" \", df_os_exp$mon), \"%Y %m\")\n",
    "tail(df_os_exp)"
   ]
  },
  {
   "cell_type": "code",
   "execution_count": 331,
   "metadata": {},
   "outputs": [
    {
     "data": {
      "image/png": "[encoded data removed]",
      "text/plain": [
       "plot without title"
      ]
     },
     "metadata": {
      "image/png": {
       "height": 420,
       "width": 420
      },
      "text/plain": {
       "height": 420,
       "width": 420
      }
     },
     "output_type": "display_data"
    }
   ],
   "source": [
    "ggplot(df_os_exp, aes(x = as.factor((YM)), y=fpi_Fish/max(fpi_Fish),Fish)) + \n",
    "    geom_point()"
   ]
  },
  {
   "cell_type": "code",
   "execution_count": null,
   "metadata": {},
   "outputs": [],
   "source": []
  }
 ],
 "metadata": {
  "kernelspec": {
   "display_name": "R",
   "language": "R",
   "name": "ir"
  },
  "language_info": {
   "codemirror_mode": "r",
   "file_extension": ".r",
   "mimetype": "text/x-r-source",
   "name": "R",
   "pygments_lexer": "r",
   "version": "3.6.1"
  }
 },
 "nbformat": 4,
 "nbformat_minor": 4
}
