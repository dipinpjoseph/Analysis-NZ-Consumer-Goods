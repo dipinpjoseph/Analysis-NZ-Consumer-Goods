{
 "cells": [
  {
   "cell_type": "code",
   "execution_count": 46,
   "metadata": {},
   "outputs": [],
   "source": [
    "library(readxl)\n",
    "library(tidyverse)"
   ]
  },
  {
   "cell_type": "code",
   "execution_count": 47,
   "metadata": {},
   "outputs": [],
   "source": [
    "df_os_exp <- data.frame(read_excel(\"../DataSets/overseas-merchandise-trade-january-2019.xlsx\",sheet = \"Table 15\", range = 'A36:J53', col_names = c(\"year\",\"month\",\"Milk,Butter,Cheese\",\"Meat\",\"Logs,Wood\", \"Crude oil\", \"Fruit\",\"Fish\",\"Aluminium and aluminium articles\",\"Wine\")) )"
   ]
  },
  {
   "cell_type": "code",
   "execution_count": 48,
   "metadata": {},
   "outputs": [
    {
     "data": {
      "text/html": [
       "<table>\n",
       "<caption>A data.frame: 18 × 10</caption>\n",
       "<thead>\n",
       "\t<tr><th scope=col>year</th><th scope=col>month</th><th scope=col>Milk.Butter.Cheese</th><th scope=col>Meat</th><th scope=col>Logs.Wood</th><th scope=col>Crude.oil</th><th scope=col>Fruit</th><th scope=col>Fish</th><th scope=col>Aluminium.and.aluminium.articles</th><th scope=col>Wine</th></tr>\n",
       "\t<tr><th scope=col>&lt;chr&gt;</th><th scope=col>&lt;chr&gt;</th><th scope=col>&lt;dbl&gt;</th><th scope=col>&lt;dbl&gt;</th><th scope=col>&lt;dbl&gt;</th><th scope=col>&lt;chr&gt;</th><th scope=col>&lt;dbl&gt;</th><th scope=col>&lt;dbl&gt;</th><th scope=col>&lt;dbl&gt;</th><th scope=col>&lt;dbl&gt;</th></tr>\n",
       "</thead>\n",
       "<tbody>\n",
       "\t<tr><td>2017</td><td>Jul</td><td> 0.0</td><td>-1.0</td><td>2.0</td><td>33   </td><td>-3.0</td><td> 0.9</td><td> -5.6</td><td>-0.6</td></tr>\n",
       "\t<tr><td>NA  </td><td>Aug</td><td>-1.4</td><td> 0.4</td><td>1.7</td><td>168.1</td><td>-5.3</td><td> 0.4</td><td> 10.0</td><td>-0.6</td></tr>\n",
       "\t<tr><td>NA  </td><td>Sep</td><td>-2.2</td><td> 2.0</td><td>1.3</td><td>-71.7</td><td>-5.4</td><td>-0.2</td><td> -1.8</td><td>-0.5</td></tr>\n",
       "\t<tr><td>NA  </td><td>Oct</td><td>-2.2</td><td> 2.8</td><td>0.9</td><td>57.6 </td><td>-2.5</td><td>-0.9</td><td>-10.7</td><td>-0.4</td></tr>\n",
       "\t<tr><td>NA  </td><td>Nov</td><td>-1.0</td><td> 2.7</td><td>0.6</td><td>-61.5</td><td> 2.2</td><td>-1.5</td><td>-55.3</td><td>-0.3</td></tr>\n",
       "\t<tr><td>NA  </td><td>Dec</td><td> 0.5</td><td> 1.6</td><td>0.4</td><td>152.1</td><td> 6.8</td><td>-2.0</td><td>312.5</td><td>-0.1</td></tr>\n",
       "\t<tr><td>2018</td><td>Jan</td><td> 1.6</td><td>-0.1</td><td>0.4</td><td>-100 </td><td> 8.1</td><td>-2.3</td><td>-46.7</td><td> 0.1</td></tr>\n",
       "\t<tr><td>NA  </td><td>Feb</td><td> 1.7</td><td>-1.3</td><td>0.5</td><td>---  </td><td> 6.2</td><td>-2.5</td><td> -1.5</td><td> 0.2</td></tr>\n",
       "\t<tr><td>NA  </td><td>Mar</td><td> 0.6</td><td>-1.0</td><td>0.6</td><td>-45.5</td><td> 2.3</td><td>-2.3</td><td> 13.0</td><td> 0.2</td></tr>\n",
       "\t<tr><td>NA  </td><td>Apr</td><td>-1.2</td><td> 0.6</td><td>0.7</td><td>9.5  </td><td>-0.6</td><td>-1.8</td><td> -0.6</td><td> 0.2</td></tr>\n",
       "\t<tr><td>NA  </td><td>May</td><td>-3.3</td><td> 2.1</td><td>0.9</td><td>-66.3</td><td>-0.6</td><td>-0.9</td><td>  6.1</td><td> 0.2</td></tr>\n",
       "\t<tr><td>NA  </td><td>Jun</td><td>-4.6</td><td> 3.1</td><td>0.9</td><td>-100 </td><td> 2.7</td><td> 0.0</td><td>-15.2</td><td> 0.2</td></tr>\n",
       "\t<tr><td>NA  </td><td>Jul</td><td>-4.3</td><td> 3.0</td><td>1.0</td><td>---  </td><td> 6.1</td><td> 1.0</td><td> 18.4</td><td> 0.3</td></tr>\n",
       "\t<tr><td>NA  </td><td>Aug</td><td>-1.8</td><td> 1.6</td><td>1.0</td><td>-76.1</td><td> 6.2</td><td> 1.5</td><td> -4.4</td><td> 0.3</td></tr>\n",
       "\t<tr><td>NA  </td><td>Sep</td><td> 2.1</td><td>-0.3</td><td>0.9</td><td>675  </td><td> 3.7</td><td> 1.8</td><td>  7.3</td><td> 0.5</td></tr>\n",
       "\t<tr><td>NA  </td><td>Oct</td><td> 5.1</td><td>-1.5</td><td>0.7</td><td>-24.2</td><td> 0.0</td><td> 1.7</td><td> -8.7</td><td> 0.7</td></tr>\n",
       "\t<tr><td>NA  </td><td>Nov</td><td> 6.0</td><td>-2.2</td><td>0.8</td><td>-100 </td><td>-3.5</td><td> 1.7</td><td> -3.1</td><td> 0.6</td></tr>\n",
       "\t<tr><td>NA  </td><td>Dec</td><td> 5.7</td><td>-2.5</td><td>0.7</td><td>---  </td><td>-5.8</td><td> 2.0</td><td>  8.7</td><td> 0.8</td></tr>\n",
       "</tbody>\n",
       "</table>\n"
      ],
      "text/latex": [
       "A data.frame: 18 × 10\n",
       "\\begin{tabular}{r|llllllllll}\n",
       " year & month & Milk.Butter.Cheese & Meat & Logs.Wood & Crude.oil & Fruit & Fish & Aluminium.and.aluminium.articles & Wine\\\\\n",
       " <chr> & <chr> & <dbl> & <dbl> & <dbl> & <chr> & <dbl> & <dbl> & <dbl> & <dbl>\\\\\n",
       "\\hline\n",
       "\t 2017 & Jul &  0.0 & -1.0 & 2.0 & 33    & -3.0 &  0.9 &  -5.6 & -0.6\\\\\n",
       "\t NA   & Aug & -1.4 &  0.4 & 1.7 & 168.1 & -5.3 &  0.4 &  10.0 & -0.6\\\\\n",
       "\t NA   & Sep & -2.2 &  2.0 & 1.3 & -71.7 & -5.4 & -0.2 &  -1.8 & -0.5\\\\\n",
       "\t NA   & Oct & -2.2 &  2.8 & 0.9 & 57.6  & -2.5 & -0.9 & -10.7 & -0.4\\\\\n",
       "\t NA   & Nov & -1.0 &  2.7 & 0.6 & -61.5 &  2.2 & -1.5 & -55.3 & -0.3\\\\\n",
       "\t NA   & Dec &  0.5 &  1.6 & 0.4 & 152.1 &  6.8 & -2.0 & 312.5 & -0.1\\\\\n",
       "\t 2018 & Jan &  1.6 & -0.1 & 0.4 & -100  &  8.1 & -2.3 & -46.7 &  0.1\\\\\n",
       "\t NA   & Feb &  1.7 & -1.3 & 0.5 & ---   &  6.2 & -2.5 &  -1.5 &  0.2\\\\\n",
       "\t NA   & Mar &  0.6 & -1.0 & 0.6 & -45.5 &  2.3 & -2.3 &  13.0 &  0.2\\\\\n",
       "\t NA   & Apr & -1.2 &  0.6 & 0.7 & 9.5   & -0.6 & -1.8 &  -0.6 &  0.2\\\\\n",
       "\t NA   & May & -3.3 &  2.1 & 0.9 & -66.3 & -0.6 & -0.9 &   6.1 &  0.2\\\\\n",
       "\t NA   & Jun & -4.6 &  3.1 & 0.9 & -100  &  2.7 &  0.0 & -15.2 &  0.2\\\\\n",
       "\t NA   & Jul & -4.3 &  3.0 & 1.0 & ---   &  6.1 &  1.0 &  18.4 &  0.3\\\\\n",
       "\t NA   & Aug & -1.8 &  1.6 & 1.0 & -76.1 &  6.2 &  1.5 &  -4.4 &  0.3\\\\\n",
       "\t NA   & Sep &  2.1 & -0.3 & 0.9 & 675   &  3.7 &  1.8 &   7.3 &  0.5\\\\\n",
       "\t NA   & Oct &  5.1 & -1.5 & 0.7 & -24.2 &  0.0 &  1.7 &  -8.7 &  0.7\\\\\n",
       "\t NA   & Nov &  6.0 & -2.2 & 0.8 & -100  & -3.5 &  1.7 &  -3.1 &  0.6\\\\\n",
       "\t NA   & Dec &  5.7 & -2.5 & 0.7 & ---   & -5.8 &  2.0 &   8.7 &  0.8\\\\\n",
       "\\end{tabular}\n"
      ],
      "text/markdown": [
       "\n",
       "A data.frame: 18 × 10\n",
       "\n",
       "| year &lt;chr&gt; | month &lt;chr&gt; | Milk.Butter.Cheese &lt;dbl&gt; | Meat &lt;dbl&gt; | Logs.Wood &lt;dbl&gt; | Crude.oil &lt;chr&gt; | Fruit &lt;dbl&gt; | Fish &lt;dbl&gt; | Aluminium.and.aluminium.articles &lt;dbl&gt; | Wine &lt;dbl&gt; |\n",
       "|---|---|---|---|---|---|---|---|---|---|\n",
       "| 2017 | Jul |  0.0 | -1.0 | 2.0 | 33    | -3.0 |  0.9 |  -5.6 | -0.6 |\n",
       "| NA   | Aug | -1.4 |  0.4 | 1.7 | 168.1 | -5.3 |  0.4 |  10.0 | -0.6 |\n",
       "| NA   | Sep | -2.2 |  2.0 | 1.3 | -71.7 | -5.4 | -0.2 |  -1.8 | -0.5 |\n",
       "| NA   | Oct | -2.2 |  2.8 | 0.9 | 57.6  | -2.5 | -0.9 | -10.7 | -0.4 |\n",
       "| NA   | Nov | -1.0 |  2.7 | 0.6 | -61.5 |  2.2 | -1.5 | -55.3 | -0.3 |\n",
       "| NA   | Dec |  0.5 |  1.6 | 0.4 | 152.1 |  6.8 | -2.0 | 312.5 | -0.1 |\n",
       "| 2018 | Jan |  1.6 | -0.1 | 0.4 | -100  |  8.1 | -2.3 | -46.7 |  0.1 |\n",
       "| NA   | Feb |  1.7 | -1.3 | 0.5 | ---   |  6.2 | -2.5 |  -1.5 |  0.2 |\n",
       "| NA   | Mar |  0.6 | -1.0 | 0.6 | -45.5 |  2.3 | -2.3 |  13.0 |  0.2 |\n",
       "| NA   | Apr | -1.2 |  0.6 | 0.7 | 9.5   | -0.6 | -1.8 |  -0.6 |  0.2 |\n",
       "| NA   | May | -3.3 |  2.1 | 0.9 | -66.3 | -0.6 | -0.9 |   6.1 |  0.2 |\n",
       "| NA   | Jun | -4.6 |  3.1 | 0.9 | -100  |  2.7 |  0.0 | -15.2 |  0.2 |\n",
       "| NA   | Jul | -4.3 |  3.0 | 1.0 | ---   |  6.1 |  1.0 |  18.4 |  0.3 |\n",
       "| NA   | Aug | -1.8 |  1.6 | 1.0 | -76.1 |  6.2 |  1.5 |  -4.4 |  0.3 |\n",
       "| NA   | Sep |  2.1 | -0.3 | 0.9 | 675   |  3.7 |  1.8 |   7.3 |  0.5 |\n",
       "| NA   | Oct |  5.1 | -1.5 | 0.7 | -24.2 |  0.0 |  1.7 |  -8.7 |  0.7 |\n",
       "| NA   | Nov |  6.0 | -2.2 | 0.8 | -100  | -3.5 |  1.7 |  -3.1 |  0.6 |\n",
       "| NA   | Dec |  5.7 | -2.5 | 0.7 | ---   | -5.8 |  2.0 |   8.7 |  0.8 |\n",
       "\n"
      ],
      "text/plain": [
       "   year month Milk.Butter.Cheese Meat Logs.Wood Crude.oil Fruit Fish\n",
       "1  2017 Jul    0.0               -1.0 2.0       33        -3.0   0.9\n",
       "2  NA   Aug   -1.4                0.4 1.7       168.1     -5.3   0.4\n",
       "3  NA   Sep   -2.2                2.0 1.3       -71.7     -5.4  -0.2\n",
       "4  NA   Oct   -2.2                2.8 0.9       57.6      -2.5  -0.9\n",
       "5  NA   Nov   -1.0                2.7 0.6       -61.5      2.2  -1.5\n",
       "6  NA   Dec    0.5                1.6 0.4       152.1      6.8  -2.0\n",
       "7  2018 Jan    1.6               -0.1 0.4       -100       8.1  -2.3\n",
       "8  NA   Feb    1.7               -1.3 0.5       ---        6.2  -2.5\n",
       "9  NA   Mar    0.6               -1.0 0.6       -45.5      2.3  -2.3\n",
       "10 NA   Apr   -1.2                0.6 0.7       9.5       -0.6  -1.8\n",
       "11 NA   May   -3.3                2.1 0.9       -66.3     -0.6  -0.9\n",
       "12 NA   Jun   -4.6                3.1 0.9       -100       2.7   0.0\n",
       "13 NA   Jul   -4.3                3.0 1.0       ---        6.1   1.0\n",
       "14 NA   Aug   -1.8                1.6 1.0       -76.1      6.2   1.5\n",
       "15 NA   Sep    2.1               -0.3 0.9       675        3.7   1.8\n",
       "16 NA   Oct    5.1               -1.5 0.7       -24.2      0.0   1.7\n",
       "17 NA   Nov    6.0               -2.2 0.8       -100      -3.5   1.7\n",
       "18 NA   Dec    5.7               -2.5 0.7       ---       -5.8   2.0\n",
       "   Aluminium.and.aluminium.articles Wine\n",
       "1   -5.6                            -0.6\n",
       "2   10.0                            -0.6\n",
       "3   -1.8                            -0.5\n",
       "4  -10.7                            -0.4\n",
       "5  -55.3                            -0.3\n",
       "6  312.5                            -0.1\n",
       "7  -46.7                             0.1\n",
       "8   -1.5                             0.2\n",
       "9   13.0                             0.2\n",
       "10  -0.6                             0.2\n",
       "11   6.1                             0.2\n",
       "12 -15.2                             0.2\n",
       "13  18.4                             0.3\n",
       "14  -4.4                             0.3\n",
       "15   7.3                             0.5\n",
       "16  -8.7                             0.7\n",
       "17  -3.1                             0.6\n",
       "18   8.7                             0.8"
      ]
     },
     "metadata": {},
     "output_type": "display_data"
    }
   ],
   "source": [
    "df_os_exp"
   ]
  },
  {
   "cell_type": "code",
   "execution_count": 49,
   "metadata": {},
   "outputs": [],
   "source": [
    "# Dropping unnecessary column\n",
    "df_os_exp <- df_os_exp %>% \n",
    "    select(-c(\"Crude.oil\", \"Aluminium.and.aluminium.articles\"))"
   ]
  },
  {
   "cell_type": "code",
   "execution_count": 50,
   "metadata": {},
   "outputs": [
    {
     "data": {
      "text/html": [
       "<table>\n",
       "<caption>A data.frame: 6 × 8</caption>\n",
       "<thead>\n",
       "\t<tr><th scope=col>year</th><th scope=col>month</th><th scope=col>Milk.Butter.Cheese</th><th scope=col>Meat</th><th scope=col>Logs.Wood</th><th scope=col>Fruit</th><th scope=col>Fish</th><th scope=col>Wine</th></tr>\n",
       "\t<tr><th scope=col>&lt;chr&gt;</th><th scope=col>&lt;chr&gt;</th><th scope=col>&lt;dbl&gt;</th><th scope=col>&lt;dbl&gt;</th><th scope=col>&lt;dbl&gt;</th><th scope=col>&lt;dbl&gt;</th><th scope=col>&lt;dbl&gt;</th><th scope=col>&lt;dbl&gt;</th></tr>\n",
       "</thead>\n",
       "<tbody>\n",
       "\t<tr><td>2017</td><td>Jul</td><td> 0.0</td><td>-1.0</td><td>2.0</td><td>-3.0</td><td> 0.9</td><td>-0.6</td></tr>\n",
       "\t<tr><td>NA  </td><td>Aug</td><td>-1.4</td><td> 0.4</td><td>1.7</td><td>-5.3</td><td> 0.4</td><td>-0.6</td></tr>\n",
       "\t<tr><td>NA  </td><td>Sep</td><td>-2.2</td><td> 2.0</td><td>1.3</td><td>-5.4</td><td>-0.2</td><td>-0.5</td></tr>\n",
       "\t<tr><td>NA  </td><td>Oct</td><td>-2.2</td><td> 2.8</td><td>0.9</td><td>-2.5</td><td>-0.9</td><td>-0.4</td></tr>\n",
       "\t<tr><td>NA  </td><td>Nov</td><td>-1.0</td><td> 2.7</td><td>0.6</td><td> 2.2</td><td>-1.5</td><td>-0.3</td></tr>\n",
       "\t<tr><td>NA  </td><td>Dec</td><td> 0.5</td><td> 1.6</td><td>0.4</td><td> 6.8</td><td>-2.0</td><td>-0.1</td></tr>\n",
       "</tbody>\n",
       "</table>\n"
      ],
      "text/latex": [
       "A data.frame: 6 × 8\n",
       "\\begin{tabular}{r|llllllll}\n",
       " year & month & Milk.Butter.Cheese & Meat & Logs.Wood & Fruit & Fish & Wine\\\\\n",
       " <chr> & <chr> & <dbl> & <dbl> & <dbl> & <dbl> & <dbl> & <dbl>\\\\\n",
       "\\hline\n",
       "\t 2017 & Jul &  0.0 & -1.0 & 2.0 & -3.0 &  0.9 & -0.6\\\\\n",
       "\t NA   & Aug & -1.4 &  0.4 & 1.7 & -5.3 &  0.4 & -0.6\\\\\n",
       "\t NA   & Sep & -2.2 &  2.0 & 1.3 & -5.4 & -0.2 & -0.5\\\\\n",
       "\t NA   & Oct & -2.2 &  2.8 & 0.9 & -2.5 & -0.9 & -0.4\\\\\n",
       "\t NA   & Nov & -1.0 &  2.7 & 0.6 &  2.2 & -1.5 & -0.3\\\\\n",
       "\t NA   & Dec &  0.5 &  1.6 & 0.4 &  6.8 & -2.0 & -0.1\\\\\n",
       "\\end{tabular}\n"
      ],
      "text/markdown": [
       "\n",
       "A data.frame: 6 × 8\n",
       "\n",
       "| year &lt;chr&gt; | month &lt;chr&gt; | Milk.Butter.Cheese &lt;dbl&gt; | Meat &lt;dbl&gt; | Logs.Wood &lt;dbl&gt; | Fruit &lt;dbl&gt; | Fish &lt;dbl&gt; | Wine &lt;dbl&gt; |\n",
       "|---|---|---|---|---|---|---|---|\n",
       "| 2017 | Jul |  0.0 | -1.0 | 2.0 | -3.0 |  0.9 | -0.6 |\n",
       "| NA   | Aug | -1.4 |  0.4 | 1.7 | -5.3 |  0.4 | -0.6 |\n",
       "| NA   | Sep | -2.2 |  2.0 | 1.3 | -5.4 | -0.2 | -0.5 |\n",
       "| NA   | Oct | -2.2 |  2.8 | 0.9 | -2.5 | -0.9 | -0.4 |\n",
       "| NA   | Nov | -1.0 |  2.7 | 0.6 |  2.2 | -1.5 | -0.3 |\n",
       "| NA   | Dec |  0.5 |  1.6 | 0.4 |  6.8 | -2.0 | -0.1 |\n",
       "\n"
      ],
      "text/plain": [
       "  year month Milk.Butter.Cheese Meat Logs.Wood Fruit Fish Wine\n",
       "1 2017 Jul    0.0               -1.0 2.0       -3.0   0.9 -0.6\n",
       "2 NA   Aug   -1.4                0.4 1.7       -5.3   0.4 -0.6\n",
       "3 NA   Sep   -2.2                2.0 1.3       -5.4  -0.2 -0.5\n",
       "4 NA   Oct   -2.2                2.8 0.9       -2.5  -0.9 -0.4\n",
       "5 NA   Nov   -1.0                2.7 0.6        2.2  -1.5 -0.3\n",
       "6 NA   Dec    0.5                1.6 0.4        6.8  -2.0 -0.1"
      ]
     },
     "metadata": {},
     "output_type": "display_data"
    }
   ],
   "source": [
    "head(df_os_exp)\n"
   ]
  },
  {
   "cell_type": "code",
   "execution_count": 51,
   "metadata": {},
   "outputs": [],
   "source": [
    "#https://stackoverflow.com/a/40041172\n",
    "df_os_exp <- df_os_exp %>%\n",
    "  fill(year)"
   ]
  },
  {
   "cell_type": "code",
   "execution_count": 52,
   "metadata": {},
   "outputs": [
    {
     "data": {
      "text/html": [
       "<table>\n",
       "<caption>A matrix: 8 × 18 of type chr</caption>\n",
       "<tbody>\n",
       "\t<tr><th scope=row>year</th><td>2017</td><td>2017</td><td>2017</td><td>2017</td><td>2017</td><td>2017</td><td>2018</td><td>2018</td><td>2018</td><td>2018</td><td>2018</td><td>2018</td><td>2018</td><td>2018</td><td>2018</td><td>2018</td><td>2018</td><td>2018</td></tr>\n",
       "\t<tr><th scope=row>month</th><td>Jul </td><td>Aug </td><td>Sep </td><td>Oct </td><td>Nov </td><td>Dec </td><td>Jan </td><td>Feb </td><td>Mar </td><td>Apr </td><td>May </td><td>Jun </td><td>Jul </td><td>Aug </td><td>Sep </td><td>Oct </td><td>Nov </td><td>Dec </td></tr>\n",
       "\t<tr><th scope=row>Milk.Butter.Cheese</th><td> 0.0</td><td>-1.4</td><td>-2.2</td><td>-2.2</td><td>-1.0</td><td> 0.5</td><td> 1.6</td><td> 1.7</td><td> 0.6</td><td>-1.2</td><td>-3.3</td><td>-4.6</td><td>-4.3</td><td>-1.8</td><td> 2.1</td><td> 5.1</td><td> 6.0</td><td> 5.7</td></tr>\n",
       "\t<tr><th scope=row>Meat</th><td>-1.0</td><td> 0.4</td><td> 2.0</td><td> 2.8</td><td> 2.7</td><td> 1.6</td><td>-0.1</td><td>-1.3</td><td>-1.0</td><td> 0.6</td><td> 2.1</td><td> 3.1</td><td> 3.0</td><td> 1.6</td><td>-0.3</td><td>-1.5</td><td>-2.2</td><td>-2.5</td></tr>\n",
       "\t<tr><th scope=row>Logs.Wood</th><td>2.0 </td><td>1.7 </td><td>1.3 </td><td>0.9 </td><td>0.6 </td><td>0.4 </td><td>0.4 </td><td>0.5 </td><td>0.6 </td><td>0.7 </td><td>0.9 </td><td>0.9 </td><td>1.0 </td><td>1.0 </td><td>0.9 </td><td>0.7 </td><td>0.8 </td><td>0.7 </td></tr>\n",
       "\t<tr><th scope=row>Fruit</th><td>-3.0</td><td>-5.3</td><td>-5.4</td><td>-2.5</td><td> 2.2</td><td> 6.8</td><td> 8.1</td><td> 6.2</td><td> 2.3</td><td>-0.6</td><td>-0.6</td><td> 2.7</td><td> 6.1</td><td> 6.2</td><td> 3.7</td><td> 0.0</td><td>-3.5</td><td>-5.8</td></tr>\n",
       "\t<tr><th scope=row>Fish</th><td> 0.9</td><td> 0.4</td><td>-0.2</td><td>-0.9</td><td>-1.5</td><td>-2.0</td><td>-2.3</td><td>-2.5</td><td>-2.3</td><td>-1.8</td><td>-0.9</td><td> 0.0</td><td> 1.0</td><td> 1.5</td><td> 1.8</td><td> 1.7</td><td> 1.7</td><td> 2.0</td></tr>\n",
       "\t<tr><th scope=row>Wine</th><td>-0.6</td><td>-0.6</td><td>-0.5</td><td>-0.4</td><td>-0.3</td><td>-0.1</td><td> 0.1</td><td> 0.2</td><td> 0.2</td><td> 0.2</td><td> 0.2</td><td> 0.2</td><td> 0.3</td><td> 0.3</td><td> 0.5</td><td> 0.7</td><td> 0.6</td><td> 0.8</td></tr>\n",
       "</tbody>\n",
       "</table>\n"
      ],
      "text/latex": [
       "A matrix: 8 × 18 of type chr\n",
       "\\begin{tabular}{r|llllllllllllllllll}\n",
       "\tyear & 2017 & 2017 & 2017 & 2017 & 2017 & 2017 & 2018 & 2018 & 2018 & 2018 & 2018 & 2018 & 2018 & 2018 & 2018 & 2018 & 2018 & 2018\\\\\n",
       "\tmonth & Jul  & Aug  & Sep  & Oct  & Nov  & Dec  & Jan  & Feb  & Mar  & Apr  & May  & Jun  & Jul  & Aug  & Sep  & Oct  & Nov  & Dec \\\\\n",
       "\tMilk.Butter.Cheese &  0.0 & -1.4 & -2.2 & -2.2 & -1.0 &  0.5 &  1.6 &  1.7 &  0.6 & -1.2 & -3.3 & -4.6 & -4.3 & -1.8 &  2.1 &  5.1 &  6.0 &  5.7\\\\\n",
       "\tMeat & -1.0 &  0.4 &  2.0 &  2.8 &  2.7 &  1.6 & -0.1 & -1.3 & -1.0 &  0.6 &  2.1 &  3.1 &  3.0 &  1.6 & -0.3 & -1.5 & -2.2 & -2.5\\\\\n",
       "\tLogs.Wood & 2.0  & 1.7  & 1.3  & 0.9  & 0.6  & 0.4  & 0.4  & 0.5  & 0.6  & 0.7  & 0.9  & 0.9  & 1.0  & 1.0  & 0.9  & 0.7  & 0.8  & 0.7 \\\\\n",
       "\tFruit & -3.0 & -5.3 & -5.4 & -2.5 &  2.2 &  6.8 &  8.1 &  6.2 &  2.3 & -0.6 & -0.6 &  2.7 &  6.1 &  6.2 &  3.7 &  0.0 & -3.5 & -5.8\\\\\n",
       "\tFish &  0.9 &  0.4 & -0.2 & -0.9 & -1.5 & -2.0 & -2.3 & -2.5 & -2.3 & -1.8 & -0.9 &  0.0 &  1.0 &  1.5 &  1.8 &  1.7 &  1.7 &  2.0\\\\\n",
       "\tWine & -0.6 & -0.6 & -0.5 & -0.4 & -0.3 & -0.1 &  0.1 &  0.2 &  0.2 &  0.2 &  0.2 &  0.2 &  0.3 &  0.3 &  0.5 &  0.7 &  0.6 &  0.8\\\\\n",
       "\\end{tabular}\n"
      ],
      "text/markdown": [
       "\n",
       "A matrix: 8 × 18 of type chr\n",
       "\n",
       "| year | 2017 | 2017 | 2017 | 2017 | 2017 | 2017 | 2018 | 2018 | 2018 | 2018 | 2018 | 2018 | 2018 | 2018 | 2018 | 2018 | 2018 | 2018 |\n",
       "| month | Jul  | Aug  | Sep  | Oct  | Nov  | Dec  | Jan  | Feb  | Mar  | Apr  | May  | Jun  | Jul  | Aug  | Sep  | Oct  | Nov  | Dec  |\n",
       "| Milk.Butter.Cheese |  0.0 | -1.4 | -2.2 | -2.2 | -1.0 |  0.5 |  1.6 |  1.7 |  0.6 | -1.2 | -3.3 | -4.6 | -4.3 | -1.8 |  2.1 |  5.1 |  6.0 |  5.7 |\n",
       "| Meat | -1.0 |  0.4 |  2.0 |  2.8 |  2.7 |  1.6 | -0.1 | -1.3 | -1.0 |  0.6 |  2.1 |  3.1 |  3.0 |  1.6 | -0.3 | -1.5 | -2.2 | -2.5 |\n",
       "| Logs.Wood | 2.0  | 1.7  | 1.3  | 0.9  | 0.6  | 0.4  | 0.4  | 0.5  | 0.6  | 0.7  | 0.9  | 0.9  | 1.0  | 1.0  | 0.9  | 0.7  | 0.8  | 0.7  |\n",
       "| Fruit | -3.0 | -5.3 | -5.4 | -2.5 |  2.2 |  6.8 |  8.1 |  6.2 |  2.3 | -0.6 | -0.6 |  2.7 |  6.1 |  6.2 |  3.7 |  0.0 | -3.5 | -5.8 |\n",
       "| Fish |  0.9 |  0.4 | -0.2 | -0.9 | -1.5 | -2.0 | -2.3 | -2.5 | -2.3 | -1.8 | -0.9 |  0.0 |  1.0 |  1.5 |  1.8 |  1.7 |  1.7 |  2.0 |\n",
       "| Wine | -0.6 | -0.6 | -0.5 | -0.4 | -0.3 | -0.1 |  0.1 |  0.2 |  0.2 |  0.2 |  0.2 |  0.2 |  0.3 |  0.3 |  0.5 |  0.7 |  0.6 |  0.8 |\n",
       "\n"
      ],
      "text/plain": [
       "                   [,1] [,2] [,3] [,4] [,5] [,6] [,7] [,8] [,9] [,10] [,11]\n",
       "year               2017 2017 2017 2017 2017 2017 2018 2018 2018 2018  2018 \n",
       "month              Jul  Aug  Sep  Oct  Nov  Dec  Jan  Feb  Mar  Apr   May  \n",
       "Milk.Butter.Cheese  0.0 -1.4 -2.2 -2.2 -1.0  0.5  1.6  1.7  0.6 -1.2  -3.3 \n",
       "Meat               -1.0  0.4  2.0  2.8  2.7  1.6 -0.1 -1.3 -1.0  0.6   2.1 \n",
       "Logs.Wood          2.0  1.7  1.3  0.9  0.6  0.4  0.4  0.5  0.6  0.7   0.9  \n",
       "Fruit              -3.0 -5.3 -5.4 -2.5  2.2  6.8  8.1  6.2  2.3 -0.6  -0.6 \n",
       "Fish                0.9  0.4 -0.2 -0.9 -1.5 -2.0 -2.3 -2.5 -2.3 -1.8  -0.9 \n",
       "Wine               -0.6 -0.6 -0.5 -0.4 -0.3 -0.1  0.1  0.2  0.2  0.2   0.2 \n",
       "                   [,12] [,13] [,14] [,15] [,16] [,17] [,18]\n",
       "year               2018  2018  2018  2018  2018  2018  2018 \n",
       "month              Jun   Jul   Aug   Sep   Oct   Nov   Dec  \n",
       "Milk.Butter.Cheese -4.6  -4.3  -1.8   2.1   5.1   6.0   5.7 \n",
       "Meat                3.1   3.0   1.6  -0.3  -1.5  -2.2  -2.5 \n",
       "Logs.Wood          0.9   1.0   1.0   0.9   0.7   0.8   0.7  \n",
       "Fruit               2.7   6.1   6.2   3.7   0.0  -3.5  -5.8 \n",
       "Fish                0.0   1.0   1.5   1.8   1.7   1.7   2.0 \n",
       "Wine                0.2   0.3   0.3   0.5   0.7   0.6   0.8 "
      ]
     },
     "metadata": {},
     "output_type": "display_data"
    }
   ],
   "source": [
    "t(df_os_exp)"
   ]
  },
  {
   "cell_type": "code",
   "execution_count": 53,
   "metadata": {},
   "outputs": [
    {
     "name": "stderr",
     "output_type": "stream",
     "text": [
      "Warning message:\n",
      "“Missing column names filled in: 'X1' [1]”\n",
      "Parsed with column specification:\n",
      "cols(\n",
      "  .default = col_character(),\n",
      "  X1 = \u001b[32mcol_double()\u001b[39m,\n",
      "  Oranges = \u001b[32mcol_double()\u001b[39m,\n",
      "  Bananas = \u001b[32mcol_double()\u001b[39m,\n",
      "  Apples = \u001b[32mcol_double()\u001b[39m,\n",
      "  Kiwifruit = \u001b[32mcol_double()\u001b[39m,\n",
      "  Sultanas = \u001b[32mcol_double()\u001b[39m,\n",
      "  Canned.peaches = \u001b[32mcol_double()\u001b[39m,\n",
      "  Lettuce = \u001b[32mcol_double()\u001b[39m,\n",
      "  Broccoli = \u001b[32mcol_double()\u001b[39m,\n",
      "  Cabbage = \u001b[32mcol_double()\u001b[39m,\n",
      "  Tomatoes = \u001b[32mcol_double()\u001b[39m,\n",
      "  Carrots = \u001b[32mcol_double()\u001b[39m,\n",
      "  Mushrooms = \u001b[32mcol_double()\u001b[39m,\n",
      "  Potatoes = \u001b[32mcol_double()\u001b[39m,\n",
      "  Frozen.peas = \u001b[32mcol_double()\u001b[39m,\n",
      "  Beef.steak..blade.steak. = \u001b[32mcol_double()\u001b[39m,\n",
      "  Beef.steak..porterhouse.sirloin.steak. = \u001b[32mcol_double()\u001b[39m,\n",
      "  Beef..mince. = \u001b[32mcol_double()\u001b[39m,\n",
      "  Pork.loin.chops = \u001b[32mcol_double()\u001b[39m,\n",
      "  Lamb.chops = \u001b[32mcol_double()\u001b[39m\n",
      "  # ... with 31 more columns\n",
      ")\n",
      "\n",
      "See spec(...) for full column specifications.\n",
      "\n"
     ]
    }
   ],
   "source": [
    "df_fpi <- read_csv(\"wrangled_fpi.csv\")"
   ]
  },
  {
   "cell_type": "code",
   "execution_count": 54,
   "metadata": {},
   "outputs": [
    {
     "data": {
      "text/html": [
       "<table>\n",
       "<caption>A tibble: 6 × 170</caption>\n",
       "<thead>\n",
       "\t<tr><th scope=col>X1</th><th scope=col>Item</th><th scope=col>Oranges</th><th scope=col>Bananas</th><th scope=col>Apples</th><th scope=col>Kiwifruit</th><th scope=col>Sultanas</th><th scope=col>Canned.peaches</th><th scope=col>Lettuce</th><th scope=col>Broccoli</th><th scope=col>⋯</th><th scope=col>Fresh.or.frozen.pizza</th><th scope=col>Margarine</th><th scope=col>Mayonnaise</th><th scope=col>Dried.mixed.herbs</th><th scope=col>Salted.blanched.peanuts</th><th scope=col>Sliced.or.shaved.ham</th><th scope=col>Chewing.gum</th><th scope=col>year</th><th scope=col>month</th><th scope=col>month_abb</th></tr>\n",
       "\t<tr><th scope=col>&lt;dbl&gt;</th><th scope=col>&lt;chr&gt;</th><th scope=col>&lt;dbl&gt;</th><th scope=col>&lt;dbl&gt;</th><th scope=col>&lt;dbl&gt;</th><th scope=col>&lt;dbl&gt;</th><th scope=col>&lt;dbl&gt;</th><th scope=col>&lt;dbl&gt;</th><th scope=col>&lt;dbl&gt;</th><th scope=col>&lt;dbl&gt;</th><th scope=col>⋯</th><th scope=col>&lt;dbl&gt;</th><th scope=col>&lt;dbl&gt;</th><th scope=col>&lt;dbl&gt;</th><th scope=col>&lt;dbl&gt;</th><th scope=col>&lt;dbl&gt;</th><th scope=col>&lt;dbl&gt;</th><th scope=col>&lt;chr&gt;</th><th scope=col>&lt;dbl&gt;</th><th scope=col>&lt;chr&gt;</th><th scope=col>&lt;lgl&gt;</th></tr>\n",
       "</thead>\n",
       "<tbody>\n",
       "\t<tr><td>1</td><td>2006M06</td><td>3.11</td><td>1.66</td><td>1.89</td><td>1.73</td><td>1.49</td><td>1.59</td><td>6.81</td><td>7.03</td><td>⋯</td><td>5.17</td><td>1.96</td><td>3.17</td><td>1.88</td><td>2.38</td><td>15.35</td><td>..</td><td>2006</td><td>06</td><td>NA</td></tr>\n",
       "\t<tr><td>2</td><td>2006M07</td><td>2.78</td><td>1.59</td><td>2.01</td><td>1.82</td><td>1.50</td><td>1.65</td><td>8.49</td><td>8.68</td><td>⋯</td><td>4.98</td><td>2.02</td><td>3.19</td><td>1.99</td><td>2.26</td><td>15.47</td><td>..</td><td>2006</td><td>07</td><td>NA</td></tr>\n",
       "\t<tr><td>3</td><td>2006M08</td><td>2.43</td><td>1.83</td><td>2.15</td><td>1.92</td><td>1.53</td><td>1.60</td><td>4.70</td><td>6.45</td><td>⋯</td><td>5.00</td><td>2.12</td><td>3.17</td><td>2.02</td><td>2.37</td><td>15.00</td><td>..</td><td>2006</td><td>08</td><td>NA</td></tr>\n",
       "\t<tr><td>4</td><td>2006M09</td><td>2.42</td><td>2.32</td><td>2.26</td><td>1.99</td><td>1.57</td><td>1.48</td><td>4.04</td><td>8.01</td><td>⋯</td><td>4.64</td><td>2.00</td><td>3.09</td><td>2.04</td><td>2.43</td><td>15.26</td><td>..</td><td>2006</td><td>09</td><td>NA</td></tr>\n",
       "\t<tr><td>5</td><td>2006M10</td><td>3.04</td><td>2.48</td><td>2.63</td><td>1.74</td><td>1.56</td><td>1.54</td><td>2.46</td><td>6.50</td><td>⋯</td><td>4.52</td><td>2.07</td><td>2.92</td><td>2.01</td><td>2.38</td><td>15.50</td><td>..</td><td>2006</td><td>10</td><td>NA</td></tr>\n",
       "\t<tr><td>6</td><td>2006M11</td><td>3.24</td><td>2.48</td><td>2.79</td><td>2.28</td><td>1.56</td><td>1.58</td><td>1.95</td><td>3.92</td><td>⋯</td><td>4.94</td><td>2.13</td><td>2.79</td><td>2.00</td><td>2.37</td><td>14.94</td><td>..</td><td>2006</td><td>11</td><td>NA</td></tr>\n",
       "</tbody>\n",
       "</table>\n"
      ],
      "text/latex": [
       "A tibble: 6 × 170\n",
       "\\begin{tabular}{r|llllllllllllllllllllllllllllllllllllllllllllllllllllllllllllllllllllllllllllllllllllllllllllllllllllllllllllllllllllllllllllllllllllllllllllllllllllllllllllllllllllllllll}\n",
       " X1 & Item & Oranges & Bananas & Apples & Kiwifruit & Sultanas & Canned.peaches & Lettuce & Broccoli & Cabbage & Tomatoes & Carrots & Mushrooms & Potatoes & Frozen.peas & Beef.steak..blade.steak. & Beef.steak..porterhouse.sirloin.steak. & Beef..mince. & Pork.loin.chops & Lamb.chops & Bacon..middle.rashers. & Sausages & Canned.tuna & Sliced.loaf.of.white.bread & Chocolate.biscuits & Breakfast.biscuits & White.flour & White..long.grained.rice & Standard.homogenised.milk & Flavoured.yoghurt & Mild.cheddar.cheese & Eggs & Salted.butter & White.sugar & Canned.tomato.sauce & Block.of.chocolate & Potato.crisps & Canned.spaghetti & Instant.coffee & Tea.bags & Soft.drink & Bottled.water & Apple.based.fruit.juice & Fish.and.chips & Hot.meat.pie & Apple.based.fruit.juice.1 & Potato.crisps.1 & Canned.tomato.sauce.1 & Bacon..middle.rashers..1 & Chicken.breast & Sliced.loaf.of.white.bread.1 & Alfalfa.sprouts & Dried.apricots & Avocados & Baby.food & Beans & Hot.filled.bread.roll & Bread.rolls..hamburger.buns. & Breakfast.drink & Burger & Canned.soup & Capsicum & Cauliflower & Celery & Cottage.cheese & Camember.cheese & Processed.slices.of.cheese & Whole.cooked.chicken & Chicken.pieces & Whole.frozen.chicken & Frozen.chicken.nuggets & Chilled.fruit.juice.or.smoothies & Loose.boxed.chocolates & Block.of.chocolate.1 & Chocolate.novelty.bars & Creamed.style.canned.corn & Corn.flakes & Corned.beef & Courgettes & Crackers & Cream & Cucumber & Frozen.dessert & Fruit.flavoured.drink.powder & Dried.pasta & Drinking.chocolate & Calcium.enriched.milk & Frozen.fish.fillets & Flat.bread & Free.range.eggs & Fresh.fish & Fresh.pasta & Fried.and.other.takeaway.chicken & Frozen.berries & Grapes & Ground.coffee & Clover.creamed.honey & Hot.chips.or.wedges & Hummus.dip & Water.based.ice.block & Ice.cream & Ice.cream.novelty & Infant.formula & Jam & Kumara & Luncheon.meat & Mandarins & Marinated.mussels & Chilled.meat.pies & Frozen.mixed.vegetables & Muesli & Muesli.or.cereal.bars & Live.mussels & Sandwich & Olive.oil & Onions & Orange.juice & Packaged.cake.slice & Parsnips & Packaged.meal.with.pasta.and.sauce & Tomato.based.pasta.sauces & Frozen.pastry.sheets & Pears & Canned.pineapple.pieces & Pineapple & Plain.biscuits & Frozen.potato.fries & Frozen.prawns & Frozen.prepared.meals & Pumpkin & Roasting.lamb.and.hogget & Roasting.pork & Packaged.leaf.salad & Salami & Canned.salmon & Poured.soft.drink & Soft.drink.1 & Unflavoured.soy.milk & Soy.sauce & Sports.energy.drink & Sports.energy.drink.1 & Two.minute.noodles & Peanut.butter & Sweets & Cakes.and.biscuits & Coffee & Cookie & Milkshakes & Muffins.and.buns & Pizza & Vegetable.salad & Tea & Canned.tomatoes & Vinegar & Sliced.wheatmeal.bread & Sliced.wholegrain.bread & Fresh.herbs..packaged.and.chilled. & Jar.of.olives & Tea.bags.1 & Fresh.or.frozen.pizza & Margarine & Mayonnaise & Dried.mixed.herbs & Salted.blanched.peanuts & Sliced.or.shaved.ham & Chewing.gum & year & month & month\\_abb\\\\\n",
       " <dbl> & <chr> & <dbl> & <dbl> & <dbl> & <dbl> & <dbl> & <dbl> & <dbl> & <dbl> & <dbl> & <dbl> & <dbl> & <dbl> & <dbl> & <dbl> & <dbl> & <dbl> & <dbl> & <dbl> & <dbl> & <chr> & <dbl> & <dbl> & <chr> & <dbl> & <dbl> & <dbl> & <dbl> & <dbl> & <dbl> & <dbl> & <dbl> & <dbl> & <dbl> & <chr> & <dbl> & <chr> & <dbl> & <dbl> & <dbl> & <dbl> & <dbl> & <chr> & <dbl> & <dbl> & <chr> & <chr> & <chr> & <chr> & <chr> & <dbl> & <chr> & <chr> & <chr> & <chr> & <chr> & <chr> & <chr> & <chr> & <chr> & <chr> & <chr> & <chr> & <chr> & <chr> & <chr> & <chr> & <chr> & <chr> & <chr> & <chr> & <chr> & <chr> & <chr> & <chr> & <chr> & <chr> & <chr> & <chr> & <chr> & <chr> & <chr> & <chr> & <chr> & <chr> & <chr> & <chr> & <chr> & <chr> & <chr> & <chr> & <chr> & <chr> & <chr> & <chr> & <chr> & <chr> & <chr> & <chr> & <chr> & <chr> & <chr> & <chr> & <chr> & <chr> & <chr> & <chr> & <chr> & <chr> & <chr> & <chr> & <chr> & <chr> & <dbl> & <chr> & <chr> & <chr> & <chr> & <chr> & <chr> & <chr> & <chr> & <chr> & <chr> & <chr> & <chr> & <chr> & <chr> & <chr> & <chr> & <chr> & <chr> & <chr> & <chr> & <chr> & <chr> & <chr> & <chr> & <chr> & <chr> & <chr> & <chr> & <dbl> & <chr> & <chr> & <chr> & <chr> & <chr> & <chr> & <chr> & <chr> & <chr> & <chr> & <chr> & <chr> & <chr> & <chr> & <chr> & <chr> & <dbl> & <dbl> & <dbl> & <dbl> & <dbl> & <dbl> & <chr> & <dbl> & <chr> & <lgl>\\\\\n",
       "\\hline\n",
       "\t 1 & 2006M06 & 3.11 & 1.66 & 1.89 & 1.73 & 1.49 & 1.59 & 6.81 & 7.03 & 1.25 & 7.91 & 1.33 & 8.47 & 1.11 & 1.90 & 11.03 & 20.06 & 8.54 & 13.46 & 10.81 & 18.08 & 5.59 & 1.91 & 1.3  & 2.50 & 4.83 & 1.55 & 1.73 & 3.05 & 3.93 & 6.77 & 3.12 & 2.08 & 1.88 & 2.29 & 3.27 & 1.96 & 1.28 & 4.43 & 3.33 & 1.83 & 1.82 & 1.61 & 4.38 & 2.68 & .. & .. & .. & .. & .. & 1.12 & .. & .. & .. & .. & .. & .. & .. & .. & .. & .. & .. & .. & .. & .. & .. & .. & .. & .. & .. & .. & .. & .. & .. & .. & .. & .. & .. & .. & .. & .. & .. & .. & .. & .. & .. & .. & .. & .. & .. & .. & .. & .. & .. & .. & .. & .. & .. & .. & .. & .. & .. & .. & .. & .. & .. & .. & .. & .. & .. & .. & .. & .. & 3.23 & .. & .. & .. & .. & .. & .. & .. & .. & .. & .. & .. & .. & .. & .. & .. & .. & .. & .. & .. & .. & .. & .. & .. & .. & .. & .. & .. & .. & 2.34 & .. & .. & .. & .. & .. & .. & .. & .. & .. & .. & .. & .. & .. & .. & .. & .. & 5.17 & 1.96 & 3.17 & 1.88 & 2.38 & 15.35 & .. & 2006 & 06 & NA\\\\\n",
       "\t 2 & 2006M07 & 2.78 & 1.59 & 2.01 & 1.82 & 1.50 & 1.65 & 8.49 & 8.68 & 2.38 & 7.00 & 1.48 & 8.32 & 1.05 & 2.01 & 11.10 & 19.99 & 8.42 & 13.07 &  9.79 & 18.2  & 5.91 & 1.98 & 1.24 & 2.54 & 4.73 & 1.68 & 1.74 & 3.04 & 3.51 & 6.91 & 3.15 & 2.05 & 1.88 & 2.44 & 3.21 & 2.11 & 1.24 & 4.75 & 3.37 & 1.78 & 1.85 & 1.64 & 4.39 & 2.68 & .. & .. & .. & .. & .. & 1.07 & .. & .. & .. & .. & .. & .. & .. & .. & .. & .. & .. & .. & .. & .. & .. & .. & .. & .. & .. & .. & .. & .. & .. & .. & .. & .. & .. & .. & .. & .. & .. & .. & .. & .. & .. & .. & .. & .. & .. & .. & .. & .. & .. & .. & .. & .. & .. & .. & .. & .. & .. & .. & .. & .. & .. & .. & .. & .. & .. & .. & .. & .. & 3.24 & .. & .. & .. & .. & .. & .. & .. & .. & .. & .. & .. & .. & .. & .. & .. & .. & .. & .. & .. & .. & .. & .. & .. & .. & .. & .. & .. & .. & 2.57 & .. & .. & .. & .. & .. & .. & .. & .. & .. & .. & .. & .. & .. & .. & .. & .. & 4.98 & 2.02 & 3.19 & 1.99 & 2.26 & 15.47 & .. & 2006 & 07 & NA\\\\\n",
       "\t 3 & 2006M08 & 2.43 & 1.83 & 2.15 & 1.92 & 1.53 & 1.60 & 4.70 & 6.45 & 2.40 & 7.88 & 1.47 & 8.62 & 1.11 & 2.05 & 11.39 & 19.96 & 8.63 & 13.40 &  9.62 & 18.13 & 5.75 & 1.91 & 1.26 & 2.43 & 4.79 & 1.69 & 1.74 & 3.03 & 3.62 & 6.78 & 3.15 & 2.02 & 1.91 & 2.36 & 3.31 & 2.02 & 1.36 & 4.61 & 3.27 & 1.80 & 1.79 & 1.69 & 4.42 & 2.67 & .. & .. & .. & .. & .. & 1.08 & .. & .. & .. & .. & .. & .. & .. & .. & .. & .. & .. & .. & .. & .. & .. & .. & .. & .. & .. & .. & .. & .. & .. & .. & .. & .. & .. & .. & .. & .. & .. & .. & .. & .. & .. & .. & .. & .. & .. & .. & .. & .. & .. & .. & .. & .. & .. & .. & .. & .. & .. & .. & .. & .. & .. & .. & .. & .. & .. & .. & .. & .. & 3.24 & .. & .. & .. & .. & .. & .. & .. & .. & .. & .. & .. & .. & .. & .. & .. & .. & .. & .. & .. & .. & .. & .. & .. & .. & .. & .. & .. & .. & 2.40 & .. & .. & .. & .. & .. & .. & .. & .. & .. & .. & .. & .. & .. & .. & .. & .. & 5.00 & 2.12 & 3.17 & 2.02 & 2.37 & 15.00 & .. & 2006 & 08 & NA\\\\\n",
       "\t 4 & 2006M09 & 2.42 & 2.32 & 2.26 & 1.99 & 1.57 & 1.48 & 4.04 & 8.01 & 2.04 & 8.30 & 1.51 & 8.76 & 1.12 & 2.02 & 11.80 & 20.67 & 8.83 & 13.34 & 10.88 & 18.45 & 6.08 & 2.00 & 1.26 & 2.27 & 4.72 & 1.94 & 1.74 & 2.66 & 3.51 & 6.76 & 3.04 & 2.00 & 2.18 & 2.43 & 3.49 & 2.17 & 1.22 & 4.58 & 3.22 & 1.97 & 1.83 & 1.68 & 4.42 & 2.69 & .. & .. & .. & .. & .. & 1.09 & .. & .. & .. & .. & .. & .. & .. & .. & .. & .. & .. & .. & .. & .. & .. & .. & .. & .. & .. & .. & .. & .. & .. & .. & .. & .. & .. & .. & .. & .. & .. & .. & .. & .. & .. & .. & .. & .. & .. & .. & .. & .. & .. & .. & .. & .. & .. & .. & .. & .. & .. & .. & .. & .. & .. & .. & .. & .. & .. & .. & .. & .. & 3.22 & .. & .. & .. & .. & .. & .. & .. & .. & .. & .. & .. & .. & .. & .. & .. & .. & .. & .. & .. & .. & .. & .. & .. & .. & .. & .. & .. & .. & 2.48 & .. & .. & .. & .. & .. & .. & .. & .. & .. & .. & .. & .. & .. & .. & .. & .. & 4.64 & 2.00 & 3.09 & 2.04 & 2.43 & 15.26 & .. & 2006 & 09 & NA\\\\\n",
       "\t 5 & 2006M10 & 3.04 & 2.48 & 2.63 & 1.74 & 1.56 & 1.54 & 2.46 & 6.50 & 2.51 & 6.47 & 2.12 & 8.76 & 1.10 & 2.02 & 11.89 & 21.26 & 9.00 & 14.19 & 11.39 & 18.45 & 5.91 & 1.98 & 1.26 & 2.46 & 4.68 & 1.89 & 1.72 & 2.66 & 3.64 & 6.61 & 3.12 & 1.96 & 2.09 & 2.27 & 3.25 & 2.05 & 1.21 & 4.39 & 3.22 & 1.91 & 1.80 & 1.67 & 4.42 & 2.71 & .. & .. & .. & .. & .. & 1.09 & .. & .. & .. & .. & .. & .. & .. & .. & .. & .. & .. & .. & .. & .. & .. & .. & .. & .. & .. & .. & .. & .. & .. & .. & .. & .. & .. & .. & .. & .. & .. & .. & .. & .. & .. & .. & .. & .. & .. & .. & .. & .. & .. & .. & .. & .. & .. & .. & .. & .. & .. & .. & .. & .. & .. & .. & .. & .. & .. & .. & .. & .. & 3.24 & .. & .. & .. & .. & .. & .. & .. & .. & .. & .. & .. & .. & .. & .. & .. & .. & .. & .. & .. & .. & .. & .. & .. & .. & .. & .. & .. & .. & 2.47 & .. & .. & .. & .. & .. & .. & .. & .. & .. & .. & .. & .. & .. & .. & .. & .. & 4.52 & 2.07 & 2.92 & 2.01 & 2.38 & 15.50 & .. & 2006 & 10 & NA\\\\\n",
       "\t 6 & 2006M11 & 3.24 & 2.48 & 2.79 & 2.28 & 1.56 & 1.58 & 1.95 & 3.92 & 1.71 & 4.95 & 2.32 & 8.61 & 1.40 & 2.02 & 11.93 & 21.63 & 9.27 & 14.32 & 10.65 & 18.84 & 6.22 & 1.98 & 1.23 & 2.53 & 4.62 & 1.78 & 1.75 & 2.65 & 3.36 & 6.82 & 3.12 & 1.96 & 2.20 & 2.38 & 3.54 & 2.15 & 1.27 & 4.52 & 3.36 & 1.78 & 1.81 & 1.66 & 4.45 & 2.71 & .. & .. & .. & .. & .. & 1.06 & .. & .. & .. & .. & .. & .. & .. & .. & .. & .. & .. & .. & .. & .. & .. & .. & .. & .. & .. & .. & .. & .. & .. & .. & .. & .. & .. & .. & .. & .. & .. & .. & .. & .. & .. & .. & .. & .. & .. & .. & .. & .. & .. & .. & .. & .. & .. & .. & .. & .. & .. & .. & .. & .. & .. & .. & .. & .. & .. & .. & .. & .. & 3.25 & .. & .. & .. & .. & .. & .. & .. & .. & .. & .. & .. & .. & .. & .. & .. & .. & .. & .. & .. & .. & .. & .. & .. & .. & .. & .. & .. & .. & 2.29 & .. & .. & .. & .. & .. & .. & .. & .. & .. & .. & .. & .. & .. & .. & .. & .. & 4.94 & 2.13 & 2.79 & 2.00 & 2.37 & 14.94 & .. & 2006 & 11 & NA\\\\\n",
       "\\end{tabular}\n"
      ],
      "text/markdown": [
       "\n",
       "A tibble: 6 × 170\n",
       "\n",
       "| X1 &lt;dbl&gt; | Item &lt;chr&gt; | Oranges &lt;dbl&gt; | Bananas &lt;dbl&gt; | Apples &lt;dbl&gt; | Kiwifruit &lt;dbl&gt; | Sultanas &lt;dbl&gt; | Canned.peaches &lt;dbl&gt; | Lettuce &lt;dbl&gt; | Broccoli &lt;dbl&gt; | ⋯ ⋯ | Fresh.or.frozen.pizza &lt;dbl&gt; | Margarine &lt;dbl&gt; | Mayonnaise &lt;dbl&gt; | Dried.mixed.herbs &lt;dbl&gt; | Salted.blanched.peanuts &lt;dbl&gt; | Sliced.or.shaved.ham &lt;dbl&gt; | Chewing.gum &lt;chr&gt; | year &lt;dbl&gt; | month &lt;chr&gt; | month_abb &lt;lgl&gt; |\n",
       "|---|---|---|---|---|---|---|---|---|---|---|---|---|---|---|---|---|---|---|---|---|\n",
       "| 1 | 2006M06 | 3.11 | 1.66 | 1.89 | 1.73 | 1.49 | 1.59 | 6.81 | 7.03 | ⋯ | 5.17 | 1.96 | 3.17 | 1.88 | 2.38 | 15.35 | .. | 2006 | 06 | NA |\n",
       "| 2 | 2006M07 | 2.78 | 1.59 | 2.01 | 1.82 | 1.50 | 1.65 | 8.49 | 8.68 | ⋯ | 4.98 | 2.02 | 3.19 | 1.99 | 2.26 | 15.47 | .. | 2006 | 07 | NA |\n",
       "| 3 | 2006M08 | 2.43 | 1.83 | 2.15 | 1.92 | 1.53 | 1.60 | 4.70 | 6.45 | ⋯ | 5.00 | 2.12 | 3.17 | 2.02 | 2.37 | 15.00 | .. | 2006 | 08 | NA |\n",
       "| 4 | 2006M09 | 2.42 | 2.32 | 2.26 | 1.99 | 1.57 | 1.48 | 4.04 | 8.01 | ⋯ | 4.64 | 2.00 | 3.09 | 2.04 | 2.43 | 15.26 | .. | 2006 | 09 | NA |\n",
       "| 5 | 2006M10 | 3.04 | 2.48 | 2.63 | 1.74 | 1.56 | 1.54 | 2.46 | 6.50 | ⋯ | 4.52 | 2.07 | 2.92 | 2.01 | 2.38 | 15.50 | .. | 2006 | 10 | NA |\n",
       "| 6 | 2006M11 | 3.24 | 2.48 | 2.79 | 2.28 | 1.56 | 1.58 | 1.95 | 3.92 | ⋯ | 4.94 | 2.13 | 2.79 | 2.00 | 2.37 | 14.94 | .. | 2006 | 11 | NA |\n",
       "\n"
      ],
      "text/plain": [
       "  X1 Item    Oranges Bananas Apples Kiwifruit Sultanas Canned.peaches Lettuce\n",
       "1 1  2006M06 3.11    1.66    1.89   1.73      1.49     1.59           6.81   \n",
       "2 2  2006M07 2.78    1.59    2.01   1.82      1.50     1.65           8.49   \n",
       "3 3  2006M08 2.43    1.83    2.15   1.92      1.53     1.60           4.70   \n",
       "4 4  2006M09 2.42    2.32    2.26   1.99      1.57     1.48           4.04   \n",
       "5 5  2006M10 3.04    2.48    2.63   1.74      1.56     1.54           2.46   \n",
       "6 6  2006M11 3.24    2.48    2.79   2.28      1.56     1.58           1.95   \n",
       "  Broccoli ⋯ Fresh.or.frozen.pizza Margarine Mayonnaise Dried.mixed.herbs\n",
       "1 7.03     ⋯ 5.17                  1.96      3.17       1.88             \n",
       "2 8.68     ⋯ 4.98                  2.02      3.19       1.99             \n",
       "3 6.45     ⋯ 5.00                  2.12      3.17       2.02             \n",
       "4 8.01     ⋯ 4.64                  2.00      3.09       2.04             \n",
       "5 6.50     ⋯ 4.52                  2.07      2.92       2.01             \n",
       "6 3.92     ⋯ 4.94                  2.13      2.79       2.00             \n",
       "  Salted.blanched.peanuts Sliced.or.shaved.ham Chewing.gum year month month_abb\n",
       "1 2.38                    15.35                ..          2006 06    NA       \n",
       "2 2.26                    15.47                ..          2006 07    NA       \n",
       "3 2.37                    15.00                ..          2006 08    NA       \n",
       "4 2.43                    15.26                ..          2006 09    NA       \n",
       "5 2.38                    15.50                ..          2006 10    NA       \n",
       "6 2.37                    14.94                ..          2006 11    NA       "
      ]
     },
     "metadata": {},
     "output_type": "display_data"
    }
   ],
   "source": [
    "head(df_fpi)"
   ]
  },
  {
   "cell_type": "code",
   "execution_count": 56,
   "metadata": {},
   "outputs": [],
   "source": [
    "col <- colnames(df_os_exp)"
   ]
  },
  {
   "cell_type": "code",
   "execution_count": null,
   "metadata": {},
   "outputs": [],
   "source": []
  }
 ],
 "metadata": {
  "kernelspec": {
   "display_name": "R",
   "language": "R",
   "name": "ir"
  },
  "language_info": {
   "codemirror_mode": "r",
   "file_extension": ".r",
   "mimetype": "text/x-r-source",
   "name": "R",
   "pygments_lexer": "r",
   "version": "3.6.1"
  }
 },
 "nbformat": 4,
 "nbformat_minor": 4
}
