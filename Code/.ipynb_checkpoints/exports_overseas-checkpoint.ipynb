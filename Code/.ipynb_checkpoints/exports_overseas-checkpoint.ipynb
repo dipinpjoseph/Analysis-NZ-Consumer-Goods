{
 "cells": [
  {
   "cell_type": "code",
   "execution_count": 7,
   "metadata": {},
   "outputs": [],
   "source": [
    "library(readxl)"
   ]
  },
  {
   "cell_type": "code",
   "execution_count": 9,
   "metadata": {},
   "outputs": [],
   "source": [
    "df_os_exp <- read_excel(\"../DataSets/overseas-merchandise-trade-january-2019.xlsx\",sheet = \"Table 15\", range = 'A36:J53', col_names = c(\"year\",\"month\",\"Milk powder, butter, cheese\",\"Meat and edible offal\",\"Logs and wood\", \"Crude oil\", \"Fruit\",\"Fish, crustace-ans, and molluscs\",\"Aluminium and aluminium articles\",\"Wine\")) "
   ]
  },
  {
   "cell_type": "code",
   "execution_count": 10,
   "metadata": {},
   "outputs": [
    {
     "data": {
      "text/html": [
       "<table>\n",
       "<caption>A tibble: 18 × 10</caption>\n",
       "<thead>\n",
       "\t<tr><th scope=col>year</th><th scope=col>month</th><th scope=col>Milk powder, butter, cheese</th><th scope=col>Meat and edible offal</th><th scope=col>Logs and wood</th><th scope=col>Crude oil</th><th scope=col>Fruit</th><th scope=col>Fish, crustace-ans, and molluscs</th><th scope=col>Aluminium and aluminium articles</th><th scope=col>Wine</th></tr>\n",
       "\t<tr><th scope=col>&lt;chr&gt;</th><th scope=col>&lt;chr&gt;</th><th scope=col>&lt;dbl&gt;</th><th scope=col>&lt;dbl&gt;</th><th scope=col>&lt;dbl&gt;</th><th scope=col>&lt;chr&gt;</th><th scope=col>&lt;dbl&gt;</th><th scope=col>&lt;dbl&gt;</th><th scope=col>&lt;dbl&gt;</th><th scope=col>&lt;dbl&gt;</th></tr>\n",
       "</thead>\n",
       "<tbody>\n",
       "\t<tr><td>2017</td><td>Jul</td><td> 0.0</td><td>-1.0</td><td>2.0</td><td>33   </td><td>-3.0</td><td> 0.9</td><td> -5.6</td><td>-0.6</td></tr>\n",
       "\t<tr><td>NA  </td><td>Aug</td><td>-1.4</td><td> 0.4</td><td>1.7</td><td>168.1</td><td>-5.3</td><td> 0.4</td><td> 10.0</td><td>-0.6</td></tr>\n",
       "\t<tr><td>NA  </td><td>Sep</td><td>-2.2</td><td> 2.0</td><td>1.3</td><td>-71.7</td><td>-5.4</td><td>-0.2</td><td> -1.8</td><td>-0.5</td></tr>\n",
       "\t<tr><td>NA  </td><td>Oct</td><td>-2.2</td><td> 2.8</td><td>0.9</td><td>57.6 </td><td>-2.5</td><td>-0.9</td><td>-10.7</td><td>-0.4</td></tr>\n",
       "\t<tr><td>NA  </td><td>Nov</td><td>-1.0</td><td> 2.7</td><td>0.6</td><td>-61.5</td><td> 2.2</td><td>-1.5</td><td>-55.3</td><td>-0.3</td></tr>\n",
       "\t<tr><td>NA  </td><td>Dec</td><td> 0.5</td><td> 1.6</td><td>0.4</td><td>152.1</td><td> 6.8</td><td>-2.0</td><td>312.5</td><td>-0.1</td></tr>\n",
       "\t<tr><td>2018</td><td>Jan</td><td> 1.6</td><td>-0.1</td><td>0.4</td><td>-100 </td><td> 8.1</td><td>-2.3</td><td>-46.7</td><td> 0.1</td></tr>\n",
       "\t<tr><td>NA  </td><td>Feb</td><td> 1.7</td><td>-1.3</td><td>0.5</td><td>---  </td><td> 6.2</td><td>-2.5</td><td> -1.5</td><td> 0.2</td></tr>\n",
       "\t<tr><td>NA  </td><td>Mar</td><td> 0.6</td><td>-1.0</td><td>0.6</td><td>-45.5</td><td> 2.3</td><td>-2.3</td><td> 13.0</td><td> 0.2</td></tr>\n",
       "\t<tr><td>NA  </td><td>Apr</td><td>-1.2</td><td> 0.6</td><td>0.7</td><td>9.5  </td><td>-0.6</td><td>-1.8</td><td> -0.6</td><td> 0.2</td></tr>\n",
       "\t<tr><td>NA  </td><td>May</td><td>-3.3</td><td> 2.1</td><td>0.9</td><td>-66.3</td><td>-0.6</td><td>-0.9</td><td>  6.1</td><td> 0.2</td></tr>\n",
       "\t<tr><td>NA  </td><td>Jun</td><td>-4.6</td><td> 3.1</td><td>0.9</td><td>-100 </td><td> 2.7</td><td> 0.0</td><td>-15.2</td><td> 0.2</td></tr>\n",
       "\t<tr><td>NA  </td><td>Jul</td><td>-4.3</td><td> 3.0</td><td>1.0</td><td>---  </td><td> 6.1</td><td> 1.0</td><td> 18.4</td><td> 0.3</td></tr>\n",
       "\t<tr><td>NA  </td><td>Aug</td><td>-1.8</td><td> 1.6</td><td>1.0</td><td>-76.1</td><td> 6.2</td><td> 1.5</td><td> -4.4</td><td> 0.3</td></tr>\n",
       "\t<tr><td>NA  </td><td>Sep</td><td> 2.1</td><td>-0.3</td><td>0.9</td><td>675  </td><td> 3.7</td><td> 1.8</td><td>  7.3</td><td> 0.5</td></tr>\n",
       "\t<tr><td>NA  </td><td>Oct</td><td> 5.1</td><td>-1.5</td><td>0.7</td><td>-24.2</td><td> 0.0</td><td> 1.7</td><td> -8.7</td><td> 0.7</td></tr>\n",
       "\t<tr><td>NA  </td><td>Nov</td><td> 6.0</td><td>-2.2</td><td>0.8</td><td>-100 </td><td>-3.5</td><td> 1.7</td><td> -3.1</td><td> 0.6</td></tr>\n",
       "\t<tr><td>NA  </td><td>Dec</td><td> 5.7</td><td>-2.5</td><td>0.7</td><td>---  </td><td>-5.8</td><td> 2.0</td><td>  8.7</td><td> 0.8</td></tr>\n",
       "</tbody>\n",
       "</table>\n"
      ],
      "text/latex": [
       "A tibble: 18 × 10\n",
       "\\begin{tabular}{r|llllllllll}\n",
       " year & month & Milk powder, butter, cheese & Meat and edible offal & Logs and wood & Crude oil & Fruit & Fish, crustace-ans, and molluscs & Aluminium and aluminium articles & Wine\\\\\n",
       " <chr> & <chr> & <dbl> & <dbl> & <dbl> & <chr> & <dbl> & <dbl> & <dbl> & <dbl>\\\\\n",
       "\\hline\n",
       "\t 2017 & Jul &  0.0 & -1.0 & 2.0 & 33    & -3.0 &  0.9 &  -5.6 & -0.6\\\\\n",
       "\t NA   & Aug & -1.4 &  0.4 & 1.7 & 168.1 & -5.3 &  0.4 &  10.0 & -0.6\\\\\n",
       "\t NA   & Sep & -2.2 &  2.0 & 1.3 & -71.7 & -5.4 & -0.2 &  -1.8 & -0.5\\\\\n",
       "\t NA   & Oct & -2.2 &  2.8 & 0.9 & 57.6  & -2.5 & -0.9 & -10.7 & -0.4\\\\\n",
       "\t NA   & Nov & -1.0 &  2.7 & 0.6 & -61.5 &  2.2 & -1.5 & -55.3 & -0.3\\\\\n",
       "\t NA   & Dec &  0.5 &  1.6 & 0.4 & 152.1 &  6.8 & -2.0 & 312.5 & -0.1\\\\\n",
       "\t 2018 & Jan &  1.6 & -0.1 & 0.4 & -100  &  8.1 & -2.3 & -46.7 &  0.1\\\\\n",
       "\t NA   & Feb &  1.7 & -1.3 & 0.5 & ---   &  6.2 & -2.5 &  -1.5 &  0.2\\\\\n",
       "\t NA   & Mar &  0.6 & -1.0 & 0.6 & -45.5 &  2.3 & -2.3 &  13.0 &  0.2\\\\\n",
       "\t NA   & Apr & -1.2 &  0.6 & 0.7 & 9.5   & -0.6 & -1.8 &  -0.6 &  0.2\\\\\n",
       "\t NA   & May & -3.3 &  2.1 & 0.9 & -66.3 & -0.6 & -0.9 &   6.1 &  0.2\\\\\n",
       "\t NA   & Jun & -4.6 &  3.1 & 0.9 & -100  &  2.7 &  0.0 & -15.2 &  0.2\\\\\n",
       "\t NA   & Jul & -4.3 &  3.0 & 1.0 & ---   &  6.1 &  1.0 &  18.4 &  0.3\\\\\n",
       "\t NA   & Aug & -1.8 &  1.6 & 1.0 & -76.1 &  6.2 &  1.5 &  -4.4 &  0.3\\\\\n",
       "\t NA   & Sep &  2.1 & -0.3 & 0.9 & 675   &  3.7 &  1.8 &   7.3 &  0.5\\\\\n",
       "\t NA   & Oct &  5.1 & -1.5 & 0.7 & -24.2 &  0.0 &  1.7 &  -8.7 &  0.7\\\\\n",
       "\t NA   & Nov &  6.0 & -2.2 & 0.8 & -100  & -3.5 &  1.7 &  -3.1 &  0.6\\\\\n",
       "\t NA   & Dec &  5.7 & -2.5 & 0.7 & ---   & -5.8 &  2.0 &   8.7 &  0.8\\\\\n",
       "\\end{tabular}\n"
      ],
      "text/markdown": [
       "\n",
       "A tibble: 18 × 10\n",
       "\n",
       "| year &lt;chr&gt; | month &lt;chr&gt; | Milk powder, butter, cheese &lt;dbl&gt; | Meat and edible offal &lt;dbl&gt; | Logs and wood &lt;dbl&gt; | Crude oil &lt;chr&gt; | Fruit &lt;dbl&gt; | Fish, crustace-ans, and molluscs &lt;dbl&gt; | Aluminium and aluminium articles &lt;dbl&gt; | Wine &lt;dbl&gt; |\n",
       "|---|---|---|---|---|---|---|---|---|---|\n",
       "| 2017 | Jul |  0.0 | -1.0 | 2.0 | 33    | -3.0 |  0.9 |  -5.6 | -0.6 |\n",
       "| NA   | Aug | -1.4 |  0.4 | 1.7 | 168.1 | -5.3 |  0.4 |  10.0 | -0.6 |\n",
       "| NA   | Sep | -2.2 |  2.0 | 1.3 | -71.7 | -5.4 | -0.2 |  -1.8 | -0.5 |\n",
       "| NA   | Oct | -2.2 |  2.8 | 0.9 | 57.6  | -2.5 | -0.9 | -10.7 | -0.4 |\n",
       "| NA   | Nov | -1.0 |  2.7 | 0.6 | -61.5 |  2.2 | -1.5 | -55.3 | -0.3 |\n",
       "| NA   | Dec |  0.5 |  1.6 | 0.4 | 152.1 |  6.8 | -2.0 | 312.5 | -0.1 |\n",
       "| 2018 | Jan |  1.6 | -0.1 | 0.4 | -100  |  8.1 | -2.3 | -46.7 |  0.1 |\n",
       "| NA   | Feb |  1.7 | -1.3 | 0.5 | ---   |  6.2 | -2.5 |  -1.5 |  0.2 |\n",
       "| NA   | Mar |  0.6 | -1.0 | 0.6 | -45.5 |  2.3 | -2.3 |  13.0 |  0.2 |\n",
       "| NA   | Apr | -1.2 |  0.6 | 0.7 | 9.5   | -0.6 | -1.8 |  -0.6 |  0.2 |\n",
       "| NA   | May | -3.3 |  2.1 | 0.9 | -66.3 | -0.6 | -0.9 |   6.1 |  0.2 |\n",
       "| NA   | Jun | -4.6 |  3.1 | 0.9 | -100  |  2.7 |  0.0 | -15.2 |  0.2 |\n",
       "| NA   | Jul | -4.3 |  3.0 | 1.0 | ---   |  6.1 |  1.0 |  18.4 |  0.3 |\n",
       "| NA   | Aug | -1.8 |  1.6 | 1.0 | -76.1 |  6.2 |  1.5 |  -4.4 |  0.3 |\n",
       "| NA   | Sep |  2.1 | -0.3 | 0.9 | 675   |  3.7 |  1.8 |   7.3 |  0.5 |\n",
       "| NA   | Oct |  5.1 | -1.5 | 0.7 | -24.2 |  0.0 |  1.7 |  -8.7 |  0.7 |\n",
       "| NA   | Nov |  6.0 | -2.2 | 0.8 | -100  | -3.5 |  1.7 |  -3.1 |  0.6 |\n",
       "| NA   | Dec |  5.7 | -2.5 | 0.7 | ---   | -5.8 |  2.0 |   8.7 |  0.8 |\n",
       "\n"
      ],
      "text/plain": [
       "   year month Milk powder, butter, cheese Meat and edible offal Logs and wood\n",
       "1  2017 Jul    0.0                        -1.0                  2.0          \n",
       "2  NA   Aug   -1.4                         0.4                  1.7          \n",
       "3  NA   Sep   -2.2                         2.0                  1.3          \n",
       "4  NA   Oct   -2.2                         2.8                  0.9          \n",
       "5  NA   Nov   -1.0                         2.7                  0.6          \n",
       "6  NA   Dec    0.5                         1.6                  0.4          \n",
       "7  2018 Jan    1.6                        -0.1                  0.4          \n",
       "8  NA   Feb    1.7                        -1.3                  0.5          \n",
       "9  NA   Mar    0.6                        -1.0                  0.6          \n",
       "10 NA   Apr   -1.2                         0.6                  0.7          \n",
       "11 NA   May   -3.3                         2.1                  0.9          \n",
       "12 NA   Jun   -4.6                         3.1                  0.9          \n",
       "13 NA   Jul   -4.3                         3.0                  1.0          \n",
       "14 NA   Aug   -1.8                         1.6                  1.0          \n",
       "15 NA   Sep    2.1                        -0.3                  0.9          \n",
       "16 NA   Oct    5.1                        -1.5                  0.7          \n",
       "17 NA   Nov    6.0                        -2.2                  0.8          \n",
       "18 NA   Dec    5.7                        -2.5                  0.7          \n",
       "   Crude oil Fruit Fish, crustace-ans, and molluscs\n",
       "1  33        -3.0   0.9                            \n",
       "2  168.1     -5.3   0.4                            \n",
       "3  -71.7     -5.4  -0.2                            \n",
       "4  57.6      -2.5  -0.9                            \n",
       "5  -61.5      2.2  -1.5                            \n",
       "6  152.1      6.8  -2.0                            \n",
       "7  -100       8.1  -2.3                            \n",
       "8  ---        6.2  -2.5                            \n",
       "9  -45.5      2.3  -2.3                            \n",
       "10 9.5       -0.6  -1.8                            \n",
       "11 -66.3     -0.6  -0.9                            \n",
       "12 -100       2.7   0.0                            \n",
       "13 ---        6.1   1.0                            \n",
       "14 -76.1      6.2   1.5                            \n",
       "15 675        3.7   1.8                            \n",
       "16 -24.2      0.0   1.7                            \n",
       "17 -100      -3.5   1.7                            \n",
       "18 ---       -5.8   2.0                            \n",
       "   Aluminium and aluminium articles Wine\n",
       "1   -5.6                            -0.6\n",
       "2   10.0                            -0.6\n",
       "3   -1.8                            -0.5\n",
       "4  -10.7                            -0.4\n",
       "5  -55.3                            -0.3\n",
       "6  312.5                            -0.1\n",
       "7  -46.7                             0.1\n",
       "8   -1.5                             0.2\n",
       "9   13.0                             0.2\n",
       "10  -0.6                             0.2\n",
       "11   6.1                             0.2\n",
       "12 -15.2                             0.2\n",
       "13  18.4                             0.3\n",
       "14  -4.4                             0.3\n",
       "15   7.3                             0.5\n",
       "16  -8.7                             0.7\n",
       "17  -3.1                             0.6\n",
       "18   8.7                             0.8"
      ]
     },
     "metadata": {},
     "output_type": "display_data"
    }
   ],
   "source": [
    "df_os_exp"
   ]
  },
  {
   "cell_type": "code",
   "execution_count": null,
   "metadata": {},
   "outputs": [],
   "source": [
    "# Dropping unnecessary column\n"
   ]
  }
 ],
 "metadata": {
  "kernelspec": {
   "display_name": "R",
   "language": "R",
   "name": "ir"
  },
  "language_info": {
   "codemirror_mode": "r",
   "file_extension": ".r",
   "mimetype": "text/x-r-source",
   "name": "R",
   "pygments_lexer": "r",
   "version": "3.6.1"
  }
 },
 "nbformat": 4,
 "nbformat_minor": 4
}
