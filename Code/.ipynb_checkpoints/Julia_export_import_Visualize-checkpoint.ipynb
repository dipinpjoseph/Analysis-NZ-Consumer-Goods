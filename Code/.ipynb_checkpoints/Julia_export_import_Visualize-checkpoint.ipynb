{
 "cells": [
  {
   "cell_type": "code",
   "execution_count": 1,
   "metadata": {},
   "outputs": [
    {
     "name": "stderr",
     "output_type": "stream",
     "text": [
      "┌ Info: Recompiling stale cache file /home/anwar/.julia/compiled/v1.1/CSV/HHBkp.ji for CSV [336ed68f-0bac-5ca0-87d4-7b16caf5d00b]\n",
      "└ @ Base loading.jl:1184\n",
      "┌ Info: Recompiling stale cache file /home/anwar/.julia/compiled/v1.1/Plotly/M5iCk.ji for Plotly [58dd65bb-95f3-509e-9936-c39a10fdeae7]\n",
      "└ @ Base loading.jl:1184\n",
      "WARNING: using HTTP.stack in module Mux conflicts with an existing identifier.\n",
      "WARNING: Method definition savehtml(IO, PlotlyBase.Plot{TT} where TT<:PlotlyBase.AbstractTrace) in module PlotlyBase at /home/anwar/.julia/packages/PlotlyBase/80KwD/src/output.jl:40 overwritten in module PlotlyJS at /home/anwar/.julia/packages/PlotlyJS/b9Efu/src/display.jl:334.\n",
      "WARNING: Method definition savehtml(PlotlyBase.Plot{TT} where TT<:PlotlyBase.AbstractTrace, AbstractString) in module PlotlyBase at /home/anwar/.julia/packages/PlotlyBase/80KwD/src/output.jl:52 overwritten in module PlotlyJS at /home/anwar/.julia/packages/PlotlyJS/b9Efu/src/display.jl:361.\n",
      "WARNING: Method definition savehtml(IO, PlotlyBase.Plot{TT} where TT<:PlotlyBase.AbstractTrace) in module PlotlyBase at /home/anwar/.julia/packages/PlotlyBase/80KwD/src/output.jl:40 overwritten in module PlotlyJS at /home/anwar/.julia/packages/PlotlyJS/b9Efu/src/display.jl:334.\n",
      "WARNING: Method definition savehtml(PlotlyBase.Plot{TT} where TT<:PlotlyBase.AbstractTrace, AbstractString) in module PlotlyBase at /home/anwar/.julia/packages/PlotlyBase/80KwD/src/output.jl:52 overwritten in module PlotlyJS at /home/anwar/.julia/packages/PlotlyJS/b9Efu/src/display.jl:361.\n"
     ]
    },
    {
     "data": {
      "text/html": [
       "<script>\n",
       "// Immediately-invoked-function-expression to avoid global variables.\n",
       "(function() {\n",
       "    var warning_div = document.getElementById(\"webio-warning-17389741754012245333\");\n",
       "    var hide = function () {\n",
       "        var script = document.getElementById(\"webio-setup-7561846794133062466\");\n",
       "        var parent = script && script.parentElement;\n",
       "        var grandparent = parent && parent.parentElement;\n",
       "        if (grandparent) {\n",
       "            grandparent.style.display = \"none\";\n",
       "        }\n",
       "        warning_div.style.display = \"none\";\n",
       "    };\n",
       "    if (typeof Jupyter !== \"undefined\") {\n",
       "        console.log(\"WebIO detected Jupyter notebook environment.\");\n",
       "        // Jupyter notebook.\n",
       "        var extensions = (\n",
       "            Jupyter\n",
       "            && Jupyter.notebook.config.data\n",
       "            && Jupyter.notebook.config.data.load_extensions\n",
       "        );\n",
       "        if (extensions && extensions[\"webio-jupyter-notebook\"]) {\n",
       "            // Extension already loaded.\n",
       "            console.log(\"Jupyter WebIO nbextension detected; not loading ad-hoc.\");\n",
       "            hide();\n",
       "            return;\n",
       "        }\n",
       "    } else if (window.location.pathname.includes(\"/lab\")) {\n",
       "        // Guessing JupyterLa\n",
       "        console.log(\"Jupyter Lab detected; make sure the @webio/jupyter-lab-provider labextension is installed.\");\n",
       "        hide();\n",
       "        return;\n",
       "    }\n",
       "})();\n",
       "\n",
       "</script>\n",
       "<p\n",
       "    id=\"webio-warning-17389741754012245333\"\n",
       "    class=\"output_text output_stderr\"\n",
       "    style=\"padding: 1em; font-weight: bold;\"\n",
       ">\n",
       "    Unable to load WebIO. Please make sure WebIO works for your Jupyter client.\n",
       "    For troubleshooting, please see <a href=\"https://juliagizmos.github.io/WebIO.jl/latest/providers/ijulia/\">\n",
       "    the WebIO/IJulia documentation</a>.\n",
       "    <!-- TODO: link to installation docs. -->\n",
       "</p>\n"
      ],
      "text/plain": [
       "HTML{String}(\"<script>\\n// Immediately-invoked-function-expression to avoid global variables.\\n(function() {\\n    var warning_div = document.getElementById(\\\"webio-warning-17389741754012245333\\\");\\n    var hide = function () {\\n        var script = document.getElementById(\\\"webio-setup-7561846794133062466\\\");\\n        var parent = script && script.parentElement;\\n        var grandparent = parent && parent.parentElement;\\n        if (grandparent) {\\n            grandparent.style.display = \\\"none\\\";\\n        }\\n        warning_div.style.display = \\\"none\\\";\\n    };\\n    if (typeof Jupyter !== \\\"undefined\\\") {\\n        console.log(\\\"WebIO detected Jupyter notebook environment.\\\");\\n        // Jupyter notebook.\\n        var extensions = (\\n            Jupyter\\n            && Jupyter.notebook.config.data\\n            && Jupyter.notebook.config.data.load_extensions\\n        );\\n        if (extensions && extensions[\\\"webio-jupyter-notebook\\\"]) {\\n            // Extension already loaded.\\n            console.log(\\\"Jupyter WebIO nbextension detected; not loading ad-hoc.\\\");\\n            hide();\\n            return;\\n        }\\n    } else if (window.location.pathname.includes(\\\"/lab\\\")) {\\n        // Guessing JupyterLa\\n        console.log(\\\"Jupyter Lab detected; make sure the @webio/jupyter-lab-provider labextension is installed.\\\");\\n        hide();\\n        return;\\n    }\\n})();\\n\\n</script>\\n<p\\n    id=\\\"webio-warning-17389741754012245333\\\"\\n    class=\\\"output_text output_stderr\\\"\\n    style=\\\"padding: 1em; font-weight: bold;\\\"\\n>\\n    Unable to load WebIO. Please make sure WebIO works for your Jupyter client.\\n    For troubleshooting, please see <a href=\\\"https://juliagizmos.github.io/WebIO.jl/latest/providers/ijulia/\\\">\\n    the WebIO/IJulia documentation</a>.\\n    <!-- TODO: link to installation docs. -->\\n</p>\\n\")"
      ]
     },
     "metadata": {},
     "output_type": "display_data"
    }
   ],
   "source": [
    "using Pkg\n",
    "#Pkg.add(\"CSV\")\n",
    "using CSV\n",
    "using Plotly\n"
   ]
  },
  {
   "cell_type": "code",
   "execution_count": 27,
   "metadata": {},
   "outputs": [
    {
     "name": "stdout",
     "output_type": "stream",
     "text": [
      "\u001b[32m\u001b[1m Resolving\u001b[22m\u001b[39m package versions...\n",
      "\u001b[32m\u001b[1m Installed\u001b[22m\u001b[39m Hiccup ──────────────── v0.2.2\n",
      "\u001b[32m\u001b[1m Installed\u001b[22m\u001b[39m Plotly ──────────────── v0.2.0\n",
      "\u001b[32m\u001b[1m Installed\u001b[22m\u001b[39m Observables ─────────── v0.2.3\n",
      "\u001b[32m\u001b[1m Installed\u001b[22m\u001b[39m BinDeps ─────────────── v0.8.10\n",
      "\u001b[32m\u001b[1m Installed\u001b[22m\u001b[39m WebSockets ──────────── v1.5.2\n",
      "\u001b[32m\u001b[1m Installed\u001b[22m\u001b[39m DocStringExtensions ─── v0.8.1\n",
      "\u001b[32m\u001b[1m Installed\u001b[22m\u001b[39m Blink ───────────────── v0.12.0\n",
      "\u001b[32m\u001b[1m Installed\u001b[22m\u001b[39m PlotlyJS ────────────── v0.13.0\n",
      "\u001b[32m\u001b[1m Installed\u001b[22m\u001b[39m LaTeXStrings ────────── v1.0.3\n",
      "\u001b[32m\u001b[1m Installed\u001b[22m\u001b[39m JSExpr ──────────────── v0.5.1\n",
      "\u001b[32m\u001b[1m Installed\u001b[22m\u001b[39m Lazy ────────────────── v0.13.2\n",
      "\u001b[32m\u001b[1m Installed\u001b[22m\u001b[39m Mustache ────────────── v0.5.13\n",
      "\u001b[32m\u001b[1m Installed\u001b[22m\u001b[39m Pidfile ─────────────── v1.1.0\n",
      "\u001b[32m\u001b[1m Installed\u001b[22m\u001b[39m PlotlyBase ──────────── v0.3.0\n",
      "\u001b[32m\u001b[1m Installed\u001b[22m\u001b[39m AssetRegistry ───────── v0.1.0\n",
      "\u001b[32m\u001b[1m Installed\u001b[22m\u001b[39m Mux ─────────────────── v0.7.0\n",
      "\u001b[32m\u001b[1m Installed\u001b[22m\u001b[39m FunctionalCollections ─ v0.5.0\n",
      "\u001b[32m\u001b[1m Installed\u001b[22m\u001b[39m WebIO ───────────────── v0.8.11\n",
      "\u001b[32m\u001b[1m Installed\u001b[22m\u001b[39m Widgets ─────────────── v0.6.2\n",
      "\u001b[32m\u001b[1m  Updating\u001b[22m\u001b[39m `~/.julia/environments/v1.1/Project.toml`\n",
      " \u001b[90m [58dd65bb]\u001b[39m\u001b[92m + Plotly v0.2.0\u001b[39m\n",
      "\u001b[32m\u001b[1m  Updating\u001b[22m\u001b[39m `~/.julia/environments/v1.1/Manifest.toml`\n",
      " \u001b[90m [bf4720bc]\u001b[39m\u001b[92m + AssetRegistry v0.1.0\u001b[39m\n",
      " \u001b[90m [9e28174c]\u001b[39m\u001b[92m + BinDeps v0.8.10\u001b[39m\n",
      " \u001b[90m [ad839575]\u001b[39m\u001b[92m + Blink v0.12.0\u001b[39m\n",
      " \u001b[90m [ffbed154]\u001b[39m\u001b[92m + DocStringExtensions v0.8.1\u001b[39m\n",
      " \u001b[90m [de31a74c]\u001b[39m\u001b[92m + FunctionalCollections v0.5.0\u001b[39m\n",
      " \u001b[90m [9fb69e20]\u001b[39m\u001b[92m + Hiccup v0.2.2\u001b[39m\n",
      " \u001b[90m [97c1335a]\u001b[39m\u001b[92m + JSExpr v0.5.1\u001b[39m\n",
      " \u001b[90m [b964fa9f]\u001b[39m\u001b[92m + LaTeXStrings v1.0.3\u001b[39m\n",
      " \u001b[90m [50d2b5c4]\u001b[39m\u001b[92m + Lazy v0.13.2\u001b[39m\n",
      " \u001b[90m [ffc61752]\u001b[39m\u001b[92m + Mustache v0.5.13\u001b[39m\n",
      " \u001b[90m [a975b10e]\u001b[39m\u001b[92m + Mux v0.7.0\u001b[39m\n",
      " \u001b[90m [510215fc]\u001b[39m\u001b[92m + Observables v0.2.3\u001b[39m\n",
      " \u001b[90m [fa939f87]\u001b[39m\u001b[92m + Pidfile v1.1.0\u001b[39m\n",
      " \u001b[90m [58dd65bb]\u001b[39m\u001b[92m + Plotly v0.2.0\u001b[39m\n",
      " \u001b[90m [a03496cd]\u001b[39m\u001b[92m + PlotlyBase v0.3.0\u001b[39m\n",
      " \u001b[90m [f0f68f2c]\u001b[39m\u001b[92m + PlotlyJS v0.13.0\u001b[39m\n",
      " \u001b[90m [0f1e0344]\u001b[39m\u001b[92m + WebIO v0.8.11\u001b[39m\n",
      " \u001b[90m [104b5d7c]\u001b[39m\u001b[92m + WebSockets v1.5.2\u001b[39m\n",
      " \u001b[90m [cc8bc4a8]\u001b[39m\u001b[92m + Widgets v0.6.2\u001b[39m\n",
      "\u001b[32m\u001b[1m  Building\u001b[22m\u001b[39m WebIO ───→ `~/.julia/packages/WebIO/2mZPb/deps/build.log`\n",
      "\u001b[32m\u001b[1m  Building\u001b[22m\u001b[39m Blink ───→ `~/.julia/packages/Blink/AO8uN/deps/build.log`\n",
      "\u001b[32m\u001b[1m  Building\u001b[22m\u001b[39m PlotlyJS → `~/.julia/packages/PlotlyJS/b9Efu/deps/build.log`\n"
     ]
    }
   ],
   "source": [
    "Pkg.add(\"Plotly\")"
   ]
  },
  {
   "cell_type": "code",
   "execution_count": 60,
   "metadata": {},
   "outputs": [
    {
     "data": {
      "text/html": [
       "<table class=\"data-frame\"><thead><tr><th></th><th>Column1</th><th>Country</th><th>Export_Rate_2018</th><th>Export_Rate_2019</th><th>change_percent</th></tr><tr><th></th><th>Int64</th><th>String</th><th>Float64</th><th>Float64</th><th>Float64</th></tr></thead><tbody><p>20 rows × 5 columns</p><tr><th>1</th><td>1</td><td>People's Republic of China</td><td>12146.0</td><td>13986.1</td><td>15.2</td></tr><tr><th>2</th><td>2</td><td>Australia</td><td>8842.85</td><td>8973.03</td><td>1.5</td></tr><tr><th>3</th><td>3</td><td>United States of America</td><td>5314.65</td><td>5517.09</td><td>3.8</td></tr><tr><th>4</th><td>4</td><td>Japan</td><td>3244.54</td><td>3487.87</td><td>7.5</td></tr><tr><th>5</th><td>5</td><td>Republic of Korea</td><td>1523.02</td><td>1746.41</td><td>14.7</td></tr><tr><th>6</th><td>6</td><td>United Kingdom</td><td>1462.81</td><td>1548.73</td><td>5.9</td></tr><tr><th>7</th><td>7</td><td>Singapore</td><td>1132.48</td><td>1273.71</td><td>12.5</td></tr><tr><th>8</th><td>8</td><td>Taiwan</td><td>1130.08</td><td>1209.4</td><td>7.0</td></tr><tr><th>9</th><td>9</td><td>Hong Kong (SAR)</td><td>1124.59</td><td>1158.29</td><td>3.0</td></tr><tr><th>10</th><td>10</td><td>Malaysia</td><td>1012.29</td><td>1019.43</td><td>0.7</td></tr><tr><th>11</th><td>11</td><td>Indonesia</td><td>979.0</td><td>976.33</td><td>-0.3</td></tr><tr><th>12</th><td>12</td><td>Thailand</td><td>865.54</td><td>947.48</td><td>9.5</td></tr><tr><th>13</th><td>13</td><td>Netherlands</td><td>883.65</td><td>847.54</td><td>-4.1</td></tr><tr><th>14</th><td>14</td><td>Germany</td><td>733.1</td><td>841.88</td><td>14.8</td></tr><tr><th>15</th><td>15</td><td>United Arab Emirates</td><td>881.69</td><td>812.09</td><td>-7.9</td></tr><tr><th>16</th><td>16</td><td>Philippines</td><td>688.89</td><td>790.45</td><td>14.7</td></tr><tr><th>17</th><td>17</td><td>Viet Nam</td><td>714.8</td><td>731.28</td><td>2.3</td></tr><tr><th>18</th><td>18</td><td>Canada</td><td>682.67</td><td>726.17</td><td>6.4</td></tr><tr><th>19</th><td>19</td><td>India</td><td>707.17</td><td>715.16</td><td>1.1</td></tr><tr><th>20</th><td>20</td><td>Saudi Arabia</td><td>574.32</td><td>606.54</td><td>5.6</td></tr></tbody></table>"
      ],
      "text/latex": [
       "\\begin{tabular}{r|ccccc}\n",
       "\t& Column1 & Country & Export\\_Rate\\_2018 & Export\\_Rate\\_2019 & change\\_percent\\\\\n",
       "\t\\hline\n",
       "\t& Int64 & String & Float64 & Float64 & Float64\\\\\n",
       "\t\\hline\n",
       "\t1 & 1 & People's Republic of China & 12146.0 & 13986.1 & 15.2 \\\\\n",
       "\t2 & 2 & Australia & 8842.85 & 8973.03 & 1.5 \\\\\n",
       "\t3 & 3 & United States of America & 5314.65 & 5517.09 & 3.8 \\\\\n",
       "\t4 & 4 & Japan & 3244.54 & 3487.87 & 7.5 \\\\\n",
       "\t5 & 5 & Republic of Korea & 1523.02 & 1746.41 & 14.7 \\\\\n",
       "\t6 & 6 & United Kingdom & 1462.81 & 1548.73 & 5.9 \\\\\n",
       "\t7 & 7 & Singapore & 1132.48 & 1273.71 & 12.5 \\\\\n",
       "\t8 & 8 & Taiwan & 1130.08 & 1209.4 & 7.0 \\\\\n",
       "\t9 & 9 & Hong Kong (SAR) & 1124.59 & 1158.29 & 3.0 \\\\\n",
       "\t10 & 10 & Malaysia & 1012.29 & 1019.43 & 0.7 \\\\\n",
       "\t11 & 11 & Indonesia & 979.0 & 976.33 & -0.3 \\\\\n",
       "\t12 & 12 & Thailand & 865.54 & 947.48 & 9.5 \\\\\n",
       "\t13 & 13 & Netherlands & 883.65 & 847.54 & -4.1 \\\\\n",
       "\t14 & 14 & Germany & 733.1 & 841.88 & 14.8 \\\\\n",
       "\t15 & 15 & United Arab Emirates & 881.69 & 812.09 & -7.9 \\\\\n",
       "\t16 & 16 & Philippines & 688.89 & 790.45 & 14.7 \\\\\n",
       "\t17 & 17 & Viet Nam & 714.8 & 731.28 & 2.3 \\\\\n",
       "\t18 & 18 & Canada & 682.67 & 726.17 & 6.4 \\\\\n",
       "\t19 & 19 & India & 707.17 & 715.16 & 1.1 \\\\\n",
       "\t20 & 20 & Saudi Arabia & 574.32 & 606.54 & 5.6 \\\\\n",
       "\\end{tabular}\n"
      ],
      "text/plain": [
       "20×5 DataFrame. Omitted printing of 2 columns\n",
       "│ Row │ Column1 │ Country                    │ Export_Rate_2018 │\n",
       "│     │ \u001b[90mInt64\u001b[39m   │ \u001b[90mString\u001b[39m                     │ \u001b[90mFloat64\u001b[39m          │\n",
       "├─────┼─────────┼────────────────────────────┼──────────────────┤\n",
       "│ 1   │ 1       │ People's Republic of China │ 12146.0          │\n",
       "│ 2   │ 2       │ Australia                  │ 8842.85          │\n",
       "│ 3   │ 3       │ United States of America   │ 5314.65          │\n",
       "│ 4   │ 4       │ Japan                      │ 3244.54          │\n",
       "│ 5   │ 5       │ Republic of Korea          │ 1523.02          │\n",
       "│ 6   │ 6       │ United Kingdom             │ 1462.81          │\n",
       "│ 7   │ 7       │ Singapore                  │ 1132.48          │\n",
       "│ 8   │ 8       │ Taiwan                     │ 1130.08          │\n",
       "│ 9   │ 9       │ Hong Kong (SAR)            │ 1124.59          │\n",
       "│ 10  │ 10      │ Malaysia                   │ 1012.29          │\n",
       "│ 11  │ 11      │ Indonesia                  │ 979.0            │\n",
       "│ 12  │ 12      │ Thailand                   │ 865.54           │\n",
       "│ 13  │ 13      │ Netherlands                │ 883.65           │\n",
       "│ 14  │ 14      │ Germany                    │ 733.1            │\n",
       "│ 15  │ 15      │ United Arab Emirates       │ 881.69           │\n",
       "│ 16  │ 16      │ Philippines                │ 688.89           │\n",
       "│ 17  │ 17      │ Viet Nam                   │ 714.8            │\n",
       "│ 18  │ 18      │ Canada                     │ 682.67           │\n",
       "│ 19  │ 19      │ India                      │ 707.17           │\n",
       "│ 20  │ 20      │ Saudi Arabia               │ 574.32           │"
      ]
     },
     "execution_count": 60,
     "metadata": {},
     "output_type": "execute_result"
    }
   ],
   "source": [
    "Import_data_2018_19_tidy = CSV.read(\"../DataSets/Import_data_2018_19_tidy2.csv\")\n",
    "Immigration_details = CSV.read(\"../DataSets/Immigration_details1.csv\")\n",
    "exports_by_dest_tidy = CSV.read(\"../DataSets/exports_by_dest_tidy2.csv\")"
   ]
  },
  {
   "cell_type": "code",
   "execution_count": 3,
   "metadata": {},
   "outputs": [],
   "source": [
    "using DataFrames"
   ]
  },
  {
   "cell_type": "code",
   "execution_count": 61,
   "metadata": {},
   "outputs": [
    {
     "name": "stderr",
     "output_type": "stream",
     "text": [
      "┌ Warning: `delete!(df::AbstractDataFrame, cols::Any)` is deprecated, use `select!(df, Not(cols))` instead.\n",
      "│   caller = top-level scope at In[61]:2\n",
      "└ @ Core In[61]:2\n"
     ]
    },
    {
     "data": {
      "text/html": [
       "<table class=\"data-frame\"><thead><tr><th></th><th>Column1</th><th>Country</th><th>Import_Rate_2018</th><th>Import_Rate_2019</th><th>change_percent</th></tr><tr><th></th><th>Int64</th><th>String</th><th>Float64</th><th>Float64</th><th>Float64</th></tr></thead><tbody><p>11 rows × 10 columns (omitted printing of 5 columns)</p><tr><th>1</th><td>2</td><td>Australia</td><td>6969.65</td><td>7269.18</td><td>4.3</td></tr><tr><th>2</th><td>4</td><td>Japan</td><td>4139.39</td><td>4454.38</td><td>7.6</td></tr><tr><th>3</th><td>5</td><td>Germany</td><td>3050.95</td><td>3206.83</td><td>5.1</td></tr><tr><th>4</th><td>6</td><td>United Arab Emirates</td><td>1882.82</td><td>2964.53</td><td>57.5</td></tr><tr><th>5</th><td>8</td><td>Thailand</td><td>2662.34</td><td>2776.91</td><td>4.3</td></tr><tr><th>6</th><td>9</td><td>Singapore</td><td>1938.15</td><td>2175.56</td><td>12.2</td></tr><tr><th>7</th><td>10</td><td>Malaysia</td><td>1896.7</td><td>2131.25</td><td>12.4</td></tr><tr><th>8</th><td>11</td><td>United Kingdom</td><td>1763.18</td><td>1800.68</td><td>2.1</td></tr><tr><th>9</th><td>13</td><td>France</td><td>1023.47</td><td>1161.09</td><td>13.4</td></tr><tr><th>10</th><td>17</td><td>India</td><td>639.6</td><td>734.34</td><td>14.8</td></tr><tr><th>11</th><td>18</td><td>Canada</td><td>663.63</td><td>729.5</td><td>9.9</td></tr></tbody></table>"
      ],
      "text/latex": [
       "\\begin{tabular}{r|cccccc}\n",
       "\t& Column1 & Country & Import\\_Rate\\_2018 & Import\\_Rate\\_2019 & change\\_percent & \\\\\n",
       "\t\\hline\n",
       "\t& Int64 & String & Float64 & Float64 & Float64 & \\\\\n",
       "\t\\hline\n",
       "\t1 & 2 & Australia & 6969.65 & 7269.18 & 4.3 & $\\dots$ \\\\\n",
       "\t2 & 4 & Japan & 4139.39 & 4454.38 & 7.6 & $\\dots$ \\\\\n",
       "\t3 & 5 & Germany & 3050.95 & 3206.83 & 5.1 & $\\dots$ \\\\\n",
       "\t4 & 6 & United Arab Emirates & 1882.82 & 2964.53 & 57.5 & $\\dots$ \\\\\n",
       "\t5 & 8 & Thailand & 2662.34 & 2776.91 & 4.3 & $\\dots$ \\\\\n",
       "\t6 & 9 & Singapore & 1938.15 & 2175.56 & 12.2 & $\\dots$ \\\\\n",
       "\t7 & 10 & Malaysia & 1896.7 & 2131.25 & 12.4 & $\\dots$ \\\\\n",
       "\t8 & 11 & United Kingdom & 1763.18 & 1800.68 & 2.1 & $\\dots$ \\\\\n",
       "\t9 & 13 & France & 1023.47 & 1161.09 & 13.4 & $\\dots$ \\\\\n",
       "\t10 & 17 & India & 639.6 & 734.34 & 14.8 & $\\dots$ \\\\\n",
       "\t11 & 18 & Canada & 663.63 & 729.5 & 9.9 & $\\dots$ \\\\\n",
       "\\end{tabular}\n"
      ],
      "text/plain": [
       "11×10 DataFrame. Omitted printing of 6 columns\n",
       "│ Row │ Column1 │ Country              │ Import_Rate_2018 │ Import_Rate_2019 │\n",
       "│     │ \u001b[90mInt64\u001b[39m   │ \u001b[90mString\u001b[39m               │ \u001b[90mFloat64\u001b[39m          │ \u001b[90mFloat64\u001b[39m          │\n",
       "├─────┼─────────┼──────────────────────┼──────────────────┼──────────────────┤\n",
       "│ 1   │ 2       │ Australia            │ 6969.65          │ 7269.18          │\n",
       "│ 2   │ 4       │ Japan                │ 4139.39          │ 4454.38          │\n",
       "│ 3   │ 5       │ Germany              │ 3050.95          │ 3206.83          │\n",
       "│ 4   │ 6       │ United Arab Emirates │ 1882.82          │ 2964.53          │\n",
       "│ 5   │ 8       │ Thailand             │ 2662.34          │ 2776.91          │\n",
       "│ 6   │ 9       │ Singapore            │ 1938.15          │ 2175.56          │\n",
       "│ 7   │ 10      │ Malaysia             │ 1896.7           │ 2131.25          │\n",
       "│ 8   │ 11      │ United Kingdom       │ 1763.18          │ 1800.68          │\n",
       "│ 9   │ 13      │ France               │ 1023.47          │ 1161.09          │\n",
       "│ 10  │ 17      │ India                │ 639.6            │ 734.34           │\n",
       "│ 11  │ 18      │ Canada               │ 663.63           │ 729.5            │"
      ]
     },
     "execution_count": 61,
     "metadata": {},
     "output_type": "execute_result"
    }
   ],
   "source": [
    "Import_final_data = join(Import_data_2018_19_tidy, Immigration_details,makeunique=true, on = :Country)\n",
    "delete!(Import_final_data, :Column1_1)"
   ]
  },
  {
   "cell_type": "code",
   "execution_count": 62,
   "metadata": {},
   "outputs": [
    {
     "name": "stderr",
     "output_type": "stream",
     "text": [
      "┌ Warning: `delete!(df::AbstractDataFrame, cols::Any)` is deprecated, use `select!(df, Not(cols))` instead.\n",
      "│   caller = top-level scope at In[62]:2\n",
      "└ @ Core In[62]:2\n"
     ]
    },
    {
     "data": {
      "text/html": [
       "<table class=\"data-frame\"><thead><tr><th></th><th>Column1</th><th>Country</th><th>Export_Rate_2018</th><th>Export_Rate_2019</th><th>change_percent</th></tr><tr><th></th><th>Int64</th><th>String</th><th>Float64</th><th>Float64</th><th>Float64</th></tr></thead><tbody><p>11 rows × 10 columns (omitted printing of 5 columns)</p><tr><th>1</th><td>2</td><td>Australia</td><td>8842.85</td><td>8973.03</td><td>1.5</td></tr><tr><th>2</th><td>4</td><td>Japan</td><td>3244.54</td><td>3487.87</td><td>7.5</td></tr><tr><th>3</th><td>6</td><td>United Kingdom</td><td>1462.81</td><td>1548.73</td><td>5.9</td></tr><tr><th>4</th><td>7</td><td>Singapore</td><td>1132.48</td><td>1273.71</td><td>12.5</td></tr><tr><th>5</th><td>10</td><td>Malaysia</td><td>1012.29</td><td>1019.43</td><td>0.7</td></tr><tr><th>6</th><td>12</td><td>Thailand</td><td>865.54</td><td>947.48</td><td>9.5</td></tr><tr><th>7</th><td>14</td><td>Germany</td><td>733.1</td><td>841.88</td><td>14.8</td></tr><tr><th>8</th><td>15</td><td>United Arab Emirates</td><td>881.69</td><td>812.09</td><td>-7.9</td></tr><tr><th>9</th><td>16</td><td>Philippines</td><td>688.89</td><td>790.45</td><td>14.7</td></tr><tr><th>10</th><td>18</td><td>Canada</td><td>682.67</td><td>726.17</td><td>6.4</td></tr><tr><th>11</th><td>19</td><td>India</td><td>707.17</td><td>715.16</td><td>1.1</td></tr></tbody></table>"
      ],
      "text/latex": [
       "\\begin{tabular}{r|cccccc}\n",
       "\t& Column1 & Country & Export\\_Rate\\_2018 & Export\\_Rate\\_2019 & change\\_percent & \\\\\n",
       "\t\\hline\n",
       "\t& Int64 & String & Float64 & Float64 & Float64 & \\\\\n",
       "\t\\hline\n",
       "\t1 & 2 & Australia & 8842.85 & 8973.03 & 1.5 & $\\dots$ \\\\\n",
       "\t2 & 4 & Japan & 3244.54 & 3487.87 & 7.5 & $\\dots$ \\\\\n",
       "\t3 & 6 & United Kingdom & 1462.81 & 1548.73 & 5.9 & $\\dots$ \\\\\n",
       "\t4 & 7 & Singapore & 1132.48 & 1273.71 & 12.5 & $\\dots$ \\\\\n",
       "\t5 & 10 & Malaysia & 1012.29 & 1019.43 & 0.7 & $\\dots$ \\\\\n",
       "\t6 & 12 & Thailand & 865.54 & 947.48 & 9.5 & $\\dots$ \\\\\n",
       "\t7 & 14 & Germany & 733.1 & 841.88 & 14.8 & $\\dots$ \\\\\n",
       "\t8 & 15 & United Arab Emirates & 881.69 & 812.09 & -7.9 & $\\dots$ \\\\\n",
       "\t9 & 16 & Philippines & 688.89 & 790.45 & 14.7 & $\\dots$ \\\\\n",
       "\t10 & 18 & Canada & 682.67 & 726.17 & 6.4 & $\\dots$ \\\\\n",
       "\t11 & 19 & India & 707.17 & 715.16 & 1.1 & $\\dots$ \\\\\n",
       "\\end{tabular}\n"
      ],
      "text/plain": [
       "11×10 DataFrame. Omitted printing of 6 columns\n",
       "│ Row │ Column1 │ Country              │ Export_Rate_2018 │ Export_Rate_2019 │\n",
       "│     │ \u001b[90mInt64\u001b[39m   │ \u001b[90mString\u001b[39m               │ \u001b[90mFloat64\u001b[39m          │ \u001b[90mFloat64\u001b[39m          │\n",
       "├─────┼─────────┼──────────────────────┼──────────────────┼──────────────────┤\n",
       "│ 1   │ 2       │ Australia            │ 8842.85          │ 8973.03          │\n",
       "│ 2   │ 4       │ Japan                │ 3244.54          │ 3487.87          │\n",
       "│ 3   │ 6       │ United Kingdom       │ 1462.81          │ 1548.73          │\n",
       "│ 4   │ 7       │ Singapore            │ 1132.48          │ 1273.71          │\n",
       "│ 5   │ 10      │ Malaysia             │ 1012.29          │ 1019.43          │\n",
       "│ 6   │ 12      │ Thailand             │ 865.54           │ 947.48           │\n",
       "│ 7   │ 14      │ Germany              │ 733.1            │ 841.88           │\n",
       "│ 8   │ 15      │ United Arab Emirates │ 881.69           │ 812.09           │\n",
       "│ 9   │ 16      │ Philippines          │ 688.89           │ 790.45           │\n",
       "│ 10  │ 18      │ Canada               │ 682.67           │ 726.17           │\n",
       "│ 11  │ 19      │ India                │ 707.17           │ 715.16           │"
      ]
     },
     "execution_count": 62,
     "metadata": {},
     "output_type": "execute_result"
    }
   ],
   "source": [
    "export_final_data = join(exports_by_dest_tidy, Immigration_details,makeunique=true, on = :Country)\n",
    "delete!(export_final_data, :Column1_1)\n"
   ]
  },
  {
   "cell_type": "code",
   "execution_count": 56,
   "metadata": {},
   "outputs": [
    {
     "name": "stdout",
     "output_type": "stream",
     "text": [
      "\u001b[32m\u001b[1m Resolving\u001b[22m\u001b[39m package versions...\n",
      "\u001b[32m\u001b[1m  Updating\u001b[22m\u001b[39m `~/.julia/environments/v1.1/Project.toml`\n",
      "\u001b[90m [no changes]\u001b[39m\n",
      "\u001b[32m\u001b[1m  Updating\u001b[22m\u001b[39m `~/.julia/environments/v1.1/Manifest.toml`\n",
      "\u001b[90m [no changes]\u001b[39m\n",
      "\u001b[32m\u001b[1m Resolving\u001b[22m\u001b[39m package versions...\n",
      "\u001b[32m\u001b[1m  Updating\u001b[22m\u001b[39m `~/.julia/environments/v1.1/Project.toml`\n",
      "\u001b[90m [no changes]\u001b[39m\n",
      "\u001b[32m\u001b[1m  Updating\u001b[22m\u001b[39m `~/.julia/environments/v1.1/Manifest.toml`\n",
      "\u001b[90m [no changes]\u001b[39m\n"
     ]
    }
   ],
   "source": [
    "Pkg.add(\"VegaLite\")\n",
    "Pkg.add(\"VegaDatasets\")"
   ]
  },
  {
   "cell_type": "code",
   "execution_count": 10,
   "metadata": {},
   "outputs": [],
   "source": [
    "using VegaDatasets,VegaLite\n",
    "using Plots"
   ]
  },
  {
   "cell_type": "code",
   "execution_count": null,
   "metadata": {},
   "outputs": [],
   "source": []
  },
  {
   "cell_type": "code",
   "execution_count": 68,
   "metadata": {},
   "outputs": [
    {
     "data": {
      "application/vnd.vegalite.v3+json": {
       "layer": [
        {
         "data": {
          "values": [
           {
            "Column1": 2,
            "Country": "Australia",
            "Export_Rate_2018": 8842.85,
            "Export_Rate_2019": 8973.03,
            "Gross_arrivals_2014": "19,549",
            "Gross_arrivals_2015": "23,275",
            "Gross_arrivals_2016": "25,273",
            "Gross_arrivals_2017": "25,783",
            "Gross_arrivals_2018": "24,950",
            "change_percent": 1.5
           },
           {
            "Column1": 4,
            "Country": "Japan",
            "Export_Rate_2018": 3244.54,
            "Export_Rate_2019": 3487.87,
            "Gross_arrivals_2014": "1,947",
            "Gross_arrivals_2015": "2,126",
            "Gross_arrivals_2016": "2,273",
            "Gross_arrivals_2017": "2,456",
            "Gross_arrivals_2018": "2,415",
            "change_percent": 7.5
           },
           {
            "Column1": 6,
            "Country": "United Kingdom",
            "Export_Rate_2018": 1462.81,
            "Export_Rate_2019": 1548.73,
            "Gross_arrivals_2014": "13,938",
            "Gross_arrivals_2015": "13,680",
            "Gross_arrivals_2016": "13,379",
            "Gross_arrivals_2017": "14,373",
            "Gross_arrivals_2018": "15,017",
            "change_percent": 5.9
           },
           {
            "Column1": 7,
            "Country": "Singapore",
            "Export_Rate_2018": 1132.48,
            "Export_Rate_2019": 1273.71,
            "Gross_arrivals_2014": "934",
            "Gross_arrivals_2015": "1,021",
            "Gross_arrivals_2016": "1,367",
            "Gross_arrivals_2017": "1,429",
            "Gross_arrivals_2018": "1,461",
            "change_percent": 12.5
           },
           {
            "Column1": 10,
            "Country": "Malaysia",
            "Export_Rate_2018": 1012.29,
            "Export_Rate_2019": 1019.43,
            "Gross_arrivals_2014": "1,083",
            "Gross_arrivals_2015": "1,177",
            "Gross_arrivals_2016": "1,287",
            "Gross_arrivals_2017": "1,535",
            "Gross_arrivals_2018": "1,562",
            "change_percent": 0.7
           },
           {
            "Column1": 12,
            "Country": "Thailand",
            "Export_Rate_2018": 865.54,
            "Export_Rate_2019": 947.48,
            "Gross_arrivals_2014": "817",
            "Gross_arrivals_2015": "825",
            "Gross_arrivals_2016": "1,089",
            "Gross_arrivals_2017": "1,236",
            "Gross_arrivals_2018": "1,094",
            "change_percent": 9.5
           },
           {
            "Column1": 14,
            "Country": "Germany",
            "Export_Rate_2018": 733.1,
            "Export_Rate_2019": 841.88,
            "Gross_arrivals_2014": "3,295",
            "Gross_arrivals_2015": "3,564",
            "Gross_arrivals_2016": "3,906",
            "Gross_arrivals_2017": "4,459",
            "Gross_arrivals_2018": "4,309",
            "change_percent": 14.8
           },
           {
            "Column1": 15,
            "Country": "United Arab Emirates",
            "Export_Rate_2018": 881.69,
            "Export_Rate_2019": 812.09,
            "Gross_arrivals_2014": "523",
            "Gross_arrivals_2015": "665",
            "Gross_arrivals_2016": "752",
            "Gross_arrivals_2017": "989",
            "Gross_arrivals_2018": "1,146",
            "change_percent": -7.9
           },
           {
            "Column1": 16,
            "Country": "Philippines",
            "Export_Rate_2018": 688.89,
            "Export_Rate_2019": 790.45,
            "Gross_arrivals_2014": "2,660",
            "Gross_arrivals_2015": "3,890",
            "Gross_arrivals_2016": "5,393",
            "Gross_arrivals_2017": "4,918",
            "Gross_arrivals_2018": "5,223",
            "change_percent": 14.7
           },
           {
            "Column1": 18,
            "Country": "Canada",
            "Export_Rate_2018": 682.67,
            "Export_Rate_2019": 726.17,
            "Gross_arrivals_2014": "1,870",
            "Gross_arrivals_2015": "2,166",
            "Gross_arrivals_2016": "2,463",
            "Gross_arrivals_2017": "2,508",
            "Gross_arrivals_2018": "2,671",
            "change_percent": 6.4
           },
           {
            "Column1": 19,
            "Country": "India",
            "Export_Rate_2018": 707.17,
            "Export_Rate_2019": 715.16,
            "Gross_arrivals_2014": "6,704",
            "Gross_arrivals_2015": "11,303",
            "Gross_arrivals_2016": "14,490",
            "Gross_arrivals_2017": "10,255",
            "Gross_arrivals_2018": "9,030",
            "change_percent": 1.1
           }
          ]
         },
         "encoding": {
          "x": {
           "field": "Country",
           "type": "nominal"
          },
          "y": {
           "field": "Export_Rate_2018",
           "type": "quantitative"
          }
         },
         "mark": {
          "color": "red",
          "type": "bar"
         }
        },
        {
         "data": {
          "values": [
           {
            "Column1": 2,
            "Country": "Australia",
            "Gross_arrivals_2014": "19,549",
            "Gross_arrivals_2015": "23,275",
            "Gross_arrivals_2016": "25,273",
            "Gross_arrivals_2017": "25,783",
            "Gross_arrivals_2018": "24,950",
            "Import_Rate_2018": 6969.65,
            "Import_Rate_2019": 7269.18,
            "change_percent": 4.3
           },
           {
            "Column1": 4,
            "Country": "Japan",
            "Gross_arrivals_2014": "1,947",
            "Gross_arrivals_2015": "2,126",
            "Gross_arrivals_2016": "2,273",
            "Gross_arrivals_2017": "2,456",
            "Gross_arrivals_2018": "2,415",
            "Import_Rate_2018": 4139.39,
            "Import_Rate_2019": 4454.38,
            "change_percent": 7.6
           },
           {
            "Column1": 5,
            "Country": "Germany",
            "Gross_arrivals_2014": "3,295",
            "Gross_arrivals_2015": "3,564",
            "Gross_arrivals_2016": "3,906",
            "Gross_arrivals_2017": "4,459",
            "Gross_arrivals_2018": "4,309",
            "Import_Rate_2018": 3050.95,
            "Import_Rate_2019": 3206.83,
            "change_percent": 5.1
           },
           {
            "Column1": 6,
            "Country": "United Arab Emirates",
            "Gross_arrivals_2014": "523",
            "Gross_arrivals_2015": "665",
            "Gross_arrivals_2016": "752",
            "Gross_arrivals_2017": "989",
            "Gross_arrivals_2018": "1,146",
            "Import_Rate_2018": 1882.82,
            "Import_Rate_2019": 2964.53,
            "change_percent": 57.5
           },
           {
            "Column1": 8,
            "Country": "Thailand",
            "Gross_arrivals_2014": "817",
            "Gross_arrivals_2015": "825",
            "Gross_arrivals_2016": "1,089",
            "Gross_arrivals_2017": "1,236",
            "Gross_arrivals_2018": "1,094",
            "Import_Rate_2018": 2662.34,
            "Import_Rate_2019": 2776.91,
            "change_percent": 4.3
           },
           {
            "Column1": 9,
            "Country": "Singapore",
            "Gross_arrivals_2014": "934",
            "Gross_arrivals_2015": "1,021",
            "Gross_arrivals_2016": "1,367",
            "Gross_arrivals_2017": "1,429",
            "Gross_arrivals_2018": "1,461",
            "Import_Rate_2018": 1938.15,
            "Import_Rate_2019": 2175.56,
            "change_percent": 12.2
           },
           {
            "Column1": 10,
            "Country": "Malaysia",
            "Gross_arrivals_2014": "1,083",
            "Gross_arrivals_2015": "1,177",
            "Gross_arrivals_2016": "1,287",
            "Gross_arrivals_2017": "1,535",
            "Gross_arrivals_2018": "1,562",
            "Import_Rate_2018": 1896.7,
            "Import_Rate_2019": 2131.25,
            "change_percent": 12.4
           },
           {
            "Column1": 11,
            "Country": "United Kingdom",
            "Gross_arrivals_2014": "13,938",
            "Gross_arrivals_2015": "13,680",
            "Gross_arrivals_2016": "13,379",
            "Gross_arrivals_2017": "14,373",
            "Gross_arrivals_2018": "15,017",
            "Import_Rate_2018": 1763.18,
            "Import_Rate_2019": 1800.68,
            "change_percent": 2.1
           },
           {
            "Column1": 13,
            "Country": "France",
            "Gross_arrivals_2014": "2,374",
            "Gross_arrivals_2015": "3,334",
            "Gross_arrivals_2016": "3,767",
            "Gross_arrivals_2017": "4,227",
            "Gross_arrivals_2018": "4,392",
            "Import_Rate_2018": 1023.47,
            "Import_Rate_2019": 1161.09,
            "change_percent": 13.4
           },
           {
            "Column1": 17,
            "Country": "India",
            "Gross_arrivals_2014": "6,704",
            "Gross_arrivals_2015": "11,303",
            "Gross_arrivals_2016": "14,490",
            "Gross_arrivals_2017": "10,255",
            "Gross_arrivals_2018": "9,030",
            "Import_Rate_2018": 639.6,
            "Import_Rate_2019": 734.34,
            "change_percent": 14.8
           },
           {
            "Column1": 18,
            "Country": "Canada",
            "Gross_arrivals_2014": "1,870",
            "Gross_arrivals_2015": "2,166",
            "Gross_arrivals_2016": "2,463",
            "Gross_arrivals_2017": "2,508",
            "Gross_arrivals_2018": "2,671",
            "Import_Rate_2018": 663.63,
            "Import_Rate_2019": 729.5,
            "change_percent": 9.9
           }
          ]
         },
         "encoding": {
          "x": {
           "field": "Country",
           "type": "nominal"
          },
          "y": {
           "field": "Gross_arrivals_2018",
           "type": "nominal"
          }
         },
         "mark": {
          "color": "green",
          "type": "line"
         }
        }
       ]
      },
      "image/png": "[encoded data removed]",
      "image/svg+xml": [
       "<svg class=\"marks\" width=\"354\" height=\"231\" viewBox=\"0 0 354 231\" version=\"1.1\" xmlns=\"http://www.w3.org/2000/svg\" xmlns:xlink=\"http://www.w3.org/1999/xlink\"><g transform=\"translate(54,6)\"><g class=\"mark-group role-frame root\"><g transform=\"translate(0,0)\"><path class=\"background\" d=\"M0.5,0.5h240v0h-240Z\" style=\"fill: none; stroke: #ddd;\"></path><g><g class=\"mark-rect role-mark layer_0_marks\"><path d=\"M1,3.4922222222222103h18v196.5077777777778h-18Z\" style=\"fill: red;\"></path><path d=\"M101,127.89911111111111h18v72.10088888888889h-18Z\" style=\"fill: red;\"></path><path d=\"M221,167.49311111111112h18v32.50688888888888h-18Z\" style=\"fill: red;\"></path><path d=\"M161,174.83377777777778h18v25.166222222222217h-18Z\" style=\"fill: red;\"></path><path d=\"M121,177.50466666666665h18v22.49533333333335h-18Z\" style=\"fill: red;\"></path><path d=\"M181,180.76577777777777h18v19.23422222222223h-18Z\" style=\"fill: red;\"></path><path d=\"M61,183.70888888888888h18v16.29111111111112h-18Z\" style=\"fill: red;\"></path><path d=\"M201,180.4068888888889h18v19.593111111111114h-18Z\" style=\"fill: red;\"></path><path d=\"M141,184.69133333333332h18v15.308666666666682h-18Z\" style=\"fill: red;\"></path><path d=\"M21,184.82955555555554h18v15.170444444444456h-18Z\" style=\"fill: red;\"></path><path d=\"M81,184.28511111111112h18v15.71488888888888h-18Z\" style=\"fill: red;\"></path></g><g class=\"mark-line role-mark layer_1_marks\"><path d=\"M230,90L210,30L190,10L170,50L130,70L110,110L90,210L70,170L50,190L30,130L10,150\" style=\"fill: none; stroke: green; stroke-width: 2;\"></path></g><g class=\"mark-group role-axis\"><g transform=\"translate(0.5,0.5)\"><path class=\"background\" d=\"M0,0h0v0h0Z\" style=\"pointer-events: none; fill: none;\"></path><g><g class=\"mark-rule role-axis-tick\" style=\"pointer-events: none;\"><line transform=\"translate(9,0)\" x2=\"0\" y2=\"5\" style=\"fill: none; stroke: #888; stroke-width: 1; opacity: 1;\"></line><line transform=\"translate(29,0)\" x2=\"0\" y2=\"5\" style=\"fill: none; stroke: #888; stroke-width: 1; opacity: 1;\"></line><line transform=\"translate(49,0)\" x2=\"0\" y2=\"5\" style=\"fill: none; stroke: #888; stroke-width: 1; opacity: 1;\"></line><line transform=\"translate(69,0)\" x2=\"0\" y2=\"5\" style=\"fill: none; stroke: #888; stroke-width: 1; opacity: 1;\"></line><line transform=\"translate(89,0)\" x2=\"0\" y2=\"5\" style=\"fill: none; stroke: #888; stroke-width: 1; opacity: 1;\"></line><line transform=\"translate(109,0)\" x2=\"0\" y2=\"5\" style=\"fill: none; stroke: #888; stroke-width: 1; opacity: 1;\"></line><line transform=\"translate(129,0)\" x2=\"0\" y2=\"5\" style=\"fill: none; stroke: #888; stroke-width: 1; opacity: 1;\"></line><line transform=\"translate(149,0)\" x2=\"0\" y2=\"5\" style=\"fill: none; stroke: #888; stroke-width: 1; opacity: 1;\"></line><line transform=\"translate(169,0)\" x2=\"0\" y2=\"5\" style=\"fill: none; stroke: #888; stroke-width: 1; opacity: 1;\"></line><line transform=\"translate(189,0)\" x2=\"0\" y2=\"5\" style=\"fill: none; stroke: #888; stroke-width: 1; opacity: 1;\"></line><line transform=\"translate(209,0)\" x2=\"0\" y2=\"5\" style=\"fill: none; stroke: #888; stroke-width: 1; opacity: 1;\"></line><line transform=\"translate(229,0)\" x2=\"0\" y2=\"5\" style=\"fill: none; stroke: #888; stroke-width: 1; opacity: 1;\"></line></g><g class=\"mark-text role-axis-label\" style=\"pointer-events: none;\"><text text-anchor=\"end\" transform=\"translate(9,7) rotate(270) translate(0,3)\" style=\"font-family: sans-serif; font-size: 10px; fill: #000; opacity: 1;\">Australia</text><text text-anchor=\"end\" transform=\"translate(29,7) rotate(270) translate(0,3)\" style=\"font-family: sans-serif; font-size: 10px; fill: #000; opacity: 1;\">Canada</text><text text-anchor=\"end\" transform=\"translate(49,7) rotate(270) translate(0,3)\" style=\"font-family: sans-serif; font-size: 10px; fill: #000; opacity: 1;\">France</text><text text-anchor=\"end\" transform=\"translate(69,7) rotate(270) translate(0,3)\" style=\"font-family: sans-serif; font-size: 10px; fill: #000; opacity: 1;\">Germany</text><text text-anchor=\"end\" transform=\"translate(89,7) rotate(270) translate(0,3)\" style=\"font-family: sans-serif; font-size: 10px; fill: #000; opacity: 1;\">India</text><text text-anchor=\"end\" transform=\"translate(109,7) rotate(270) translate(0,3)\" style=\"font-family: sans-serif; font-size: 10px; fill: #000; opacity: 1;\">Japan</text><text text-anchor=\"end\" transform=\"translate(129,7) rotate(270) translate(0,3)\" style=\"font-family: sans-serif; font-size: 10px; fill: #000; opacity: 1;\">Malaysia</text><text text-anchor=\"end\" transform=\"translate(149,7) rotate(270) translate(0,3)\" style=\"font-family: sans-serif; font-size: 10px; fill: #000; opacity: 1;\">Philippines</text><text text-anchor=\"end\" transform=\"translate(169,7) rotate(270) translate(0,3)\" style=\"font-family: sans-serif; font-size: 10px; fill: #000; opacity: 1;\">Singapore</text><text text-anchor=\"end\" transform=\"translate(189,7) rotate(270) translate(0,3)\" style=\"font-family: sans-serif; font-size: 10px; fill: #000; opacity: 1;\">Thailand</text><text text-anchor=\"end\" transform=\"translate(209,7) rotate(270) translate(0,3)\" style=\"font-family: sans-serif; font-size: 10px; fill: #000; opacity: 1;\">United Arab Emirates</text><text text-anchor=\"end\" transform=\"translate(229,7) rotate(270) translate(0,3)\" style=\"font-family: sans-serif; font-size: 10px; fill: #000; opacity: 1;\">United Kingdom</text></g><g class=\"mark-rule role-axis-domain\" style=\"pointer-events: none;\"><line transform=\"translate(0,0)\" x2=\"240\" y2=\"0\" style=\"fill: none; stroke: #888; stroke-width: 1; opacity: 1;\"></line></g><g class=\"mark-text role-axis-title\" style=\"pointer-events: none;\"><text text-anchor=\"middle\" transform=\"translate(120,125)\" style=\"font-family: sans-serif; font-size: 11px; font-weight: bold; fill: #000; opacity: 1;\">Country</text></g></g></g></g><g class=\"mark-group role-axis\"><g transform=\"translate(0.5,0.5)\"><path class=\"background\" d=\"M0,0h0v0h0Z\" style=\"pointer-events: none; fill: none;\"></path><g><g class=\"mark-rule role-axis-tick\" style=\"pointer-events: none;\"><line transform=\"translate(0,200)\" x2=\"-5\" y2=\"0\" style=\"fill: none; stroke: #888; stroke-width: 1; opacity: 1;\"></line><line transform=\"translate(0,156)\" x2=\"-5\" y2=\"0\" style=\"fill: none; stroke: #888; stroke-width: 1; opacity: 1;\"></line><line transform=\"translate(0,111)\" x2=\"-5\" y2=\"0\" style=\"fill: none; stroke: #888; stroke-width: 1; opacity: 1;\"></line><line transform=\"translate(0,67)\" x2=\"-5\" y2=\"0\" style=\"fill: none; stroke: #888; stroke-width: 1; opacity: 1;\"></line><line transform=\"translate(0,22)\" x2=\"-5\" y2=\"0\" style=\"fill: none; stroke: #888; stroke-width: 1; opacity: 1;\"></line></g><g class=\"mark-text role-axis-label\" style=\"pointer-events: none;\"><text text-anchor=\"end\" transform=\"translate(-7,203)\" style=\"font-family: sans-serif; font-size: 10px; fill: #000; opacity: 1;\">0</text><text text-anchor=\"end\" transform=\"translate(-7,158.55555555555554)\" style=\"font-family: sans-serif; font-size: 10px; fill: #000; opacity: 1;\">2,000</text><text text-anchor=\"end\" transform=\"translate(-7,114.11111111111111)\" style=\"font-family: sans-serif; font-size: 10px; fill: #000; opacity: 1;\">4,000</text><text text-anchor=\"end\" transform=\"translate(-7,69.66666666666669)\" style=\"font-family: sans-serif; font-size: 10px; fill: #000; opacity: 1;\">6,000</text><text text-anchor=\"end\" transform=\"translate(-7,25.22222222222223)\" style=\"font-family: sans-serif; font-size: 10px; fill: #000; opacity: 1;\">8,000</text></g><g class=\"mark-rule role-axis-domain\" style=\"pointer-events: none;\"><line transform=\"translate(0,200)\" x2=\"0\" y2=\"-200\" style=\"fill: none; stroke: #888; stroke-width: 1; opacity: 1;\"></line></g><g class=\"mark-text role-axis-title\" style=\"pointer-events: none;\"><text text-anchor=\"middle\" transform=\"translate(-38,100) rotate(-90) translate(0,-2)\" style=\"font-family: sans-serif; font-size: 11px; font-weight: bold; fill: #000; opacity: 1;\">Export_Rate_2018</text></g></g></g></g><g class=\"mark-group role-axis\"><g transform=\"translate(240.5,0.5)\"><path class=\"background\" d=\"M0,0h0v0h0Z\" style=\"pointer-events: none; fill: none;\"></path><g><g class=\"mark-rule role-axis-tick\" style=\"pointer-events: none;\"><line transform=\"translate(0,10)\" x2=\"5\" y2=\"0\" style=\"fill: none; stroke: #888; stroke-width: 1; opacity: 1;\"></line><line transform=\"translate(0,30)\" x2=\"5\" y2=\"0\" style=\"fill: none; stroke: #888; stroke-width: 1; opacity: 1;\"></line><line transform=\"translate(0,50)\" x2=\"5\" y2=\"0\" style=\"fill: none; stroke: #888; stroke-width: 1; opacity: 1;\"></line><line transform=\"translate(0,70)\" x2=\"5\" y2=\"0\" style=\"fill: none; stroke: #888; stroke-width: 1; opacity: 1;\"></line><line transform=\"translate(0,90)\" x2=\"5\" y2=\"0\" style=\"fill: none; stroke: #888; stroke-width: 1; opacity: 1;\"></line><line transform=\"translate(0,110)\" x2=\"5\" y2=\"0\" style=\"fill: none; stroke: #888; stroke-width: 1; opacity: 1;\"></line><line transform=\"translate(0,130)\" x2=\"5\" y2=\"0\" style=\"fill: none; stroke: #888; stroke-width: 1; opacity: 1;\"></line><line transform=\"translate(0,150)\" x2=\"5\" y2=\"0\" style=\"fill: none; stroke: #888; stroke-width: 1; opacity: 1;\"></line><line transform=\"translate(0,170)\" x2=\"5\" y2=\"0\" style=\"fill: none; stroke: #888; stroke-width: 1; opacity: 1;\"></line><line transform=\"translate(0,190)\" x2=\"5\" y2=\"0\" style=\"fill: none; stroke: #888; stroke-width: 1; opacity: 1;\"></line><line transform=\"translate(0,210)\" x2=\"5\" y2=\"0\" style=\"fill: none; stroke: #888; stroke-width: 1; opacity: 1;\"></line></g><g class=\"mark-text role-axis-label\" style=\"pointer-events: none;\"><text text-anchor=\"start\" transform=\"translate(7,13)\" style=\"font-family: sans-serif; font-size: 10px; fill: #000; opacity: 1;\">1,094</text><text text-anchor=\"start\" transform=\"translate(7,33)\" style=\"font-family: sans-serif; font-size: 10px; fill: #000; opacity: 1;\">1,146</text><text text-anchor=\"start\" transform=\"translate(7,53)\" style=\"font-family: sans-serif; font-size: 10px; fill: #000; opacity: 1;\">1,461</text><text text-anchor=\"start\" transform=\"translate(7,73)\" style=\"font-family: sans-serif; font-size: 10px; fill: #000; opacity: 1;\">1,562</text><text text-anchor=\"start\" transform=\"translate(7,93)\" style=\"font-family: sans-serif; font-size: 10px; fill: #000; opacity: 1;\">15,017</text><text text-anchor=\"start\" transform=\"translate(7,113)\" style=\"font-family: sans-serif; font-size: 10px; fill: #000; opacity: 1;\">2,415</text><text text-anchor=\"start\" transform=\"translate(7,133)\" style=\"font-family: sans-serif; font-size: 10px; fill: #000; opacity: 1;\">2,671</text><text text-anchor=\"start\" transform=\"translate(7,153)\" style=\"font-family: sans-serif; font-size: 10px; fill: #000; opacity: 1;\">24,950</text><text text-anchor=\"start\" transform=\"translate(7,173)\" style=\"font-family: sans-serif; font-size: 10px; fill: #000; opacity: 1;\">4,309</text><text text-anchor=\"start\" transform=\"translate(7,193)\" style=\"font-family: sans-serif; font-size: 10px; fill: #000; opacity: 1;\">4,392</text><text text-anchor=\"start\" transform=\"translate(7,213)\" style=\"font-family: sans-serif; font-size: 10px; fill: #000; opacity: 1;\">9,030</text></g><g class=\"mark-rule role-axis-domain\" style=\"pointer-events: none;\"><line transform=\"translate(0,0)\" x2=\"0\" y2=\"220\" style=\"fill: none; stroke: #888; stroke-width: 1; opacity: 1;\"></line></g><g class=\"mark-text role-axis-title\" style=\"pointer-events: none;\"><text text-anchor=\"middle\" transform=\"translate(44,110) rotate(90) translate(0,-2)\" style=\"font-family: sans-serif; font-size: 11px; font-weight: bold; fill: #000; opacity: 1;\">Gross_arrivals_2018</text></g></g></g></g></g></g></g></g></svg>"
      ],
      "text/plain": [
       "VegaLite.VLSpec{:plot}"
      ]
     },
     "execution_count": 68,
     "metadata": {},
     "output_type": "execute_result"
    }
   ],
   "source": [
    "@vlplot() + @vlplot(mark={:bar, color=:red}, data=export_final_data, x=:Country, y=:Export_Rate_2018) +\n",
    "@vlplot(mark={:line, color=:green}, data=Import_final_data, x=:Country, y=:Gross_arrivals_2018)"
   ]
  },
  {
   "cell_type": "code",
   "execution_count": 70,
   "metadata": {},
   "outputs": [
    {
     "data": {
      "application/vnd.vegalite.v3+json": {
       "layer": [
        {
         "data": {
          "values": [
           {
            "Column1": 2,
            "Country": "Australia",
            "Gross_arrivals_2014": "19,549",
            "Gross_arrivals_2015": "23,275",
            "Gross_arrivals_2016": "25,273",
            "Gross_arrivals_2017": "25,783",
            "Gross_arrivals_2018": "24,950",
            "Import_Rate_2018": 6969.65,
            "Import_Rate_2019": 7269.18,
            "change_percent": 4.3
           },
           {
            "Column1": 4,
            "Country": "Japan",
            "Gross_arrivals_2014": "1,947",
            "Gross_arrivals_2015": "2,126",
            "Gross_arrivals_2016": "2,273",
            "Gross_arrivals_2017": "2,456",
            "Gross_arrivals_2018": "2,415",
            "Import_Rate_2018": 4139.39,
            "Import_Rate_2019": 4454.38,
            "change_percent": 7.6
           },
           {
            "Column1": 5,
            "Country": "Germany",
            "Gross_arrivals_2014": "3,295",
            "Gross_arrivals_2015": "3,564",
            "Gross_arrivals_2016": "3,906",
            "Gross_arrivals_2017": "4,459",
            "Gross_arrivals_2018": "4,309",
            "Import_Rate_2018": 3050.95,
            "Import_Rate_2019": 3206.83,
            "change_percent": 5.1
           },
           {
            "Column1": 6,
            "Country": "United Arab Emirates",
            "Gross_arrivals_2014": "523",
            "Gross_arrivals_2015": "665",
            "Gross_arrivals_2016": "752",
            "Gross_arrivals_2017": "989",
            "Gross_arrivals_2018": "1,146",
            "Import_Rate_2018": 1882.82,
            "Import_Rate_2019": 2964.53,
            "change_percent": 57.5
           },
           {
            "Column1": 8,
            "Country": "Thailand",
            "Gross_arrivals_2014": "817",
            "Gross_arrivals_2015": "825",
            "Gross_arrivals_2016": "1,089",
            "Gross_arrivals_2017": "1,236",
            "Gross_arrivals_2018": "1,094",
            "Import_Rate_2018": 2662.34,
            "Import_Rate_2019": 2776.91,
            "change_percent": 4.3
           },
           {
            "Column1": 9,
            "Country": "Singapore",
            "Gross_arrivals_2014": "934",
            "Gross_arrivals_2015": "1,021",
            "Gross_arrivals_2016": "1,367",
            "Gross_arrivals_2017": "1,429",
            "Gross_arrivals_2018": "1,461",
            "Import_Rate_2018": 1938.15,
            "Import_Rate_2019": 2175.56,
            "change_percent": 12.2
           },
           {
            "Column1": 10,
            "Country": "Malaysia",
            "Gross_arrivals_2014": "1,083",
            "Gross_arrivals_2015": "1,177",
            "Gross_arrivals_2016": "1,287",
            "Gross_arrivals_2017": "1,535",
            "Gross_arrivals_2018": "1,562",
            "Import_Rate_2018": 1896.7,
            "Import_Rate_2019": 2131.25,
            "change_percent": 12.4
           },
           {
            "Column1": 11,
            "Country": "United Kingdom",
            "Gross_arrivals_2014": "13,938",
            "Gross_arrivals_2015": "13,680",
            "Gross_arrivals_2016": "13,379",
            "Gross_arrivals_2017": "14,373",
            "Gross_arrivals_2018": "15,017",
            "Import_Rate_2018": 1763.18,
            "Import_Rate_2019": 1800.68,
            "change_percent": 2.1
           },
           {
            "Column1": 13,
            "Country": "France",
            "Gross_arrivals_2014": "2,374",
            "Gross_arrivals_2015": "3,334",
            "Gross_arrivals_2016": "3,767",
            "Gross_arrivals_2017": "4,227",
            "Gross_arrivals_2018": "4,392",
            "Import_Rate_2018": 1023.47,
            "Import_Rate_2019": 1161.09,
            "change_percent": 13.4
           },
           {
            "Column1": 17,
            "Country": "India",
            "Gross_arrivals_2014": "6,704",
            "Gross_arrivals_2015": "11,303",
            "Gross_arrivals_2016": "14,490",
            "Gross_arrivals_2017": "10,255",
            "Gross_arrivals_2018": "9,030",
            "Import_Rate_2018": 639.6,
            "Import_Rate_2019": 734.34,
            "change_percent": 14.8
           },
           {
            "Column1": 18,
            "Country": "Canada",
            "Gross_arrivals_2014": "1,870",
            "Gross_arrivals_2015": "2,166",
            "Gross_arrivals_2016": "2,463",
            "Gross_arrivals_2017": "2,508",
            "Gross_arrivals_2018": "2,671",
            "Import_Rate_2018": 663.63,
            "Import_Rate_2019": 729.5,
            "change_percent": 9.9
           }
          ]
         },
         "encoding": {
          "x": {
           "field": "Country",
           "type": "nominal"
          },
          "y": {
           "field": "Import_Rate_2018",
           "type": "quantitative"
          }
         },
         "mark": {
          "color": "red",
          "type": "bar"
         }
        },
        {
         "data": {
          "values": [
           {
            "Column1": 2,
            "Country": "Australia",
            "Gross_arrivals_2014": "19,549",
            "Gross_arrivals_2015": "23,275",
            "Gross_arrivals_2016": "25,273",
            "Gross_arrivals_2017": "25,783",
            "Gross_arrivals_2018": "24,950",
            "Import_Rate_2018": 6969.65,
            "Import_Rate_2019": 7269.18,
            "change_percent": 4.3
           },
           {
            "Column1": 4,
            "Country": "Japan",
            "Gross_arrivals_2014": "1,947",
            "Gross_arrivals_2015": "2,126",
            "Gross_arrivals_2016": "2,273",
            "Gross_arrivals_2017": "2,456",
            "Gross_arrivals_2018": "2,415",
            "Import_Rate_2018": 4139.39,
            "Import_Rate_2019": 4454.38,
            "change_percent": 7.6
           },
           {
            "Column1": 5,
            "Country": "Germany",
            "Gross_arrivals_2014": "3,295",
            "Gross_arrivals_2015": "3,564",
            "Gross_arrivals_2016": "3,906",
            "Gross_arrivals_2017": "4,459",
            "Gross_arrivals_2018": "4,309",
            "Import_Rate_2018": 3050.95,
            "Import_Rate_2019": 3206.83,
            "change_percent": 5.1
           },
           {
            "Column1": 6,
            "Country": "United Arab Emirates",
            "Gross_arrivals_2014": "523",
            "Gross_arrivals_2015": "665",
            "Gross_arrivals_2016": "752",
            "Gross_arrivals_2017": "989",
            "Gross_arrivals_2018": "1,146",
            "Import_Rate_2018": 1882.82,
            "Import_Rate_2019": 2964.53,
            "change_percent": 57.5
           },
           {
            "Column1": 8,
            "Country": "Thailand",
            "Gross_arrivals_2014": "817",
            "Gross_arrivals_2015": "825",
            "Gross_arrivals_2016": "1,089",
            "Gross_arrivals_2017": "1,236",
            "Gross_arrivals_2018": "1,094",
            "Import_Rate_2018": 2662.34,
            "Import_Rate_2019": 2776.91,
            "change_percent": 4.3
           },
           {
            "Column1": 9,
            "Country": "Singapore",
            "Gross_arrivals_2014": "934",
            "Gross_arrivals_2015": "1,021",
            "Gross_arrivals_2016": "1,367",
            "Gross_arrivals_2017": "1,429",
            "Gross_arrivals_2018": "1,461",
            "Import_Rate_2018": 1938.15,
            "Import_Rate_2019": 2175.56,
            "change_percent": 12.2
           },
           {
            "Column1": 10,
            "Country": "Malaysia",
            "Gross_arrivals_2014": "1,083",
            "Gross_arrivals_2015": "1,177",
            "Gross_arrivals_2016": "1,287",
            "Gross_arrivals_2017": "1,535",
            "Gross_arrivals_2018": "1,562",
            "Import_Rate_2018": 1896.7,
            "Import_Rate_2019": 2131.25,
            "change_percent": 12.4
           },
           {
            "Column1": 11,
            "Country": "United Kingdom",
            "Gross_arrivals_2014": "13,938",
            "Gross_arrivals_2015": "13,680",
            "Gross_arrivals_2016": "13,379",
            "Gross_arrivals_2017": "14,373",
            "Gross_arrivals_2018": "15,017",
            "Import_Rate_2018": 1763.18,
            "Import_Rate_2019": 1800.68,
            "change_percent": 2.1
           },
           {
            "Column1": 13,
            "Country": "France",
            "Gross_arrivals_2014": "2,374",
            "Gross_arrivals_2015": "3,334",
            "Gross_arrivals_2016": "3,767",
            "Gross_arrivals_2017": "4,227",
            "Gross_arrivals_2018": "4,392",
            "Import_Rate_2018": 1023.47,
            "Import_Rate_2019": 1161.09,
            "change_percent": 13.4
           },
           {
            "Column1": 17,
            "Country": "India",
            "Gross_arrivals_2014": "6,704",
            "Gross_arrivals_2015": "11,303",
            "Gross_arrivals_2016": "14,490",
            "Gross_arrivals_2017": "10,255",
            "Gross_arrivals_2018": "9,030",
            "Import_Rate_2018": 639.6,
            "Import_Rate_2019": 734.34,
            "change_percent": 14.8
           },
           {
            "Column1": 18,
            "Country": "Canada",
            "Gross_arrivals_2014": "1,870",
            "Gross_arrivals_2015": "2,166",
            "Gross_arrivals_2016": "2,463",
            "Gross_arrivals_2017": "2,508",
            "Gross_arrivals_2018": "2,671",
            "Import_Rate_2018": 663.63,
            "Import_Rate_2019": 729.5,
            "change_percent": 9.9
           }
          ]
         },
         "encoding": {
          "x": {
           "field": "Country",
           "type": "nominal"
          },
          "y": {
           "field": "Gross_arrivals_2018",
           "type": "nominal"
          }
         },
         "mark": {
          "color": "green",
          "type": "line"
         }
        }
       ]
      },
      "image/png": "[encoded data removed]",
      "image/svg+xml": [
       "<svg class=\"marks\" width=\"334\" height=\"235\" viewBox=\"0 0 334 235\" version=\"1.1\" xmlns=\"http://www.w3.org/2000/svg\" xmlns:xlink=\"http://www.w3.org/1999/xlink\"><g transform=\"translate(54,10)\"><g class=\"mark-group role-frame root\"><g transform=\"translate(0,0)\"><path class=\"background\" d=\"M0.5,0.5h220v0h-220Z\" style=\"fill: none; stroke: #ddd;\"></path><g><g class=\"mark-rect role-mark layer_0_marks\"><path d=\"M1,0.8671428571428805h18v199.13285714285712h-18Z\" style=\"fill: red;\"></path><path d=\"M101,81.73171428571429h18v118.26828571428571h-18Z\" style=\"fill: red;\"></path><path d=\"M61,112.83000000000001h18v87.16999999999999h-18Z\" style=\"fill: red;\"></path><path d=\"M181,146.20514285714285h18v53.794857142857154h-18Z\" style=\"fill: red;\"></path><path d=\"M161,123.93314285714285h18v76.06685714285715h-18Z\" style=\"fill: red;\"></path><path d=\"M141,144.62428571428572h18v55.37571428571428h-18Z\" style=\"fill: red;\"></path><path d=\"M121,145.80857142857144h18v54.19142857142856h-18Z\" style=\"fill: red;\"></path><path d=\"M201,149.62342857142858h18v50.376571428571424h-18Z\" style=\"fill: red;\"></path><path d=\"M41,170.758h18v29.24199999999999h-18Z\" style=\"fill: red;\"></path><path d=\"M81,181.72571428571428h18v18.274285714285725h-18Z\" style=\"fill: red;\"></path><path d=\"M21,181.03914285714285h18v18.96085714285715h-18Z\" style=\"fill: red;\"></path></g><g class=\"mark-line role-mark layer_1_marks\"><path d=\"M210,90L190,30L170,10L150,50L130,70L110,110L90,210L70,170L50,190L30,130L10,150\" style=\"fill: none; stroke: green; stroke-width: 2;\"></path></g><g class=\"mark-group role-axis\"><g transform=\"translate(0.5,0.5)\"><path class=\"background\" d=\"M0,0h0v0h0Z\" style=\"pointer-events: none; fill: none;\"></path><g><g class=\"mark-rule role-axis-tick\" style=\"pointer-events: none;\"><line transform=\"translate(9,0)\" x2=\"0\" y2=\"5\" style=\"fill: none; stroke: #888; stroke-width: 1; opacity: 1;\"></line><line transform=\"translate(29,0)\" x2=\"0\" y2=\"5\" style=\"fill: none; stroke: #888; stroke-width: 1; opacity: 1;\"></line><line transform=\"translate(49,0)\" x2=\"0\" y2=\"5\" style=\"fill: none; stroke: #888; stroke-width: 1; opacity: 1;\"></line><line transform=\"translate(69,0)\" x2=\"0\" y2=\"5\" style=\"fill: none; stroke: #888; stroke-width: 1; opacity: 1;\"></line><line transform=\"translate(89,0)\" x2=\"0\" y2=\"5\" style=\"fill: none; stroke: #888; stroke-width: 1; opacity: 1;\"></line><line transform=\"translate(109,0)\" x2=\"0\" y2=\"5\" style=\"fill: none; stroke: #888; stroke-width: 1; opacity: 1;\"></line><line transform=\"translate(129,0)\" x2=\"0\" y2=\"5\" style=\"fill: none; stroke: #888; stroke-width: 1; opacity: 1;\"></line><line transform=\"translate(149,0)\" x2=\"0\" y2=\"5\" style=\"fill: none; stroke: #888; stroke-width: 1; opacity: 1;\"></line><line transform=\"translate(169,0)\" x2=\"0\" y2=\"5\" style=\"fill: none; stroke: #888; stroke-width: 1; opacity: 1;\"></line><line transform=\"translate(189,0)\" x2=\"0\" y2=\"5\" style=\"fill: none; stroke: #888; stroke-width: 1; opacity: 1;\"></line><line transform=\"translate(209,0)\" x2=\"0\" y2=\"5\" style=\"fill: none; stroke: #888; stroke-width: 1; opacity: 1;\"></line></g><g class=\"mark-text role-axis-label\" style=\"pointer-events: none;\"><text text-anchor=\"end\" transform=\"translate(9,7) rotate(270) translate(0,3)\" style=\"font-family: sans-serif; font-size: 10px; fill: #000; opacity: 1;\">Australia</text><text text-anchor=\"end\" transform=\"translate(29,7) rotate(270) translate(0,3)\" style=\"font-family: sans-serif; font-size: 10px; fill: #000; opacity: 1;\">Canada</text><text text-anchor=\"end\" transform=\"translate(49,7) rotate(270) translate(0,3)\" style=\"font-family: sans-serif; font-size: 10px; fill: #000; opacity: 1;\">France</text><text text-anchor=\"end\" transform=\"translate(69,7) rotate(270) translate(0,3)\" style=\"font-family: sans-serif; font-size: 10px; fill: #000; opacity: 1;\">Germany</text><text text-anchor=\"end\" transform=\"translate(89,7) rotate(270) translate(0,3)\" style=\"font-family: sans-serif; font-size: 10px; fill: #000; opacity: 1;\">India</text><text text-anchor=\"end\" transform=\"translate(109,7) rotate(270) translate(0,3)\" style=\"font-family: sans-serif; font-size: 10px; fill: #000; opacity: 1;\">Japan</text><text text-anchor=\"end\" transform=\"translate(129,7) rotate(270) translate(0,3)\" style=\"font-family: sans-serif; font-size: 10px; fill: #000; opacity: 1;\">Malaysia</text><text text-anchor=\"end\" transform=\"translate(149,7) rotate(270) translate(0,3)\" style=\"font-family: sans-serif; font-size: 10px; fill: #000; opacity: 1;\">Singapore</text><text text-anchor=\"end\" transform=\"translate(169,7) rotate(270) translate(0,3)\" style=\"font-family: sans-serif; font-size: 10px; fill: #000; opacity: 1;\">Thailand</text><text text-anchor=\"end\" transform=\"translate(189,7) rotate(270) translate(0,3)\" style=\"font-family: sans-serif; font-size: 10px; fill: #000; opacity: 1;\">United Arab Emirates</text><text text-anchor=\"end\" transform=\"translate(209,7) rotate(270) translate(0,3)\" style=\"font-family: sans-serif; font-size: 10px; fill: #000; opacity: 1;\">United Kingdom</text></g><g class=\"mark-rule role-axis-domain\" style=\"pointer-events: none;\"><line transform=\"translate(0,0)\" x2=\"220\" y2=\"0\" style=\"fill: none; stroke: #888; stroke-width: 1; opacity: 1;\"></line></g><g class=\"mark-text role-axis-title\" style=\"pointer-events: none;\"><text text-anchor=\"middle\" transform=\"translate(110,125)\" style=\"font-family: sans-serif; font-size: 11px; font-weight: bold; fill: #000; opacity: 1;\">Country</text></g></g></g></g><g class=\"mark-group role-axis\"><g transform=\"translate(0.5,0.5)\"><path class=\"background\" d=\"M0,0h0v0h0Z\" style=\"pointer-events: none; fill: none;\"></path><g><g class=\"mark-rule role-axis-tick\" style=\"pointer-events: none;\"><line transform=\"translate(0,200)\" x2=\"-5\" y2=\"0\" style=\"fill: none; stroke: #888; stroke-width: 1; opacity: 1;\"></line><line transform=\"translate(0,171)\" x2=\"-5\" y2=\"0\" style=\"fill: none; stroke: #888; stroke-width: 1; opacity: 1;\"></line><line transform=\"translate(0,143)\" x2=\"-5\" y2=\"0\" style=\"fill: none; stroke: #888; stroke-width: 1; opacity: 1;\"></line><line transform=\"translate(0,114)\" x2=\"-5\" y2=\"0\" style=\"fill: none; stroke: #888; stroke-width: 1; opacity: 1;\"></line><line transform=\"translate(0,86)\" x2=\"-5\" y2=\"0\" style=\"fill: none; stroke: #888; stroke-width: 1; opacity: 1;\"></line><line transform=\"translate(0,57)\" x2=\"-5\" y2=\"0\" style=\"fill: none; stroke: #888; stroke-width: 1; opacity: 1;\"></line><line transform=\"translate(0,29)\" x2=\"-5\" y2=\"0\" style=\"fill: none; stroke: #888; stroke-width: 1; opacity: 1;\"></line><line transform=\"translate(0,0)\" x2=\"-5\" y2=\"0\" style=\"fill: none; stroke: #888; stroke-width: 1; opacity: 1;\"></line></g><g class=\"mark-text role-axis-label\" style=\"pointer-events: none;\"><text text-anchor=\"end\" transform=\"translate(-7,203)\" style=\"font-family: sans-serif; font-size: 10px; fill: #000; opacity: 1;\">0</text><text text-anchor=\"end\" transform=\"translate(-7,174.42857142857144)\" style=\"font-family: sans-serif; font-size: 10px; fill: #000; opacity: 1;\">1,000</text><text text-anchor=\"end\" transform=\"translate(-7,145.85714285714286)\" style=\"font-family: sans-serif; font-size: 10px; fill: #000; opacity: 1;\">2,000</text><text text-anchor=\"end\" transform=\"translate(-7,117.28571428571429)\" style=\"font-family: sans-serif; font-size: 10px; fill: #000; opacity: 1;\">3,000</text><text text-anchor=\"end\" transform=\"translate(-7,88.71428571428572)\" style=\"font-family: sans-serif; font-size: 10px; fill: #000; opacity: 1;\">4,000</text><text text-anchor=\"end\" transform=\"translate(-7,60.14285714285714)\" style=\"font-family: sans-serif; font-size: 10px; fill: #000; opacity: 1;\">5,000</text><text text-anchor=\"end\" transform=\"translate(-7,31.571428571428584)\" style=\"font-family: sans-serif; font-size: 10px; fill: #000; opacity: 1;\">6,000</text><text text-anchor=\"end\" transform=\"translate(-7,3)\" style=\"font-family: sans-serif; font-size: 10px; fill: #000; opacity: 1;\">7,000</text></g><g class=\"mark-rule role-axis-domain\" style=\"pointer-events: none;\"><line transform=\"translate(0,200)\" x2=\"0\" y2=\"-200\" style=\"fill: none; stroke: #888; stroke-width: 1; opacity: 1;\"></line></g><g class=\"mark-text role-axis-title\" style=\"pointer-events: none;\"><text text-anchor=\"middle\" transform=\"translate(-38,100) rotate(-90) translate(0,-2)\" style=\"font-family: sans-serif; font-size: 11px; font-weight: bold; fill: #000; opacity: 1;\">Import_Rate_2018</text></g></g></g></g><g class=\"mark-group role-axis\"><g transform=\"translate(220.5,0.5)\"><path class=\"background\" d=\"M0,0h0v0h0Z\" style=\"pointer-events: none; fill: none;\"></path><g><g class=\"mark-rule role-axis-tick\" style=\"pointer-events: none;\"><line transform=\"translate(0,10)\" x2=\"5\" y2=\"0\" style=\"fill: none; stroke: #888; stroke-width: 1; opacity: 1;\"></line><line transform=\"translate(0,30)\" x2=\"5\" y2=\"0\" style=\"fill: none; stroke: #888; stroke-width: 1; opacity: 1;\"></line><line transform=\"translate(0,50)\" x2=\"5\" y2=\"0\" style=\"fill: none; stroke: #888; stroke-width: 1; opacity: 1;\"></line><line transform=\"translate(0,70)\" x2=\"5\" y2=\"0\" style=\"fill: none; stroke: #888; stroke-width: 1; opacity: 1;\"></line><line transform=\"translate(0,90)\" x2=\"5\" y2=\"0\" style=\"fill: none; stroke: #888; stroke-width: 1; opacity: 1;\"></line><line transform=\"translate(0,110)\" x2=\"5\" y2=\"0\" style=\"fill: none; stroke: #888; stroke-width: 1; opacity: 1;\"></line><line transform=\"translate(0,130)\" x2=\"5\" y2=\"0\" style=\"fill: none; stroke: #888; stroke-width: 1; opacity: 1;\"></line><line transform=\"translate(0,150)\" x2=\"5\" y2=\"0\" style=\"fill: none; stroke: #888; stroke-width: 1; opacity: 1;\"></line><line transform=\"translate(0,170)\" x2=\"5\" y2=\"0\" style=\"fill: none; stroke: #888; stroke-width: 1; opacity: 1;\"></line><line transform=\"translate(0,190)\" x2=\"5\" y2=\"0\" style=\"fill: none; stroke: #888; stroke-width: 1; opacity: 1;\"></line><line transform=\"translate(0,210)\" x2=\"5\" y2=\"0\" style=\"fill: none; stroke: #888; stroke-width: 1; opacity: 1;\"></line></g><g class=\"mark-text role-axis-label\" style=\"pointer-events: none;\"><text text-anchor=\"start\" transform=\"translate(7,13)\" style=\"font-family: sans-serif; font-size: 10px; fill: #000; opacity: 1;\">1,094</text><text text-anchor=\"start\" transform=\"translate(7,33)\" style=\"font-family: sans-serif; font-size: 10px; fill: #000; opacity: 1;\">1,146</text><text text-anchor=\"start\" transform=\"translate(7,53)\" style=\"font-family: sans-serif; font-size: 10px; fill: #000; opacity: 1;\">1,461</text><text text-anchor=\"start\" transform=\"translate(7,73)\" style=\"font-family: sans-serif; font-size: 10px; fill: #000; opacity: 1;\">1,562</text><text text-anchor=\"start\" transform=\"translate(7,93)\" style=\"font-family: sans-serif; font-size: 10px; fill: #000; opacity: 1;\">15,017</text><text text-anchor=\"start\" transform=\"translate(7,113)\" style=\"font-family: sans-serif; font-size: 10px; fill: #000; opacity: 1;\">2,415</text><text text-anchor=\"start\" transform=\"translate(7,133)\" style=\"font-family: sans-serif; font-size: 10px; fill: #000; opacity: 1;\">2,671</text><text text-anchor=\"start\" transform=\"translate(7,153)\" style=\"font-family: sans-serif; font-size: 10px; fill: #000; opacity: 1;\">24,950</text><text text-anchor=\"start\" transform=\"translate(7,173)\" style=\"font-family: sans-serif; font-size: 10px; fill: #000; opacity: 1;\">4,309</text><text text-anchor=\"start\" transform=\"translate(7,193)\" style=\"font-family: sans-serif; font-size: 10px; fill: #000; opacity: 1;\">4,392</text><text text-anchor=\"start\" transform=\"translate(7,213)\" style=\"font-family: sans-serif; font-size: 10px; fill: #000; opacity: 1;\">9,030</text></g><g class=\"mark-rule role-axis-domain\" style=\"pointer-events: none;\"><line transform=\"translate(0,0)\" x2=\"0\" y2=\"220\" style=\"fill: none; stroke: #888; stroke-width: 1; opacity: 1;\"></line></g><g class=\"mark-text role-axis-title\" style=\"pointer-events: none;\"><text text-anchor=\"middle\" transform=\"translate(44,110) rotate(90) translate(0,-2)\" style=\"font-family: sans-serif; font-size: 11px; font-weight: bold; fill: #000; opacity: 1;\">Gross_arrivals_2018</text></g></g></g></g></g></g></g></g></svg>"
      ],
      "text/plain": [
       "VegaLite.VLSpec{:plot}"
      ]
     },
     "execution_count": 70,
     "metadata": {},
     "output_type": "execute_result"
    }
   ],
   "source": [
    "@vlplot() + @vlplot(mark={:bar, color=:red}, data=Import_final_data, x=:Country, y=:Import_Rate_2018) +\n",
    "@vlplot(mark={:line, color=:green}, data=Import_final_data, x=:Country, y=:Gross_arrivals_2018)"
   ]
  }
 ],
 "metadata": {
  "kernelspec": {
   "display_name": "Julia 1.1.1",
   "language": "julia",
   "name": "julia-1.1"
  },
  "language_info": {
   "file_extension": ".jl",
   "mimetype": "application/julia",
   "name": "julia",
   "version": "1.1.1"
  }
 },
 "nbformat": 4,
 "nbformat_minor": 2
}
