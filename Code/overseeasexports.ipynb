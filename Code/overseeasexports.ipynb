{
 "cells": [
  {
   "cell_type": "code",
   "execution_count": 1,
   "metadata": {},
   "outputs": [
    {
     "ename": "ERROR",
     "evalue": "Error in library(\"xlsx\"): there is no package called ‘xlsx’\n",
     "output_type": "error",
     "traceback": [
      "Error in library(\"xlsx\"): there is no package called ‘xlsx’\nTraceback:\n",
      "1. library(\"xlsx\")",
      "2. stop(txt, domain = NA)"
     ]
    }
   ],
   "source": [
    "library(\"readxl\")\n",
    "library(\"xlsx\")\n",
    "library(\"tidyverse\")\n",
    "#install.packages(\"unpivotr\")\n",
    "library(unpivotr)\n",
    "library(tidyxl)"
   ]
  },
  {
   "cell_type": "code",
   "execution_count": 37,
   "metadata": {},
   "outputs": [
    {
     "name": "stderr",
     "output_type": "stream",
     "text": [
      "New names:\n",
      "* `` -> ...2\n"
     ]
    },
    {
     "name": "stdout",
     "output_type": "stream",
     "text": [
      "Observations: 37\n",
      "Variables: 2\n",
      "$ `Overseas merchandise trade: January 2019` \u001b[3m\u001b[38;5;246m<chr>\u001b[39m\u001b[23m NA, \"List of tables\", \"1.0…\n",
      "$ ...2                                       \u001b[3m\u001b[38;5;246m<chr>\u001b[39m\u001b[23m NA, NA, \"Overseas merchand…\n"
     ]
    }
   ],
   "source": [
    "\"overseas-merchandise-trade-january-2019.xlsx\" %>%  read_excel() %>%\n",
    " glimpse()"
   ]
  },
  {
   "cell_type": "markdown",
   "metadata": {},
   "source": [
    "## Export Data Tidying"
   ]
  },
  {
   "cell_type": "code",
   "execution_count": 66,
   "metadata": {},
   "outputs": [],
   "source": [
    "new_data <- xlsx_cells(\"overseas-merchandise-trade-january-2019.xlsx\") %>% filter(sheet == \"Table 5\")%>%  rectify()%>% head(52) %>% tail(43)"
   ]
  },
  {
   "cell_type": "code",
   "execution_count": 28,
   "metadata": {},
   "outputs": [
    {
     "data": {
      "text/html": [
       "<table>\n",
       "<caption>A tibble: 6 × 4</caption>\n",
       "<thead>\n",
       "\t<tr><th scope=col>Commodity</th><th scope=col>Export_Rate_2018</th><th scope=col>Export_Rate_2019</th><th scope=col>change_percent</th></tr>\n",
       "\t<tr><th scope=col>&lt;chr&gt;</th><th scope=col>&lt;chr&gt;</th><th scope=col>&lt;chr&gt;</th><th scope=col>&lt;chr&gt;</th></tr>\n",
       "</thead>\n",
       "<tbody>\n",
       "\t<tr><td>Milk powder, butter, and cheese                 </td><td>14055.635914</td><td>14414.804078</td><td>2.6 </td></tr>\n",
       "\t<tr><td>Meat and edible offal                           </td><td>6711.598215 </td><td>7358.843433 </td><td>9.6 </td></tr>\n",
       "\t<tr><td>Logs, wood, and wood articles(4)                </td><td>4687.547952 </td><td>5263.769057 </td><td>12.3</td></tr>\n",
       "\t<tr><td>Fruit                                           </td><td>2650.868038 </td><td>3232.717762 </td><td>21.9</td></tr>\n",
       "\t<tr><td>Preparations of milk, cereals, flour, and starch</td><td>1555.603884 </td><td>1871.568329 </td><td>20.3</td></tr>\n",
       "\t<tr><td>Mechanical machinery and equipment              </td><td>1646.021877 </td><td>1849.418517 </td><td>12.4</td></tr>\n",
       "</tbody>\n",
       "</table>\n"
      ],
      "text/latex": [
       "A tibble: 6 × 4\n",
       "\\begin{tabular}{r|llll}\n",
       " Commodity & Export\\_Rate\\_2018 & Export\\_Rate\\_2019 & change\\_percent\\\\\n",
       " <chr> & <chr> & <chr> & <chr>\\\\\n",
       "\\hline\n",
       "\t Milk powder, butter, and cheese                  & 14055.635914 & 14414.804078 & 2.6 \\\\\n",
       "\t Meat and edible offal                            & 6711.598215  & 7358.843433  & 9.6 \\\\\n",
       "\t Logs, wood, and wood articles(4)                 & 4687.547952  & 5263.769057  & 12.3\\\\\n",
       "\t Fruit                                            & 2650.868038  & 3232.717762  & 21.9\\\\\n",
       "\t Preparations of milk, cereals, flour, and starch & 1555.603884  & 1871.568329  & 20.3\\\\\n",
       "\t Mechanical machinery and equipment               & 1646.021877  & 1849.418517  & 12.4\\\\\n",
       "\\end{tabular}\n"
      ],
      "text/markdown": [
       "\n",
       "A tibble: 6 × 4\n",
       "\n",
       "| Commodity &lt;chr&gt; | Export_Rate_2018 &lt;chr&gt; | Export_Rate_2019 &lt;chr&gt; | change_percent &lt;chr&gt; |\n",
       "|---|---|---|---|\n",
       "| Milk powder, butter, and cheese                  | 14055.635914 | 14414.804078 | 2.6  |\n",
       "| Meat and edible offal                            | 6711.598215  | 7358.843433  | 9.6  |\n",
       "| Logs, wood, and wood articles(4)                 | 4687.547952  | 5263.769057  | 12.3 |\n",
       "| Fruit                                            | 2650.868038  | 3232.717762  | 21.9 |\n",
       "| Preparations of milk, cereals, flour, and starch | 1555.603884  | 1871.568329  | 20.3 |\n",
       "| Mechanical machinery and equipment               | 1646.021877  | 1849.418517  | 12.4 |\n",
       "\n"
      ],
      "text/plain": [
       "  Commodity                                        Export_Rate_2018\n",
       "1 Milk powder, butter, and cheese                  14055.635914    \n",
       "2 Meat and edible offal                            6711.598215     \n",
       "3 Logs, wood, and wood articles(4)                 4687.547952     \n",
       "4 Fruit                                            2650.868038     \n",
       "5 Preparations of milk, cereals, flour, and starch 1555.603884     \n",
       "6 Mechanical machinery and equipment               1646.021877     \n",
       "  Export_Rate_2019 change_percent\n",
       "1 14414.804078     2.6           \n",
       "2 7358.843433      9.6           \n",
       "3 5263.769057      12.3          \n",
       "4 3232.717762      21.9          \n",
       "5 1871.568329      20.3          \n",
       "6 1849.418517      12.4          "
      ]
     },
     "metadata": {},
     "output_type": "display_data"
    }
   ],
   "source": [
    "#head(new_data)\n",
    "\n",
    "new_data_2 <- as_tibble(new_data)\n",
    "#colnames(new_data_2)\n",
    "\n",
    "#names(new_data_2)[3] <- \"Product\"\n",
    "names(new_data_2) <- c(\"Row_number\",\"HS_Code\",\"Commodity\",\"Export_Rate_2018_J1\",\"Export_Rate_2019_J1\",\"%_change_J1\",\n",
    "                      \"Export_Rate_2018_J2\",\"Export_Rate_2019_J2\",\"%_change_J2\",\"Export_Rate_2018\",\"Export_Rate_2019\",\"change_percent\")\n",
    "\n",
    "Export_data_2018_19<-new_data_2 %>% select (Commodity,Export_Rate_2018,Export_Rate_2019,'change_percent')\n",
    "head(Export_data_2018_19) \n"
   ]
  },
  {
   "cell_type": "code",
   "execution_count": 30,
   "metadata": {},
   "outputs": [
    {
     "data": {
      "text/html": [
       "<dl class=dl-horizontal>\n",
       "\t<dt>Commodity</dt>\n",
       "\t\t<dd>'character'</dd>\n",
       "\t<dt>Export_Rate_2018</dt>\n",
       "\t\t<dd>'character'</dd>\n",
       "\t<dt>Export_Rate_2019</dt>\n",
       "\t\t<dd>'character'</dd>\n",
       "\t<dt>change_percent</dt>\n",
       "\t\t<dd>'character'</dd>\n",
       "</dl>\n"
      ],
      "text/latex": [
       "\\begin{description*}\n",
       "\\item[Commodity] 'character'\n",
       "\\item[Export\\textbackslash{}\\_Rate\\textbackslash{}\\_2018] 'character'\n",
       "\\item[Export\\textbackslash{}\\_Rate\\textbackslash{}\\_2019] 'character'\n",
       "\\item[change\\textbackslash{}\\_percent] 'character'\n",
       "\\end{description*}\n"
      ],
      "text/markdown": [
       "Commodity\n",
       ":   'character'Export_Rate_2018\n",
       ":   'character'Export_Rate_2019\n",
       ":   'character'change_percent\n",
       ":   'character'\n",
       "\n"
      ],
      "text/plain": [
       "       Commodity Export_Rate_2018 Export_Rate_2019   change_percent \n",
       "     \"character\"      \"character\"      \"character\"      \"character\" "
      ]
     },
     "metadata": {},
     "output_type": "display_data"
    }
   ],
   "source": [
    "sapply(Export_data_2018_19,class)"
   ]
  },
  {
   "cell_type": "code",
   "execution_count": 32,
   "metadata": {},
   "outputs": [],
   "source": [
    "Export_data_2018_19_tidy<-transform(Export_data_2018_19, \n",
    "         Export_Rate_2018 = round(as.numeric(Export_Rate_2018),2),\n",
    "         Export_Rate_2019 = round(as.numeric(Export_Rate_2019),2),\n",
    "         change_percent = round(as.numeric(change_percent),1))"
   ]
  },
  {
   "cell_type": "code",
   "execution_count": 33,
   "metadata": {},
   "outputs": [
    {
     "data": {
      "text/html": [
       "<dl class=dl-horizontal>\n",
       "\t<dt>Commodity</dt>\n",
       "\t\t<dd>'character'</dd>\n",
       "\t<dt>Export_Rate_2018</dt>\n",
       "\t\t<dd>'numeric'</dd>\n",
       "\t<dt>Export_Rate_2019</dt>\n",
       "\t\t<dd>'numeric'</dd>\n",
       "\t<dt>change_percent</dt>\n",
       "\t\t<dd>'numeric'</dd>\n",
       "</dl>\n"
      ],
      "text/latex": [
       "\\begin{description*}\n",
       "\\item[Commodity] 'character'\n",
       "\\item[Export\\textbackslash{}\\_Rate\\textbackslash{}\\_2018] 'numeric'\n",
       "\\item[Export\\textbackslash{}\\_Rate\\textbackslash{}\\_2019] 'numeric'\n",
       "\\item[change\\textbackslash{}\\_percent] 'numeric'\n",
       "\\end{description*}\n"
      ],
      "text/markdown": [
       "Commodity\n",
       ":   'character'Export_Rate_2018\n",
       ":   'numeric'Export_Rate_2019\n",
       ":   'numeric'change_percent\n",
       ":   'numeric'\n",
       "\n"
      ],
      "text/plain": [
       "       Commodity Export_Rate_2018 Export_Rate_2019   change_percent \n",
       "     \"character\"        \"numeric\"        \"numeric\"        \"numeric\" "
      ]
     },
     "metadata": {},
     "output_type": "display_data"
    }
   ],
   "source": [
    "sapply(Export_data_2018_19_tidy,class)"
   ]
  },
  {
   "cell_type": "code",
   "execution_count": 57,
   "metadata": {},
   "outputs": [
    {
     "data": {
      "text/html": [
       "'data.frame'"
      ],
      "text/latex": [
       "'data.frame'"
      ],
      "text/markdown": [
       "'data.frame'"
      ],
      "text/plain": [
       "[1] \"data.frame\""
      ]
     },
     "metadata": {},
     "output_type": "display_data"
    }
   ],
   "source": [
    "class(Export_data_2018_19_tidy)"
   ]
  },
  {
   "cell_type": "raw",
   "metadata": {},
   "source": [
    "PLOTTTTTTTTTTTTTTTtt"
   ]
  },
  {
   "cell_type": "code",
   "execution_count": null,
   "metadata": {},
   "outputs": [],
   "source": []
  },
  {
   "cell_type": "markdown",
   "metadata": {},
   "source": [
    "## Import Data Tidying"
   ]
  },
  {
   "cell_type": "code",
   "execution_count": 9,
   "metadata": {},
   "outputs": [],
   "source": [
    "Import_data <- xlsx_cells(\"overseas-merchandise-trade-january-2019.xlsx\") %>% filter(sheet == \"Table 6\")%>%  rectify()%>% head(52) %>% tail(43)"
   ]
  },
  {
   "cell_type": "code",
   "execution_count": 52,
   "metadata": {},
   "outputs": [
    {
     "data": {
      "text/html": [
       "<table>\n",
       "<caption>A tibble: 6 × 4</caption>\n",
       "<thead>\n",
       "\t<tr><th scope=col>Commodity</th><th scope=col>Import_Rate_2018</th><th scope=col>Import_Rate_2019</th><th scope=col>change_percent</th></tr>\n",
       "\t<tr><th scope=col>&lt;chr&gt;</th><th scope=col>&lt;chr&gt;</th><th scope=col>&lt;chr&gt;</th><th scope=col>&lt;chr&gt;</th></tr>\n",
       "</thead>\n",
       "<tbody>\n",
       "\t<tr><td>Vehicles, parts, and accessories     </td><td>8958.444348</td><td>9129.940262</td><td>1.9 </td></tr>\n",
       "\t<tr><td>Mechanical machinery and equipment   </td><td>8272.221151</td><td>8807.456562</td><td>6.5 </td></tr>\n",
       "\t<tr><td>Petroleum and products(4)            </td><td>5474.206965</td><td>7824.904869</td><td>42.9</td></tr>\n",
       "\t<tr><td>Electrical machinery and equipment(5)</td><td>4731.685218</td><td>5085.269426</td><td>7.5 </td></tr>\n",
       "\t<tr><td>Textiles and textile articles        </td><td>2523.434336</td><td>2760.182048</td><td>9.4 </td></tr>\n",
       "\t<tr><td>Plastic and plastic articles(5)      </td><td>2203.061126</td><td>2339.009964</td><td>6.2 </td></tr>\n",
       "</tbody>\n",
       "</table>\n"
      ],
      "text/latex": [
       "A tibble: 6 × 4\n",
       "\\begin{tabular}{r|llll}\n",
       " Commodity & Import\\_Rate\\_2018 & Import\\_Rate\\_2019 & change\\_percent\\\\\n",
       " <chr> & <chr> & <chr> & <chr>\\\\\n",
       "\\hline\n",
       "\t Vehicles, parts, and accessories      & 8958.444348 & 9129.940262 & 1.9 \\\\\n",
       "\t Mechanical machinery and equipment    & 8272.221151 & 8807.456562 & 6.5 \\\\\n",
       "\t Petroleum and products(4)             & 5474.206965 & 7824.904869 & 42.9\\\\\n",
       "\t Electrical machinery and equipment(5) & 4731.685218 & 5085.269426 & 7.5 \\\\\n",
       "\t Textiles and textile articles         & 2523.434336 & 2760.182048 & 9.4 \\\\\n",
       "\t Plastic and plastic articles(5)       & 2203.061126 & 2339.009964 & 6.2 \\\\\n",
       "\\end{tabular}\n"
      ],
      "text/markdown": [
       "\n",
       "A tibble: 6 × 4\n",
       "\n",
       "| Commodity &lt;chr&gt; | Import_Rate_2018 &lt;chr&gt; | Import_Rate_2019 &lt;chr&gt; | change_percent &lt;chr&gt; |\n",
       "|---|---|---|---|\n",
       "| Vehicles, parts, and accessories      | 8958.444348 | 9129.940262 | 1.9  |\n",
       "| Mechanical machinery and equipment    | 8272.221151 | 8807.456562 | 6.5  |\n",
       "| Petroleum and products(4)             | 5474.206965 | 7824.904869 | 42.9 |\n",
       "| Electrical machinery and equipment(5) | 4731.685218 | 5085.269426 | 7.5  |\n",
       "| Textiles and textile articles         | 2523.434336 | 2760.182048 | 9.4  |\n",
       "| Plastic and plastic articles(5)       | 2203.061126 | 2339.009964 | 6.2  |\n",
       "\n"
      ],
      "text/plain": [
       "  Commodity                             Import_Rate_2018 Import_Rate_2019\n",
       "1 Vehicles, parts, and accessories      8958.444348      9129.940262     \n",
       "2 Mechanical machinery and equipment    8272.221151      8807.456562     \n",
       "3 Petroleum and products(4)             5474.206965      7824.904869     \n",
       "4 Electrical machinery and equipment(5) 4731.685218      5085.269426     \n",
       "5 Textiles and textile articles         2523.434336      2760.182048     \n",
       "6 Plastic and plastic articles(5)       2203.061126      2339.009964     \n",
       "  change_percent\n",
       "1 1.9           \n",
       "2 6.5           \n",
       "3 42.9          \n",
       "4 7.5           \n",
       "5 9.4           \n",
       "6 6.2           "
      ]
     },
     "metadata": {},
     "output_type": "display_data"
    }
   ],
   "source": [
    "#head(new_data)\n",
    "\n",
    "Import_data_2 <- as_tibble(Import_data)\n",
    "#colnames(new_data_2)\n",
    "\n",
    "#names(new_data_2)[3] <- \"Product\"\n",
    "names(Import_data_2) <- c(\"Row_number\",\"HS_Code\",\"Commodity\",\"Import_Rate_2018_J1\",\"Import_Rate_2019_J1\",\"%_change_J1\",\n",
    "                      \"Import_Rate_2018_J2\",\"Import_Rate_2019_J2\",\"%_change_J2\",\"Import_Rate_2018\",\"Import_Rate_2019\",\"change_percent\")\n",
    "\n",
    "Import_data_2018_19<-Import_data_2 %>% select (Commodity,Import_Rate_2018,Import_Rate_2019,'change_percent')\n",
    "head(Import_data_2018_19)\n"
   ]
  },
  {
   "cell_type": "code",
   "execution_count": 26,
   "metadata": {},
   "outputs": [
    {
     "data": {
      "text/html": [
       "<dl class=dl-horizontal>\n",
       "\t<dt>Commodity</dt>\n",
       "\t\t<dd>'character'</dd>\n",
       "\t<dt>Import_Rate_2018</dt>\n",
       "\t\t<dd>'character'</dd>\n",
       "\t<dt>Import_Rate_2019</dt>\n",
       "\t\t<dd>'character'</dd>\n",
       "\t<dt>change_percent</dt>\n",
       "\t\t<dd>'character'</dd>\n",
       "</dl>\n"
      ],
      "text/latex": [
       "\\begin{description*}\n",
       "\\item[Commodity] 'character'\n",
       "\\item[Import\\textbackslash{}\\_Rate\\textbackslash{}\\_2018] 'character'\n",
       "\\item[Import\\textbackslash{}\\_Rate\\textbackslash{}\\_2019] 'character'\n",
       "\\item[change\\textbackslash{}\\_percent] 'character'\n",
       "\\end{description*}\n"
      ],
      "text/markdown": [
       "Commodity\n",
       ":   'character'Import_Rate_2018\n",
       ":   'character'Import_Rate_2019\n",
       ":   'character'change_percent\n",
       ":   'character'\n",
       "\n"
      ],
      "text/plain": [
       "       Commodity Import_Rate_2018 Import_Rate_2019   change_percent \n",
       "     \"character\"      \"character\"      \"character\"      \"character\" "
      ]
     },
     "metadata": {},
     "output_type": "display_data"
    }
   ],
   "source": [
    "sapply(Import_data_2018_19,class) #https://stackoverflow.com/questions/2288485/how-to-convert-a-data-frame-column-to-numeric-type"
   ]
  },
  {
   "cell_type": "code",
   "execution_count": 53,
   "metadata": {},
   "outputs": [],
   "source": [
    "Import_data_2018_19_tidy<-transform(Import_data_2018_19, \n",
    "         Import_Rate_2018 = round(as.numeric(Import_Rate_2018),2),\n",
    "         Import_Rate_2019 = round(as.numeric(Import_Rate_2019),2),\n",
    "         change_percent = round(as.numeric(change_percent),1))"
   ]
  },
  {
   "cell_type": "code",
   "execution_count": 49,
   "metadata": {},
   "outputs": [
    {
     "data": {
      "text/html": [
       "<dl class=dl-horizontal>\n",
       "\t<dt>Commodity</dt>\n",
       "\t\t<dd>'character'</dd>\n",
       "\t<dt>Import_Rate_2018</dt>\n",
       "\t\t<dd>'numeric'</dd>\n",
       "\t<dt>Import_Rate_2019</dt>\n",
       "\t\t<dd>'numeric'</dd>\n",
       "\t<dt>change_percent</dt>\n",
       "\t\t<dd>'numeric'</dd>\n",
       "</dl>\n"
      ],
      "text/latex": [
       "\\begin{description*}\n",
       "\\item[Commodity] 'character'\n",
       "\\item[Import\\textbackslash{}\\_Rate\\textbackslash{}\\_2018] 'numeric'\n",
       "\\item[Import\\textbackslash{}\\_Rate\\textbackslash{}\\_2019] 'numeric'\n",
       "\\item[change\\textbackslash{}\\_percent] 'numeric'\n",
       "\\end{description*}\n"
      ],
      "text/markdown": [
       "Commodity\n",
       ":   'character'Import_Rate_2018\n",
       ":   'numeric'Import_Rate_2019\n",
       ":   'numeric'change_percent\n",
       ":   'numeric'\n",
       "\n"
      ],
      "text/plain": [
       "       Commodity Import_Rate_2018 Import_Rate_2019   change_percent \n",
       "     \"character\"        \"numeric\"        \"numeric\"        \"numeric\" "
      ]
     },
     "metadata": {},
     "output_type": "display_data"
    }
   ],
   "source": [
    "sapply(Import_data_2018_19_tidy,class)"
   ]
  },
  {
   "cell_type": "code",
   "execution_count": 56,
   "metadata": {},
   "outputs": [
    {
     "data": {
      "text/html": [
       "'data.frame'"
      ],
      "text/latex": [
       "'data.frame'"
      ],
      "text/markdown": [
       "'data.frame'"
      ],
      "text/plain": [
       "[1] \"data.frame\""
      ]
     },
     "metadata": {},
     "output_type": "display_data"
    }
   ],
   "source": [
    "class(Import_data_2018_19_tidy)"
   ]
  },
  {
   "cell_type": "code",
   "execution_count": null,
   "metadata": {},
   "outputs": [],
   "source": [
    "PLOTTTTTTTTTTTTTTTTTtttt"
   ]
  },
  {
   "cell_type": "code",
   "execution_count": null,
   "metadata": {},
   "outputs": [],
   "source": []
  },
  {
   "cell_type": "markdown",
   "metadata": {},
   "source": [
    "## Export and Import by country"
   ]
  },
  {
   "cell_type": "code",
   "execution_count": 64,
   "metadata": {},
   "outputs": [
    {
     "name": "stderr",
     "output_type": "stream",
     "text": [
      "Installing package into ‘/usr/local/lib/R/site-library’\n",
      "(as ‘lib’ is unspecified)\n",
      "also installing the dependency ‘rjson’\n",
      "\n"
     ]
    }
   ],
   "source": [
    "install.packages(\"ggmap\")"
   ]
  },
  {
   "cell_type": "code",
   "execution_count": 60,
   "metadata": {},
   "outputs": [
    {
     "name": "stderr",
     "output_type": "stream",
     "text": [
      "Installing package into ‘/usr/local/lib/R/site-library’\n",
      "(as ‘lib’ is unspecified)\n"
     ]
    }
   ],
   "source": [
    "install.packages(\"maptools\")"
   ]
  },
  {
   "cell_type": "code",
   "execution_count": 61,
   "metadata": {},
   "outputs": [
    {
     "name": "stderr",
     "output_type": "stream",
     "text": [
      "Installing package into ‘/usr/local/lib/R/site-library’\n",
      "(as ‘lib’ is unspecified)\n"
     ]
    }
   ],
   "source": [
    "install.packages(\"maps\")"
   ]
  },
  {
   "cell_type": "code",
   "execution_count": 65,
   "metadata": {},
   "outputs": [
    {
     "name": "stderr",
     "output_type": "stream",
     "text": [
      "Google's Terms of Service: https://cloud.google.com/maps-platform/terms/.\n",
      "Please cite ggmap if you use it! See citation(\"ggmap\") for details.\n",
      "Loading required package: sp\n",
      "Checking rgeos availability: FALSE\n",
      " \tNote: when rgeos is not available, polygon geometry \tcomputations in maptools depend on gpclib,\n",
      " \twhich has a restricted licence. It is disabled by default;\n",
      " \tto enable gpclib, type gpclibPermit()\n",
      "\n",
      "Attaching package: ‘maps’\n",
      "\n",
      "The following object is masked from ‘package:purrr’:\n",
      "\n",
      "    map\n",
      "\n"
     ]
    }
   ],
   "source": [
    "library(ggmap)\n",
    "library(maptools)\n",
    "library(maps)"
   ]
  }
 ],
 "metadata": {
  "kernelspec": {
   "display_name": "R",
   "language": "R",
   "name": "ir"
  },
  "language_info": {
   "codemirror_mode": "r",
   "file_extension": ".r",
   "mimetype": "text/x-r-source",
   "name": "R",
   "pygments_lexer": "r",
   "version": "3.4.4"
  }
 },
 "nbformat": 4,
 "nbformat_minor": 4
}
