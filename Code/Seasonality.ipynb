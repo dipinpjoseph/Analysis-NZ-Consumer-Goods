{
 "cells": [
  {
   "cell_type": "code",
   "execution_count": 2,
   "metadata": {},
   "outputs": [
    {
     "name": "stderr",
     "output_type": "stream",
     "text": [
      "-- \u001b[1mAttaching packages\u001b[22m --------------------------------------- tidyverse 1.2.1 --\n",
      "\u001b[32mv\u001b[39m \u001b[34mggplot2\u001b[39m 3.2.0     \u001b[32mv\u001b[39m \u001b[34mpurrr  \u001b[39m 0.3.2\n",
      "\u001b[32mv\u001b[39m \u001b[34mtibble \u001b[39m 2.1.3     \u001b[32mv\u001b[39m \u001b[34mdplyr  \u001b[39m 0.8.3\n",
      "\u001b[32mv\u001b[39m \u001b[34mtidyr  \u001b[39m 0.8.3     \u001b[32mv\u001b[39m \u001b[34mstringr\u001b[39m 1.4.0\n",
      "\u001b[32mv\u001b[39m \u001b[34mreadr  \u001b[39m 1.3.1     \u001b[32mv\u001b[39m \u001b[34mforcats\u001b[39m 0.4.0\n",
      "-- \u001b[1mConflicts\u001b[22m ------------------------------------------ tidyverse_conflicts() --\n",
      "\u001b[31mx\u001b[39m \u001b[34mdplyr\u001b[39m::\u001b[32mfilter()\u001b[39m masks \u001b[34mstats\u001b[39m::filter()\n",
      "\u001b[31mx\u001b[39m \u001b[34mdplyr\u001b[39m::\u001b[32mlag()\u001b[39m    masks \u001b[34mstats\u001b[39m::lag()\n",
      "\n",
      "Attaching package: 'magrittr'\n",
      "\n",
      "The following object is masked from 'package:purrr':\n",
      "\n",
      "    set_names\n",
      "\n",
      "The following object is masked from 'package:tidyr':\n",
      "\n",
      "    extract\n",
      "\n",
      "\n",
      "Attaching package: 'glue'\n",
      "\n",
      "The following object is masked from 'package:dplyr':\n",
      "\n",
      "    collapse\n",
      "\n",
      "Loading required package: xml2\n",
      "\n",
      "Attaching package: 'rvest'\n",
      "\n",
      "The following object is masked from 'package:purrr':\n",
      "\n",
      "    pluck\n",
      "\n",
      "The following object is masked from 'package:readr':\n",
      "\n",
      "    guess_encoding\n",
      "\n"
     ]
    }
   ],
   "source": [
    "#Loading Libraries\n",
    "library(tidyverse)\n",
    "library(magrittr) # better handling of pipes\n",
    "library(purrr) # to work with lists and map functions\n",
    "library(glue) # to paste strings\n",
    "library(stringr) # to hand strings\n",
    "library(rvest) # rvest makes scraping easier\n",
    "library(polite) # polite is the \"polite\" version of rvest"
   ]
  },
  {
   "cell_type": "code",
   "execution_count": null,
   "metadata": {},
   "outputs": [],
   "source": []
  },
  {
   "cell_type": "code",
   "execution_count": null,
   "metadata": {},
   "outputs": [],
   "source": []
  },
  {
   "cell_type": "code",
   "execution_count": 4,
   "metadata": {},
   "outputs": [],
   "source": [
    "\n",
    "url <- \"https://explore.gorentals.co.nz/blog/four-seasons-one-year-weather-new-zealand/\"  # this is the base url from where the scraping starts\n",
    "view2 <- read_html(url) "
   ]
  },
  {
   "cell_type": "code",
   "execution_count": 6,
   "metadata": {},
   "outputs": [
    {
     "data": {
      "text/html": [
       "<ol>\n",
       "\t<li><table>\n",
       "<caption>A data.frame: 26 × 9</caption>\n",
       "<thead>\n",
       "\t<tr><th scope=col>X1</th><th scope=col>X2</th><th scope=col>X3</th><th scope=col>X4</th><th scope=col>X5</th><th scope=col>X6</th><th scope=col>X7</th><th scope=col>X8</th><th scope=col>X9</th></tr>\n",
       "\t<tr><th scope=col>&lt;chr&gt;</th><th scope=col>&lt;chr&gt;</th><th scope=col>&lt;chr&gt;</th><th scope=col>&lt;chr&gt;</th><th scope=col>&lt;chr&gt;</th><th scope=col>&lt;chr&gt;</th><th scope=col>&lt;chr&gt;</th><th scope=col>&lt;chr&gt;</th><th scope=col>&lt;chr&gt;</th></tr>\n",
       "</thead>\n",
       "<tbody>\n",
       "\t<tr><td>              </td><td>Spring Sep, Oct, Nov</td><td>Spring Sep, Oct, Nov</td><td>Summer Dec, Jan, Feb</td><td>Summer Dec, Jan, Feb</td><td>Autumn Mar, Apr, May</td><td>Autumn Mar, Apr, May</td><td>Winter Jun, Jul, Aug</td><td>Winter Jun, Jul, Aug</td></tr>\n",
       "\t<tr><td>              </td><td>High                </td><td>Low                 </td><td>High                </td><td>Low                 </td><td>High                </td><td>Low                 </td><td>High                </td><td>Low                 </td></tr>\n",
       "\t<tr><td>Bay of Islands</td><td>Bay of Islands      </td><td>Bay of Islands      </td><td>Bay of Islands      </td><td>Bay of Islands      </td><td>Bay of Islands      </td><td>Bay of Islands      </td><td>Bay of Islands      </td><td>Bay of Islands      </td></tr>\n",
       "\t<tr><td>Temp (C)      </td><td>19                  </td><td>9                   </td><td>25                  </td><td>14                  </td><td>21                  </td><td>11                  </td><td>16                  </td><td>7                   </td></tr>\n",
       "\t<tr><td>Temp (F)      </td><td>67                  </td><td>48                  </td><td>77                  </td><td>57                  </td><td>70                  </td><td>52                  </td><td>61                  </td><td>45                  </td></tr>\n",
       "\t<tr><td>Rain Days     </td><td>11                  </td><td>11                  </td><td>7                   </td><td>7                   </td><td>11                  </td><td>11                  </td><td>16                  </td><td>16                  </td></tr>\n",
       "\t<tr><td>Auckland      </td><td>Auckland            </td><td>Auckland            </td><td>Auckland            </td><td>Auckland            </td><td>Auckland            </td><td>Auckland            </td><td>Auckland            </td><td>Auckland            </td></tr>\n",
       "\t<tr><td>Temp (C)      </td><td>18                  </td><td>11                  </td><td>24                  </td><td>12                  </td><td>20                  </td><td>13                  </td><td>15                  </td><td>9                   </td></tr>\n",
       "\t<tr><td>Temp (F)      </td><td>65                  </td><td>52                  </td><td>75                  </td><td>54                  </td><td>68                  </td><td>55                  </td><td>59                  </td><td>48                  </td></tr>\n",
       "\t<tr><td>Rain Days     </td><td>12                  </td><td>12                  </td><td>8                   </td><td>8                   </td><td>11                  </td><td>11                  </td><td>15                  </td><td>15                  </td></tr>\n",
       "\t<tr><td>Rotorua       </td><td>Rotorua             </td><td>Rotorua             </td><td>Rotorua             </td><td>Rotorua             </td><td>Rotorua             </td><td>Rotorua             </td><td>Rotorua             </td><td>Rotorua             </td></tr>\n",
       "\t<tr><td>Temp (C)      </td><td>17                  </td><td>7                   </td><td>24                  </td><td>12                  </td><td>18                  </td><td>9                   </td><td>13                  </td><td>4                   </td></tr>\n",
       "\t<tr><td>Temp (F)      </td><td>63                  </td><td>45                  </td><td>75                  </td><td>54                  </td><td>65                  </td><td>48                  </td><td>55                  </td><td>39                  </td></tr>\n",
       "\t<tr><td>Rain Days     </td><td>11                  </td><td>11                  </td><td>9                   </td><td>9                   </td><td>9                   </td><td>9                   </td><td>13                  </td><td>13                  </td></tr>\n",
       "\t<tr><td>Wellington    </td><td>Wellington          </td><td>Wellington          </td><td>Wellington          </td><td>Wellington          </td><td>Wellington          </td><td>Wellington          </td><td>Wellington          </td><td>Wellington          </td></tr>\n",
       "\t<tr><td>Temp (C)      </td><td>15                  </td><td>9                   </td><td>20                  </td><td>13                  </td><td>17                  </td><td>11                  </td><td>12                  </td><td>6                   </td></tr>\n",
       "\t<tr><td>Temp (F)      </td><td>59                  </td><td>48                  </td><td>68                  </td><td>55                  </td><td>63                  </td><td>52                  </td><td>54                  </td><td>43                  </td></tr>\n",
       "\t<tr><td>Rain Days     </td><td>11                  </td><td>11                  </td><td>7                   </td><td>7                   </td><td>10                  </td><td>10                  </td><td>13                  </td><td>13                  </td></tr>\n",
       "\t<tr><td>Christchurch  </td><td>Christchurch        </td><td>Christchurch        </td><td>Christchurch        </td><td>Christchurch        </td><td>Christchurch        </td><td>Christchurch        </td><td>Christchurch        </td><td>Christchurch        </td></tr>\n",
       "\t<tr><td>Temp (C)      </td><td>17                  </td><td>7                   </td><td>22                  </td><td>12                  </td><td>18                  </td><td>8                   </td><td>12                  </td><td>3                   </td></tr>\n",
       "\t<tr><td>Temp (F)      </td><td>63                  </td><td>45                  </td><td>72                  </td><td>54                  </td><td>65                  </td><td>46                  </td><td>54                  </td><td>37                  </td></tr>\n",
       "\t<tr><td>Rain Days     </td><td>7                   </td><td>7                   </td><td>7                   </td><td>7                   </td><td>7                   </td><td>7                   </td><td>7                   </td><td>7                   </td></tr>\n",
       "\t<tr><td>Queenstown    </td><td>Queenstown          </td><td>Queenstown          </td><td>Queenstown          </td><td>Queenstown          </td><td>Queenstown          </td><td>Queenstown          </td><td>Queenstown          </td><td>Queenstown          </td></tr>\n",
       "\t<tr><td>Temp (C)      </td><td>16                  </td><td>5                   </td><td>22                  </td><td>10                  </td><td>16                  </td><td>6                   </td><td>10                  </td><td>1                   </td></tr>\n",
       "\t<tr><td>Temp (F)      </td><td>61                  </td><td>41                  </td><td>72                  </td><td>50                  </td><td>61                  </td><td>43                  </td><td>50                  </td><td>34                  </td></tr>\n",
       "\t<tr><td>Rain Days     </td><td>9                   </td><td>9                   </td><td>8                   </td><td>8                   </td><td>8                   </td><td>8                   </td><td>7                   </td><td>7                   </td></tr>\n",
       "</tbody>\n",
       "</table>\n",
       "</li>\n",
       "</ol>\n"
      ],
      "text/latex": [
       "\\begin{enumerate}\n",
       "\\item A data.frame: 26 × 9\n",
       "\\begin{tabular}{r|lllllllll}\n",
       " X1 & X2 & X3 & X4 & X5 & X6 & X7 & X8 & X9\\\\\n",
       " <chr> & <chr> & <chr> & <chr> & <chr> & <chr> & <chr> & <chr> & <chr>\\\\\n",
       "\\hline\n",
       "\t                & Spring Sep, Oct, Nov & Spring Sep, Oct, Nov & Summer Dec, Jan, Feb & Summer Dec, Jan, Feb & Autumn Mar, Apr, May & Autumn Mar, Apr, May & Winter Jun, Jul, Aug & Winter Jun, Jul, Aug\\\\\n",
       "\t                & High                 & Low                  & High                 & Low                  & High                 & Low                  & High                 & Low                 \\\\\n",
       "\t Bay of Islands & Bay of Islands       & Bay of Islands       & Bay of Islands       & Bay of Islands       & Bay of Islands       & Bay of Islands       & Bay of Islands       & Bay of Islands      \\\\\n",
       "\t Temp (C)       & 19                   & 9                    & 25                   & 14                   & 21                   & 11                   & 16                   & 7                   \\\\\n",
       "\t Temp (F)       & 67                   & 48                   & 77                   & 57                   & 70                   & 52                   & 61                   & 45                  \\\\\n",
       "\t Rain Days      & 11                   & 11                   & 7                    & 7                    & 11                   & 11                   & 16                   & 16                  \\\\\n",
       "\t Auckland       & Auckland             & Auckland             & Auckland             & Auckland             & Auckland             & Auckland             & Auckland             & Auckland            \\\\\n",
       "\t Temp (C)       & 18                   & 11                   & 24                   & 12                   & 20                   & 13                   & 15                   & 9                   \\\\\n",
       "\t Temp (F)       & 65                   & 52                   & 75                   & 54                   & 68                   & 55                   & 59                   & 48                  \\\\\n",
       "\t Rain Days      & 12                   & 12                   & 8                    & 8                    & 11                   & 11                   & 15                   & 15                  \\\\\n",
       "\t Rotorua        & Rotorua              & Rotorua              & Rotorua              & Rotorua              & Rotorua              & Rotorua              & Rotorua              & Rotorua             \\\\\n",
       "\t Temp (C)       & 17                   & 7                    & 24                   & 12                   & 18                   & 9                    & 13                   & 4                   \\\\\n",
       "\t Temp (F)       & 63                   & 45                   & 75                   & 54                   & 65                   & 48                   & 55                   & 39                  \\\\\n",
       "\t Rain Days      & 11                   & 11                   & 9                    & 9                    & 9                    & 9                    & 13                   & 13                  \\\\\n",
       "\t Wellington     & Wellington           & Wellington           & Wellington           & Wellington           & Wellington           & Wellington           & Wellington           & Wellington          \\\\\n",
       "\t Temp (C)       & 15                   & 9                    & 20                   & 13                   & 17                   & 11                   & 12                   & 6                   \\\\\n",
       "\t Temp (F)       & 59                   & 48                   & 68                   & 55                   & 63                   & 52                   & 54                   & 43                  \\\\\n",
       "\t Rain Days      & 11                   & 11                   & 7                    & 7                    & 10                   & 10                   & 13                   & 13                  \\\\\n",
       "\t Christchurch   & Christchurch         & Christchurch         & Christchurch         & Christchurch         & Christchurch         & Christchurch         & Christchurch         & Christchurch        \\\\\n",
       "\t Temp (C)       & 17                   & 7                    & 22                   & 12                   & 18                   & 8                    & 12                   & 3                   \\\\\n",
       "\t Temp (F)       & 63                   & 45                   & 72                   & 54                   & 65                   & 46                   & 54                   & 37                  \\\\\n",
       "\t Rain Days      & 7                    & 7                    & 7                    & 7                    & 7                    & 7                    & 7                    & 7                   \\\\\n",
       "\t Queenstown     & Queenstown           & Queenstown           & Queenstown           & Queenstown           & Queenstown           & Queenstown           & Queenstown           & Queenstown          \\\\\n",
       "\t Temp (C)       & 16                   & 5                    & 22                   & 10                   & 16                   & 6                    & 10                   & 1                   \\\\\n",
       "\t Temp (F)       & 61                   & 41                   & 72                   & 50                   & 61                   & 43                   & 50                   & 34                  \\\\\n",
       "\t Rain Days      & 9                    & 9                    & 8                    & 8                    & 8                    & 8                    & 7                    & 7                   \\\\\n",
       "\\end{tabular}\n",
       "\n",
       "\\end{enumerate}\n"
      ],
      "text/markdown": [
       "1. \n",
       "A data.frame: 26 × 9\n",
       "\n",
       "| X1 &lt;chr&gt; | X2 &lt;chr&gt; | X3 &lt;chr&gt; | X4 &lt;chr&gt; | X5 &lt;chr&gt; | X6 &lt;chr&gt; | X7 &lt;chr&gt; | X8 &lt;chr&gt; | X9 &lt;chr&gt; |\n",
       "|---|---|---|---|---|---|---|---|---|\n",
       "| <!----> | Spring Sep, Oct, Nov | Spring Sep, Oct, Nov | Summer Dec, Jan, Feb | Summer Dec, Jan, Feb | Autumn Mar, Apr, May | Autumn Mar, Apr, May | Winter Jun, Jul, Aug | Winter Jun, Jul, Aug |\n",
       "| <!----> | High                 | Low                  | High                 | Low                  | High                 | Low                  | High                 | Low                  |\n",
       "| Bay of Islands | Bay of Islands       | Bay of Islands       | Bay of Islands       | Bay of Islands       | Bay of Islands       | Bay of Islands       | Bay of Islands       | Bay of Islands       |\n",
       "| Temp (C)       | 19                   | 9                    | 25                   | 14                   | 21                   | 11                   | 16                   | 7                    |\n",
       "| Temp (F)       | 67                   | 48                   | 77                   | 57                   | 70                   | 52                   | 61                   | 45                   |\n",
       "| Rain Days      | 11                   | 11                   | 7                    | 7                    | 11                   | 11                   | 16                   | 16                   |\n",
       "| Auckland       | Auckland             | Auckland             | Auckland             | Auckland             | Auckland             | Auckland             | Auckland             | Auckland             |\n",
       "| Temp (C)       | 18                   | 11                   | 24                   | 12                   | 20                   | 13                   | 15                   | 9                    |\n",
       "| Temp (F)       | 65                   | 52                   | 75                   | 54                   | 68                   | 55                   | 59                   | 48                   |\n",
       "| Rain Days      | 12                   | 12                   | 8                    | 8                    | 11                   | 11                   | 15                   | 15                   |\n",
       "| Rotorua        | Rotorua              | Rotorua              | Rotorua              | Rotorua              | Rotorua              | Rotorua              | Rotorua              | Rotorua              |\n",
       "| Temp (C)       | 17                   | 7                    | 24                   | 12                   | 18                   | 9                    | 13                   | 4                    |\n",
       "| Temp (F)       | 63                   | 45                   | 75                   | 54                   | 65                   | 48                   | 55                   | 39                   |\n",
       "| Rain Days      | 11                   | 11                   | 9                    | 9                    | 9                    | 9                    | 13                   | 13                   |\n",
       "| Wellington     | Wellington           | Wellington           | Wellington           | Wellington           | Wellington           | Wellington           | Wellington           | Wellington           |\n",
       "| Temp (C)       | 15                   | 9                    | 20                   | 13                   | 17                   | 11                   | 12                   | 6                    |\n",
       "| Temp (F)       | 59                   | 48                   | 68                   | 55                   | 63                   | 52                   | 54                   | 43                   |\n",
       "| Rain Days      | 11                   | 11                   | 7                    | 7                    | 10                   | 10                   | 13                   | 13                   |\n",
       "| Christchurch   | Christchurch         | Christchurch         | Christchurch         | Christchurch         | Christchurch         | Christchurch         | Christchurch         | Christchurch         |\n",
       "| Temp (C)       | 17                   | 7                    | 22                   | 12                   | 18                   | 8                    | 12                   | 3                    |\n",
       "| Temp (F)       | 63                   | 45                   | 72                   | 54                   | 65                   | 46                   | 54                   | 37                   |\n",
       "| Rain Days      | 7                    | 7                    | 7                    | 7                    | 7                    | 7                    | 7                    | 7                    |\n",
       "| Queenstown     | Queenstown           | Queenstown           | Queenstown           | Queenstown           | Queenstown           | Queenstown           | Queenstown           | Queenstown           |\n",
       "| Temp (C)       | 16                   | 5                    | 22                   | 10                   | 16                   | 6                    | 10                   | 1                    |\n",
       "| Temp (F)       | 61                   | 41                   | 72                   | 50                   | 61                   | 43                   | 50                   | 34                   |\n",
       "| Rain Days      | 9                    | 9                    | 8                    | 8                    | 8                    | 8                    | 7                    | 7                    |\n",
       "\n",
       "\n",
       "\n",
       "\n"
      ],
      "text/plain": [
       "[[1]]\n",
       "               X1                   X2                   X3\n",
       "1                 Spring Sep, Oct, Nov Spring Sep, Oct, Nov\n",
       "2                                 High                  Low\n",
       "3  Bay of Islands       Bay of Islands       Bay of Islands\n",
       "4        Temp (C)                   19                    9\n",
       "5        Temp (F)                   67                   48\n",
       "6       Rain Days                   11                   11\n",
       "7        Auckland             Auckland             Auckland\n",
       "8        Temp (C)                   18                   11\n",
       "9        Temp (F)                   65                   52\n",
       "10      Rain Days                   12                   12\n",
       "11        Rotorua              Rotorua              Rotorua\n",
       "12       Temp (C)                   17                    7\n",
       "13       Temp (F)                   63                   45\n",
       "14      Rain Days                   11                   11\n",
       "15     Wellington           Wellington           Wellington\n",
       "16       Temp (C)                   15                    9\n",
       "17       Temp (F)                   59                   48\n",
       "18      Rain Days                   11                   11\n",
       "19   Christchurch         Christchurch         Christchurch\n",
       "20       Temp (C)                   17                    7\n",
       "21       Temp (F)                   63                   45\n",
       "22      Rain Days                    7                    7\n",
       "23     Queenstown           Queenstown           Queenstown\n",
       "24       Temp (C)                   16                    5\n",
       "25       Temp (F)                   61                   41\n",
       "26      Rain Days                    9                    9\n",
       "                     X4                   X5                   X6\n",
       "1  Summer Dec, Jan, Feb Summer Dec, Jan, Feb Autumn Mar, Apr, May\n",
       "2                  High                  Low                 High\n",
       "3        Bay of Islands       Bay of Islands       Bay of Islands\n",
       "4                    25                   14                   21\n",
       "5                    77                   57                   70\n",
       "6                     7                    7                   11\n",
       "7              Auckland             Auckland             Auckland\n",
       "8                    24                   12                   20\n",
       "9                    75                   54                   68\n",
       "10                    8                    8                   11\n",
       "11              Rotorua              Rotorua              Rotorua\n",
       "12                   24                   12                   18\n",
       "13                   75                   54                   65\n",
       "14                    9                    9                    9\n",
       "15           Wellington           Wellington           Wellington\n",
       "16                   20                   13                   17\n",
       "17                   68                   55                   63\n",
       "18                    7                    7                   10\n",
       "19         Christchurch         Christchurch         Christchurch\n",
       "20                   22                   12                   18\n",
       "21                   72                   54                   65\n",
       "22                    7                    7                    7\n",
       "23           Queenstown           Queenstown           Queenstown\n",
       "24                   22                   10                   16\n",
       "25                   72                   50                   61\n",
       "26                    8                    8                    8\n",
       "                     X7                   X8                   X9\n",
       "1  Autumn Mar, Apr, May Winter Jun, Jul, Aug Winter Jun, Jul, Aug\n",
       "2                   Low                 High                  Low\n",
       "3        Bay of Islands       Bay of Islands       Bay of Islands\n",
       "4                    11                   16                    7\n",
       "5                    52                   61                   45\n",
       "6                    11                   16                   16\n",
       "7              Auckland             Auckland             Auckland\n",
       "8                    13                   15                    9\n",
       "9                    55                   59                   48\n",
       "10                   11                   15                   15\n",
       "11              Rotorua              Rotorua              Rotorua\n",
       "12                    9                   13                    4\n",
       "13                   48                   55                   39\n",
       "14                    9                   13                   13\n",
       "15           Wellington           Wellington           Wellington\n",
       "16                   11                   12                    6\n",
       "17                   52                   54                   43\n",
       "18                   10                   13                   13\n",
       "19         Christchurch         Christchurch         Christchurch\n",
       "20                    8                   12                    3\n",
       "21                   46                   54                   37\n",
       "22                    7                    7                    7\n",
       "23           Queenstown           Queenstown           Queenstown\n",
       "24                    6                   10                    1\n",
       "25                   43                   50                   34\n",
       "26                    8                    7                    7\n"
      ]
     },
     "metadata": {},
     "output_type": "display_data"
    }
   ],
   "source": [
    "#Scraping Book Name from webpage \n",
    "Seasons2 <- view2 %>%\n",
    "html_table(fill=TRUE)\n",
    "\n",
    "Seasons2 %>%\n",
    "    head()"
   ]
  },
  {
   "cell_type": "code",
   "execution_count": 7,
   "metadata": {},
   "outputs": [
    {
     "data": {
      "text/html": [
       "'list'"
      ],
      "text/latex": [
       "'list'"
      ],
      "text/markdown": [
       "'list'"
      ],
      "text/plain": [
       "[1] \"list\""
      ]
     },
     "metadata": {},
     "output_type": "display_data"
    },
    {
     "data": {
      "text/html": [
       "'list'"
      ],
      "text/latex": [
       "'list'"
      ],
      "text/markdown": [
       "'list'"
      ],
      "text/plain": [
       "[1] \"list\""
      ]
     },
     "metadata": {},
     "output_type": "display_data"
    },
    {
     "data": {
      "text/html": [
       "<table>\n",
       "<caption>A data.frame: 6 × 1</caption>\n",
       "<thead>\n",
       "\t<tr><th scope=col>X2</th></tr>\n",
       "\t<tr><th scope=col>&lt;chr&gt;</th></tr>\n",
       "</thead>\n",
       "<tbody>\n",
       "\t<tr><td>Spring Sep, Oct, Nov</td></tr>\n",
       "\t<tr><td>High                </td></tr>\n",
       "\t<tr><td>Bay of Islands      </td></tr>\n",
       "\t<tr><td>19                  </td></tr>\n",
       "\t<tr><td>67                  </td></tr>\n",
       "\t<tr><td>11                  </td></tr>\n",
       "</tbody>\n",
       "</table>\n"
      ],
      "text/latex": [
       "A data.frame: 6 × 1\n",
       "\\begin{tabular}{r|l}\n",
       " X2\\\\\n",
       " <chr>\\\\\n",
       "\\hline\n",
       "\t Spring Sep, Oct, Nov\\\\\n",
       "\t High                \\\\\n",
       "\t Bay of Islands      \\\\\n",
       "\t 19                  \\\\\n",
       "\t 67                  \\\\\n",
       "\t 11                  \\\\\n",
       "\\end{tabular}\n"
      ],
      "text/markdown": [
       "\n",
       "A data.frame: 6 × 1\n",
       "\n",
       "| X2 &lt;chr&gt; |\n",
       "|---|\n",
       "| Spring Sep, Oct, Nov |\n",
       "| High                 |\n",
       "| Bay of Islands       |\n",
       "| 19                   |\n",
       "| 67                   |\n",
       "| 11                   |\n",
       "\n"
      ],
      "text/plain": [
       "  X2                  \n",
       "1 Spring Sep, Oct, Nov\n",
       "2 High                \n",
       "3 Bay of Islands      \n",
       "4 19                  \n",
       "5 67                  \n",
       "6 11                  "
      ]
     },
     "metadata": {},
     "output_type": "display_data"
    }
   ],
   "source": [
    "typeof(data.frame(Seasons2))\n",
    "df_seasons <- data.frame(Seasons2)\n",
    "typeof(df_seasons)\n",
    "head(df_seasons[\"X2\"])"
   ]
  },
  {
   "cell_type": "code",
   "execution_count": 12,
   "metadata": {},
   "outputs": [],
   "source": [
    "colnames(df_seasons) <- df_seasons[1,]"
   ]
  },
  {
   "cell_type": "code",
   "execution_count": 14,
   "metadata": {},
   "outputs": [],
   "source": [
    "df_seasons <- df_seasons[-c(1,2), ]"
   ]
  },
  {
   "cell_type": "code",
   "execution_count": null,
   "metadata": {},
   "outputs": [],
   "source": []
  },
  {
   "cell_type": "code",
   "execution_count": 16,
   "metadata": {},
   "outputs": [
    {
     "data": {
      "text/html": [
       "<table>\n",
       "<caption>A data.frame: 10 × 9</caption>\n",
       "<thead>\n",
       "\t<tr><th></th><th scope=col></th><th scope=col>Spring Sep, Oct, Nov</th><th scope=col>Spring Sep, Oct, Nov</th><th scope=col>Summer Dec, Jan, Feb</th><th scope=col>Summer Dec, Jan, Feb</th><th scope=col>Autumn Mar, Apr, May</th><th scope=col>Autumn Mar, Apr, May</th><th scope=col>Winter Jun, Jul, Aug</th><th scope=col>Winter Jun, Jul, Aug</th></tr>\n",
       "\t<tr><th></th><th scope=col>&lt;chr&gt;</th><th scope=col>&lt;chr&gt;</th><th scope=col>&lt;chr&gt;</th><th scope=col>&lt;chr&gt;</th><th scope=col>&lt;chr&gt;</th><th scope=col>&lt;chr&gt;</th><th scope=col>&lt;chr&gt;</th><th scope=col>&lt;chr&gt;</th><th scope=col>&lt;chr&gt;</th></tr>\n",
       "</thead>\n",
       "<tbody>\n",
       "\t<tr><th scope=row>3</th><td>Bay of Islands</td><td>Bay of Islands</td><td>Bay of Islands</td><td>Bay of Islands</td><td>Bay of Islands</td><td>Bay of Islands</td><td>Bay of Islands</td><td>Bay of Islands</td><td>Bay of Islands</td></tr>\n",
       "\t<tr><th scope=row>4</th><td>Temp (C)      </td><td>19            </td><td>9             </td><td>25            </td><td>14            </td><td>21            </td><td>11            </td><td>16            </td><td>7             </td></tr>\n",
       "\t<tr><th scope=row>5</th><td>Temp (F)      </td><td>67            </td><td>48            </td><td>77            </td><td>57            </td><td>70            </td><td>52            </td><td>61            </td><td>45            </td></tr>\n",
       "\t<tr><th scope=row>6</th><td>Rain Days     </td><td>11            </td><td>11            </td><td>7             </td><td>7             </td><td>11            </td><td>11            </td><td>16            </td><td>16            </td></tr>\n",
       "\t<tr><th scope=row>7</th><td>Auckland      </td><td>Auckland      </td><td>Auckland      </td><td>Auckland      </td><td>Auckland      </td><td>Auckland      </td><td>Auckland      </td><td>Auckland      </td><td>Auckland      </td></tr>\n",
       "\t<tr><th scope=row>8</th><td>Temp (C)      </td><td>18            </td><td>11            </td><td>24            </td><td>12            </td><td>20            </td><td>13            </td><td>15            </td><td>9             </td></tr>\n",
       "\t<tr><th scope=row>9</th><td>Temp (F)      </td><td>65            </td><td>52            </td><td>75            </td><td>54            </td><td>68            </td><td>55            </td><td>59            </td><td>48            </td></tr>\n",
       "\t<tr><th scope=row>10</th><td>Rain Days     </td><td>12            </td><td>12            </td><td>8             </td><td>8             </td><td>11            </td><td>11            </td><td>15            </td><td>15            </td></tr>\n",
       "\t<tr><th scope=row>11</th><td>Rotorua       </td><td>Rotorua       </td><td>Rotorua       </td><td>Rotorua       </td><td>Rotorua       </td><td>Rotorua       </td><td>Rotorua       </td><td>Rotorua       </td><td>Rotorua       </td></tr>\n",
       "\t<tr><th scope=row>12</th><td>Temp (C)      </td><td>17            </td><td>7             </td><td>24            </td><td>12            </td><td>18            </td><td>9             </td><td>13            </td><td>4             </td></tr>\n",
       "</tbody>\n",
       "</table>\n"
      ],
      "text/latex": [
       "A data.frame: 10 × 9\n",
       "\\begin{tabular}{r|lllllllll}\n",
       "  &  & Spring Sep, Oct, Nov & Spring Sep, Oct, Nov & Summer Dec, Jan, Feb & Summer Dec, Jan, Feb & Autumn Mar, Apr, May & Autumn Mar, Apr, May & Winter Jun, Jul, Aug & Winter Jun, Jul, Aug\\\\\n",
       "  & <chr> & <chr> & <chr> & <chr> & <chr> & <chr> & <chr> & <chr> & <chr>\\\\\n",
       "\\hline\n",
       "\t3 & Bay of Islands & Bay of Islands & Bay of Islands & Bay of Islands & Bay of Islands & Bay of Islands & Bay of Islands & Bay of Islands & Bay of Islands\\\\\n",
       "\t4 & Temp (C)       & 19             & 9              & 25             & 14             & 21             & 11             & 16             & 7             \\\\\n",
       "\t5 & Temp (F)       & 67             & 48             & 77             & 57             & 70             & 52             & 61             & 45            \\\\\n",
       "\t6 & Rain Days      & 11             & 11             & 7              & 7              & 11             & 11             & 16             & 16            \\\\\n",
       "\t7 & Auckland       & Auckland       & Auckland       & Auckland       & Auckland       & Auckland       & Auckland       & Auckland       & Auckland      \\\\\n",
       "\t8 & Temp (C)       & 18             & 11             & 24             & 12             & 20             & 13             & 15             & 9             \\\\\n",
       "\t9 & Temp (F)       & 65             & 52             & 75             & 54             & 68             & 55             & 59             & 48            \\\\\n",
       "\t10 & Rain Days      & 12             & 12             & 8              & 8              & 11             & 11             & 15             & 15            \\\\\n",
       "\t11 & Rotorua        & Rotorua        & Rotorua        & Rotorua        & Rotorua        & Rotorua        & Rotorua        & Rotorua        & Rotorua       \\\\\n",
       "\t12 & Temp (C)       & 17             & 7              & 24             & 12             & 18             & 9              & 13             & 4             \\\\\n",
       "\\end{tabular}\n"
      ],
      "text/markdown": [
       "\n",
       "A data.frame: 10 × 9\n",
       "\n",
       "| <!--/--> | <!----> &lt;chr&gt; | Spring Sep, Oct, Nov &lt;chr&gt; | Spring Sep, Oct, Nov &lt;chr&gt; | Summer Dec, Jan, Feb &lt;chr&gt; | Summer Dec, Jan, Feb &lt;chr&gt; | Autumn Mar, Apr, May &lt;chr&gt; | Autumn Mar, Apr, May &lt;chr&gt; | Winter Jun, Jul, Aug &lt;chr&gt; | Winter Jun, Jul, Aug &lt;chr&gt; |\n",
       "|---|---|---|---|---|---|---|---|---|---|\n",
       "| 3 | Bay of Islands | Bay of Islands | Bay of Islands | Bay of Islands | Bay of Islands | Bay of Islands | Bay of Islands | Bay of Islands | Bay of Islands |\n",
       "| 4 | Temp (C)       | 19             | 9              | 25             | 14             | 21             | 11             | 16             | 7              |\n",
       "| 5 | Temp (F)       | 67             | 48             | 77             | 57             | 70             | 52             | 61             | 45             |\n",
       "| 6 | Rain Days      | 11             | 11             | 7              | 7              | 11             | 11             | 16             | 16             |\n",
       "| 7 | Auckland       | Auckland       | Auckland       | Auckland       | Auckland       | Auckland       | Auckland       | Auckland       | Auckland       |\n",
       "| 8 | Temp (C)       | 18             | 11             | 24             | 12             | 20             | 13             | 15             | 9              |\n",
       "| 9 | Temp (F)       | 65             | 52             | 75             | 54             | 68             | 55             | 59             | 48             |\n",
       "| 10 | Rain Days      | 12             | 12             | 8              | 8              | 11             | 11             | 15             | 15             |\n",
       "| 11 | Rotorua        | Rotorua        | Rotorua        | Rotorua        | Rotorua        | Rotorua        | Rotorua        | Rotorua        | Rotorua        |\n",
       "| 12 | Temp (C)       | 17             | 7              | 24             | 12             | 18             | 9              | 13             | 4              |\n",
       "\n"
      ],
      "text/plain": [
       "                  Spring Sep, Oct, Nov Spring Sep, Oct, Nov\n",
       "3  Bay of Islands Bay of Islands       Bay of Islands      \n",
       "4  Temp (C)       19                   9                   \n",
       "5  Temp (F)       67                   48                  \n",
       "6  Rain Days      11                   11                  \n",
       "7  Auckland       Auckland             Auckland            \n",
       "8  Temp (C)       18                   11                  \n",
       "9  Temp (F)       65                   52                  \n",
       "10 Rain Days      12                   12                  \n",
       "11 Rotorua        Rotorua              Rotorua             \n",
       "12 Temp (C)       17                   7                   \n",
       "   Summer Dec, Jan, Feb Summer Dec, Jan, Feb Autumn Mar, Apr, May\n",
       "3  Bay of Islands       Bay of Islands       Bay of Islands      \n",
       "4  25                   14                   21                  \n",
       "5  77                   57                   70                  \n",
       "6  7                    7                    11                  \n",
       "7  Auckland             Auckland             Auckland            \n",
       "8  24                   12                   20                  \n",
       "9  75                   54                   68                  \n",
       "10 8                    8                    11                  \n",
       "11 Rotorua              Rotorua              Rotorua             \n",
       "12 24                   12                   18                  \n",
       "   Autumn Mar, Apr, May Winter Jun, Jul, Aug Winter Jun, Jul, Aug\n",
       "3  Bay of Islands       Bay of Islands       Bay of Islands      \n",
       "4  11                   16                   7                   \n",
       "5  52                   61                   45                  \n",
       "6  11                   16                   16                  \n",
       "7  Auckland             Auckland             Auckland            \n",
       "8  13                   15                   9                   \n",
       "9  55                   59                   48                  \n",
       "10 11                   15                   15                  \n",
       "11 Rotorua              Rotorua              Rotorua             \n",
       "12 9                    13                   4                   "
      ]
     },
     "metadata": {},
     "output_type": "display_data"
    }
   ],
   "source": [
    "head(df_seasons,10)"
   ]
  },
  {
   "cell_type": "code",
   "execution_count": 36,
   "metadata": {},
   "outputs": [
    {
     "data": {
      "text/html": [
       "<table>\n",
       "<caption>A matrix: 9 × 24 of type chr</caption>\n",
       "<thead>\n",
       "\t<tr><th></th><th scope=col>3</th><th scope=col>4</th><th scope=col>5</th><th scope=col>6</th><th scope=col>7</th><th scope=col>8</th><th scope=col>9</th><th scope=col>10</th><th scope=col>11</th><th scope=col>12</th><th scope=col>...</th><th scope=col>17</th><th scope=col>18</th><th scope=col>19</th><th scope=col>20</th><th scope=col>21</th><th scope=col>22</th><th scope=col>23</th><th scope=col>24</th><th scope=col>25</th><th scope=col>26</th></tr>\n",
       "</thead>\n",
       "<tbody>\n",
       "\t<tr><th scope=row></th><td>Bay of Islands</td><td>Temp (C)</td><td>Temp (F)</td><td>Rain Days</td><td>Auckland</td><td>Temp (C)</td><td>Temp (F)</td><td>Rain Days</td><td>Rotorua</td><td>Temp (C)</td><td>...</td><td>Temp (F)</td><td>Rain Days</td><td>Christchurch</td><td>Temp (C)</td><td>Temp (F)</td><td>Rain Days</td><td>Queenstown</td><td>Temp (C)</td><td>Temp (F)</td><td>Rain Days</td></tr>\n",
       "\t<tr><th scope=row>Spring Sep, Oct, Nov</th><td>Bay of Islands</td><td>19      </td><td>67      </td><td>11       </td><td>Auckland</td><td>18      </td><td>65      </td><td>12       </td><td>Rotorua</td><td>17      </td><td>...</td><td>59      </td><td>11       </td><td>Christchurch</td><td>17      </td><td>63      </td><td>7        </td><td>Queenstown</td><td>16      </td><td>61      </td><td>9        </td></tr>\n",
       "\t<tr><th scope=row>Spring Sep, Oct, Nov</th><td>Bay of Islands</td><td>9       </td><td>48      </td><td>11       </td><td>Auckland</td><td>11      </td><td>52      </td><td>12       </td><td>Rotorua</td><td>7       </td><td>...</td><td>48      </td><td>11       </td><td>Christchurch</td><td>7       </td><td>45      </td><td>7        </td><td>Queenstown</td><td>5       </td><td>41      </td><td>9        </td></tr>\n",
       "\t<tr><th scope=row>Summer Dec, Jan, Feb</th><td>Bay of Islands</td><td>25      </td><td>77      </td><td>7        </td><td>Auckland</td><td>24      </td><td>75      </td><td>8        </td><td>Rotorua</td><td>24      </td><td>...</td><td>68      </td><td>7        </td><td>Christchurch</td><td>22      </td><td>72      </td><td>7        </td><td>Queenstown</td><td>22      </td><td>72      </td><td>8        </td></tr>\n",
       "\t<tr><th scope=row>Summer Dec, Jan, Feb</th><td>Bay of Islands</td><td>14      </td><td>57      </td><td>7        </td><td>Auckland</td><td>12      </td><td>54      </td><td>8        </td><td>Rotorua</td><td>12      </td><td>...</td><td>55      </td><td>7        </td><td>Christchurch</td><td>12      </td><td>54      </td><td>7        </td><td>Queenstown</td><td>10      </td><td>50      </td><td>8        </td></tr>\n",
       "\t<tr><th scope=row>Autumn Mar, Apr, May</th><td>Bay of Islands</td><td>21      </td><td>70      </td><td>11       </td><td>Auckland</td><td>20      </td><td>68      </td><td>11       </td><td>Rotorua</td><td>18      </td><td>...</td><td>63      </td><td>10       </td><td>Christchurch</td><td>18      </td><td>65      </td><td>7        </td><td>Queenstown</td><td>16      </td><td>61      </td><td>8        </td></tr>\n",
       "\t<tr><th scope=row>Autumn Mar, Apr, May</th><td>Bay of Islands</td><td>11      </td><td>52      </td><td>11       </td><td>Auckland</td><td>13      </td><td>55      </td><td>11       </td><td>Rotorua</td><td>9       </td><td>...</td><td>52      </td><td>10       </td><td>Christchurch</td><td>8       </td><td>46      </td><td>7        </td><td>Queenstown</td><td>6       </td><td>43      </td><td>8        </td></tr>\n",
       "\t<tr><th scope=row>Winter Jun, Jul, Aug</th><td>Bay of Islands</td><td>16      </td><td>61      </td><td>16       </td><td>Auckland</td><td>15      </td><td>59      </td><td>15       </td><td>Rotorua</td><td>13      </td><td>...</td><td>54      </td><td>13       </td><td>Christchurch</td><td>12      </td><td>54      </td><td>7        </td><td>Queenstown</td><td>10      </td><td>50      </td><td>7        </td></tr>\n",
       "\t<tr><th scope=row>Winter Jun, Jul, Aug</th><td>Bay of Islands</td><td>7       </td><td>45      </td><td>16       </td><td>Auckland</td><td>9       </td><td>48      </td><td>15       </td><td>Rotorua</td><td>4       </td><td>...</td><td>43      </td><td>13       </td><td>Christchurch</td><td>3       </td><td>37      </td><td>7        </td><td>Queenstown</td><td>1       </td><td>34      </td><td>7        </td></tr>\n",
       "</tbody>\n",
       "</table>\n"
      ],
      "text/latex": [
       "A matrix: 9 × 24 of type chr\n",
       "\\begin{tabular}{r|llllllllllllllllllllllll}\n",
       "  & 3 & 4 & 5 & 6 & 7 & 8 & 9 & 10 & 11 & 12 & 13 & 14 & 15 & 16 & 17 & 18 & 19 & 20 & 21 & 22 & 23 & 24 & 25 & 26\\\\\n",
       "\\hline\n",
       "\t & Bay of Islands & Temp (C) & Temp (F) & Rain Days & Auckland & Temp (C) & Temp (F) & Rain Days & Rotorua & Temp (C) & Temp (F) & Rain Days & Wellington & Temp (C) & Temp (F) & Rain Days & Christchurch & Temp (C) & Temp (F) & Rain Days & Queenstown & Temp (C) & Temp (F) & Rain Days\\\\\n",
       "\tSpring Sep, Oct, Nov & Bay of Islands & 19       & 67       & 11        & Auckland & 18       & 65       & 12        & Rotorua & 17       & 63       & 11        & Wellington & 15       & 59       & 11        & Christchurch & 17       & 63       & 7         & Queenstown & 16       & 61       & 9        \\\\\n",
       "\tSpring Sep, Oct, Nov & Bay of Islands & 9        & 48       & 11        & Auckland & 11       & 52       & 12        & Rotorua & 7        & 45       & 11        & Wellington & 9        & 48       & 11        & Christchurch & 7        & 45       & 7         & Queenstown & 5        & 41       & 9        \\\\\n",
       "\tSummer Dec, Jan, Feb & Bay of Islands & 25       & 77       & 7         & Auckland & 24       & 75       & 8         & Rotorua & 24       & 75       & 9         & Wellington & 20       & 68       & 7         & Christchurch & 22       & 72       & 7         & Queenstown & 22       & 72       & 8        \\\\\n",
       "\tSummer Dec, Jan, Feb & Bay of Islands & 14       & 57       & 7         & Auckland & 12       & 54       & 8         & Rotorua & 12       & 54       & 9         & Wellington & 13       & 55       & 7         & Christchurch & 12       & 54       & 7         & Queenstown & 10       & 50       & 8        \\\\\n",
       "\tAutumn Mar, Apr, May & Bay of Islands & 21       & 70       & 11        & Auckland & 20       & 68       & 11        & Rotorua & 18       & 65       & 9         & Wellington & 17       & 63       & 10        & Christchurch & 18       & 65       & 7         & Queenstown & 16       & 61       & 8        \\\\\n",
       "\tAutumn Mar, Apr, May & Bay of Islands & 11       & 52       & 11        & Auckland & 13       & 55       & 11        & Rotorua & 9        & 48       & 9         & Wellington & 11       & 52       & 10        & Christchurch & 8        & 46       & 7         & Queenstown & 6        & 43       & 8        \\\\\n",
       "\tWinter Jun, Jul, Aug & Bay of Islands & 16       & 61       & 16        & Auckland & 15       & 59       & 15        & Rotorua & 13       & 55       & 13        & Wellington & 12       & 54       & 13        & Christchurch & 12       & 54       & 7         & Queenstown & 10       & 50       & 7        \\\\\n",
       "\tWinter Jun, Jul, Aug & Bay of Islands & 7        & 45       & 16        & Auckland & 9        & 48       & 15        & Rotorua & 4        & 39       & 13        & Wellington & 6        & 43       & 13        & Christchurch & 3        & 37       & 7         & Queenstown & 1        & 34       & 7        \\\\\n",
       "\\end{tabular}\n"
      ],
      "text/markdown": [
       "\n",
       "A matrix: 9 × 24 of type chr\n",
       "\n",
       "| <!--/--> | 3 | 4 | 5 | 6 | 7 | 8 | 9 | 10 | 11 | 12 | ... | 17 | 18 | 19 | 20 | 21 | 22 | 23 | 24 | 25 | 26 |\n",
       "|---|---|---|---|---|---|---|---|---|---|---|---|---|---|---|---|---|---|---|---|---|---|\n",
       "| <!----> | Bay of Islands | Temp (C) | Temp (F) | Rain Days | Auckland | Temp (C) | Temp (F) | Rain Days | Rotorua | Temp (C) | ... | Temp (F) | Rain Days | Christchurch | Temp (C) | Temp (F) | Rain Days | Queenstown | Temp (C) | Temp (F) | Rain Days |\n",
       "| Spring Sep, Oct, Nov | Bay of Islands | 19       | 67       | 11        | Auckland | 18       | 65       | 12        | Rotorua | 17       | ... | 59       | 11        | Christchurch | 17       | 63       | 7         | Queenstown | 16       | 61       | 9         |\n",
       "| Spring Sep, Oct, Nov | Bay of Islands | 9        | 48       | 11        | Auckland | 11       | 52       | 12        | Rotorua | 7        | ... | 48       | 11        | Christchurch | 7        | 45       | 7         | Queenstown | 5        | 41       | 9         |\n",
       "| Summer Dec, Jan, Feb | Bay of Islands | 25       | 77       | 7         | Auckland | 24       | 75       | 8         | Rotorua | 24       | ... | 68       | 7         | Christchurch | 22       | 72       | 7         | Queenstown | 22       | 72       | 8         |\n",
       "| Summer Dec, Jan, Feb | Bay of Islands | 14       | 57       | 7         | Auckland | 12       | 54       | 8         | Rotorua | 12       | ... | 55       | 7         | Christchurch | 12       | 54       | 7         | Queenstown | 10       | 50       | 8         |\n",
       "| Autumn Mar, Apr, May | Bay of Islands | 21       | 70       | 11        | Auckland | 20       | 68       | 11        | Rotorua | 18       | ... | 63       | 10        | Christchurch | 18       | 65       | 7         | Queenstown | 16       | 61       | 8         |\n",
       "| Autumn Mar, Apr, May | Bay of Islands | 11       | 52       | 11        | Auckland | 13       | 55       | 11        | Rotorua | 9        | ... | 52       | 10        | Christchurch | 8        | 46       | 7         | Queenstown | 6        | 43       | 8         |\n",
       "| Winter Jun, Jul, Aug | Bay of Islands | 16       | 61       | 16        | Auckland | 15       | 59       | 15        | Rotorua | 13       | ... | 54       | 13        | Christchurch | 12       | 54       | 7         | Queenstown | 10       | 50       | 7         |\n",
       "| Winter Jun, Jul, Aug | Bay of Islands | 7        | 45       | 16        | Auckland | 9        | 48       | 15        | Rotorua | 4        | ... | 43       | 13        | Christchurch | 3        | 37       | 7         | Queenstown | 1        | 34       | 7         |\n",
       "\n"
      ],
      "text/plain": [
       "                     3              4        5        6         7       \n",
       "                     Bay of Islands Temp (C) Temp (F) Rain Days Auckland\n",
       "Spring Sep, Oct, Nov Bay of Islands 19       67       11        Auckland\n",
       "Spring Sep, Oct, Nov Bay of Islands 9        48       11        Auckland\n",
       "Summer Dec, Jan, Feb Bay of Islands 25       77       7         Auckland\n",
       "Summer Dec, Jan, Feb Bay of Islands 14       57       7         Auckland\n",
       "Autumn Mar, Apr, May Bay of Islands 21       70       11        Auckland\n",
       "Autumn Mar, Apr, May Bay of Islands 11       52       11        Auckland\n",
       "Winter Jun, Jul, Aug Bay of Islands 16       61       16        Auckland\n",
       "Winter Jun, Jul, Aug Bay of Islands 7        45       16        Auckland\n",
       "                     8        9        10        11      12       ... 17      \n",
       "                     Temp (C) Temp (F) Rain Days Rotorua Temp (C) ... Temp (F)\n",
       "Spring Sep, Oct, Nov 18       65       12        Rotorua 17       ... 59      \n",
       "Spring Sep, Oct, Nov 11       52       12        Rotorua 7        ... 48      \n",
       "Summer Dec, Jan, Feb 24       75       8         Rotorua 24       ... 68      \n",
       "Summer Dec, Jan, Feb 12       54       8         Rotorua 12       ... 55      \n",
       "Autumn Mar, Apr, May 20       68       11        Rotorua 18       ... 63      \n",
       "Autumn Mar, Apr, May 13       55       11        Rotorua 9        ... 52      \n",
       "Winter Jun, Jul, Aug 15       59       15        Rotorua 13       ... 54      \n",
       "Winter Jun, Jul, Aug 9        48       15        Rotorua 4        ... 43      \n",
       "                     18        19           20       21       22       \n",
       "                     Rain Days Christchurch Temp (C) Temp (F) Rain Days\n",
       "Spring Sep, Oct, Nov 11        Christchurch 17       63       7        \n",
       "Spring Sep, Oct, Nov 11        Christchurch 7        45       7        \n",
       "Summer Dec, Jan, Feb 7         Christchurch 22       72       7        \n",
       "Summer Dec, Jan, Feb 7         Christchurch 12       54       7        \n",
       "Autumn Mar, Apr, May 10        Christchurch 18       65       7        \n",
       "Autumn Mar, Apr, May 10        Christchurch 8        46       7        \n",
       "Winter Jun, Jul, Aug 13        Christchurch 12       54       7        \n",
       "Winter Jun, Jul, Aug 13        Christchurch 3        37       7        \n",
       "                     23         24       25       26       \n",
       "                     Queenstown Temp (C) Temp (F) Rain Days\n",
       "Spring Sep, Oct, Nov Queenstown 16       61       9        \n",
       "Spring Sep, Oct, Nov Queenstown 5        41       9        \n",
       "Summer Dec, Jan, Feb Queenstown 22       72       8        \n",
       "Summer Dec, Jan, Feb Queenstown 10       50       8        \n",
       "Autumn Mar, Apr, May Queenstown 16       61       8        \n",
       "Autumn Mar, Apr, May Queenstown 6        43       8        \n",
       "Winter Jun, Jul, Aug Queenstown 10       50       7        \n",
       "Winter Jun, Jul, Aug Queenstown 1        34       7        "
      ]
     },
     "metadata": {},
     "output_type": "display_data"
    }
   ],
   "source": [
    "t(df_seasons)"
   ]
  },
  {
   "cell_type": "code",
   "execution_count": 39,
   "metadata": {},
   "outputs": [
    {
     "data": {
      "text/html": [
       "<table>\n",
       "<caption>A data.frame: 6 × 9</caption>\n",
       "<thead>\n",
       "\t<tr><th></th><th scope=col></th><th scope=col>Spring Sep, Oct, Nov</th><th scope=col>Spring Sep, Oct, Nov</th><th scope=col>Summer Dec, Jan, Feb</th><th scope=col>Summer Dec, Jan, Feb</th><th scope=col>Autumn Mar, Apr, May</th><th scope=col>Autumn Mar, Apr, May</th><th scope=col>Winter Jun, Jul, Aug</th><th scope=col>Winter Jun, Jul, Aug</th></tr>\n",
       "\t<tr><th></th><th scope=col>&lt;chr&gt;</th><th scope=col>&lt;chr&gt;</th><th scope=col>&lt;chr&gt;</th><th scope=col>&lt;chr&gt;</th><th scope=col>&lt;chr&gt;</th><th scope=col>&lt;chr&gt;</th><th scope=col>&lt;chr&gt;</th><th scope=col>&lt;chr&gt;</th><th scope=col>&lt;chr&gt;</th></tr>\n",
       "</thead>\n",
       "<tbody>\n",
       "\t<tr><th scope=row>3</th><td>Bay of Islands</td><td>Bay of Islands</td><td>Bay of Islands</td><td>Bay of Islands</td><td>Bay of Islands</td><td>Bay of Islands</td><td>Bay of Islands</td><td>Bay of Islands</td><td>Bay of Islands</td></tr>\n",
       "\t<tr><th scope=row>4</th><td>Temp (C)      </td><td>19            </td><td>9             </td><td>25            </td><td>14            </td><td>21            </td><td>11            </td><td>16            </td><td>7             </td></tr>\n",
       "\t<tr><th scope=row>5</th><td>Temp (F)      </td><td>67            </td><td>48            </td><td>77            </td><td>57            </td><td>70            </td><td>52            </td><td>61            </td><td>45            </td></tr>\n",
       "\t<tr><th scope=row>6</th><td>Rain Days     </td><td>11            </td><td>11            </td><td>7             </td><td>7             </td><td>11            </td><td>11            </td><td>16            </td><td>16            </td></tr>\n",
       "\t<tr><th scope=row>7</th><td>Auckland      </td><td>Auckland      </td><td>Auckland      </td><td>Auckland      </td><td>Auckland      </td><td>Auckland      </td><td>Auckland      </td><td>Auckland      </td><td>Auckland      </td></tr>\n",
       "\t<tr><th scope=row>8</th><td>Temp (C)      </td><td>18            </td><td>11            </td><td>24            </td><td>12            </td><td>20            </td><td>13            </td><td>15            </td><td>9             </td></tr>\n",
       "</tbody>\n",
       "</table>\n"
      ],
      "text/latex": [
       "A data.frame: 6 × 9\n",
       "\\begin{tabular}{r|lllllllll}\n",
       "  &  & Spring Sep, Oct, Nov & Spring Sep, Oct, Nov & Summer Dec, Jan, Feb & Summer Dec, Jan, Feb & Autumn Mar, Apr, May & Autumn Mar, Apr, May & Winter Jun, Jul, Aug & Winter Jun, Jul, Aug\\\\\n",
       "  & <chr> & <chr> & <chr> & <chr> & <chr> & <chr> & <chr> & <chr> & <chr>\\\\\n",
       "\\hline\n",
       "\t3 & Bay of Islands & Bay of Islands & Bay of Islands & Bay of Islands & Bay of Islands & Bay of Islands & Bay of Islands & Bay of Islands & Bay of Islands\\\\\n",
       "\t4 & Temp (C)       & 19             & 9              & 25             & 14             & 21             & 11             & 16             & 7             \\\\\n",
       "\t5 & Temp (F)       & 67             & 48             & 77             & 57             & 70             & 52             & 61             & 45            \\\\\n",
       "\t6 & Rain Days      & 11             & 11             & 7              & 7              & 11             & 11             & 16             & 16            \\\\\n",
       "\t7 & Auckland       & Auckland       & Auckland       & Auckland       & Auckland       & Auckland       & Auckland       & Auckland       & Auckland      \\\\\n",
       "\t8 & Temp (C)       & 18             & 11             & 24             & 12             & 20             & 13             & 15             & 9             \\\\\n",
       "\\end{tabular}\n"
      ],
      "text/markdown": [
       "\n",
       "A data.frame: 6 × 9\n",
       "\n",
       "| <!--/--> | <!----> &lt;chr&gt; | Spring Sep, Oct, Nov &lt;chr&gt; | Spring Sep, Oct, Nov &lt;chr&gt; | Summer Dec, Jan, Feb &lt;chr&gt; | Summer Dec, Jan, Feb &lt;chr&gt; | Autumn Mar, Apr, May &lt;chr&gt; | Autumn Mar, Apr, May &lt;chr&gt; | Winter Jun, Jul, Aug &lt;chr&gt; | Winter Jun, Jul, Aug &lt;chr&gt; |\n",
       "|---|---|---|---|---|---|---|---|---|---|\n",
       "| 3 | Bay of Islands | Bay of Islands | Bay of Islands | Bay of Islands | Bay of Islands | Bay of Islands | Bay of Islands | Bay of Islands | Bay of Islands |\n",
       "| 4 | Temp (C)       | 19             | 9              | 25             | 14             | 21             | 11             | 16             | 7              |\n",
       "| 5 | Temp (F)       | 67             | 48             | 77             | 57             | 70             | 52             | 61             | 45             |\n",
       "| 6 | Rain Days      | 11             | 11             | 7              | 7              | 11             | 11             | 16             | 16             |\n",
       "| 7 | Auckland       | Auckland       | Auckland       | Auckland       | Auckland       | Auckland       | Auckland       | Auckland       | Auckland       |\n",
       "| 8 | Temp (C)       | 18             | 11             | 24             | 12             | 20             | 13             | 15             | 9              |\n",
       "\n"
      ],
      "text/plain": [
       "                 Spring Sep, Oct, Nov Spring Sep, Oct, Nov Summer Dec, Jan, Feb\n",
       "3 Bay of Islands Bay of Islands       Bay of Islands       Bay of Islands      \n",
       "4 Temp (C)       19                   9                    25                  \n",
       "5 Temp (F)       67                   48                   77                  \n",
       "6 Rain Days      11                   11                   7                   \n",
       "7 Auckland       Auckland             Auckland             Auckland            \n",
       "8 Temp (C)       18                   11                   24                  \n",
       "  Summer Dec, Jan, Feb Autumn Mar, Apr, May Autumn Mar, Apr, May\n",
       "3 Bay of Islands       Bay of Islands       Bay of Islands      \n",
       "4 14                   21                   11                  \n",
       "5 57                   70                   52                  \n",
       "6 7                    11                   11                  \n",
       "7 Auckland             Auckland             Auckland            \n",
       "8 12                   20                   13                  \n",
       "  Winter Jun, Jul, Aug Winter Jun, Jul, Aug\n",
       "3 Bay of Islands       Bay of Islands      \n",
       "4 16                   7                   \n",
       "5 61                   45                  \n",
       "6 16                   16                  \n",
       "7 Auckland             Auckland            \n",
       "8 15                   9                   "
      ]
     },
     "metadata": {},
     "output_type": "display_data"
    },
    {
     "data": {
      "text/html": [
       "<table>\n",
       "<caption>A data.frame: 6 × 10</caption>\n",
       "<thead>\n",
       "\t<tr><th></th><th scope=col></th><th scope=col>Spring Sep, Oct, Nov</th><th scope=col>Spring Sep, Oct, Nov</th><th scope=col>Summer Dec, Jan, Feb</th><th scope=col>Summer Dec, Jan, Feb</th><th scope=col>Autumn Mar, Apr, May</th><th scope=col>Autumn Mar, Apr, May</th><th scope=col>Winter Jun, Jul, Aug</th><th scope=col>Winter Jun, Jul, Aug</th><th scope=col>names</th></tr>\n",
       "\t<tr><th></th><th scope=col>&lt;chr&gt;</th><th scope=col>&lt;chr&gt;</th><th scope=col>&lt;chr&gt;</th><th scope=col>&lt;chr&gt;</th><th scope=col>&lt;chr&gt;</th><th scope=col>&lt;chr&gt;</th><th scope=col>&lt;chr&gt;</th><th scope=col>&lt;chr&gt;</th><th scope=col>&lt;chr&gt;</th><th scope=col>&lt;chr&gt;</th></tr>\n",
       "</thead>\n",
       "<tbody>\n",
       "\t<tr><th scope=row>3</th><td>Bay of Islands</td><td>Bay of Islands</td><td>Bay of Islands</td><td>Bay of Islands</td><td>Bay of Islands</td><td>Bay of Islands</td><td>Bay of Islands</td><td>Bay of Islands</td><td>Bay of Islands</td><td>3</td></tr>\n",
       "\t<tr><th scope=row>4</th><td>Temp (C)      </td><td>19            </td><td>9             </td><td>25            </td><td>14            </td><td>21            </td><td>11            </td><td>16            </td><td>7             </td><td>4</td></tr>\n",
       "\t<tr><th scope=row>5</th><td>Temp (F)      </td><td>67            </td><td>48            </td><td>77            </td><td>57            </td><td>70            </td><td>52            </td><td>61            </td><td>45            </td><td>5</td></tr>\n",
       "\t<tr><th scope=row>6</th><td>Rain Days     </td><td>11            </td><td>11            </td><td>7             </td><td>7             </td><td>11            </td><td>11            </td><td>16            </td><td>16            </td><td>6</td></tr>\n",
       "\t<tr><th scope=row>7</th><td>Auckland      </td><td>Auckland      </td><td>Auckland      </td><td>Auckland      </td><td>Auckland      </td><td>Auckland      </td><td>Auckland      </td><td>Auckland      </td><td>Auckland      </td><td>7</td></tr>\n",
       "\t<tr><th scope=row>8</th><td>Temp (C)      </td><td>18            </td><td>11            </td><td>24            </td><td>12            </td><td>20            </td><td>13            </td><td>15            </td><td>9             </td><td>8</td></tr>\n",
       "</tbody>\n",
       "</table>\n"
      ],
      "text/latex": [
       "A data.frame: 6 × 10\n",
       "\\begin{tabular}{r|llllllllll}\n",
       "  &  & Spring Sep, Oct, Nov & Spring Sep, Oct, Nov & Summer Dec, Jan, Feb & Summer Dec, Jan, Feb & Autumn Mar, Apr, May & Autumn Mar, Apr, May & Winter Jun, Jul, Aug & Winter Jun, Jul, Aug & names\\\\\n",
       "  & <chr> & <chr> & <chr> & <chr> & <chr> & <chr> & <chr> & <chr> & <chr> & <chr>\\\\\n",
       "\\hline\n",
       "\t3 & Bay of Islands & Bay of Islands & Bay of Islands & Bay of Islands & Bay of Islands & Bay of Islands & Bay of Islands & Bay of Islands & Bay of Islands & 3\\\\\n",
       "\t4 & Temp (C)       & 19             & 9              & 25             & 14             & 21             & 11             & 16             & 7              & 4\\\\\n",
       "\t5 & Temp (F)       & 67             & 48             & 77             & 57             & 70             & 52             & 61             & 45             & 5\\\\\n",
       "\t6 & Rain Days      & 11             & 11             & 7              & 7              & 11             & 11             & 16             & 16             & 6\\\\\n",
       "\t7 & Auckland       & Auckland       & Auckland       & Auckland       & Auckland       & Auckland       & Auckland       & Auckland       & Auckland       & 7\\\\\n",
       "\t8 & Temp (C)       & 18             & 11             & 24             & 12             & 20             & 13             & 15             & 9              & 8\\\\\n",
       "\\end{tabular}\n"
      ],
      "text/markdown": [
       "\n",
       "A data.frame: 6 × 10\n",
       "\n",
       "| <!--/--> | <!----> &lt;chr&gt; | Spring Sep, Oct, Nov &lt;chr&gt; | Spring Sep, Oct, Nov &lt;chr&gt; | Summer Dec, Jan, Feb &lt;chr&gt; | Summer Dec, Jan, Feb &lt;chr&gt; | Autumn Mar, Apr, May &lt;chr&gt; | Autumn Mar, Apr, May &lt;chr&gt; | Winter Jun, Jul, Aug &lt;chr&gt; | Winter Jun, Jul, Aug &lt;chr&gt; | names &lt;chr&gt; |\n",
       "|---|---|---|---|---|---|---|---|---|---|---|\n",
       "| 3 | Bay of Islands | Bay of Islands | Bay of Islands | Bay of Islands | Bay of Islands | Bay of Islands | Bay of Islands | Bay of Islands | Bay of Islands | 3 |\n",
       "| 4 | Temp (C)       | 19             | 9              | 25             | 14             | 21             | 11             | 16             | 7              | 4 |\n",
       "| 5 | Temp (F)       | 67             | 48             | 77             | 57             | 70             | 52             | 61             | 45             | 5 |\n",
       "| 6 | Rain Days      | 11             | 11             | 7              | 7              | 11             | 11             | 16             | 16             | 6 |\n",
       "| 7 | Auckland       | Auckland       | Auckland       | Auckland       | Auckland       | Auckland       | Auckland       | Auckland       | Auckland       | 7 |\n",
       "| 8 | Temp (C)       | 18             | 11             | 24             | 12             | 20             | 13             | 15             | 9              | 8 |\n",
       "\n"
      ],
      "text/plain": [
       "                 Spring Sep, Oct, Nov Spring Sep, Oct, Nov Summer Dec, Jan, Feb\n",
       "3 Bay of Islands Bay of Islands       Bay of Islands       Bay of Islands      \n",
       "4 Temp (C)       19                   9                    25                  \n",
       "5 Temp (F)       67                   48                   77                  \n",
       "6 Rain Days      11                   11                   7                   \n",
       "7 Auckland       Auckland             Auckland             Auckland            \n",
       "8 Temp (C)       18                   11                   24                  \n",
       "  Summer Dec, Jan, Feb Autumn Mar, Apr, May Autumn Mar, Apr, May\n",
       "3 Bay of Islands       Bay of Islands       Bay of Islands      \n",
       "4 14                   21                   11                  \n",
       "5 57                   70                   52                  \n",
       "6 7                    11                   11                  \n",
       "7 Auckland             Auckland             Auckland            \n",
       "8 12                   20                   13                  \n",
       "  Winter Jun, Jul, Aug Winter Jun, Jul, Aug names\n",
       "3 Bay of Islands       Bay of Islands       3    \n",
       "4 16                   7                    4    \n",
       "5 61                   45                   5    \n",
       "6 16                   16                   6    \n",
       "7 Auckland             Auckland             7    \n",
       "8 15                   9                    8    "
      ]
     },
     "metadata": {},
     "output_type": "display_data"
    }
   ],
   "source": [
    "df_s <- (df_seasons)\n",
    "head(df_s)\n",
    "df_s$names <- rownames(df_s)\n",
    "head(df_s)"
   ]
  },
  {
   "cell_type": "code",
   "execution_count": 34,
   "metadata": {},
   "outputs": [
    {
     "data": {
      "text/html": [
       "<dl>\n",
       "\t<dt>[[1]]</dt>\n",
       "\t\t<dd>'Bay of Islands'</dd>\n",
       "\t<dt>[[2]]</dt>\n",
       "\t\t<dd>'Bay of Islands'</dd>\n",
       "\t<dt>[[3]]</dt>\n",
       "\t\t<dd>'Bay of Islands'</dd>\n",
       "\t<dt>[[4]]</dt>\n",
       "\t\t<dd>'Bay of Islands'</dd>\n",
       "\t<dt>[[5]]</dt>\n",
       "\t\t<dd>'Bay of Islands'</dd>\n",
       "\t<dt>[[6]]</dt>\n",
       "\t\t<dd>'Bay of Islands'</dd>\n",
       "</dl>\n"
      ],
      "text/latex": [
       "\\begin{description}\n",
       "\\item[{[[1]]}] 'Bay of Islands'\n",
       "\\item[{[[2]]}] 'Bay of Islands'\n",
       "\\item[{[[3]]}] 'Bay of Islands'\n",
       "\\item[{[[4]]}] 'Bay of Islands'\n",
       "\\item[{[[5]]}] 'Bay of Islands'\n",
       "\\item[{[[6]]}] 'Bay of Islands'\n",
       "\\end{description}\n"
      ],
      "text/markdown": [
       "[[1]]\n",
       ":   'Bay of Islands'\n",
       "[[2]]\n",
       ":   'Bay of Islands'\n",
       "[[3]]\n",
       ":   'Bay of Islands'\n",
       "[[4]]\n",
       ":   'Bay of Islands'\n",
       "[[5]]\n",
       ":   'Bay of Islands'\n",
       "[[6]]\n",
       ":   'Bay of Islands'\n",
       "\n",
       "\n"
      ],
      "text/plain": [
       "[[1]]\n",
       "[1] \"Bay of Islands\"\n",
       "\n",
       "[[2]]\n",
       "[1] \"Bay of Islands\"\n",
       "\n",
       "[[3]]\n",
       "[1] \"Bay of Islands\"\n",
       "\n",
       "[[4]]\n",
       "[1] \"Bay of Islands\"\n",
       "\n",
       "[[5]]\n",
       "[1] \"Bay of Islands\"\n",
       "\n",
       "[[6]]\n",
       "[1] \"Bay of Islands\"\n"
      ]
     },
     "metadata": {},
     "output_type": "display_data"
    }
   ],
   "source": [
    "head(df_s)"
   ]
  },
  {
   "cell_type": "code",
   "execution_count": 31,
   "metadata": {},
   "outputs": [
    {
     "ename": "ERROR",
     "evalue": "Error in UseMethod(\"group_by_\"): no applicable method for 'group_by_' applied to an object of class \"c('matrix', 'character')\"\n",
     "output_type": "error",
     "traceback": [
      "Error in UseMethod(\"group_by_\"): no applicable method for 'group_by_' applied to an object of class \"c('matrix', 'character')\"\nTraceback:\n",
      "1. df_seasons %>% t() %>% group_by(\"4\")",
      "2. withVisible(eval(quote(`_fseq`(`_lhs`)), env, env))",
      "3. eval(quote(`_fseq`(`_lhs`)), env, env)",
      "4. eval(quote(`_fseq`(`_lhs`)), env, env)",
      "5. `_fseq`(`_lhs`)",
      "6. freduce(value, `_function_list`)",
      "7. withVisible(function_list[[k]](value))",
      "8. function_list[[k]](value)",
      "9. group_by(., \"4\")",
      "10. group_by.default(., \"4\")",
      "11. group_by_(.data, .dots = compat_as_lazy_dots(...), add = add)"
     ]
    }
   ],
   "source": [
    "df_seasons %>%\n",
    "    t() %>%\n",
    "    group_by(\"4\")"
   ]
  },
  {
   "cell_type": "code",
   "execution_count": 71,
   "metadata": {},
   "outputs": [
    {
     "data": {
      "text/html": [
       "<table>\n",
       "<caption>A matrix: 9 × 1 of type chr</caption>\n",
       "<tbody>\n",
       "\t<tr><th scope=row>X1</th><td>                    </td></tr>\n",
       "\t<tr><th scope=row>X2</th><td>Spring Sep, Oct, Nov</td></tr>\n",
       "\t<tr><th scope=row>X3</th><td>Spring Sep, Oct, Nov</td></tr>\n",
       "\t<tr><th scope=row>X4</th><td>Summer Dec, Jan, Feb</td></tr>\n",
       "\t<tr><th scope=row>X5</th><td>Summer Dec, Jan, Feb</td></tr>\n",
       "\t<tr><th scope=row>X6</th><td>Autumn Mar, Apr, May</td></tr>\n",
       "\t<tr><th scope=row>X7</th><td>Autumn Mar, Apr, May</td></tr>\n",
       "\t<tr><th scope=row>X8</th><td>Winter Jun, Jul, Aug</td></tr>\n",
       "\t<tr><th scope=row>X9</th><td>Winter Jun, Jul, Aug</td></tr>\n",
       "</tbody>\n",
       "</table>\n"
      ],
      "text/latex": [
       "A matrix: 9 × 1 of type chr\n",
       "\\begin{tabular}{r|l}\n",
       "\tX1 &                     \\\\\n",
       "\tX2 & Spring Sep, Oct, Nov\\\\\n",
       "\tX3 & Spring Sep, Oct, Nov\\\\\n",
       "\tX4 & Summer Dec, Jan, Feb\\\\\n",
       "\tX5 & Summer Dec, Jan, Feb\\\\\n",
       "\tX6 & Autumn Mar, Apr, May\\\\\n",
       "\tX7 & Autumn Mar, Apr, May\\\\\n",
       "\tX8 & Winter Jun, Jul, Aug\\\\\n",
       "\tX9 & Winter Jun, Jul, Aug\\\\\n",
       "\\end{tabular}\n"
      ],
      "text/markdown": [
       "\n",
       "A matrix: 9 × 1 of type chr\n",
       "\n",
       "| X1 | <!----> |\n",
       "| X2 | Spring Sep, Oct, Nov |\n",
       "| X3 | Spring Sep, Oct, Nov |\n",
       "| X4 | Summer Dec, Jan, Feb |\n",
       "| X5 | Summer Dec, Jan, Feb |\n",
       "| X6 | Autumn Mar, Apr, May |\n",
       "| X7 | Autumn Mar, Apr, May |\n",
       "| X8 | Winter Jun, Jul, Aug |\n",
       "| X9 | Winter Jun, Jul, Aug |\n",
       "\n"
      ],
      "text/plain": [
       "   [,1]                \n",
       "X1                     \n",
       "X2 Spring Sep, Oct, Nov\n",
       "X3 Spring Sep, Oct, Nov\n",
       "X4 Summer Dec, Jan, Feb\n",
       "X5 Summer Dec, Jan, Feb\n",
       "X6 Autumn Mar, Apr, May\n",
       "X7 Autumn Mar, Apr, May\n",
       "X8 Winter Jun, Jul, Aug\n",
       "X9 Winter Jun, Jul, Aug"
      ]
     },
     "metadata": {},
     "output_type": "display_data"
    }
   ],
   "source": [
    "df_seasons %>% slice(1) %>% t()\n",
    "#filter(X1 == \"Temp (C)\")\n"
   ]
  },
  {
   "cell_type": "code",
   "execution_count": null,
   "metadata": {},
   "outputs": [],
   "source": []
  },
  {
   "cell_type": "code",
   "execution_count": 19,
   "metadata": {},
   "outputs": [
    {
     "data": {
      "text/html": [
       "<ol>\n",
       "\t<li>NULL</li>\n",
       "</ol>\n"
      ],
      "text/latex": [
       "\\begin{enumerate}\n",
       "\\item NULL\n",
       "\\end{enumerate}\n"
      ],
      "text/markdown": [
       "1. NULL\n",
       "\n",
       "\n"
      ],
      "text/plain": [
       "[[1]]\n",
       "NULL\n"
      ]
     },
     "metadata": {},
     "output_type": "display_data"
    }
   ],
   "source": []
  }
 ],
 "metadata": {
  "kernelspec": {
   "display_name": "R",
   "language": "R",
   "name": "ir"
  },
  "language_info": {
   "codemirror_mode": "r",
   "file_extension": ".r",
   "mimetype": "text/x-r-source",
   "name": "R",
   "pygments_lexer": "r",
   "version": "3.6.1"
  }
 },
 "nbformat": 4,
 "nbformat_minor": 4
}
