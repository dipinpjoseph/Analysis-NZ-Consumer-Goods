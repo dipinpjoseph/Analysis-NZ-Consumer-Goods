{
 "cells": [
  {
   "cell_type": "code",
   "execution_count": 1,
   "metadata": {},
   "outputs": [
    {
     "name": "stderr",
     "output_type": "stream",
     "text": [
      "-- \u001b[1mAttaching packages\u001b[22m --------------------------------------- tidyverse 1.2.1 --\n",
      "\u001b[32mv\u001b[39m \u001b[34mggplot2\u001b[39m 3.2.0     \u001b[32mv\u001b[39m \u001b[34mpurrr  \u001b[39m 0.3.2\n",
      "\u001b[32mv\u001b[39m \u001b[34mtibble \u001b[39m 2.1.3     \u001b[32mv\u001b[39m \u001b[34mdplyr  \u001b[39m 0.8.3\n",
      "\u001b[32mv\u001b[39m \u001b[34mtidyr  \u001b[39m 0.8.3     \u001b[32mv\u001b[39m \u001b[34mstringr\u001b[39m 1.4.0\n",
      "\u001b[32mv\u001b[39m \u001b[34mreadr  \u001b[39m 1.3.1     \u001b[32mv\u001b[39m \u001b[34mforcats\u001b[39m 0.4.0\n",
      "-- \u001b[1mConflicts\u001b[22m ------------------------------------------ tidyverse_conflicts() --\n",
      "\u001b[31mx\u001b[39m \u001b[34mdplyr\u001b[39m::\u001b[32mfilter()\u001b[39m masks \u001b[34mstats\u001b[39m::filter()\n",
      "\u001b[31mx\u001b[39m \u001b[34mdplyr\u001b[39m::\u001b[32mlag()\u001b[39m    masks \u001b[34mstats\u001b[39m::lag()\n",
      "\n",
      "Attaching package: 'magrittr'\n",
      "\n",
      "The following object is masked from 'package:purrr':\n",
      "\n",
      "    set_names\n",
      "\n",
      "The following object is masked from 'package:tidyr':\n",
      "\n",
      "    extract\n",
      "\n",
      "\n",
      "Attaching package: 'glue'\n",
      "\n",
      "The following object is masked from 'package:dplyr':\n",
      "\n",
      "    collapse\n",
      "\n",
      "Loading required package: xml2\n",
      "\n",
      "Attaching package: 'rvest'\n",
      "\n",
      "The following object is masked from 'package:purrr':\n",
      "\n",
      "    pluck\n",
      "\n",
      "The following object is masked from 'package:readr':\n",
      "\n",
      "    guess_encoding\n",
      "\n"
     ]
    }
   ],
   "source": [
    "#Loading Libraries\n",
    "library(tidyverse)\n",
    "library(magrittr) # better handling of pipes\n",
    "library(purrr) # to work with lists and map functions\n",
    "library(glue) # to paste strings\n",
    "library(stringr) # to hand strings\n",
    "library(rvest) # rvest makes scraping easier\n",
    "library(polite) # polite is the \"polite\" version of rvest"
   ]
  },
  {
   "cell_type": "code",
   "execution_count": 2,
   "metadata": {},
   "outputs": [],
   "source": [
    "\n",
    "url <- \"https://www.tourism.org.nz/climate.html\"  # this is the base url from where the scraping starts\n",
    "view1 <- read_html(url) # Reading and parsing the html of given webpage"
   ]
  },
  {
   "cell_type": "code",
   "execution_count": 35,
   "metadata": {},
   "outputs": [
    {
     "data": {
      "text/html": [
       "<ol>\n",
       "\t<li><table>\n",
       "<caption>A data.frame: 20 × 6</caption>\n",
       "<thead>\n",
       "\t<tr><th scope=col>X1</th><th scope=col>X2</th><th scope=col>X3</th><th scope=col>X4</th><th scope=col>X5</th><th scope=col>X6</th></tr>\n",
       "\t<tr><th scope=col>&lt;chr&gt;</th><th scope=col>&lt;chr&gt;</th><th scope=col>&lt;chr&gt;</th><th scope=col>&lt;chr&gt;</th><th scope=col>&lt;chr&gt;</th><th scope=col>&lt;chr&gt;</th></tr>\n",
       "</thead>\n",
       "<tbody>\n",
       "\t<tr><td>              </td><td>         </td><td>Spring         </td><td>Summer         </td><td>Autumn         </td><td>Winter         </td></tr>\n",
       "\t<tr><td>              </td><td>         </td><td>(Sep, Oct, Nov)</td><td>(Dec, Jan, Feb)</td><td>(Mar, Apr, May)</td><td>(Jun, Jul, Aug)</td></tr>\n",
       "\t<tr><td>Bay of Islands</td><td>Temp (C) </td><td>19ºC / 9ºC     </td><td>25ºC / 14ºC    </td><td>21ºC / 11ºC    </td><td>16ºC / 7ºC     </td></tr>\n",
       "\t<tr><td>              </td><td>Temp (F) </td><td>67ºF / 48ºF    </td><td>76ºF / 56ºF    </td><td>70ºF / 52ºF    </td><td>61ºF / 45ºF    </td></tr>\n",
       "\t<tr><td>              </td><td>Rain days</td><td>11             </td><td>7              </td><td>11             </td><td>16             </td></tr>\n",
       "\t<tr><td>Auckland      </td><td>Temp (C) </td><td>18ºC / 11ºC    </td><td>24ºC / 12ºC    </td><td>20ºC / 13ºC    </td><td>15ºC / 9ºC     </td></tr>\n",
       "\t<tr><td>              </td><td>Temp (F) </td><td>65ºF / 52ºF    </td><td>75ºF / 54ºF    </td><td>68ºF / 55ºF    </td><td>59ºF / 48ºF    </td></tr>\n",
       "\t<tr><td>              </td><td>Rain days</td><td>12             </td><td>8              </td><td>11             </td><td>15             </td></tr>\n",
       "\t<tr><td>Rotorua       </td><td>Temp (C) </td><td>18ºC / 11ºC    </td><td>24ºC / 12ºC    </td><td>20ºC / 13ºC    </td><td>15ºC / 9ºC     </td></tr>\n",
       "\t<tr><td>              </td><td>Temp (F) </td><td>63ºF / 45ºF    </td><td>75ºF / 54ºF    </td><td>65ºF / 48ºF    </td><td>55ºF / 39ºF    </td></tr>\n",
       "\t<tr><td>              </td><td>Rain days</td><td>11             </td><td>9              </td><td>9              </td><td>13             </td></tr>\n",
       "\t<tr><td>Wellington    </td><td>Temp (C) </td><td>15ºC / 9ºC     </td><td>20ºC / 13ºC    </td><td>17ºC / 11ºC    </td><td>12ºC / 6ºC     </td></tr>\n",
       "\t<tr><td>              </td><td>Temp (F) </td><td>59ºF / 48ºF    </td><td>68ºF / 55ºF    </td><td>63ºF / 52ºF    </td><td>54ºF / 43ºF    </td></tr>\n",
       "\t<tr><td>              </td><td>Rain days</td><td>11             </td><td>7              </td><td>10             </td><td>13             </td></tr>\n",
       "\t<tr><td>Christchurch  </td><td>Temp (C) </td><td>17ºC / 7ºC     </td><td>22ºC / 12ºC    </td><td>18ºC / 8ºC     </td><td>12ºC / 3ºC     </td></tr>\n",
       "\t<tr><td>              </td><td>Temp (F) </td><td>63ºF / 45ºF    </td><td>72ºF / 54ºF    </td><td>65ºF / 46ºF    </td><td>54ºF / 37ºF    </td></tr>\n",
       "\t<tr><td>              </td><td>Rain days</td><td>7              </td><td>7              </td><td>7              </td><td>7              </td></tr>\n",
       "\t<tr><td>Queenstown    </td><td>Temp (C) </td><td>16ºC / 5ºC     </td><td>22ºC / 10ºC    </td><td>16ºC / 6ºC     </td><td>10ºC / 1ºC     </td></tr>\n",
       "\t<tr><td>              </td><td>Temp (F) </td><td>61ºF / 41ºF    </td><td>72ºF / 50ºF    </td><td>61ºF / 43ºF    </td><td>50ºF / 34ºF    </td></tr>\n",
       "\t<tr><td>              </td><td>Rain days</td><td>9              </td><td>8              </td><td>8              </td><td>7              </td></tr>\n",
       "</tbody>\n",
       "</table>\n",
       "</li>\n",
       "</ol>\n"
      ],
      "text/latex": [
       "\\begin{enumerate}\n",
       "\\item A data.frame: 20 × 6\n",
       "\\begin{tabular}{r|llllll}\n",
       " X1 & X2 & X3 & X4 & X5 & X6\\\\\n",
       " <chr> & <chr> & <chr> & <chr> & <chr> & <chr>\\\\\n",
       "\\hline\n",
       "\t                &           & Spring          & Summer          & Autumn          & Winter         \\\\\n",
       "\t                &           & (Sep, Oct, Nov) & (Dec, Jan, Feb) & (Mar, Apr, May) & (Jun, Jul, Aug)\\\\\n",
       "\t Bay of Islands & Temp (C)  & 19ºC / 9ºC      & 25ºC / 14ºC     & 21ºC / 11ºC     & 16ºC / 7ºC     \\\\\n",
       "\t                & Temp (F)  & 67ºF / 48ºF     & 76ºF / 56ºF     & 70ºF / 52ºF     & 61ºF / 45ºF    \\\\\n",
       "\t                & Rain days & 11              & 7               & 11              & 16             \\\\\n",
       "\t Auckland       & Temp (C)  & 18ºC / 11ºC     & 24ºC / 12ºC     & 20ºC / 13ºC     & 15ºC / 9ºC     \\\\\n",
       "\t                & Temp (F)  & 65ºF / 52ºF     & 75ºF / 54ºF     & 68ºF / 55ºF     & 59ºF / 48ºF    \\\\\n",
       "\t                & Rain days & 12              & 8               & 11              & 15             \\\\\n",
       "\t Rotorua        & Temp (C)  & 18ºC / 11ºC     & 24ºC / 12ºC     & 20ºC / 13ºC     & 15ºC / 9ºC     \\\\\n",
       "\t                & Temp (F)  & 63ºF / 45ºF     & 75ºF / 54ºF     & 65ºF / 48ºF     & 55ºF / 39ºF    \\\\\n",
       "\t                & Rain days & 11              & 9               & 9               & 13             \\\\\n",
       "\t Wellington     & Temp (C)  & 15ºC / 9ºC      & 20ºC / 13ºC     & 17ºC / 11ºC     & 12ºC / 6ºC     \\\\\n",
       "\t                & Temp (F)  & 59ºF / 48ºF     & 68ºF / 55ºF     & 63ºF / 52ºF     & 54ºF / 43ºF    \\\\\n",
       "\t                & Rain days & 11              & 7               & 10              & 13             \\\\\n",
       "\t Christchurch   & Temp (C)  & 17ºC / 7ºC      & 22ºC / 12ºC     & 18ºC / 8ºC      & 12ºC / 3ºC     \\\\\n",
       "\t                & Temp (F)  & 63ºF / 45ºF     & 72ºF / 54ºF     & 65ºF / 46ºF     & 54ºF / 37ºF    \\\\\n",
       "\t                & Rain days & 7               & 7               & 7               & 7              \\\\\n",
       "\t Queenstown     & Temp (C)  & 16ºC / 5ºC      & 22ºC / 10ºC     & 16ºC / 6ºC      & 10ºC / 1ºC     \\\\\n",
       "\t                & Temp (F)  & 61ºF / 41ºF     & 72ºF / 50ºF     & 61ºF / 43ºF     & 50ºF / 34ºF    \\\\\n",
       "\t                & Rain days & 9               & 8               & 8               & 7              \\\\\n",
       "\\end{tabular}\n",
       "\n",
       "\\end{enumerate}\n"
      ],
      "text/markdown": [
       "1. \n",
       "A data.frame: 20 × 6\n",
       "\n",
       "| X1 &lt;chr&gt; | X2 &lt;chr&gt; | X3 &lt;chr&gt; | X4 &lt;chr&gt; | X5 &lt;chr&gt; | X6 &lt;chr&gt; |\n",
       "|---|---|---|---|---|---|\n",
       "| <!----> | <!----> | Spring          | Summer          | Autumn          | Winter          |\n",
       "| <!----> | <!----> | (Sep, Oct, Nov) | (Dec, Jan, Feb) | (Mar, Apr, May) | (Jun, Jul, Aug) |\n",
       "| Bay of Islands | Temp (C)  | 19ºC / 9ºC      | 25ºC / 14ºC     | 21ºC / 11ºC     | 16ºC / 7ºC      |\n",
       "| <!----> | Temp (F)  | 67ºF / 48ºF     | 76ºF / 56ºF     | 70ºF / 52ºF     | 61ºF / 45ºF     |\n",
       "| <!----> | Rain days | 11              | 7               | 11              | 16              |\n",
       "| Auckland       | Temp (C)  | 18ºC / 11ºC     | 24ºC / 12ºC     | 20ºC / 13ºC     | 15ºC / 9ºC      |\n",
       "| <!----> | Temp (F)  | 65ºF / 52ºF     | 75ºF / 54ºF     | 68ºF / 55ºF     | 59ºF / 48ºF     |\n",
       "| <!----> | Rain days | 12              | 8               | 11              | 15              |\n",
       "| Rotorua        | Temp (C)  | 18ºC / 11ºC     | 24ºC / 12ºC     | 20ºC / 13ºC     | 15ºC / 9ºC      |\n",
       "| <!----> | Temp (F)  | 63ºF / 45ºF     | 75ºF / 54ºF     | 65ºF / 48ºF     | 55ºF / 39ºF     |\n",
       "| <!----> | Rain days | 11              | 9               | 9               | 13              |\n",
       "| Wellington     | Temp (C)  | 15ºC / 9ºC      | 20ºC / 13ºC     | 17ºC / 11ºC     | 12ºC / 6ºC      |\n",
       "| <!----> | Temp (F)  | 59ºF / 48ºF     | 68ºF / 55ºF     | 63ºF / 52ºF     | 54ºF / 43ºF     |\n",
       "| <!----> | Rain days | 11              | 7               | 10              | 13              |\n",
       "| Christchurch   | Temp (C)  | 17ºC / 7ºC      | 22ºC / 12ºC     | 18ºC / 8ºC      | 12ºC / 3ºC      |\n",
       "| <!----> | Temp (F)  | 63ºF / 45ºF     | 72ºF / 54ºF     | 65ºF / 46ºF     | 54ºF / 37ºF     |\n",
       "| <!----> | Rain days | 7               | 7               | 7               | 7               |\n",
       "| Queenstown     | Temp (C)  | 16ºC / 5ºC      | 22ºC / 10ºC     | 16ºC / 6ºC      | 10ºC / 1ºC      |\n",
       "| <!----> | Temp (F)  | 61ºF / 41ºF     | 72ºF / 50ºF     | 61ºF / 43ºF     | 50ºF / 34ºF     |\n",
       "| <!----> | Rain days | 9               | 8               | 8               | 7               |\n",
       "\n",
       "\n",
       "\n",
       "\n"
      ],
      "text/plain": [
       "[[1]]\n",
       "               X1        X2              X3              X4              X5\n",
       "1                                    Spring          Summer          Autumn\n",
       "2                           (Sep, Oct, Nov) (Dec, Jan, Feb) (Mar, Apr, May)\n",
       "3  Bay of Islands  Temp (C)      19ºC / 9ºC     25ºC / 14ºC     21ºC / 11ºC\n",
       "4                  Temp (F)     67ºF / 48ºF     76ºF / 56ºF     70ºF / 52ºF\n",
       "5                 Rain days              11               7              11\n",
       "6        Auckland  Temp (C)     18ºC / 11ºC     24ºC / 12ºC     20ºC / 13ºC\n",
       "7                  Temp (F)     65ºF / 52ºF     75ºF / 54ºF     68ºF / 55ºF\n",
       "8                 Rain days              12               8              11\n",
       "9         Rotorua  Temp (C)     18ºC / 11ºC     24ºC / 12ºC     20ºC / 13ºC\n",
       "10                 Temp (F)     63ºF / 45ºF     75ºF / 54ºF     65ºF / 48ºF\n",
       "11                Rain days              11               9               9\n",
       "12     Wellington  Temp (C)      15ºC / 9ºC     20ºC / 13ºC     17ºC / 11ºC\n",
       "13                 Temp (F)     59ºF / 48ºF     68ºF / 55ºF     63ºF / 52ºF\n",
       "14                Rain days              11               7              10\n",
       "15   Christchurch  Temp (C)      17ºC / 7ºC     22ºC / 12ºC      18ºC / 8ºC\n",
       "16                 Temp (F)     63ºF / 45ºF     72ºF / 54ºF     65ºF / 46ºF\n",
       "17                Rain days               7               7               7\n",
       "18     Queenstown  Temp (C)      16ºC / 5ºC     22ºC / 10ºC      16ºC / 6ºC\n",
       "19                 Temp (F)     61ºF / 41ºF     72ºF / 50ºF     61ºF / 43ºF\n",
       "20                Rain days               9               8               8\n",
       "                X6\n",
       "1           Winter\n",
       "2  (Jun, Jul, Aug)\n",
       "3       16ºC / 7ºC\n",
       "4      61ºF / 45ºF\n",
       "5               16\n",
       "6       15ºC / 9ºC\n",
       "7      59ºF / 48ºF\n",
       "8               15\n",
       "9       15ºC / 9ºC\n",
       "10     55ºF / 39ºF\n",
       "11              13\n",
       "12      12ºC / 6ºC\n",
       "13     54ºF / 43ºF\n",
       "14              13\n",
       "15      12ºC / 3ºC\n",
       "16     54ºF / 37ºF\n",
       "17               7\n",
       "18      10ºC / 1ºC\n",
       "19     50ºF / 34ºF\n",
       "20               7\n"
      ]
     },
     "metadata": {},
     "output_type": "display_data"
    }
   ],
   "source": [
    "#Scraping Book Name from webpage \n",
    "Seasons1 <- view1 %>%\n",
    "html_nodes(\"table\") %>%\n",
    "html_table()\n",
    "\n",
    "Seasons1[1] %>%\n",
    "    head()"
   ]
  },
  {
   "cell_type": "code",
   "execution_count": 59,
   "metadata": {},
   "outputs": [],
   "source": [
    "\n",
    "url <- \"https://explore.gorentals.co.nz/blog/four-seasons-one-year-weather-new-zealand/\"  # this is the base url from where the scraping starts\n",
    "view2 <- read_html(url) "
   ]
  },
  {
   "cell_type": "code",
   "execution_count": 66,
   "metadata": {},
   "outputs": [
    {
     "data": {
      "text/html": [
       "'list'"
      ],
      "text/latex": [
       "'list'"
      ],
      "text/markdown": [
       "'list'"
      ],
      "text/plain": [
       "[1] \"list\""
      ]
     },
     "metadata": {},
     "output_type": "display_data"
    },
    {
     "data": {
      "text/html": [
       "'list'"
      ],
      "text/latex": [
       "'list'"
      ],
      "text/markdown": [
       "'list'"
      ],
      "text/plain": [
       "[1] \"list\""
      ]
     },
     "metadata": {},
     "output_type": "display_data"
    },
    {
     "data": {
      "text/html": [
       "<table>\n",
       "<caption>A data.frame: 6 × 9</caption>\n",
       "<thead>\n",
       "\t<tr><th scope=col>X1</th><th scope=col>X2</th><th scope=col>X3</th><th scope=col>X4</th><th scope=col>X5</th><th scope=col>X6</th><th scope=col>X7</th><th scope=col>X8</th><th scope=col>X9</th></tr>\n",
       "\t<tr><th scope=col>&lt;chr&gt;</th><th scope=col>&lt;chr&gt;</th><th scope=col>&lt;chr&gt;</th><th scope=col>&lt;chr&gt;</th><th scope=col>&lt;chr&gt;</th><th scope=col>&lt;chr&gt;</th><th scope=col>&lt;chr&gt;</th><th scope=col>&lt;chr&gt;</th><th scope=col>&lt;chr&gt;</th></tr>\n",
       "</thead>\n",
       "<tbody>\n",
       "\t<tr><td>              </td><td>Spring Sep, Oct, Nov</td><td>Spring Sep, Oct, Nov</td><td>Summer Dec, Jan, Feb</td><td>Summer Dec, Jan, Feb</td><td>Autumn Mar, Apr, May</td><td>Autumn Mar, Apr, May</td><td>Winter Jun, Jul, Aug</td><td>Winter Jun, Jul, Aug</td></tr>\n",
       "\t<tr><td>              </td><td>High                </td><td>Low                 </td><td>High                </td><td>Low                 </td><td>High                </td><td>Low                 </td><td>High                </td><td>Low                 </td></tr>\n",
       "\t<tr><td>Bay of Islands</td><td>Bay of Islands      </td><td>Bay of Islands      </td><td>Bay of Islands      </td><td>Bay of Islands      </td><td>Bay of Islands      </td><td>Bay of Islands      </td><td>Bay of Islands      </td><td>Bay of Islands      </td></tr>\n",
       "\t<tr><td>Temp (C)      </td><td>19                  </td><td>9                   </td><td>25                  </td><td>14                  </td><td>21                  </td><td>11                  </td><td>16                  </td><td>7                   </td></tr>\n",
       "\t<tr><td>Temp (F)      </td><td>67                  </td><td>48                  </td><td>77                  </td><td>57                  </td><td>70                  </td><td>52                  </td><td>61                  </td><td>45                  </td></tr>\n",
       "\t<tr><td>Rain Days     </td><td>11                  </td><td>11                  </td><td>7                   </td><td>7                   </td><td>11                  </td><td>11                  </td><td>16                  </td><td>16                  </td></tr>\n",
       "</tbody>\n",
       "</table>\n"
      ],
      "text/latex": [
       "A data.frame: 6 × 9\n",
       "\\begin{tabular}{r|lllllllll}\n",
       " X1 & X2 & X3 & X4 & X5 & X6 & X7 & X8 & X9\\\\\n",
       " <chr> & <chr> & <chr> & <chr> & <chr> & <chr> & <chr> & <chr> & <chr>\\\\\n",
       "\\hline\n",
       "\t                & Spring Sep, Oct, Nov & Spring Sep, Oct, Nov & Summer Dec, Jan, Feb & Summer Dec, Jan, Feb & Autumn Mar, Apr, May & Autumn Mar, Apr, May & Winter Jun, Jul, Aug & Winter Jun, Jul, Aug\\\\\n",
       "\t                & High                 & Low                  & High                 & Low                  & High                 & Low                  & High                 & Low                 \\\\\n",
       "\t Bay of Islands & Bay of Islands       & Bay of Islands       & Bay of Islands       & Bay of Islands       & Bay of Islands       & Bay of Islands       & Bay of Islands       & Bay of Islands      \\\\\n",
       "\t Temp (C)       & 19                   & 9                    & 25                   & 14                   & 21                   & 11                   & 16                   & 7                   \\\\\n",
       "\t Temp (F)       & 67                   & 48                   & 77                   & 57                   & 70                   & 52                   & 61                   & 45                  \\\\\n",
       "\t Rain Days      & 11                   & 11                   & 7                    & 7                    & 11                   & 11                   & 16                   & 16                  \\\\\n",
       "\\end{tabular}\n"
      ],
      "text/markdown": [
       "\n",
       "A data.frame: 6 × 9\n",
       "\n",
       "| X1 &lt;chr&gt; | X2 &lt;chr&gt; | X3 &lt;chr&gt; | X4 &lt;chr&gt; | X5 &lt;chr&gt; | X6 &lt;chr&gt; | X7 &lt;chr&gt; | X8 &lt;chr&gt; | X9 &lt;chr&gt; |\n",
       "|---|---|---|---|---|---|---|---|---|\n",
       "| <!----> | Spring Sep, Oct, Nov | Spring Sep, Oct, Nov | Summer Dec, Jan, Feb | Summer Dec, Jan, Feb | Autumn Mar, Apr, May | Autumn Mar, Apr, May | Winter Jun, Jul, Aug | Winter Jun, Jul, Aug |\n",
       "| <!----> | High                 | Low                  | High                 | Low                  | High                 | Low                  | High                 | Low                  |\n",
       "| Bay of Islands | Bay of Islands       | Bay of Islands       | Bay of Islands       | Bay of Islands       | Bay of Islands       | Bay of Islands       | Bay of Islands       | Bay of Islands       |\n",
       "| Temp (C)       | 19                   | 9                    | 25                   | 14                   | 21                   | 11                   | 16                   | 7                    |\n",
       "| Temp (F)       | 67                   | 48                   | 77                   | 57                   | 70                   | 52                   | 61                   | 45                   |\n",
       "| Rain Days      | 11                   | 11                   | 7                    | 7                    | 11                   | 11                   | 16                   | 16                   |\n",
       "\n"
      ],
      "text/plain": [
       "  X1             X2                   X3                   X4                  \n",
       "1                Spring Sep, Oct, Nov Spring Sep, Oct, Nov Summer Dec, Jan, Feb\n",
       "2                High                 Low                  High                \n",
       "3 Bay of Islands Bay of Islands       Bay of Islands       Bay of Islands      \n",
       "4 Temp (C)       19                   9                    25                  \n",
       "5 Temp (F)       67                   48                   77                  \n",
       "6 Rain Days      11                   11                   7                   \n",
       "  X5                   X6                   X7                  \n",
       "1 Summer Dec, Jan, Feb Autumn Mar, Apr, May Autumn Mar, Apr, May\n",
       "2 Low                  High                 Low                 \n",
       "3 Bay of Islands       Bay of Islands       Bay of Islands      \n",
       "4 14                   21                   11                  \n",
       "5 57                   70                   52                  \n",
       "6 7                    11                   11                  \n",
       "  X8                   X9                  \n",
       "1 Winter Jun, Jul, Aug Winter Jun, Jul, Aug\n",
       "2 High                 Low                 \n",
       "3 Bay of Islands       Bay of Islands      \n",
       "4 16                   7                   \n",
       "5 61                   45                  \n",
       "6 16                   16                  "
      ]
     },
     "metadata": {},
     "output_type": "display_data"
    }
   ],
   "source": [
    "#Scraping Book Name from webpage \n",
    "Seasons2 <- view2 %>%\n",
    "html_table(fill=TRUE)\n",
    "\n",
    "typeof(data.frame(Seasons2))\n",
    "df_seasons <- data.frame(Seasons2)\n",
    "typeof(df_seasons)\n",
    "head(df_seasons[\"X2\"])"
   ]
  },
  {
   "cell_type": "code",
   "execution_count": 71,
   "metadata": {},
   "outputs": [
    {
     "data": {
      "text/html": [
       "<table>\n",
       "<caption>A matrix: 9 × 1 of type chr</caption>\n",
       "<tbody>\n",
       "\t<tr><th scope=row>X1</th><td>                    </td></tr>\n",
       "\t<tr><th scope=row>X2</th><td>Spring Sep, Oct, Nov</td></tr>\n",
       "\t<tr><th scope=row>X3</th><td>Spring Sep, Oct, Nov</td></tr>\n",
       "\t<tr><th scope=row>X4</th><td>Summer Dec, Jan, Feb</td></tr>\n",
       "\t<tr><th scope=row>X5</th><td>Summer Dec, Jan, Feb</td></tr>\n",
       "\t<tr><th scope=row>X6</th><td>Autumn Mar, Apr, May</td></tr>\n",
       "\t<tr><th scope=row>X7</th><td>Autumn Mar, Apr, May</td></tr>\n",
       "\t<tr><th scope=row>X8</th><td>Winter Jun, Jul, Aug</td></tr>\n",
       "\t<tr><th scope=row>X9</th><td>Winter Jun, Jul, Aug</td></tr>\n",
       "</tbody>\n",
       "</table>\n"
      ],
      "text/latex": [
       "A matrix: 9 × 1 of type chr\n",
       "\\begin{tabular}{r|l}\n",
       "\tX1 &                     \\\\\n",
       "\tX2 & Spring Sep, Oct, Nov\\\\\n",
       "\tX3 & Spring Sep, Oct, Nov\\\\\n",
       "\tX4 & Summer Dec, Jan, Feb\\\\\n",
       "\tX5 & Summer Dec, Jan, Feb\\\\\n",
       "\tX6 & Autumn Mar, Apr, May\\\\\n",
       "\tX7 & Autumn Mar, Apr, May\\\\\n",
       "\tX8 & Winter Jun, Jul, Aug\\\\\n",
       "\tX9 & Winter Jun, Jul, Aug\\\\\n",
       "\\end{tabular}\n"
      ],
      "text/markdown": [
       "\n",
       "A matrix: 9 × 1 of type chr\n",
       "\n",
       "| X1 | <!----> |\n",
       "| X2 | Spring Sep, Oct, Nov |\n",
       "| X3 | Spring Sep, Oct, Nov |\n",
       "| X4 | Summer Dec, Jan, Feb |\n",
       "| X5 | Summer Dec, Jan, Feb |\n",
       "| X6 | Autumn Mar, Apr, May |\n",
       "| X7 | Autumn Mar, Apr, May |\n",
       "| X8 | Winter Jun, Jul, Aug |\n",
       "| X9 | Winter Jun, Jul, Aug |\n",
       "\n"
      ],
      "text/plain": [
       "   [,1]                \n",
       "X1                     \n",
       "X2 Spring Sep, Oct, Nov\n",
       "X3 Spring Sep, Oct, Nov\n",
       "X4 Summer Dec, Jan, Feb\n",
       "X5 Summer Dec, Jan, Feb\n",
       "X6 Autumn Mar, Apr, May\n",
       "X7 Autumn Mar, Apr, May\n",
       "X8 Winter Jun, Jul, Aug\n",
       "X9 Winter Jun, Jul, Aug"
      ]
     },
     "metadata": {},
     "output_type": "display_data"
    }
   ],
   "source": [
    "df_seasons %>% slice(1) %>% t()\n",
    "#filter(X1 == \"Temp (C)\")\n"
   ]
  },
  {
   "cell_type": "code",
   "execution_count": 19,
   "metadata": {},
   "outputs": [
    {
     "data": {
      "text/html": [
       "<ol>\n",
       "\t<li>NULL</li>\n",
       "</ol>\n"
      ],
      "text/latex": [
       "\\begin{enumerate}\n",
       "\\item NULL\n",
       "\\end{enumerate}\n"
      ],
      "text/markdown": [
       "1. NULL\n",
       "\n",
       "\n"
      ],
      "text/plain": [
       "[[1]]\n",
       "NULL\n"
      ]
     },
     "metadata": {},
     "output_type": "display_data"
    }
   ],
   "source": []
  }
 ],
 "metadata": {
  "kernelspec": {
   "display_name": "R",
   "language": "R",
   "name": "ir"
  },
  "language_info": {
   "codemirror_mode": "r",
   "file_extension": ".r",
   "mimetype": "text/x-r-source",
   "name": "R",
   "pygments_lexer": "r",
   "version": "3.6.1"
  }
 },
 "nbformat": 4,
 "nbformat_minor": 4
}
