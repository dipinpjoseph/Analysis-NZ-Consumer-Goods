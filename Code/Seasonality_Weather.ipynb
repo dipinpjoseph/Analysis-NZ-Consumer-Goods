{
 "cells": [
  {
   "cell_type": "code",
   "execution_count": 1,
   "metadata": {},
   "outputs": [
    {
     "name": "stderr",
     "output_type": "stream",
     "text": [
      "-- \u001b[1mAttaching packages\u001b[22m --------------------------------------- tidyverse 1.2.1 --\n",
      "\u001b[32mv\u001b[39m \u001b[34mggplot2\u001b[39m 3.2.0     \u001b[32mv\u001b[39m \u001b[34mpurrr  \u001b[39m 0.3.2\n",
      "\u001b[32mv\u001b[39m \u001b[34mtibble \u001b[39m 2.1.3     \u001b[32mv\u001b[39m \u001b[34mdplyr  \u001b[39m 0.8.3\n",
      "\u001b[32mv\u001b[39m \u001b[34mtidyr  \u001b[39m 0.8.3     \u001b[32mv\u001b[39m \u001b[34mstringr\u001b[39m 1.4.0\n",
      "\u001b[32mv\u001b[39m \u001b[34mreadr  \u001b[39m 1.3.1     \u001b[32mv\u001b[39m \u001b[34mforcats\u001b[39m 0.4.0\n",
      "-- \u001b[1mConflicts\u001b[22m ------------------------------------------ tidyverse_conflicts() --\n",
      "\u001b[31mx\u001b[39m \u001b[34mdplyr\u001b[39m::\u001b[32mfilter()\u001b[39m masks \u001b[34mstats\u001b[39m::filter()\n",
      "\u001b[31mx\u001b[39m \u001b[34mdplyr\u001b[39m::\u001b[32mlag()\u001b[39m    masks \u001b[34mstats\u001b[39m::lag()\n",
      "\n",
      "Attaching package: 'magrittr'\n",
      "\n",
      "The following object is masked from 'package:purrr':\n",
      "\n",
      "    set_names\n",
      "\n",
      "The following object is masked from 'package:tidyr':\n",
      "\n",
      "    extract\n",
      "\n",
      "\n",
      "Attaching package: 'glue'\n",
      "\n",
      "The following object is masked from 'package:dplyr':\n",
      "\n",
      "    collapse\n",
      "\n",
      "Loading required package: xml2\n",
      "\n",
      "Attaching package: 'rvest'\n",
      "\n",
      "The following object is masked from 'package:purrr':\n",
      "\n",
      "    pluck\n",
      "\n",
      "The following object is masked from 'package:readr':\n",
      "\n",
      "    guess_encoding\n",
      "\n"
     ]
    }
   ],
   "source": [
    "#Loading Libraries\n",
    "library(tidyverse)\n",
    "library(magrittr) # better handling of pipes\n",
    "library(purrr) # to work with lists and map functions\n",
    "library(glue) # to paste strings\n",
    "library(stringr) # to hand strings\n",
    "library(rvest) # rvest makes scraping easier\n",
    "library(polite) # polite is the \"polite\" version of rvest"
   ]
  },
  {
   "cell_type": "code",
   "execution_count": 2,
   "metadata": {},
   "outputs": [],
   "source": [
    "url <- \"https://www.tourism.net.nz/new-zealand/about-new-zealand/weather-and-climate.html\"  # this is the base url from where the scraping starts\n",
    "seasonality <- read_html(url) # Reading and parsing the html of given webpage\n",
    "\n",
    "#Scraping Season Name from webpage \n",
    "Seasons <- seasonality %>%\n",
    "html_nodes(\"div h3 a\") %>%\n",
    "html_text()\n",
    "\n",
    "#Scraping Month Name from webpage \n",
    "Months <- seasonality %>%\n",
    "html_nodes(\".one-quarter p a\") %>%\n",
    "html_text()\n",
    "\n",
    "\n"
   ]
  },
  {
   "cell_type": "code",
   "execution_count": 3,
   "metadata": {},
   "outputs": [],
   "source": [
    "Months_DF <- tibble(Months)\n",
    "Spring_Months <-Months_DF %>%\n",
    "slice(1:3) %>%\n",
    "t()\n",
    "Summer_Months <-Months_DF %>%\n",
    "slice(4:6) %>%\n",
    "t()\n",
    "Autumn_Months <-Months_DF %>%\n",
    "slice(7:9) %>%\n",
    "t()\n",
    "Winter_Months <-Months_DF %>%\n",
    "slice(10:12) %>%\n",
    "t()\n",
    "\n",
    "Months_Merged<-rbind(Spring_Months,Summer_Months,Autumn_Months,Winter_Months)"
   ]
  },
  {
   "cell_type": "code",
   "execution_count": 4,
   "metadata": {},
   "outputs": [
    {
     "data": {
      "text/html": [
       "<table>\n",
       "<caption>A tibble: 4 × 2</caption>\n",
       "<thead>\n",
       "\t<tr><th scope=col>Seasons</th><th scope=col>Months_Covered</th></tr>\n",
       "\t<tr><th scope=col>&lt;chr&gt;</th><th scope=col>&lt;chr[,3]&gt;</th></tr>\n",
       "</thead>\n",
       "<tbody>\n",
       "\t<tr><td>Spring</td><td>September, October, November</td></tr>\n",
       "\t<tr><td>Summer</td><td>December , January, February</td></tr>\n",
       "\t<tr><td>Autumn</td><td>March    , April  , May     </td></tr>\n",
       "\t<tr><td>Winter</td><td>June     , July   , August  </td></tr>\n",
       "</tbody>\n",
       "</table>\n"
      ],
      "text/latex": [
       "A tibble: 4 × 2\n",
       "\\begin{tabular}{r|ll}\n",
       " Seasons & Months\\_Covered\\\\\n",
       " <chr> & <chr{[},3{]}>\\\\\n",
       "\\hline\n",
       "\t Spring & September, October, November\\\\\n",
       "\t Summer & December , January, February\\\\\n",
       "\t Autumn & March    , April  , May     \\\\\n",
       "\t Winter & June     , July   , August  \\\\\n",
       "\\end{tabular}\n"
      ],
      "text/markdown": [
       "\n",
       "A tibble: 4 × 2\n",
       "\n",
       "| Seasons &lt;chr&gt; | Months_Covered &lt;chr[,3]&gt; |\n",
       "|---|---|\n",
       "| Spring | September, October, November |\n",
       "| Summer | December , January, February |\n",
       "| Autumn | March    , April  , May      |\n",
       "| Winter | June     , July   , August   |\n",
       "\n"
      ],
      "text/plain": [
       "  Seasons Months_Covered              \n",
       "1 Spring  September, October, November\n",
       "2 Summer  December , January, February\n",
       "3 Autumn  March    , April  , May     \n",
       "4 Winter  June     , July   , August  "
      ]
     },
     "metadata": {},
     "output_type": "display_data"
    }
   ],
   "source": [
    "Season_DF <- tibble(Seasons,Months_Covered=Months_Merged)\n",
    "Season_DF"
   ]
  },
  {
   "cell_type": "code",
   "execution_count": 5,
   "metadata": {},
   "outputs": [],
   "source": [
    "#Scraping weather Details from webpage \n",
    "Seasons1 <- seasonality %>%\n",
    "html_nodes(\"table td\") %>%\n",
    "html_text()\n",
    "\n",
    "Seasons_details <-tibble(Seasons1) \n",
    "\n",
    "Temp_C_High_Spring <-Seasons_details %>%\n",
    "slice(22:22)\n",
    "\n",
    "Temp_C_Low_Spring <-Seasons_details %>%\n",
    "slice(23:23)\n",
    "\n",
    "Temp_C_High_Summer <-Seasons_details %>%\n",
    "slice(24:24)\n",
    "\n",
    "Temp_C_Low_Summer <-Seasons_details %>%\n",
    "slice(25:25)\n",
    "\n",
    "Temp_C_High_Autumn <-Seasons_details %>%\n",
    "slice(26:26)\n",
    "\n",
    "Temp_C_Low_Autumn <-Seasons_details %>%\n",
    "slice(27:27)\n",
    "\n",
    "Temp_C_High_Winter <-Seasons_details %>%\n",
    "slice(28:28)\n",
    "\n",
    "Temp_C_Low_Winter <-Seasons_details %>%\n",
    "slice(29:29)\n",
    "\n",
    "Rainy_Days_Spring <-Seasons_details %>%\n",
    "slice(40:40)\n",
    "\n",
    "Rainy_Days_Summer <-Seasons_details %>%\n",
    "slice(41:41)\n",
    "\n",
    "Rainy_Days_Autumn <-Seasons_details %>%\n",
    "slice(42:42)\n",
    "\n",
    "Rainy_Days_Winter <-Seasons_details %>%\n",
    "slice(43:43)\n",
    "\n",
    "merged_Temp_High <- rbind(Temp_C_High_Spring,Temp_C_High_Summer,Temp_C_High_Autumn,Temp_C_High_Winter)\n",
    "merged_Temp_Low <- rbind(Temp_C_Low_Spring,Temp_C_Low_Summer,Temp_C_Low_Autumn,Temp_C_Low_Winter)\n",
    "merged_Rainy_Days <- rbind(Rainy_Days_Spring,Rainy_Days_Summer,Rainy_Days_Autumn,Rainy_Days_Winter)\n"
   ]
  },
  {
   "cell_type": "code",
   "execution_count": 7,
   "metadata": {},
   "outputs": [
    {
     "data": {
      "text/html": [
       "<table>\n",
       "<caption>A data.frame: 4 × 5</caption>\n",
       "<thead>\n",
       "\t<tr><th scope=col>Season</th><th scope=col>Months</th><th scope=col>Temp_High</th><th scope=col>Temp_Low</th><th scope=col>Rainy_Days</th></tr>\n",
       "\t<tr><th scope=col>&lt;chr&gt;</th><th scope=col>&lt;chr[,3]&gt;</th><th scope=col>&lt;chr&gt;</th><th scope=col>&lt;chr&gt;</th><th scope=col>&lt;chr&gt;</th></tr>\n",
       "</thead>\n",
       "<tbody>\n",
       "\t<tr><td>Spring</td><td>September, October, November</td><td>19</td><td>9 </td><td>11</td></tr>\n",
       "\t<tr><td>Summer</td><td>December , January, February</td><td>25</td><td>14</td><td>7 </td></tr>\n",
       "\t<tr><td>Autumn</td><td>March    , April  , May     </td><td>21</td><td>11</td><td>11</td></tr>\n",
       "\t<tr><td>Winter</td><td>June     , July   , August  </td><td>16</td><td>7 </td><td>16</td></tr>\n",
       "</tbody>\n",
       "</table>\n"
      ],
      "text/latex": [
       "A data.frame: 4 × 5\n",
       "\\begin{tabular}{r|lllll}\n",
       " Season & Months & Temp\\_High & Temp\\_Low & Rainy\\_Days\\\\\n",
       " <chr> & <chr{[},3{]}> & <chr> & <chr> & <chr>\\\\\n",
       "\\hline\n",
       "\t Spring & September, October, November & 19 & 9  & 11\\\\\n",
       "\t Summer & December , January, February & 25 & 14 & 7 \\\\\n",
       "\t Autumn & March    , April  , May      & 21 & 11 & 11\\\\\n",
       "\t Winter & June     , July   , August   & 16 & 7  & 16\\\\\n",
       "\\end{tabular}\n"
      ],
      "text/markdown": [
       "\n",
       "A data.frame: 4 × 5\n",
       "\n",
       "| Season &lt;chr&gt; | Months &lt;chr[,3]&gt; | Temp_High &lt;chr&gt; | Temp_Low &lt;chr&gt; | Rainy_Days &lt;chr&gt; |\n",
       "|---|---|---|---|---|\n",
       "| Spring | September, October, November | 19 | 9  | 11 |\n",
       "| Summer | December , January, February | 25 | 14 | 7  |\n",
       "| Autumn | March    , April  , May      | 21 | 11 | 11 |\n",
       "| Winter | June     , July   , August   | 16 | 7  | 16 |\n",
       "\n"
      ],
      "text/plain": [
       "  Season Months                       Temp_High Temp_Low Rainy_Days\n",
       "1 Spring September, October, November 19        9        11        \n",
       "2 Summer December , January, February 25        14       7         \n",
       "3 Autumn March    , April  , May      21        11       11        \n",
       "4 Winter June     , July   , August   16        7        16        "
      ]
     },
     "metadata": {},
     "output_type": "display_data"
    }
   ],
   "source": [
    "Seasonal_Details <- cbind(Season_DF,merged_Temp_High,merged_Temp_Low,merged_Rainy_Days)\n",
    "\n",
    "names(Seasonal_Details) <- c(\"Season\",\"Months\",\"Temp_High\",\"Temp_Low\",\"Rainy_Days\")\n",
    "\n",
    "Seasonal_Details"
   ]
  },
  {
   "cell_type": "code",
   "execution_count": null,
   "metadata": {},
   "outputs": [],
   "source": []
  }
 ],
 "metadata": {
  "kernelspec": {
   "display_name": "R",
   "language": "R",
   "name": "ir"
  },
  "language_info": {
   "codemirror_mode": "r",
   "file_extension": ".r",
   "mimetype": "text/x-r-source",
   "name": "R",
   "pygments_lexer": "r",
   "version": "3.6.1"
  }
 },
 "nbformat": 4,
 "nbformat_minor": 4
}
